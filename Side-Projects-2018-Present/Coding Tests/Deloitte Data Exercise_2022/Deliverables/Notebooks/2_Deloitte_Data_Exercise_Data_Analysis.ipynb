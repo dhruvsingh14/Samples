{
 "cells": [
  {
   "cell_type": "markdown",
   "metadata": {},
   "source": [
    "#### Programmer: Dhruv Singh <br> Project: Deloitte Data Exercise <br> Phase: Pt. 2 Data Analysis <br> Date Updated: 1/24/2022"
   ]
  },
  {
   "cell_type": "markdown",
   "metadata": {},
   "source": [
    "### Part 2: Data Analysis"
   ]
  },
  {
   "cell_type": "code",
   "execution_count": 1,
   "metadata": {},
   "outputs": [],
   "source": [
    "# libraries\n",
    "import pandas as pd\n",
    "import numpy as np\n",
    "from scipy import stats as st\n",
    "import matplotlib.pyplot as plt\n",
    "import seaborn as sns\n",
    "%matplotlib inline"
   ]
  },
  {
   "cell_type": "markdown",
   "metadata": {},
   "source": [
    "### Reading in Data"
   ]
  },
  {
   "cell_type": "code",
   "execution_count": 2,
   "metadata": {},
   "outputs": [],
   "source": [
    "df = pd.read_csv('2_data/df_cleaned.csv')"
   ]
  },
  {
   "cell_type": "markdown",
   "metadata": {},
   "source": [
    "#### Summary Statistics"
   ]
  },
  {
   "cell_type": "code",
   "execution_count": 3,
   "metadata": {},
   "outputs": [
    {
     "data": {
      "text/plain": [
       "Index(['Gender_Position', 'Division', 'Div_Totals', 'Bib_Num', 'Name', 'Age',\n",
       "       'Age_Cat', 'Gender', 'Hometown', 'Gun_Time', 'Gun_Time_minutes',\n",
       "       'Net_Time', 'Net_Time_minutes', 'Pace', 'Pace_minutes', 'Age_flag'],\n",
       "      dtype='object')"
      ]
     },
     "execution_count": 3,
     "metadata": {},
     "output_type": "execute_result"
    }
   ],
   "source": [
    "df.columns"
   ]
  },
  {
   "cell_type": "code",
   "execution_count": 4,
   "metadata": {},
   "outputs": [
    {
     "data": {
      "text/plain": [
       "Gender_Position       int64\n",
       "Division              int64\n",
       "Div_Totals            int64\n",
       "Bib_Num               int64\n",
       "Name                 object\n",
       "Age                 float64\n",
       "Age_Cat              object\n",
       "Gender               object\n",
       "Hometown             object\n",
       "Gun_Time             object\n",
       "Gun_Time_minutes    float64\n",
       "Net_Time             object\n",
       "Net_Time_minutes    float64\n",
       "Pace                 object\n",
       "Pace_minutes        float64\n",
       "Age_flag              int64\n",
       "dtype: object"
      ]
     },
     "execution_count": 4,
     "metadata": {},
     "output_type": "execute_result"
    }
   ],
   "source": [
    "df.dtypes"
   ]
  },
  {
   "cell_type": "code",
   "execution_count": 5,
   "metadata": {},
   "outputs": [
    {
     "data": {
      "text/html": [
       "<div>\n",
       "<style scoped>\n",
       "    .dataframe tbody tr th:only-of-type {\n",
       "        vertical-align: middle;\n",
       "    }\n",
       "\n",
       "    .dataframe tbody tr th {\n",
       "        vertical-align: top;\n",
       "    }\n",
       "\n",
       "    .dataframe thead th {\n",
       "        text-align: right;\n",
       "    }\n",
       "</style>\n",
       "<table border=\"1\" class=\"dataframe\">\n",
       "  <thead>\n",
       "    <tr style=\"text-align: right;\">\n",
       "      <th></th>\n",
       "      <th>Age</th>\n",
       "      <th>Gun_Time_minutes</th>\n",
       "      <th>Net_Time_minutes</th>\n",
       "      <th>Pace_minutes</th>\n",
       "    </tr>\n",
       "  </thead>\n",
       "  <tbody>\n",
       "    <tr>\n",
       "      <th>count</th>\n",
       "      <td>2370.00</td>\n",
       "      <td>2370.00</td>\n",
       "      <td>2370.00</td>\n",
       "      <td>2370.00</td>\n",
       "    </tr>\n",
       "    <tr>\n",
       "      <th>mean</th>\n",
       "      <td>39.04</td>\n",
       "      <td>57.94</td>\n",
       "      <td>55.09</td>\n",
       "      <td>8.87</td>\n",
       "    </tr>\n",
       "    <tr>\n",
       "      <th>std</th>\n",
       "      <td>11.56</td>\n",
       "      <td>11.42</td>\n",
       "      <td>10.28</td>\n",
       "      <td>1.66</td>\n",
       "    </tr>\n",
       "    <tr>\n",
       "      <th>min</th>\n",
       "      <td>9.00</td>\n",
       "      <td>28.80</td>\n",
       "      <td>28.78</td>\n",
       "      <td>4.63</td>\n",
       "    </tr>\n",
       "    <tr>\n",
       "      <th>25%</th>\n",
       "      <td>31.00</td>\n",
       "      <td>50.27</td>\n",
       "      <td>48.34</td>\n",
       "      <td>7.78</td>\n",
       "    </tr>\n",
       "    <tr>\n",
       "      <th>50%</th>\n",
       "      <td>39.00</td>\n",
       "      <td>57.69</td>\n",
       "      <td>54.38</td>\n",
       "      <td>8.76</td>\n",
       "    </tr>\n",
       "    <tr>\n",
       "      <th>75%</th>\n",
       "      <td>46.00</td>\n",
       "      <td>64.02</td>\n",
       "      <td>60.18</td>\n",
       "      <td>9.70</td>\n",
       "    </tr>\n",
       "    <tr>\n",
       "      <th>max</th>\n",
       "      <td>84.00</td>\n",
       "      <td>110.52</td>\n",
       "      <td>106.82</td>\n",
       "      <td>17.20</td>\n",
       "    </tr>\n",
       "  </tbody>\n",
       "</table>\n",
       "</div>"
      ],
      "text/plain": [
       "           Age  Gun_Time_minutes  Net_Time_minutes  Pace_minutes\n",
       "count  2370.00           2370.00           2370.00       2370.00\n",
       "mean     39.04             57.94             55.09          8.87\n",
       "std      11.56             11.42             10.28          1.66\n",
       "min       9.00             28.80             28.78          4.63\n",
       "25%      31.00             50.27             48.34          7.78\n",
       "50%      39.00             57.69             54.38          8.76\n",
       "75%      46.00             64.02             60.18          9.70\n",
       "max      84.00            110.52            106.82         17.20"
      ]
     },
     "execution_count": 5,
     "metadata": {},
     "output_type": "execute_result"
    }
   ],
   "source": [
    "df[['Age','Gun_Time_minutes','Net_Time_minutes','Pace_minutes']].describe().round(2)"
   ]
  },
  {
   "cell_type": "markdown",
   "metadata": {},
   "source": [
    "##### Q1. What are the mean, median, mode, and range of the race results for all racers by gender?"
   ]
  },
  {
   "cell_type": "code",
   "execution_count": 6,
   "metadata": {},
   "outputs": [],
   "source": [
    "x1 = df[df.Gender=='M']['Net_Time_minutes']\n",
    "x2 = df[df.Gender=='F']['Net_Time_minutes']"
   ]
  },
  {
   "cell_type": "code",
   "execution_count": 7,
   "metadata": {},
   "outputs": [],
   "source": [
    "dict = {'Metric':['Mean', 'Median', 'Mode', 'Range'],\n",
    "        'M':[x1.mean(), x1.median(), x1.mode(), max(x1)-min(x1)],\n",
    "        'F':[x2.mean(), x2.median(), x2.mode(), max(x2)-min(x2)]\n",
    "       }\n",
    "  \n",
    "df1 = pd.DataFrame(dict)"
   ]
  },
  {
   "cell_type": "markdown",
   "metadata": {},
   "source": [
    "df1 = df1.round(2)"
   ]
  },
  {
   "cell_type": "code",
   "execution_count": 8,
   "metadata": {},
   "outputs": [
    {
     "data": {
      "text/html": [
       "<div>\n",
       "<style scoped>\n",
       "    .dataframe tbody tr th:only-of-type {\n",
       "        vertical-align: middle;\n",
       "    }\n",
       "\n",
       "    .dataframe tbody tr th {\n",
       "        vertical-align: top;\n",
       "    }\n",
       "\n",
       "    .dataframe thead th {\n",
       "        text-align: right;\n",
       "    }\n",
       "</style>\n",
       "<table border=\"1\" class=\"dataframe\">\n",
       "  <thead>\n",
       "    <tr style=\"text-align: right;\">\n",
       "      <th></th>\n",
       "      <th>Metric</th>\n",
       "      <th>M</th>\n",
       "      <th>F</th>\n",
       "    </tr>\n",
       "  </thead>\n",
       "  <tbody>\n",
       "    <tr>\n",
       "      <th>0</th>\n",
       "      <td>Mean</td>\n",
       "      <td>52.1326</td>\n",
       "      <td>58.4748</td>\n",
       "    </tr>\n",
       "    <tr>\n",
       "      <th>1</th>\n",
       "      <td>Median</td>\n",
       "      <td>51.38</td>\n",
       "      <td>57.85</td>\n",
       "    </tr>\n",
       "    <tr>\n",
       "      <th>2</th>\n",
       "      <td>Mode</td>\n",
       "      <td>0    35.47\n",
       "1    47.08\n",
       "2    47.38\n",
       "3    49.80\n",
       "4 ...</td>\n",
       "      <td>0    48.10\n",
       "1    51.58\n",
       "2    52.98\n",
       "3    53.48\n",
       "4 ...</td>\n",
       "    </tr>\n",
       "    <tr>\n",
       "      <th>3</th>\n",
       "      <td>Range</td>\n",
       "      <td>71.85</td>\n",
       "      <td>73.85</td>\n",
       "    </tr>\n",
       "  </tbody>\n",
       "</table>\n",
       "</div>"
      ],
      "text/plain": [
       "   Metric                                                  M  \\\n",
       "0    Mean                                            52.1326   \n",
       "1  Median                                              51.38   \n",
       "2    Mode  0    35.47\n",
       "1    47.08\n",
       "2    47.38\n",
       "3    49.80\n",
       "4 ...   \n",
       "3   Range                                              71.85   \n",
       "\n",
       "                                                   F  \n",
       "0                                            58.4748  \n",
       "1                                              57.85  \n",
       "2  0    48.10\n",
       "1    51.58\n",
       "2    52.98\n",
       "3    53.48\n",
       "4 ...  \n",
       "3                                              73.85  "
      ]
     },
     "execution_count": 8,
     "metadata": {},
     "output_type": "execute_result"
    }
   ],
   "source": [
    "df1 = df1.round(2)\n",
    "df1"
   ]
  },
  {
   "cell_type": "code",
   "execution_count": 9,
   "metadata": {},
   "outputs": [
    {
     "data": {
      "text/plain": [
       "Metric    object\n",
       "M         object\n",
       "F         object\n",
       "dtype: object"
      ]
     },
     "execution_count": 9,
     "metadata": {},
     "output_type": "execute_result"
    }
   ],
   "source": [
    "df1.dtypes"
   ]
  },
  {
   "cell_type": "code",
   "execution_count": 10,
   "metadata": {},
   "outputs": [],
   "source": [
    "# writing out tables\n",
    "with pd.ExcelWriter('3_output/tables/q1.xlsx') as writer:  \n",
    "    df1.to_excel(writer, sheet_name='q1')"
   ]
  },
  {
   "cell_type": "markdown",
   "metadata": {},
   "source": [
    "##### Q1: Box Plot by Gender"
   ]
  },
  {
   "cell_type": "code",
   "execution_count": 11,
   "metadata": {},
   "outputs": [
    {
     "data": {
      "text/plain": [
       "<function matplotlib.pyplot.show(close=None, block=None)>"
      ]
     },
     "execution_count": 11,
     "metadata": {},
     "output_type": "execute_result"
    },
    {
     "data": {
      "image/png": "[encoded data removed]",
      "text/plain": [
       "<Figure size 432x288 with 1 Axes>"
      ]
     },
     "metadata": {
      "needs_background": "light"
     },
     "output_type": "display_data"
    }
   ],
   "source": [
    "sns.boxplot(data=[x1, x2])\n",
    "\n",
    "sns.boxplot(\n",
    "    data=[x1, x2],\n",
    "    palette=[sns.xkcd_rgb[\"pale red\"], sns.xkcd_rgb[\"medium green\"]],\n",
    "    showmeans=True,\n",
    ").set(\n",
    "    title = 'Race Results by Gender',\n",
    "    xlabel='Gender', \n",
    "    ylabel='Net Time (minutes)' \n",
    ")\n",
    "plt.xticks([0, 1],['Male','Female'])\n",
    "plt.savefig('3_output/graphs/q1.png', dpi=300, bbox_inches='tight')\n",
    "plt.show"
   ]
  },
  {
   "cell_type": "markdown",
   "metadata": {},
   "source": [
    "##### Q2. Analyze the difference between gun and net time race results."
   ]
  },
  {
   "cell_type": "code",
   "execution_count": 12,
   "metadata": {},
   "outputs": [
    {
     "data": {
      "image/png": "[encoded data removed]",
      "text/plain": [
       "<Figure size 576x432 with 1 Axes>"
      ]
     },
     "metadata": {
      "needs_background": "light"
     },
     "output_type": "display_data"
    }
   ],
   "source": [
    "# creating a regression plot\n",
    "plt.figure(figsize=(8,6))\n",
    "# sns.set(font_scale=1.5)\n",
    "\n",
    "ax = sns.regplot(x='Net_Time_minutes', y='Gun_Time_minutes', data=df, color='green', marker='+', scatter_kws={'s': 200})\n",
    "ax.set(xlabel='Net Time (minutes)', ylabel='Gun Time (minutes)') # adding axes labels\n",
    "ax.set_title('Net Time vs. Gun Time: Correlation') # add title\n",
    "plt.savefig('3_output/graphs/q2_corr.png', dpi=300, bbox_inches='tight')\n",
    "plt.show()"
   ]
  },
  {
   "cell_type": "code",
   "execution_count": 13,
   "metadata": {},
   "outputs": [
    {
     "data": {
      "text/plain": [
       "0.9948574532154756"
      ]
     },
     "execution_count": 13,
     "metadata": {},
     "output_type": "execute_result"
    }
   ],
   "source": [
    "df['Gun_Time_minutes'].corr(df['Net_Time_minutes'])"
   ]
  },
  {
   "cell_type": "code",
   "execution_count": 14,
   "metadata": {},
   "outputs": [
    {
     "data": {
      "image/png": "[encoded data removed]",
      "text/plain": [
       "<Figure size 576x432 with 1 Axes>"
      ]
     },
     "metadata": {
      "needs_background": "light"
     },
     "output_type": "display_data"
    }
   ],
   "source": [
    "plt.figure(figsize=(8,6))\n",
    "\n",
    "plt.hist(df['Net_Time_minutes'], bins=100, alpha=0.5, label=\"Net Time\")\n",
    "plt.hist(df['Gun_Time_minutes'], bins=100, alpha=0.5, label=\"Gun Time\")\n",
    "\n",
    "plt.xlabel(\"Time in Minutes\", size=14)\n",
    "plt.ylabel(\"Frequency\", size=10)\n",
    "plt.title(\"Gun Time vs. Net Time Comparison\", size=14)\n",
    "plt.legend(loc='upper right')\n",
    "plt.savefig('3_output/graphs/q2.png', dpi=300, bbox_inches='tight')\n",
    "plt.show()"
   ]
  },
  {
   "cell_type": "code",
   "execution_count": 15,
   "metadata": {},
   "outputs": [
    {
     "data": {
      "text/plain": [
       "Ttest_indResult(statistic=9.033401753314017, pvalue=2.3754533971520994e-19)"
      ]
     },
     "execution_count": 15,
     "metadata": {},
     "output_type": "execute_result"
    }
   ],
   "source": [
    "# running t test\n",
    "st.ttest_ind(df['Gun_Time_minutes'], df['Net_Time_minutes'], equal_var=True)"
   ]
  },
  {
   "cell_type": "markdown",
   "metadata": {},
   "source": [
    "##### Q3. How much time separates Chris Doe fromthe top 10 percentile of racers of the same division?"
   ]
  },
  {
   "cell_type": "code",
   "execution_count": 16,
   "metadata": {},
   "outputs": [
    {
     "data": {
      "image/png": "[encoded data removed]",
      "text/plain": [
       "<Figure size 576x432 with 1 Axes>"
      ]
     },
     "metadata": {
      "needs_background": "light"
     },
     "output_type": "display_data"
    }
   ],
   "source": [
    "plt.figure(figsize=(8,6))\n",
    "\n",
    "plt.hist(df['Net_Time_minutes'], bins = 100, alpha=0.5, label='Net Time')\n",
    "\n",
    "plt.axvline(df.Net_Time_minutes.quantile(0.1))\n",
    "plt.text(40,2,'10th Percentile',rotation=90, size = 10)\n",
    "\n",
    "plt.axvline(49.72)\n",
    "plt.text(51,2,'Chris Doe',rotation=90, size = 10)\n",
    "\n",
    "plt.xlabel(\"Net Time in Minutes\", size=14)\n",
    "plt.ylabel(\"Frequency\", size=10)\n",
    "plt.title(\"Benchmarking Chris Doe's Performance vs. 10th Percentile\", size=14)\n",
    "plt.legend(loc='upper right')\n",
    "plt.savefig('3_output/graphs/q3.png', dpi=300, bbox_inches='tight')\n",
    "plt.show()"
   ]
  },
  {
   "cell_type": "code",
   "execution_count": 17,
   "metadata": {},
   "outputs": [
    {
     "data": {
      "text/plain": [
       "43.229"
      ]
     },
     "execution_count": 17,
     "metadata": {},
     "output_type": "execute_result"
    }
   ],
   "source": [
    "df.Net_Time_minutes.quantile(0.1)"
   ]
  },
  {
   "cell_type": "code",
   "execution_count": 18,
   "metadata": {},
   "outputs": [
    {
     "data": {
      "text/plain": [
       "1743    49.72\n",
       "Name: Net_Time_minutes, dtype: float64"
      ]
     },
     "execution_count": 18,
     "metadata": {},
     "output_type": "execute_result"
    }
   ],
   "source": [
    "x = df[df['Name']=='Chris Doe']['Net_Time_minutes']\n",
    "x"
   ]
  },
  {
   "cell_type": "code",
   "execution_count": 19,
   "metadata": {},
   "outputs": [
    {
     "data": {
      "text/plain": [
       "1743    6.491\n",
       "Name: Net_Time_minutes, dtype: float64"
      ]
     },
     "execution_count": 19,
     "metadata": {},
     "output_type": "execute_result"
    }
   ],
   "source": [
    "time_diff = abs(df[df['Name']=='Chris Doe']['Net_Time_minutes'] - df.Net_Time_minutes.quantile(0.1))\n",
    "time_diff"
   ]
  },
  {
   "cell_type": "markdown",
   "metadata": {},
   "source": [
    "##### Q4. Compare the race results of each division."
   ]
  },
  {
   "cell_type": "code",
   "execution_count": 20,
   "metadata": {},
   "outputs": [
    {
     "data": {
      "text/html": [
       "<div>\n",
       "<style scoped>\n",
       "    .dataframe tbody tr th:only-of-type {\n",
       "        vertical-align: middle;\n",
       "    }\n",
       "\n",
       "    .dataframe tbody tr th {\n",
       "        vertical-align: top;\n",
       "    }\n",
       "\n",
       "    .dataframe thead th {\n",
       "        text-align: right;\n",
       "    }\n",
       "</style>\n",
       "<table border=\"1\" class=\"dataframe\">\n",
       "  <thead>\n",
       "    <tr style=\"text-align: right;\">\n",
       "      <th></th>\n",
       "      <th>Gender_Position</th>\n",
       "      <th>Division</th>\n",
       "      <th>Div_Totals</th>\n",
       "      <th>Bib_Num</th>\n",
       "      <th>Name</th>\n",
       "      <th>Age</th>\n",
       "      <th>Age_Cat</th>\n",
       "      <th>Gender</th>\n",
       "      <th>Hometown</th>\n",
       "      <th>Gun_Time</th>\n",
       "      <th>Gun_Time_minutes</th>\n",
       "      <th>Net_Time</th>\n",
       "      <th>Net_Time_minutes</th>\n",
       "      <th>Pace</th>\n",
       "      <th>Pace_minutes</th>\n",
       "      <th>Age_flag</th>\n",
       "    </tr>\n",
       "  </thead>\n",
       "  <tbody>\n",
       "    <tr>\n",
       "      <th>0</th>\n",
       "      <td>196</td>\n",
       "      <td>0</td>\n",
       "      <td>12</td>\n",
       "      <td>1399</td>\n",
       "      <td>Maddy Horan</td>\n",
       "      <td>14.0</td>\n",
       "      <td>0-14</td>\n",
       "      <td>F</td>\n",
       "      <td>Gaithersburg MD</td>\n",
       "      <td>00:51:16</td>\n",
       "      <td>51.27</td>\n",
       "      <td>00:49:59</td>\n",
       "      <td>49.98</td>\n",
       "      <td>00:8:03</td>\n",
       "      <td>8.05</td>\n",
       "      <td>0</td>\n",
       "    </tr>\n",
       "    <tr>\n",
       "      <th>1</th>\n",
       "      <td>298</td>\n",
       "      <td>0</td>\n",
       "      <td>12</td>\n",
       "      <td>3017</td>\n",
       "      <td>Mathilde Arandia</td>\n",
       "      <td>12.0</td>\n",
       "      <td>0-14</td>\n",
       "      <td>F</td>\n",
       "      <td>Mclean VA</td>\n",
       "      <td>00:53:04</td>\n",
       "      <td>53.07</td>\n",
       "      <td>00:52:59</td>\n",
       "      <td>52.98</td>\n",
       "      <td>00:8:32</td>\n",
       "      <td>8.53</td>\n",
       "      <td>0</td>\n",
       "    </tr>\n",
       "    <tr>\n",
       "      <th>2</th>\n",
       "      <td>252</td>\n",
       "      <td>0</td>\n",
       "      <td>12</td>\n",
       "      <td>1755</td>\n",
       "      <td>Hananh Lowell</td>\n",
       "      <td>13.0</td>\n",
       "      <td>0-14</td>\n",
       "      <td>F</td>\n",
       "      <td>Catlett VA</td>\n",
       "      <td>00:54:51</td>\n",
       "      <td>54.85</td>\n",
       "      <td>00:51:35</td>\n",
       "      <td>51.58</td>\n",
       "      <td>00:8:18</td>\n",
       "      <td>8.30</td>\n",
       "      <td>0</td>\n",
       "    </tr>\n",
       "    <tr>\n",
       "      <th>3</th>\n",
       "      <td>545</td>\n",
       "      <td>0</td>\n",
       "      <td>12</td>\n",
       "      <td>1923</td>\n",
       "      <td>Alexandra Miles</td>\n",
       "      <td>14.0</td>\n",
       "      <td>0-14</td>\n",
       "      <td>F</td>\n",
       "      <td>Clarksburg MD</td>\n",
       "      <td>1:01:28</td>\n",
       "      <td>61.47</td>\n",
       "      <td>00:57:38</td>\n",
       "      <td>57.63</td>\n",
       "      <td>00:9:17</td>\n",
       "      <td>9.28</td>\n",
       "      <td>0</td>\n",
       "    </tr>\n",
       "    <tr>\n",
       "      <th>4</th>\n",
       "      <td>527</td>\n",
       "      <td>0</td>\n",
       "      <td>12</td>\n",
       "      <td>2431</td>\n",
       "      <td>Deborah Sheperd</td>\n",
       "      <td>10.0</td>\n",
       "      <td>0-14</td>\n",
       "      <td>F</td>\n",
       "      <td>Hughesville MD</td>\n",
       "      <td>1:02:21</td>\n",
       "      <td>62.35</td>\n",
       "      <td>00:57:14</td>\n",
       "      <td>57.23</td>\n",
       "      <td>00:9:13</td>\n",
       "      <td>9.22</td>\n",
       "      <td>0</td>\n",
       "    </tr>\n",
       "  </tbody>\n",
       "</table>\n",
       "</div>"
      ],
      "text/plain": [
       "   Gender_Position  Division  Div_Totals  Bib_Num              Name   Age  \\\n",
       "0              196         0          12     1399       Maddy Horan  14.0   \n",
       "1              298         0          12     3017  Mathilde Arandia  12.0   \n",
       "2              252         0          12     1755     Hananh Lowell  13.0   \n",
       "3              545         0          12     1923   Alexandra Miles  14.0   \n",
       "4              527         0          12     2431   Deborah Sheperd  10.0   \n",
       "\n",
       "  Age_Cat Gender         Hometown  Gun_Time  Gun_Time_minutes  Net_Time  \\\n",
       "0    0-14      F  Gaithersburg MD  00:51:16             51.27  00:49:59   \n",
       "1    0-14      F        Mclean VA  00:53:04             53.07  00:52:59   \n",
       "2    0-14      F       Catlett VA  00:54:51             54.85  00:51:35   \n",
       "3    0-14      F    Clarksburg MD   1:01:28             61.47  00:57:38   \n",
       "4    0-14      F   Hughesville MD   1:02:21             62.35  00:57:14   \n",
       "\n",
       "   Net_Time_minutes     Pace  Pace_minutes  Age_flag  \n",
       "0             49.98  00:8:03          8.05         0  \n",
       "1             52.98  00:8:32          8.53         0  \n",
       "2             51.58  00:8:18          8.30         0  \n",
       "3             57.63  00:9:17          9.28         0  \n",
       "4             57.23  00:9:13          9.22         0  "
      ]
     },
     "execution_count": 20,
     "metadata": {},
     "output_type": "execute_result"
    }
   ],
   "source": [
    "df.head()"
   ]
  },
  {
   "cell_type": "code",
   "execution_count": 21,
   "metadata": {},
   "outputs": [],
   "source": [
    "# using aggregate to groupby age and gender, and create division totals\n",
    "df_agg1 = df[['Age_Cat', 'Gender', 'Net_Time_minutes']].groupby(['Age_Cat', 'Gender']).agg(['count'])\n",
    "df_agg1 = df_agg1.reset_index(drop=False)\n",
    "df_agg1.columns = df_agg1.columns.get_level_values(0)\n",
    "df_agg1 = df_agg1.rename(columns = {\"Net_Time_minutes\": \"Div_Totals\"})"
   ]
  },
  {
   "cell_type": "code",
   "execution_count": 22,
   "metadata": {},
   "outputs": [
    {
     "data": {
      "text/html": [
       "<div>\n",
       "<style scoped>\n",
       "    .dataframe tbody tr th:only-of-type {\n",
       "        vertical-align: middle;\n",
       "    }\n",
       "\n",
       "    .dataframe tbody tr th {\n",
       "        vertical-align: top;\n",
       "    }\n",
       "\n",
       "    .dataframe thead th {\n",
       "        text-align: right;\n",
       "    }\n",
       "</style>\n",
       "<table border=\"1\" class=\"dataframe\">\n",
       "  <thead>\n",
       "    <tr style=\"text-align: right;\">\n",
       "      <th>Gender</th>\n",
       "      <th>F</th>\n",
       "      <th>M</th>\n",
       "    </tr>\n",
       "    <tr>\n",
       "      <th>Age_Cat</th>\n",
       "      <th></th>\n",
       "      <th></th>\n",
       "    </tr>\n",
       "  </thead>\n",
       "  <tbody>\n",
       "    <tr>\n",
       "      <th>0-14</th>\n",
       "      <td>12.0</td>\n",
       "      <td>26.0</td>\n",
       "    </tr>\n",
       "    <tr>\n",
       "      <th>15-19</th>\n",
       "      <td>27.0</td>\n",
       "      <td>45.0</td>\n",
       "    </tr>\n",
       "    <tr>\n",
       "      <th>20-29</th>\n",
       "      <td>230.0</td>\n",
       "      <td>144.0</td>\n",
       "    </tr>\n",
       "    <tr>\n",
       "      <th>30-39</th>\n",
       "      <td>421.0</td>\n",
       "      <td>349.0</td>\n",
       "    </tr>\n",
       "    <tr>\n",
       "      <th>40-49</th>\n",
       "      <td>283.0</td>\n",
       "      <td>415.0</td>\n",
       "    </tr>\n",
       "    <tr>\n",
       "      <th>50-59</th>\n",
       "      <td>105.0</td>\n",
       "      <td>206.0</td>\n",
       "    </tr>\n",
       "    <tr>\n",
       "      <th>60-69</th>\n",
       "      <td>24.0</td>\n",
       "      <td>69.0</td>\n",
       "    </tr>\n",
       "    <tr>\n",
       "      <th>70-79</th>\n",
       "      <td>3.0</td>\n",
       "      <td>9.0</td>\n",
       "    </tr>\n",
       "    <tr>\n",
       "      <th>80-89</th>\n",
       "      <td>NaN</td>\n",
       "      <td>2.0</td>\n",
       "    </tr>\n",
       "  </tbody>\n",
       "</table>\n",
       "</div>"
      ],
      "text/plain": [
       "Gender       F      M\n",
       "Age_Cat              \n",
       "0-14      12.0   26.0\n",
       "15-19     27.0   45.0\n",
       "20-29    230.0  144.0\n",
       "30-39    421.0  349.0\n",
       "40-49    283.0  415.0\n",
       "50-59    105.0  206.0\n",
       "60-69     24.0   69.0\n",
       "70-79      3.0    9.0\n",
       "80-89      NaN    2.0"
      ]
     },
     "execution_count": 22,
     "metadata": {},
     "output_type": "execute_result"
    }
   ],
   "source": [
    "# reshaping long to wide\n",
    "df_agg1 = df_agg1.pivot_table(index = ['Age_Cat'], columns = 'Gender', values = 'Div_Totals')\n",
    "df_agg1"
   ]
  },
  {
   "cell_type": "code",
   "execution_count": 23,
   "metadata": {},
   "outputs": [],
   "source": [
    "# writing out tables\n",
    "with pd.ExcelWriter('3_output/tables/q4_1.xlsx') as writer:  \n",
    "    df_agg1.to_excel(writer, sheet_name='q4_1')"
   ]
  },
  {
   "cell_type": "code",
   "execution_count": 24,
   "metadata": {},
   "outputs": [
    {
     "data": {
      "image/png": "[encoded data removed]",
      "text/plain": [
       "<Figure size 432x288 with 1 Axes>"
      ]
     },
     "metadata": {
      "needs_background": "light"
     },
     "output_type": "display_data"
    }
   ],
   "source": [
    "X = df_agg1.index.tolist()\n",
    "  \n",
    "X_axis = np.arange(len(X))\n",
    "  \n",
    "plt.bar(X_axis - 0.2, df_agg1['M'], 0.4, label = 'Male', color = 'teal')\n",
    "plt.bar(X_axis + 0.2, df_agg1['F'], 0.4, label = 'Female', color = 'goldenrod')\n",
    "  \n",
    "plt.xticks(X_axis, X)\n",
    "plt.xlabel(\"Division\")\n",
    "plt.ylabel(\"Total Counts\")\n",
    "plt.title(\"Total Counts by Division\")\n",
    "plt.legend()\n",
    "plt.savefig('3_output/graphs/q4_1.png', dpi=300, bbox_inches='tight')\n",
    "plt.show()"
   ]
  },
  {
   "cell_type": "code",
   "execution_count": 25,
   "metadata": {},
   "outputs": [],
   "source": [
    "# using aggregate to groupby age and gender, and create division totals\n",
    "df_agg2 = df[['Age_Cat', 'Gender', 'Net_Time_minutes']].groupby(['Age_Cat', 'Gender']).agg(['mean'])\n",
    "df_agg2 = df_agg2.reset_index(drop=False)\n",
    "df_agg2.columns = df_agg2.columns.get_level_values(0)\n",
    "df_agg2 = df_agg2.rename(columns = {\"Net_Time_minutes\": \"Mean\"})"
   ]
  },
  {
   "cell_type": "code",
   "execution_count": 26,
   "metadata": {},
   "outputs": [
    {
     "data": {
      "text/html": [
       "<div>\n",
       "<style scoped>\n",
       "    .dataframe tbody tr th:only-of-type {\n",
       "        vertical-align: middle;\n",
       "    }\n",
       "\n",
       "    .dataframe tbody tr th {\n",
       "        vertical-align: top;\n",
       "    }\n",
       "\n",
       "    .dataframe thead th {\n",
       "        text-align: right;\n",
       "    }\n",
       "</style>\n",
       "<table border=\"1\" class=\"dataframe\">\n",
       "  <thead>\n",
       "    <tr style=\"text-align: right;\">\n",
       "      <th>Gender</th>\n",
       "      <th>F</th>\n",
       "      <th>M</th>\n",
       "    </tr>\n",
       "    <tr>\n",
       "      <th>Age_Cat</th>\n",
       "      <th></th>\n",
       "      <th></th>\n",
       "    </tr>\n",
       "  </thead>\n",
       "  <tbody>\n",
       "    <tr>\n",
       "      <th>0-14</th>\n",
       "      <td>58.89</td>\n",
       "      <td>55.04</td>\n",
       "    </tr>\n",
       "    <tr>\n",
       "      <th>15-19</th>\n",
       "      <td>52.21</td>\n",
       "      <td>46.65</td>\n",
       "    </tr>\n",
       "    <tr>\n",
       "      <th>20-29</th>\n",
       "      <td>57.36</td>\n",
       "      <td>49.52</td>\n",
       "    </tr>\n",
       "    <tr>\n",
       "      <th>30-39</th>\n",
       "      <td>58.71</td>\n",
       "      <td>51.72</td>\n",
       "    </tr>\n",
       "    <tr>\n",
       "      <th>40-49</th>\n",
       "      <td>57.87</td>\n",
       "      <td>51.61</td>\n",
       "    </tr>\n",
       "    <tr>\n",
       "      <th>50-59</th>\n",
       "      <td>62.68</td>\n",
       "      <td>53.90</td>\n",
       "    </tr>\n",
       "    <tr>\n",
       "      <th>60-69</th>\n",
       "      <td>60.01</td>\n",
       "      <td>58.47</td>\n",
       "    </tr>\n",
       "    <tr>\n",
       "      <th>70-79</th>\n",
       "      <td>64.11</td>\n",
       "      <td>59.26</td>\n",
       "    </tr>\n",
       "    <tr>\n",
       "      <th>80-89</th>\n",
       "      <td>NaN</td>\n",
       "      <td>73.66</td>\n",
       "    </tr>\n",
       "  </tbody>\n",
       "</table>\n",
       "</div>"
      ],
      "text/plain": [
       "Gender       F      M\n",
       "Age_Cat              \n",
       "0-14     58.89  55.04\n",
       "15-19    52.21  46.65\n",
       "20-29    57.36  49.52\n",
       "30-39    58.71  51.72\n",
       "40-49    57.87  51.61\n",
       "50-59    62.68  53.90\n",
       "60-69    60.01  58.47\n",
       "70-79    64.11  59.26\n",
       "80-89      NaN  73.66"
      ]
     },
     "execution_count": 26,
     "metadata": {},
     "output_type": "execute_result"
    }
   ],
   "source": [
    "# reshaping long to wide\n",
    "df_agg2 = df_agg2.pivot_table(index = ['Age_Cat'], columns = 'Gender', values = 'Mean')\n",
    "df_agg2 = df_agg2.round(2)\n",
    "df_agg2"
   ]
  },
  {
   "cell_type": "code",
   "execution_count": 27,
   "metadata": {},
   "outputs": [],
   "source": [
    "# writing out tables\n",
    "with pd.ExcelWriter('3_output/tables/q4_2.xlsx') as writer:  \n",
    "    df_agg2.to_excel(writer, sheet_name='q4_2')"
   ]
  },
  {
   "cell_type": "code",
   "execution_count": 28,
   "metadata": {},
   "outputs": [
    {
     "data": {
      "image/png": "[encoded data removed]",
      "text/plain": [
       "<Figure size 432x288 with 1 Axes>"
      ]
     },
     "metadata": {
      "needs_background": "light"
     },
     "output_type": "display_data"
    }
   ],
   "source": [
    "X = df_agg2.index.tolist()\n",
    "  \n",
    "X_axis = np.arange(len(X))\n",
    "  \n",
    "plt.bar(X_axis - 0.2, df_agg2['M'], 0.4, label = 'Male', color = 'teal')\n",
    "plt.bar(X_axis + 0.2, df_agg2['F'], 0.4, label = 'Female', color = 'goldenrod')\n",
    "  \n",
    "plt.xticks(X_axis, X)\n",
    "plt.xlabel(\"Division\")\n",
    "plt.ylabel(\"Avg. Timing\")\n",
    "plt.title(\"Avg. Net Time by Division\")\n",
    "plt.legend()\n",
    "plt.savefig('3_output/graphs/q4_2.png', dpi=300, bbox_inches='tight')\n",
    "plt.show()"
   ]
  }
 ],
 "metadata": {
  "kernelspec": {
   "display_name": "Python 3",
   "language": "python",
   "name": "python3"
  },
  "language_info": {
   "codemirror_mode": {
    "name": "ipython",
    "version": 3
   },
   "file_extension": ".py",
   "mimetype": "text/x-python",
   "name": "python",
   "nbconvert_exporter": "python",
   "pygments_lexer": "ipython3",
   "version": "3.8.5"
  }
 },
 "nbformat": 4,
 "nbformat_minor": 5
}
