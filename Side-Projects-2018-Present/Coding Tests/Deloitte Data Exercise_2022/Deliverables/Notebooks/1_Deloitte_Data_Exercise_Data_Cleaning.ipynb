{
 "cells": [
  {
   "cell_type": "markdown",
   "metadata": {},
   "source": [
    "#### Programmer: Dhruv Singh <br> Project: Deloitte Data Exercise <br> Phase: Pt. 1 Data Cleaning <br> Date Updated: 1/24/2022"
   ]
  },
  {
   "cell_type": "markdown",
   "metadata": {},
   "source": [
    "### Part I: Data Cleaning"
   ]
  },
  {
   "cell_type": "code",
   "execution_count": 1,
   "metadata": {},
   "outputs": [],
   "source": [
    "# libraries\n",
    "import pandas as pd\n",
    "import numpy as np\n",
    "import datetime as dt\n",
    "from datetime import datetime, timedelta\n",
    "import re\n",
    "import csv"
   ]
  },
  {
   "cell_type": "markdown",
   "metadata": {},
   "source": [
    "### Reading in Data"
   ]
  },
  {
   "cell_type": "code",
   "execution_count": 2,
   "metadata": {},
   "outputs": [],
   "source": [
    "with open('1_readonly/MA_Exer_PikesPeak_Females.txt') as f:\n",
    "    reader = csv.reader(f, delimiter=\"\\t\")\n",
    "    d1 = list(reader)\n",
    "    \n",
    "with open('1_readonly/MA_Exer_PikesPeak_Males.txt') as f:\n",
    "    reader = csv.reader(f, delimiter=\"\\t\")\n",
    "    d2 = list(reader)"
   ]
  },
  {
   "cell_type": "code",
   "execution_count": 3,
   "metadata": {},
   "outputs": [],
   "source": [
    "# converting nested lists to dataframe\n",
    "df1 = pd.DataFrame(d1)\n",
    "df2 = pd.DataFrame(d2)"
   ]
  },
  {
   "cell_type": "code",
   "execution_count": 4,
   "metadata": {},
   "outputs": [],
   "source": [
    "# cleaning headers\n",
    "df1.columns = df1.iloc[0]\n",
    "df1.drop(df1.index[0], inplace=True)\n",
    "\n",
    "df2.columns = df2.iloc[0]\n",
    "df2.drop(df2.index[0], inplace=True)"
   ]
  },
  {
   "cell_type": "code",
   "execution_count": 5,
   "metadata": {},
   "outputs": [],
   "source": [
    "# creating gender column\n",
    "df1['Gender'] = 'F'\n",
    "df2['Gender'] = 'M'"
   ]
  },
  {
   "cell_type": "code",
   "execution_count": 6,
   "metadata": {},
   "outputs": [
    {
     "data": {
      "text/plain": [
       "(1105, 10)"
      ]
     },
     "execution_count": 6,
     "metadata": {},
     "output_type": "execute_result"
    }
   ],
   "source": [
    "df1.shape"
   ]
  },
  {
   "cell_type": "code",
   "execution_count": 7,
   "metadata": {},
   "outputs": [
    {
     "data": {
      "text/plain": [
       "(1265, 10)"
      ]
     },
     "execution_count": 7,
     "metadata": {},
     "output_type": "execute_result"
    }
   ],
   "source": [
    "df2.shape"
   ]
  },
  {
   "cell_type": "markdown",
   "metadata": {},
   "source": [
    "### Combining Dataframes"
   ]
  },
  {
   "cell_type": "code",
   "execution_count": 8,
   "metadata": {},
   "outputs": [],
   "source": [
    "df = pd.concat([df1, df2])"
   ]
  },
  {
   "cell_type": "code",
   "execution_count": 9,
   "metadata": {},
   "outputs": [
    {
     "data": {
      "text/plain": [
       "(2370, 10)"
      ]
     },
     "execution_count": 9,
     "metadata": {},
     "output_type": "execute_result"
    }
   ],
   "source": [
    "df.shape"
   ]
  },
  {
   "cell_type": "code",
   "execution_count": 10,
   "metadata": {},
   "outputs": [
    {
     "data": {
      "text/plain": [
       "Index(['Place', 'Div/Tot', 'Num', 'Name', 'Ag', 'Hometown', 'Gun Tim',\n",
       "       'Net Tim', 'Pace', 'Gender'],\n",
       "      dtype='object', name=0)"
      ]
     },
     "execution_count": 10,
     "metadata": {},
     "output_type": "execute_result"
    }
   ],
   "source": [
    "df.columns"
   ]
  },
  {
   "cell_type": "code",
   "execution_count": 11,
   "metadata": {},
   "outputs": [
    {
     "data": {
      "text/plain": [
       "0\n",
       "Place       object\n",
       "Div/Tot     object\n",
       "Num         object\n",
       "Name        object\n",
       "Ag          object\n",
       "Hometown    object\n",
       "Gun Tim     object\n",
       "Net Tim     object\n",
       "Pace        object\n",
       "Gender      object\n",
       "dtype: object"
      ]
     },
     "execution_count": 11,
     "metadata": {},
     "output_type": "execute_result"
    }
   ],
   "source": [
    "df.dtypes"
   ]
  },
  {
   "cell_type": "code",
   "execution_count": 12,
   "metadata": {},
   "outputs": [
    {
     "name": "stdout",
     "output_type": "stream",
     "text": [
      "<class 'pandas.core.frame.DataFrame'>\n",
      "Int64Index: 2370 entries, 1 to 1265\n",
      "Data columns (total 10 columns):\n",
      " #   Column    Non-Null Count  Dtype \n",
      "---  ------    --------------  ----- \n",
      " 0   Place     2370 non-null   object\n",
      " 1   Div/Tot   2370 non-null   object\n",
      " 2   Num       2370 non-null   object\n",
      " 3   Name      2370 non-null   object\n",
      " 4   Ag        2370 non-null   object\n",
      " 5   Hometown  2370 non-null   object\n",
      " 6   Gun Tim   2370 non-null   object\n",
      " 7   Net Tim   2370 non-null   object\n",
      " 8   Pace      2370 non-null   object\n",
      " 9   Gender    2370 non-null   object\n",
      "dtypes: object(10)\n",
      "memory usage: 203.7+ KB\n"
     ]
    }
   ],
   "source": [
    "df.info()"
   ]
  },
  {
   "cell_type": "markdown",
   "metadata": {},
   "source": [
    "## Data Cleaning"
   ]
  },
  {
   "cell_type": "markdown",
   "metadata": {},
   "source": [
    "#### Renaming Columns"
   ]
  },
  {
   "cell_type": "code",
   "execution_count": 13,
   "metadata": {},
   "outputs": [],
   "source": [
    "df = df.rename(columns = {\"Num\": \"Bib_Num\", \n",
    "                          \"Place\": \"Gender_Position\",\n",
    "                          \"Ag\": \"Age\", \n",
    "                          \"Gun Tim\": \"Gun_Time\", \n",
    "                          \"Net Tim\": \"Net_Time\"})"
   ]
  },
  {
   "cell_type": "markdown",
   "metadata": {},
   "source": [
    "#### Cleaning Strings"
   ]
  },
  {
   "cell_type": "code",
   "execution_count": 14,
   "metadata": {},
   "outputs": [],
   "source": [
    "# cleaning net time variable\n",
    "df['Hometown'] = df['Hometown'].str.replace('[.]', '')\n",
    "    \n",
    "# removing trailing white spaces\n",
    "df['Hometown'] = df['Hometown'].str.rstrip()"
   ]
  },
  {
   "cell_type": "code",
   "execution_count": 15,
   "metadata": {},
   "outputs": [],
   "source": [
    "# replacing blanks with 0's\n",
    "df.loc[df.Age == '', 'Age'] = '0'"
   ]
  },
  {
   "cell_type": "markdown",
   "metadata": {},
   "source": [
    "#### Converting Data Types"
   ]
  },
  {
   "cell_type": "markdown",
   "metadata": {},
   "source": [
    "##### Numeric Variables"
   ]
  },
  {
   "cell_type": "code",
   "execution_count": 16,
   "metadata": {},
   "outputs": [],
   "source": [
    "df['Gender_Position'] = df['Gender_Position'].astype(str).astype(int)\n",
    "df['Age'] = df['Age'].astype(str).astype(int)"
   ]
  },
  {
   "cell_type": "markdown",
   "metadata": {},
   "source": [
    "##### Time Variables"
   ]
  },
  {
   "cell_type": "code",
   "execution_count": 17,
   "metadata": {},
   "outputs": [],
   "source": [
    "# function to convert time variables to minutes\n",
    "def to_minutes(df, x):\n",
    "    df['default_date'] = dt.datetime(1900,1,1)\n",
    "    \n",
    "    # cleaning time variable\n",
    "    df[x] = df[x].str.replace('[A-Z#*]', '')\n",
    "    \n",
    "    # removing leading white spaces\n",
    "    df[x] = df[x].str.lstrip()\n",
    "    \n",
    "    # formatting time var to hh:mm:ss\n",
    "    df[x] = np.where(df[x].str.contains('^(?:([0-5]?\\d):)?([0-5]?\\d)$'), \"00:\"+df[x], df[x])\n",
    "    \n",
    "    # creating time variable converted to minutes\n",
    "    x_minutes = pd.to_datetime(df[x],format= '%H:%M:%S')-df['default_date']\n",
    "    x_minutes = (x_minutes.dt.total_seconds() / 60.0).round(2)\n",
    "    \n",
    "    # dropping default date column\n",
    "    df.drop(columns='default_date', inplace=True)\n",
    "    \n",
    "    return x_minutes"
   ]
  },
  {
   "cell_type": "code",
   "execution_count": 18,
   "metadata": {},
   "outputs": [
    {
     "name": "stderr",
     "output_type": "stream",
     "text": [
      "C:\\Users\\drewn\\anaconda3\\lib\\site-packages\\pandas\\core\\strings.py:2001: UserWarning: This pattern has match groups. To actually get the groups, use str.extract.\n",
      "  return func(self, *args, **kwargs)\n"
     ]
    }
   ],
   "source": [
    "df['Gun_Time_minutes'] = to_minutes(df, 'Gun_Time')\n",
    "df['Net_Time_minutes'] = to_minutes(df, 'Net_Time')\n",
    "df['Pace_minutes'] = to_minutes(df, 'Pace')"
   ]
  },
  {
   "cell_type": "markdown",
   "metadata": {},
   "source": [
    "#### Imputing Missing Data: Age"
   ]
  },
  {
   "cell_type": "code",
   "execution_count": 19,
   "metadata": {},
   "outputs": [
    {
     "data": {
      "text/plain": [
       "0    2361\n",
       "1       9\n",
       "Name: Age_flag, dtype: int64"
      ]
     },
     "execution_count": 19,
     "metadata": {},
     "output_type": "execute_result"
    }
   ],
   "source": [
    "# creating outlier flag for age\n",
    "df['Age_flag'] = 0\n",
    "df.loc[df.Age < 5, 'Age_flag'] = 1\n",
    "\n",
    "# tabulating number of flagged rows\n",
    "df['Age_flag'].value_counts()"
   ]
  },
  {
   "cell_type": "code",
   "execution_count": 20,
   "metadata": {},
   "outputs": [],
   "source": [
    "df = df.sort_values(by=['Gender', 'Gun_Time_minutes', 'Net_Time_minutes', 'Pace_minutes'])"
   ]
  },
  {
   "cell_type": "code",
   "execution_count": 21,
   "metadata": {},
   "outputs": [],
   "source": [
    "# Replacing 0, -1, 1 with nan for Age\n",
    "df['Age']=df['Age'].replace(-1, np.nan)\n",
    "df['Age']=df['Age'].replace(0, np.nan)\n",
    "df['Age']=df['Age'].replace(1, np.nan)"
   ]
  },
  {
   "cell_type": "code",
   "execution_count": 22,
   "metadata": {},
   "outputs": [],
   "source": [
    "#  backfilling and forward filling missing values\n",
    "df = df.fillna(method='ffill').fillna(method='bfill')"
   ]
  },
  {
   "cell_type": "markdown",
   "metadata": {},
   "source": [
    "#### Creating Age Category Variable"
   ]
  },
  {
   "cell_type": "code",
   "execution_count": 23,
   "metadata": {},
   "outputs": [],
   "source": [
    "df['Age_Cat'] = ''\n",
    "\n",
    "df.loc[(df.Age >= 0) & (df.Age <= 14), 'Age_Cat'] = '0-14'\n",
    "df.loc[(df.Age >= 15) & (df.Age <= 19), 'Age_Cat'] = '15-19'\n",
    "df.loc[(df.Age >= 20) & (df.Age <= 29), 'Age_Cat'] = '20-29'\n",
    "df.loc[(df.Age >= 30) & (df.Age <= 39), 'Age_Cat'] = '30-39'\n",
    "df.loc[(df.Age >= 40) & (df.Age <= 49), 'Age_Cat'] = '40-49'\n",
    "df.loc[(df.Age >= 50) & (df.Age <= 59), 'Age_Cat'] = '50-59'\n",
    "df.loc[(df.Age >= 60) & (df.Age <= 69), 'Age_Cat'] = '60-69'\n",
    "df.loc[(df.Age >= 70) & (df.Age <= 79), 'Age_Cat'] = '70-79'\n",
    "df.loc[(df.Age >= 80) & (df.Age <= 89), 'Age_Cat'] = '80-89'\n",
    "df.loc[(df.Age >= 90) & (df.Age <= 99), 'Age_Cat'] = '90-99'"
   ]
  },
  {
   "cell_type": "markdown",
   "metadata": {},
   "source": [
    "#### Generating new Division and Div_Totals variables"
   ]
  },
  {
   "cell_type": "code",
   "execution_count": 24,
   "metadata": {},
   "outputs": [],
   "source": [
    "# using aggregate to groupby age and gender, and create division totals\n",
    "df_agg = df[['Age_Cat', 'Gender', 'Net_Time_minutes']].groupby(['Age_Cat', 'Gender']).agg(['count'])\n",
    "df_agg = df_agg.reset_index(drop=False)\n",
    "df_agg = df_agg.reset_index(drop=False)\n",
    "df_agg.columns = df_agg.columns.get_level_values(0)\n",
    "df_agg = df_agg.rename(columns = {\"index\": \"Division\", \"Net_Time_minutes\": \"Div_Totals\"})"
   ]
  },
  {
   "cell_type": "markdown",
   "metadata": {},
   "source": [
    "#### Setting age_cat, gender to index, preparing to merge"
   ]
  },
  {
   "cell_type": "code",
   "execution_count": 25,
   "metadata": {},
   "outputs": [],
   "source": [
    "df.set_index(['Age_Cat', 'Gender'], inplace=True)\n",
    "df_agg.set_index(['Age_Cat', 'Gender'], inplace=True)"
   ]
  },
  {
   "cell_type": "code",
   "execution_count": 26,
   "metadata": {},
   "outputs": [],
   "source": [
    "df_cleaned = pd.merge(df, df_agg, how = 'left', left_index=True, right_index=True)"
   ]
  },
  {
   "cell_type": "code",
   "execution_count": 27,
   "metadata": {},
   "outputs": [
    {
     "data": {
      "text/plain": [
       "(2370, 15)"
      ]
     },
     "execution_count": 27,
     "metadata": {},
     "output_type": "execute_result"
    }
   ],
   "source": [
    "df_cleaned.shape"
   ]
  },
  {
   "cell_type": "markdown",
   "metadata": {},
   "source": [
    "#### Dropping div/tot column"
   ]
  },
  {
   "cell_type": "code",
   "execution_count": 28,
   "metadata": {},
   "outputs": [],
   "source": [
    "df_cleaned.drop(columns='Div/Tot', inplace=True)"
   ]
  },
  {
   "cell_type": "code",
   "execution_count": 29,
   "metadata": {},
   "outputs": [],
   "source": [
    "# resetting index\n",
    "df_cleaned.reset_index(drop=False, inplace=True)"
   ]
  },
  {
   "cell_type": "markdown",
   "metadata": {},
   "source": [
    "#### Reordering columns"
   ]
  },
  {
   "cell_type": "code",
   "execution_count": 30,
   "metadata": {},
   "outputs": [],
   "source": [
    "df_cleaned = df_cleaned[['Gender_Position', 'Division', 'Div_Totals', 'Bib_Num', 'Name', 'Age', 'Age_Cat', 'Gender', 'Hometown', 'Gun_Time', 'Gun_Time_minutes', 'Net_Time', 'Net_Time_minutes', 'Pace', 'Pace_minutes', 'Age_flag']]"
   ]
  },
  {
   "cell_type": "markdown",
   "metadata": {},
   "source": [
    "### Writing out Cleaned Dataset"
   ]
  },
  {
   "cell_type": "code",
   "execution_count": 31,
   "metadata": {},
   "outputs": [],
   "source": [
    "df_cleaned.to_csv('2_data/df_cleaned.csv', index=False)"
   ]
  }
 ],
 "metadata": {
  "kernelspec": {
   "display_name": "Python 3",
   "language": "python",
   "name": "python3"
  },
  "language_info": {
   "codemirror_mode": {
    "name": "ipython",
    "version": 3
   },
   "file_extension": ".py",
   "mimetype": "text/x-python",
   "name": "python",
   "nbconvert_exporter": "python",
   "pygments_lexer": "ipython3",
   "version": "3.8.5"
  }
 },
 "nbformat": 4,
 "nbformat_minor": 5
}
