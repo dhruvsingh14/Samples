{
 "cells": [
  {
   "cell_type": "markdown",
   "metadata": {},
   "source": [
    "#### Name: Dhruv Singh <br> Title: Data Scientist <br> Company: Boston Consulting Group (BCG) <br> Project: Coding Challenge <br> Date: 04/03/2022"
   ]
  },
  {
   "cell_type": "markdown",
   "metadata": {},
   "source": [
    "### Q1: "
   ]
  },
  {
   "cell_type": "code",
   "execution_count": null,
   "metadata": {},
   "outputs": [],
   "source": [
    "   '''\n",
    "    order_id            object\n",
    "    transaction_date    object\n",
    "    product             object\n",
    "    price                int64\n",
    "    customer_id         object\n",
    "    quantity             int64\n",
    "    '''\n",
    "     # print(orders_df.shape) # 50000,6"
   ]
  },
  {
   "cell_type": "code",
   "execution_count": null,
   "metadata": {},
   "outputs": [],
   "source": [
    "def compute_relative_sales_difference():\n",
    "    # reading in orders data\n",
    "    orders_df = pd.read_csv('orders_data.csv')\n",
    "    \n",
    "    # summarizing data\n",
    "    # print(orders_df.shape) # 50000,6\n",
    "    # print(orders_df.dtypes) \n",
    "    # print(len(orders_df.order_id.unique()))\n",
    "    \n",
    "    # converting date column to datetime \n",
    "    orders_df['transaction_date'] = pd.to_datetime(orders_dd['transaction_date'], format='%Y%m%d')    \n",
    "    # print(orders_df.dtypes)\n",
    "    \n",
    "    # creating year column\n",
    "    orders_df['year'] = pd.DatetimeIndex(orders_df['transaction_date']).year\n",
    "    \n",
    "    # subsetting\n",
    "    orders_df = orders_df[['year', 'price', 'quantity']]\n",
    "    \n",
    "    # creating sales column: qty * price\n",
    "    orders_df['sales'] = orders_df['quantity'] * orders_df['price']\n",
    "    \n",
    "    # grouping sales by year to obtain total sales per year\n",
    "    grouped_sales = orders_df[['year', 'sales']].groupby['year'].sum()\n",
    "    \n",
    "    # computing sales difference: 2017 to 2018\n",
    "    sales_diff = ((grouped_sales.loc['2018'] - grouped_sales.loc['2017'])/(grouped_sales.loc['2017']))\n",
    "    \n",
    "    return sales_diff"
   ]
  },
  {
   "cell_type": "markdown",
   "metadata": {},
   "source": [
    "### Q2: "
   ]
  },
  {
   "cell_type": "code",
   "execution_count": null,
   "metadata": {},
   "outputs": [],
   "source": [
    "def get_median_age_per_acquisition_channel():\n",
    "    # Write your code here\n",
    "    df = pd.read_csv('customer_data.csv')\n",
    "    print(df.head())\n",
    "    print(df.dtypes)\n",
    "    \n",
    "    # converting type\n",
    "    df['birth_date'] = pd.to_datetime(df['birth_date'], format='%Y%m%d')\n",
    "    print(df.dtypes)\n",
    "\n",
    "    # creating Age column\n",
    "    current_date = '04/03/2022'\n",
    "    df['age'] = (current_date - df['birth_date']).round(0)\n",
    "    \n",
    "    # grouping by acquisition channel to obtain median age\n",
    "    grouped_df = df['acquisition_channel', 'age'].groupby('acquisition_channel').median()\n",
    "    \n",
    "    # This is the expected format for the output (you can delete this line)\n",
    "    grouped_df.reset_index(inplace=True)"
   ]
  },
  {
   "cell_type": "code",
   "execution_count": null,
   "metadata": {},
   "outputs": [],
   "source": []
  },
  {
   "cell_type": "markdown",
   "metadata": {},
   "source": [
    "### Q3: "
   ]
  },
  {
   "cell_type": "code",
   "execution_count": null,
   "metadata": {},
   "outputs": [],
   "source": [
    "    # reading in data\n",
    "    df1 = pd.read_csv('customer_data.csv')\n",
    "    df2 = pd.read_csv('orders_data.csv')\n",
    "    \n",
    "    # setting index\n",
    "    df1.set_index('customer_id', inplace=True)\n",
    "    df2.set_index('customer_id', inplace=True)\n",
    "    \n",
    "    # joining tables using inner join, on customer id\n",
    "    df = pd.merge(df1, df2, how='inner', left_index=True, right_index=True)\n",
    "    \n",
    "    # defining millenials\n",
    "    df.birth_date = pd.to_datetime(df.birth_date)\n",
    "    df['birth_year'] = pd.DatetimeIndex(df['birth_year']).year\n",
    "\n",
    "    df['millenials'] = 0\n",
    "    df.millenials[(df.birth_date > 1981) & (df.birth_date <= 1996), 'millenials'] = 1\n",
    "\n",
    "    # subsetting to millenials\n",
    "    df_m = df[df['millenials'] == 1]\n",
    "    \n",
    "    # returning highest value count\n",
    "    return df_m.product.value_counts()[0]"
   ]
  },
  {
   "cell_type": "code",
   "execution_count": null,
   "metadata": {},
   "outputs": [],
   "source": []
  },
  {
   "cell_type": "markdown",
   "metadata": {},
   "source": [
    "### Q4:"
   ]
  },
  {
   "cell_type": "code",
   "execution_count": null,
   "metadata": {},
   "outputs": [],
   "source": []
  },
  {
   "cell_type": "code",
   "execution_count": null,
   "metadata": {},
   "outputs": [],
   "source": []
  },
  {
   "cell_type": "markdown",
   "metadata": {},
   "source": [
    "### Q5:"
   ]
  },
  {
   "cell_type": "code",
   "execution_count": null,
   "metadata": {},
   "outputs": [],
   "source": []
  },
  {
   "cell_type": "code",
   "execution_count": null,
   "metadata": {},
   "outputs": [],
   "source": []
  },
  {
   "cell_type": "markdown",
   "metadata": {},
   "source": [
    "### Q6:"
   ]
  },
  {
   "cell_type": "code",
   "execution_count": null,
   "metadata": {},
   "outputs": [],
   "source": [
    "    # Write your code here\n",
    "    customers_df = pd.read_csv('customer_data.csv')\n",
    "    orders_df = pd.read_csv('orders_data.csv')"
   ]
  },
  {
   "cell_type": "code",
   "execution_count": null,
   "metadata": {},
   "outputs": [],
   "source": [
    "def main():\n",
    "    \n",
    "    # Q1:\n",
    "    # reading in data\n",
    "    df1 = pd.read_csv('customer_data.csv')\n",
    "    df2 = pd.read_csv('orders_data.csv')\n",
    "    \n",
    "    # setting index\n",
    "    df1.set_index('customer_id', inplace=True)\n",
    "    df2.set_index('customer_id', inplace=True)\n",
    "    \n",
    "    # joining tables using inner join, on customer id\n",
    "    df = pd.merge(df1, df2, how='inner', left_index=True, right_index=True)\n",
    "    \n",
    "    # creating year column\n",
    "    df['transaction_date'] = pd.to_datetime(df['transaction_date'], format='%Y%m%d')    \n",
    "    df['year'] = pd.DatetimeIndex(df['transaction_date']).year\n",
    "    \n",
    "    # revenue column\n",
    "    df['revenue'] df['price'] * df['quantity']\n",
    "    \n",
    "    # subsetting\n",
    "    df_rev = df[['customer_id', 'year', 'revenue']]\n",
    "    \n",
    "    grouped_rev = df_rev.groupby(['customer_id', 'year']).sum()"
   ]
  },
  {
   "cell_type": "code",
   "execution_count": null,
   "metadata": {},
   "outputs": [],
   "source": [
    "def main():\n",
    "    \n",
    "    # Q1:\n",
    "    # reading in data\n",
    "    df1 = pd.read_csv('customer_data.csv')\n",
    "    df2 = pd.read_csv('orders_data.csv')\n",
    "    \n",
    "    # setting index\n",
    "    df1.set_index('customer_id', inplace=True)\n",
    "    df2.set_index('customer_id', inplace=True)\n",
    "    \n",
    "    # joining tables using inner join, on customer id\n",
    "    df = pd.merge(df1, df2, how='inner', left_index=True, right_index=True)\n",
    "    \n",
    "    # creating year column\n",
    "    df['transaction_date'] = pd.to_datetime(df['transaction_date'], format='%Y%m%d')    \n",
    "    df['year'] = pd.DatetimeIndex(df['transaction_date']).year\n",
    "    \n",
    "    # revenue column\n",
    "    df['revenue'] df['price'] * df['quantity']\n",
    "    \n",
    "    # subsetting\n",
    "    df_rev = df[['customer_id', 'year', 'revenue']]\n",
    "    \n",
    "    grouped_rev = df_rev.groupby(['customer_id', 'year']).sum()\n",
    "    \n",
    "    # Q2\n",
    "    # to keep original column headers, from nested column headers\n",
    "    grouped_rev.columns = grouped_rev.columns.get_level_values(1)\n",
    "    grouped_rev = grouped_rev.reset_index(level='year')\n",
    "    \n",
    "    # converting type\n",
    "    df1['birth_date'] = pd.to_datetime(df1['birth_date'], format='%Y%m%d')\n",
    "    df3 = df1[['birth_date']]\n",
    "    \n",
    "    # creating age column\n",
    "    current_date = '04/03/2022'\n",
    "    df3['age'] = (current_date - df3['birth_date']).round(0)\n",
    "    \n",
    "    # adding age to aggregated table\n",
    "    grouped_rev2 = pd.merge(grouped_rev, df3, how='inner', left_index=True, right_index=True)\n",
    "    \n",
    "    # prev_year_revenue\n",
    "    grouped_rev2['prev_year_revenue'] = 0\n",
    "\n",
    "    # assuming dataframe is sorted by customer id and year following groupby\n",
    "    for i in grouped_rev2.shape[0]:\n",
    "        grouped_rev2['prev_year_revenue'][i+1] = grouped_rev2['revenue'][i]\n",
    "        \n",
    "    # prev_year_nb_products\n",
    "    grouped_prods = df[['customer_id', 'year', 'product']].groupby(['customer_id', 'year']).size()\n",
    "\n",
    "    # to keep original column headers, from nested column headers\n",
    "    grouped_prods.columns = grouped_prods.columns.get_level_values(1)\n",
    "    grouped_prods = grouped_prods.reset_index(level='year')\n",
    "    \n",
    "    # final table for q2\n",
    "    grouped_rev3 = pd.merge(grouped_rev2, grouped_prods, how='inner', left_index=True, right_index=True)\n",
    "    \n",
    "    # q3\n",
    "    # adding acquisition channels\n",
    "    \n",
    "    # writing \"rougher pseudo code\"\n",
    "    \n",
    "    # 1. can add acquisition channel \n",
    "    # this cannot be aggregated, it can be one-hot encoded prior to aggregation\n",
    "    # then added as an aggregated measure\n",
    "    \n",
    "    # 2. can add transaction year, month for seasonality \n",
    "    \n",
    "    df_final = pd.merge(grouped_rev3, df1, how='inner', left_index=True, right_index=True)\n",
    "    \n",
    "    # Q4: this is not a random train test split\n",
    "    from sklearn.model_selection import train_test_split\n",
    "    from sklearn.linear_model import LinearRegression\n",
    "    \n",
    "    # split df into test, df[year] == 2018, and train df[year] !=2018\n",
    "    # y = revenue column, X = features (all else), repeat for both test and train sets\n",
    "    # linear regression instance\n",
    "    reg = LinearRegression(fit_intercept=True)\n",
    "    \n",
    "    # fitting model\n",
    "    reg.fit(X_train, y_train)\n",
    "    \n",
    "    # predicting test values\n",
    "    reg.predict(X_test[0:10])\n",
    "    \n",
    "    # measuring model performance\n",
    "    rmse = reg.score(X_test, y_test)\n",
    "    print(rmse)\n",
    "    \n",
    "  "
   ]
  },
  {
   "cell_type": "markdown",
   "metadata": {},
   "source": [
    "### Q7: "
   ]
  },
  {
   "cell_type": "code",
   "execution_count": null,
   "metadata": {},
   "outputs": [],
   "source": []
  },
  {
   "cell_type": "code",
   "execution_count": null,
   "metadata": {},
   "outputs": [],
   "source": []
  },
  {
   "cell_type": "markdown",
   "metadata": {},
   "source": [
    "### Q8: "
   ]
  },
  {
   "cell_type": "code",
   "execution_count": null,
   "metadata": {},
   "outputs": [],
   "source": []
  },
  {
   "cell_type": "code",
   "execution_count": null,
   "metadata": {},
   "outputs": [],
   "source": []
  },
  {
   "cell_type": "markdown",
   "metadata": {},
   "source": [
    "### Q9:"
   ]
  },
  {
   "cell_type": "code",
   "execution_count": null,
   "metadata": {},
   "outputs": [],
   "source": []
  },
  {
   "cell_type": "code",
   "execution_count": null,
   "metadata": {},
   "outputs": [],
   "source": []
  },
  {
   "cell_type": "code",
   "execution_count": null,
   "metadata": {},
   "outputs": [],
   "source": []
  },
  {
   "cell_type": "code",
   "execution_count": null,
   "metadata": {},
   "outputs": [],
   "source": []
  },
  {
   "cell_type": "code",
   "execution_count": null,
   "metadata": {},
   "outputs": [],
   "source": []
  },
  {
   "cell_type": "code",
   "execution_count": null,
   "metadata": {},
   "outputs": [],
   "source": []
  },
  {
   "cell_type": "code",
   "execution_count": null,
   "metadata": {},
   "outputs": [],
   "source": []
  },
  {
   "cell_type": "code",
   "execution_count": null,
   "metadata": {},
   "outputs": [],
   "source": []
  },
  {
   "cell_type": "code",
   "execution_count": null,
   "metadata": {},
   "outputs": [],
   "source": []
  },
  {
   "cell_type": "code",
   "execution_count": null,
   "metadata": {},
   "outputs": [],
   "source": []
  },
  {
   "cell_type": "code",
   "execution_count": null,
   "metadata": {},
   "outputs": [],
   "source": []
  },
  {
   "cell_type": "code",
   "execution_count": null,
   "metadata": {},
   "outputs": [],
   "source": []
  },
  {
   "cell_type": "code",
   "execution_count": null,
   "metadata": {},
   "outputs": [],
   "source": []
  },
  {
   "cell_type": "code",
   "execution_count": null,
   "metadata": {},
   "outputs": [],
   "source": []
  },
  {
   "cell_type": "code",
   "execution_count": null,
   "metadata": {},
   "outputs": [],
   "source": []
  },
  {
   "cell_type": "code",
   "execution_count": null,
   "metadata": {},
   "outputs": [],
   "source": []
  },
  {
   "cell_type": "code",
   "execution_count": null,
   "metadata": {},
   "outputs": [],
   "source": []
  },
  {
   "cell_type": "code",
   "execution_count": null,
   "metadata": {},
   "outputs": [],
   "source": []
  },
  {
   "cell_type": "code",
   "execution_count": null,
   "metadata": {},
   "outputs": [],
   "source": []
  },
  {
   "cell_type": "code",
   "execution_count": null,
   "metadata": {},
   "outputs": [],
   "source": []
  },
  {
   "cell_type": "code",
   "execution_count": null,
   "metadata": {},
   "outputs": [],
   "source": []
  },
  {
   "cell_type": "code",
   "execution_count": null,
   "metadata": {},
   "outputs": [],
   "source": []
  }
 ],
 "metadata": {
  "kernelspec": {
   "display_name": "Python 3",
   "language": "python",
   "name": "python3"
  },
  "language_info": {
   "codemirror_mode": {
    "name": "ipython",
    "version": 3
   },
   "file_extension": ".py",
   "mimetype": "text/x-python",
   "name": "python",
   "nbconvert_exporter": "python",
   "pygments_lexer": "ipython3",
   "version": "3.8.5"
  }
 },
 "nbformat": 4,
 "nbformat_minor": 4
}
