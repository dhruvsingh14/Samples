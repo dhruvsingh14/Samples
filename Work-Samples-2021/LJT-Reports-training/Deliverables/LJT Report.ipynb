{
 "cells": [
  {
   "cell_type": "markdown",
   "id": "655f8dee",
   "metadata": {},
   "source": [
    "# LJT Reports"
   ]
  },
  {
   "cell_type": "markdown",
   "id": "a8764eea",
   "metadata": {},
   "source": [
    "#### Analyst: Dhruv Singh <br> Report Name: LJT Report <br> Report Quarter, Year: FY 2020 Q1-Q4 <br> Date Updated: 08/10/2021"
   ]
  },
  {
   "cell_type": "markdown",
   "id": "5ae6d88a",
   "metadata": {},
   "source": [
    "##### Date filter"
   ]
  },
  {
   "cell_type": "code",
   "execution_count": null,
   "id": "1b70fd4e",
   "metadata": {},
   "outputs": [],
   "source": [
    "# enter start and end date in \"mm/dd/yyyy\" format\n",
    "start_date = \"10/01/2019\"\n",
    "end_date = \"09/30/2020\""
   ]
  },
  {
   "cell_type": "code",
   "execution_count": null,
   "id": "9170dbf5",
   "metadata": {},
   "outputs": [],
   "source": [
    "# enter FY and quarter(s) for report: used in graph labels\n",
    "year = '2020'\n",
    "quarter = 'Q1-Q4'"
   ]
  },
  {
   "cell_type": "code",
   "execution_count": null,
   "id": "f24f4db3",
   "metadata": {},
   "outputs": [],
   "source": [
    "# libraries\n",
    "import pandas as pd\n",
    "import numpy as np\n",
    "import matplotlib.pyplot as plt"
   ]
  },
  {
   "cell_type": "markdown",
   "id": "37c82073",
   "metadata": {},
   "source": [
    "### Data Cleaning"
   ]
  },
  {
   "cell_type": "code",
   "execution_count": null,
   "id": "691ab727",
   "metadata": {},
   "outputs": [],
   "source": [
    "# reading in data\n",
    "ljt = pd.read_csv('data/services.csv', dtype = 'unicode')"
   ]
  },
  {
   "cell_type": "markdown",
   "id": "9e4063d9",
   "metadata": {},
   "source": [
    "##### Checking for Test Cases"
   ]
  },
  {
   "cell_type": "code",
   "execution_count": null,
   "id": "9b22bf82",
   "metadata": {},
   "outputs": [],
   "source": [
    "# subsetting to exclude test cases\n",
    "ljt = ljt[(ljt['FirstName'] != \"Kurt\") & (ljt['LastName'] != \"Hummel\")]"
   ]
  },
  {
   "cell_type": "markdown",
   "id": "b8f9ee04",
   "metadata": {},
   "source": [
    "##### Replacing missing values"
   ]
  },
  {
   "cell_type": "code",
   "execution_count": null,
   "id": "326cf66d",
   "metadata": {},
   "outputs": [],
   "source": [
    "ljt = ljt.fillna(0)"
   ]
  },
  {
   "cell_type": "markdown",
   "id": "a0db98a7",
   "metadata": {},
   "source": [
    "##### Recoding Program: WIOA & Local Training, to FEMS and MPD"
   ]
  },
  {
   "cell_type": "code",
   "execution_count": null,
   "id": "450655d1",
   "metadata": {},
   "outputs": [],
   "source": [
    "# recoding program title from WIOA to FEMS, for FEMS\n",
    "ljt.loc[ljt[\"ServiceProviderName\"] == \"DC Department of Fire & Emergency Services\", \"ProgramTitle\"] = \"DC Department of Fire & Emergency Services\""
   ]
  },
  {
   "cell_type": "code",
   "execution_count": null,
   "id": "47c3f374",
   "metadata": {},
   "outputs": [],
   "source": [
    "# recoding program title from WIOA to MPD, for MPD\n",
    "ljt.loc[ljt[\"ServiceProviderName\"] == \"MPD (Cadet Corps Branch)\", \"ProgramTitle\"] = \"MPD (Cadet Corps Branch)\""
   ]
  },
  {
   "cell_type": "markdown",
   "id": "e6e98952",
   "metadata": {},
   "source": [
    "##### Subsetting columns"
   ]
  },
  {
   "cell_type": "code",
   "execution_count": null,
   "id": "8f01847d",
   "metadata": {},
   "outputs": [],
   "source": [
    "# subsetting columns\n",
    "ljt = ljt[[\"StateId\", \"OfficeName\", \"ProgramTitle\", \"FirstName\", \"LastName\", \"ServiceCode\", \"ActualstartDate\", \"ActualEndDate\", \"CompletionStatus\", \"ServiceProviderName\", \"CourseName\", \"CredentialType1\", \"CredentialDate1\", \"CredentialType2\", \"CredentialDate2\", \"CredentialType3\", \"CredentialDate3\", \"CredentialType4\", \"CredentialDate4\", \"EmploymentStartDate\"]]"
   ]
  },
  {
   "cell_type": "markdown",
   "id": "c733b192",
   "metadata": {},
   "source": [
    "##### Binarizing date and completions"
   ]
  },
  {
   "cell_type": "code",
   "execution_count": null,
   "id": "e9567f96",
   "metadata": {},
   "outputs": [],
   "source": [
    "# converting actual and end date to datetime \n",
    "ljt.ActualstartDate = pd.to_datetime(ljt.ActualstartDate)\n",
    "ljt.ActualEndDate = pd.to_datetime(ljt.ActualEndDate)"
   ]
  },
  {
   "cell_type": "code",
   "execution_count": null,
   "id": "66a8a42d",
   "metadata": {},
   "outputs": [],
   "source": [
    "# extracting month and year columns\n",
    "ljt['StartMonth'] = pd.DatetimeIndex(ljt['ActualstartDate']).month\n",
    "ljt['StartYear'] = pd.DatetimeIndex(ljt['ActualstartDate']).year\n",
    "ljt['EndMonth'] = pd.DatetimeIndex(ljt['ActualEndDate']).month\n",
    "ljt['EndYear'] = pd.DatetimeIndex(ljt['ActualEndDate']).year\n",
    "\n",
    "# converting columns float to int\n",
    "ljt['EndMonth'] = ljt['EndMonth'].apply(np.int64)\n",
    "ljt['EndYear'] = ljt['EndYear'].apply(np.int64)\n",
    "\n",
    "# creating month-year columns\n",
    "ljt['StartMonthYear'] = ljt.StartYear.map(str) + \"-\" + ljt.StartMonth.map(str)\n",
    "ljt['EndMonthYear'] = ljt.EndYear.map(str) + \"-\" + ljt.EndMonth.map(str)"
   ]
  },
  {
   "cell_type": "code",
   "execution_count": null,
   "id": "58431402",
   "metadata": {},
   "outputs": [],
   "source": [
    "# binarizing start date and end date columns\n",
    "ljt['StartDate'] = 0\n",
    "ljt['EndDate'] = 0\n",
    "\n",
    "# recoding binary date columns based on date filter\n",
    "ljt.loc[(ljt.ActualstartDate > start_date) & (ljt.ActualstartDate < end_date), 'StartDate'] = 1\n",
    "ljt.loc[(ljt.ActualEndDate > start_date) & (ljt.ActualEndDate < end_date), 'EndDate'] = 1"
   ]
  },
  {
   "cell_type": "code",
   "execution_count": null,
   "id": "9017c542",
   "metadata": {},
   "outputs": [],
   "source": [
    "# binarizing completion status column\n",
    "ljt['Completion_num'] = 0\n",
    "\n",
    "# recoding completion status columns based on date filter\n",
    "ljt.loc[ljt.CompletionStatus == 'Successful Completion', 'Completion_num'] = 1"
   ]
  },
  {
   "cell_type": "markdown",
   "id": "caba7d17",
   "metadata": {},
   "source": [
    "##### Subsetting rows"
   ]
  },
  {
   "cell_type": "code",
   "execution_count": null,
   "id": "637af52f",
   "metadata": {},
   "outputs": [],
   "source": [
    "# subsetting rows: programs\n",
    "ljt = ljt[(ljt['ProgramTitle'] == \"Pre-Apprenticeship Program\") | (ljt['ProgramTitle'] == \"Transitional Employment Program (Way to Work)\") | (ljt['ProgramTitle'] == \"DC Career Connections (DCCC)\") | (ljt['ProgramTitle'] == \"DC Infrastructure Academy\") | (ljt['ProgramTitle'] == \"L.E.A.P. (Learn, Earn, Advance, Prosper)\") | (ljt['ProgramTitle'] == \"Back to Work 50+ DC\") | (ljt['ProgramTitle'] == \"MPD (Cadet Corps Branch)\") | (ljt['ProgramTitle'] == \"DC Department of Fire & Emergency Services\")]"
   ]
  },
  {
   "cell_type": "code",
   "execution_count": null,
   "id": "6cf6db7b",
   "metadata": {},
   "outputs": [],
   "source": [
    "# subsetting rows: date\n",
    "ljt = ljt[(ljt['StartDate'] == 1) | (ljt['EndDate'] == 1)]"
   ]
  },
  {
   "cell_type": "markdown",
   "id": "632dcd7c",
   "metadata": {},
   "source": [
    "#### De-Duplication"
   ]
  },
  {
   "cell_type": "code",
   "execution_count": null,
   "id": "fe22f563",
   "metadata": {},
   "outputs": [],
   "source": [
    "ljt = ljt.sort_values(by=['StateId', 'FirstName', 'LastName', 'StartDate', 'CompletionStatus'], ascending = (True, True, True, False, True))"
   ]
  },
  {
   "cell_type": "markdown",
   "id": "373f6dcd",
   "metadata": {},
   "source": [
    "##### Splitting dataframe by activity code types"
   ]
  },
  {
   "cell_type": "code",
   "execution_count": null,
   "id": "9ca3e63a",
   "metadata": {},
   "outputs": [],
   "source": [
    "ljt.shape"
   ]
  },
  {
   "cell_type": "code",
   "execution_count": null,
   "id": "1e0766b8",
   "metadata": {},
   "outputs": [],
   "source": [
    "# 200 codes\n",
    "programs1 = ljt.ProgramTitle.unique().tolist()"
   ]
  },
  {
   "cell_type": "code",
   "execution_count": null,
   "id": "06a82640",
   "metadata": {},
   "outputs": [],
   "source": [
    "activity_code1 = [\"220\", \"214\", \"219\", \"893\"]"
   ]
  },
  {
   "cell_type": "code",
   "execution_count": null,
   "id": "95c5fe39",
   "metadata": {},
   "outputs": [],
   "source": [
    "# creating code type category column\n",
    "ljt['code_types'] = 0\n",
    "\n",
    "# recoding code category columns based on date filter\n",
    "ljt.loc[(ljt.ProgramTitle.isin(programs1)) & (ljt.ServiceCode.isin(activity_code1)), 'code_types'] = 1"
   ]
  },
  {
   "cell_type": "code",
   "execution_count": null,
   "id": "d9abffe8",
   "metadata": {},
   "outputs": [],
   "source": [
    "ljt[ljt.code_types==1].shape"
   ]
  },
  {
   "cell_type": "code",
   "execution_count": null,
   "id": "1c550e74",
   "metadata": {},
   "outputs": [],
   "source": [
    "# 300 codes\n",
    "programs2 = ['DC Career Connections (DCCC)', 'DC Infrastructure Academy', 'Transitional Employment Program (Way to Work)', 'Pre-Apprenticeship Program', 'MPD (Cadet Corps Branch)', 'DC Department of Fire & Emergency Services']"
   ]
  },
  {
   "cell_type": "code",
   "execution_count": null,
   "id": "ce6bdbba",
   "metadata": {},
   "outputs": [],
   "source": [
    "activity_code2 = [\"328\", \"313\", \"300\", \"315\", \"333\"]"
   ]
  },
  {
   "cell_type": "code",
   "execution_count": null,
   "id": "3a1ba4b5",
   "metadata": {},
   "outputs": [],
   "source": [
    "# recoding code category columns based on date filter\n",
    "ljt.loc[(ljt.ProgramTitle.isin(programs2)) & (ljt.ServiceCode.isin(activity_code2)), 'code_types'] = 2"
   ]
  },
  {
   "cell_type": "code",
   "execution_count": null,
   "id": "b5465e05",
   "metadata": {},
   "outputs": [],
   "source": [
    "ljt[ljt.code_types==2].shape"
   ]
  },
  {
   "cell_type": "markdown",
   "id": "673d7aa3",
   "metadata": {},
   "source": [
    "#### Step 1: 200 codes"
   ]
  },
  {
   "cell_type": "code",
   "execution_count": null,
   "id": "21d9aa7f",
   "metadata": {},
   "outputs": [],
   "source": [
    "# outputting dups 1\n",
    "dups1 = ljt[ljt.code_types==1]\n",
    "dups1 = dups1[dups1.duplicated(subset = [\"ProgramTitle\", \"ServiceCode\", \"StateId\"], keep=False)]"
   ]
  },
  {
   "cell_type": "code",
   "execution_count": null,
   "id": "695ebd39",
   "metadata": {},
   "outputs": [],
   "source": [
    "dups1.to_csv('data/duplicates1.csv')"
   ]
  },
  {
   "cell_type": "code",
   "execution_count": null,
   "id": "37ced5ea",
   "metadata": {},
   "outputs": [],
   "source": [
    "# dropping dups 1: keeping most recent record since most often progression is towards success\n",
    "ljt1 = ljt[ljt.code_types==1].drop_duplicates(subset = [\"ProgramTitle\", \"ServiceCode\", \"StateId\"], keep='first')"
   ]
  },
  {
   "cell_type": "code",
   "execution_count": null,
   "id": "4136a74e",
   "metadata": {},
   "outputs": [],
   "source": [
    "ljt1.shape"
   ]
  },
  {
   "cell_type": "markdown",
   "id": "b474fc55",
   "metadata": {},
   "source": [
    "##### Step 2: 300 codes"
   ]
  },
  {
   "cell_type": "code",
   "execution_count": null,
   "id": "0a9bbc9b",
   "metadata": {},
   "outputs": [],
   "source": [
    "# outputting dups 2\n",
    "dups2 = ljt[ljt.code_types==2]\n",
    "dups2 = dups2[dups2.duplicated(subset = [\"ProgramTitle\", \"ServiceCode\", \"StateId\", \"ServiceProviderName\"], keep=False)]"
   ]
  },
  {
   "cell_type": "code",
   "execution_count": null,
   "id": "ea925421",
   "metadata": {},
   "outputs": [],
   "source": [
    "dups2.to_csv('data/duplicates2.csv')"
   ]
  },
  {
   "cell_type": "code",
   "execution_count": null,
   "id": "9396781f",
   "metadata": {},
   "outputs": [],
   "source": [
    "# dropping dups 2: keeping most recent record since most often progression is towards success\n",
    "ljt2 = ljt[ljt.code_types==2].drop_duplicates(subset = [\"ProgramTitle\", \"ServiceCode\", \"StateId\", \"ServiceProviderName\"], keep='first')"
   ]
  },
  {
   "cell_type": "code",
   "execution_count": null,
   "id": "f26e20bf",
   "metadata": {},
   "outputs": [],
   "source": [
    "ljt2.shape"
   ]
  },
  {
   "cell_type": "markdown",
   "id": "1b435588",
   "metadata": {},
   "source": [
    "##### Step 3: Remaining Codes"
   ]
  },
  {
   "cell_type": "code",
   "execution_count": null,
   "id": "6ce8ce64",
   "metadata": {},
   "outputs": [],
   "source": [
    "ljt3 = ljt[ljt.code_types==0]"
   ]
  },
  {
   "cell_type": "code",
   "execution_count": null,
   "id": "431aee3b",
   "metadata": {},
   "outputs": [],
   "source": [
    "ljt = pd.concat([ljt3, ljt1, ljt2])"
   ]
  },
  {
   "cell_type": "code",
   "execution_count": null,
   "id": "909eaf58",
   "metadata": {},
   "outputs": [],
   "source": [
    "ljt.shape"
   ]
  },
  {
   "cell_type": "markdown",
   "id": "2161df89",
   "metadata": {},
   "source": [
    "#### Adding abbreviations for Programs and Service Vendors"
   ]
  },
  {
   "cell_type": "code",
   "execution_count": null,
   "id": "770274d0",
   "metadata": {},
   "outputs": [],
   "source": [
    "# creating abbreviations column\n",
    "ljt['Abbreviations'] = ''\n",
    "\n",
    "# recoding abbreviations based on program title\n",
    "ljt.loc[ljt.ProgramTitle == 'Transitional Employment Program (Way to Work)', 'Abbreviations'] = 'TEP'\n",
    "ljt.loc[ljt.ProgramTitle == 'Pre-Apprenticeship Program', 'Abbreviations'] = 'Pre-App'\n",
    "ljt.loc[ljt.ProgramTitle == 'L.E.A.P. (Learn, Earn, Advance, Prosper)', 'Abbreviations'] = 'LEAP'\n",
    "ljt.loc[ljt.ProgramTitle == 'DC Infrastructure Academy', 'Abbreviations'] = 'DCIA'\n",
    "ljt.loc[ljt.ProgramTitle == 'DC Career Connections (DCCC)', 'Abbreviations'] = 'DCCC'\n",
    "ljt.loc[ljt.ProgramTitle == 'Back to Work 50+ DC', 'Abbreviations'] = 'BTW'\n",
    "ljt.loc[ljt.ProgramTitle == 'MPD (Cadet Corps Branch)', 'Abbreviations'] = 'MPD'\n",
    "ljt.loc[ljt.ProgramTitle == 'DC Department of Fire & Emergency Services', 'Abbreviations'] = 'FEMS'"
   ]
  },
  {
   "cell_type": "code",
   "execution_count": null,
   "id": "dbc47626",
   "metadata": {},
   "outputs": [],
   "source": [
    "# creating abbreviations 2 column\n",
    "ljt['Abbreviations2'] = ''\n",
    "\n",
    "ljt.loc[ljt.ServiceProviderName == 'DC Department of Employment Services', 'Abbreviations2'] = 'DOES'\n",
    "# ljt.loc[ljt.ServiceProviderName == '0', 'Abbreviations2'] = '0'\n",
    "ljt.loc[ljt.ServiceProviderName == 'Southeast Veterans Service Center', 'Abbreviations2'] = 'SEVC'\n",
    "ljt.loc[ljt.ServiceProviderName == 'Wheeler Terrace Apartments', 'Abbreviations2'] = 'WTA'\n",
    "ljt.loc[ljt.ServiceProviderName == 'CIH Properties', 'Abbreviations2'] = 'CIH'\n",
    "ljt.loc[ljt.ServiceProviderName == \"Pinkie's E.A.T.S\", 'Abbreviations2'] = 'PE'\n",
    "ljt.loc[ljt.ServiceProviderName == 'Woodland Creek Manor', 'Abbreviations2'] = 'WCM'\n",
    "ljt.loc[ljt.ServiceProviderName == 'Southeast Ministry', 'Abbreviations2'] = 'SEM'\n",
    "ljt.loc[ljt.ServiceProviderName == 'Skyland Workforce Center', 'Abbreviations2'] = 'SWC'\n",
    "ljt.loc[ljt.ServiceProviderName == 'Edgewood Management Corporation | Vantage Management', 'Abbreviations2'] = 'EMCVM'\n",
    "ljt.loc[ljt.ServiceProviderName == 'US Department of Veterans Affairs', 'Abbreviations2'] = 'DVA'\n",
    "ljt.loc[ljt.ServiceProviderName == \"Kirstin's Haven Inc\", 'Abbreviations2'] = 'KHI'\n",
    "ljt.loc[ljt.ServiceProviderName == 'Stanley Foods', 'Abbreviations2'] = 'SF'\n",
    "ljt.loc[ljt.ServiceProviderName == 'Asbury Dwellings Apartments - Edgewood', 'Abbreviations2'] = 'ADAE'\n",
    "ljt.loc[ljt.ServiceProviderName == 'Trinity Plaza', 'Abbreviations2'] = 'TP'\n",
    "ljt.loc[ljt.ServiceProviderName == 'Puddin LLC', 'Abbreviations2'] = 'PDN'\n",
    "ljt.loc[ljt.ServiceProviderName == 'Robinsons, LLC', 'Abbreviations2'] = 'RBSN'\n",
    "ljt.loc[ljt.ServiceProviderName == '2321 4th Street NE, LLC', 'Abbreviations2'] = '4ST'\n",
    "ljt.loc[ljt.ServiceProviderName == 'Bread for the City - Southeast Center', 'Abbreviations2'] = 'BCSC'\n",
    "ljt.loc[ljt.ServiceProviderName == 'Capitol Park Plaza Apartments', 'Abbreviations2'] = 'CPPA'\n",
    "ljt.loc[ljt.ServiceProviderName == 'Worthington Woods Apartments (Residential One)', 'Abbreviations2'] = 'WWA'\n",
    "ljt.loc[ljt.ServiceProviderName == 'VOW Transportation, LLC', 'Abbreviations2'] = 'VOW'\n",
    "ljt.loc[ljt.ServiceProviderName == 'Career Path DC', 'Abbreviations2'] = 'CPDC'\n",
    "ljt.loc[ljt.ServiceProviderName == 'Friendship Court Apartments', 'Abbreviations2'] = 'FCA'\n",
    "ljt.loc[ljt.ServiceProviderName == 'Carver Terrace, LP', 'Abbreviations2'] = 'CTLP'\n",
    "ljt.loc[ljt.ServiceProviderName == 'W Street Apartments', 'Abbreviations2'] = 'WSA'\n",
    "ljt.loc[ljt.ServiceProviderName == 'Tastemakers', 'Abbreviations2'] = 'TSMK'\n",
    "ljt.loc[ljt.ServiceProviderName == 'Residential One, LLC', 'Abbreviations2'] = 'RO'\n",
    "ljt.loc[ljt.ServiceProviderName == 'Huntwood Courts', 'Abbreviations2'] = 'HC'\n",
    "ljt.loc[ljt.ServiceProviderName == 'DC Department of Housing & Community Development', 'Abbreviations2'] = 'HCD'\n",
    "ljt.loc[ljt.ServiceProviderName == 'Nannie Helen Apartments', 'Abbreviations2'] = 'NHA'\n",
    "ljt.loc[ljt.ServiceProviderName == 'Metropolitan Community Church of Washington DC', 'Abbreviations2'] = 'MCCW'\n",
    "ljt.loc[ljt.ServiceProviderName == 'Child and Family Services', 'Abbreviations2'] = 'CFS'\n",
    "ljt.loc[ljt.ServiceProviderName == 'Medstar-Washington Hospital Center', 'Abbreviations2'] = 'MWHC'\n",
    "ljt.loc[ljt.ServiceProviderName == 'Cascade Apartments', 'Abbreviations2'] = 'CA'\n",
    "ljt.loc[ljt.ServiceProviderName == 'Trusted Solutions Group', 'Abbreviations2'] = 'TSG'\n",
    "ljt.loc[ljt.ServiceProviderName == 'Brookland Manor Community Center', 'Abbreviations2'] = 'BMCC'\n",
    "ljt.loc[ljt.ServiceProviderName == 'Lynn Property - 28th Street', 'Abbreviations2'] = 'LPS'\n",
    "ljt.loc[ljt.ServiceProviderName == 'MAYFAIR MANSIONS APARTMENTS', 'Abbreviations2'] = 'MMA'\n",
    "ljt.loc[ljt.ServiceProviderName == 'KRA Corporation-DC', 'Abbreviations2'] = 'KRA'\n",
    "ljt.loc[ljt.ServiceProviderName == 'Mayors Office Of Latino Affairs', 'Abbreviations2'] = 'MOLA'\n",
    "ljt.loc[ljt.ServiceProviderName == 'Faria Management - Rhode Island Ave.', 'Abbreviations2'] = 'FMRA'\n",
    "ljt.loc[ljt.ServiceProviderName == 'Capital Service Management', 'Abbreviations2'] = 'CSM'\n",
    "ljt.loc[ljt.ServiceProviderName == 'University of District of Columbia', 'Abbreviations2'] = 'UDC'\n",
    "ljt.loc[ljt.ServiceProviderName == \"Agape Woodland Tiger Children's Academy\", 'Abbreviations2'] = 'AWTA'\n",
    "ljt.loc[ljt.ServiceProviderName == 'Severna on K Street', 'Abbreviations2'] = 'SKS'\n",
    "ljt.loc[ljt.ServiceProviderName == 'Congress Heights Community Training & Development (WEX)', 'Abbreviations2'] = 'CHTD'\n",
    "ljt.loc[ljt.ServiceProviderName == 'Anacostia High School', 'Abbreviations2'] = 'AHS'\n",
    "ljt.loc[ljt.ServiceProviderName == 'Capital Area Food Bank (WEX)', 'Abbreviations2'] = 'CAFB'\n",
    "ljt.loc[ljt.ServiceProviderName == \"Momma' Safe Haven\", 'Abbreviations2'] = 'MSH'\n",
    "ljt.loc[ljt.ServiceProviderName == 'King Towers Apartments', 'Abbreviations2'] = 'KTA'\n",
    "ljt.loc[ljt.ServiceProviderName == 'Madison Courts Apartments', 'Abbreviations2'] = 'MCA'\n",
    "ljt.loc[ljt.ServiceProviderName == 'Berliner Specialty Distributors', 'Abbreviations2'] = 'BSD'\n",
    "ljt.loc[ljt.ServiceProviderName == 'Loving Care Day Nursery', 'Abbreviations2'] = 'LCDN'\n",
    "ljt.loc[ljt.ServiceProviderName == 'Community Forklift', 'Abbreviations2'] = 'CF'\n",
    "ljt.loc[ljt.ServiceProviderName == 'Alpha Omega Properties (WEX)', 'Abbreviations2'] = 'AOP'\n",
    "ljt.loc[ljt.ServiceProviderName == 'Belmont Crossing Apartments', 'Abbreviations2'] = 'BCA'\n",
    "ljt.loc[ljt.ServiceProviderName == 'Total Office Products', 'Abbreviations2'] = 'TOP'\n",
    "ljt.loc[ljt.ServiceProviderName == 'Park 7 Apartments', 'Abbreviations2'] = 'PA'\n",
    "ljt.loc[ljt.ServiceProviderName == \"AL's Twin Air LLC\", 'Abbreviations2'] = 'ATAL'\n",
    "ljt.loc[ljt.ServiceProviderName == 'Foster House Apartments', 'Abbreviations2'] = 'FHA'\n",
    "ljt.loc[ljt.ServiceProviderName == 'Southern Homes and Gardens Cooperative', 'Abbreviations2'] = 'SHGC'\n",
    "ljt.loc[ljt.ServiceProviderName == 'DowntownDC Business Improvement District (BID)', 'Abbreviations2'] = 'BID'\n",
    "ljt.loc[ljt.ServiceProviderName == 'Hyatts Place DC National Mall', 'Abbreviations2'] = 'HPNM'\n",
    "ljt.loc[ljt.ServiceProviderName == 'Lawyers Committee for Civil Rights under Law', 'Abbreviations2'] = 'LCCR'\n",
    "ljt.loc[ljt.ServiceProviderName == 'Thee TraRon Center', 'Abbreviations2'] = 'TTC'\n",
    "ljt.loc[ljt.ServiceProviderName == 'First Baptist Senior Center', 'Abbreviations2'] = 'FBSC'\n",
    "ljt.loc[ljt.ServiceProviderName == 'Arbor View Apartments', 'Abbreviations2'] = 'AVA'\n",
    "ljt.loc[ljt.ServiceProviderName == 'Department of Public Works', 'Abbreviations2'] = 'DPW'\n",
    "ljt.loc[ljt.ServiceProviderName == 'Penn Mar Apartments-Residential 1', 'Abbreviations2'] = 'PMA'\n",
    "ljt.loc[ljt.ServiceProviderName == 'Benning Park Apartments (WEX)', 'Abbreviations2'] = 'BPA'\n",
    "ljt.loc[ljt.ServiceProviderName == 'The Village Cafe', 'Abbreviations2'] = 'TVC'\n",
    "ljt.loc[ljt.ServiceProviderName == 'Brightwood - Concord Apartments', 'Abbreviations2'] = 'BRCA'\n",
    "ljt.loc[ljt.ServiceProviderName == 'Therapeutic Sessions', 'Abbreviations2'] = 'TS'\n",
    "ljt.loc[ljt.ServiceProviderName == 'Omni Excavators Inc', 'Abbreviations2'] = 'OEI'\n",
    "ljt.loc[ljt.ServiceProviderName == 'Highland Ridge Leasing', 'Abbreviations2'] = 'HRL'\n",
    "ljt.loc[ljt.ServiceProviderName == \"Chad O'L Public Relations & Events, LLC\", 'Abbreviations2'] = 'COPR'\n",
    "ljt.loc[ljt.ServiceProviderName == 'New Bethel Baptist Church', 'Abbreviations2'] = 'NBBC'\n",
    "ljt.loc[ljt.ServiceProviderName == 'Sharcon Management', 'Abbreviations2'] = 'SM'\n",
    "ljt.loc[ljt.ServiceProviderName == 'Washington Hospital Center', 'Abbreviations2'] = 'WHC'\n",
    "ljt.loc[ljt.ServiceProviderName == 'Department of Energy and Environment', 'Abbreviations2'] = 'DEE'\n",
    "ljt.loc[ljt.ServiceProviderName == 'House of Lebanon (Columbus Properties)', 'Abbreviations2'] = 'HLCP'\n",
    "ljt.loc[ljt.ServiceProviderName == 'Department of Employment Services', 'Abbreviations2'] = 'DOES'\n",
    "ljt.loc[ljt.ServiceProviderName == 'Boys and Girls Club - The ARC', 'Abbreviations2'] = 'BGC'\n",
    "ljt.loc[ljt.ServiceProviderName == 'Fresh Food Factory Market', 'Abbreviations2'] = 'FFFM'\n",
    "ljt.loc[ljt.ServiceProviderName == 'DC Office of Veteran Affairs', 'Abbreviations2'] = 'OVA'\n",
    "ljt.loc[ljt.ServiceProviderName == 'Dc City Smokehouse', 'Abbreviations2'] = 'DCCS'\n",
    "ljt.loc[ljt.ServiceProviderName == 'WDC Solar, Inc.', 'Abbreviations2'] = 'WDC'\n",
    "ljt.loc[ljt.ServiceProviderName == 'Interns4Hire', 'Abbreviations2'] = 'I4H'\n",
    "ljt.loc[ljt.ServiceProviderName == 'DC Department of General Services', 'Abbreviations2'] = 'DGS'\n",
    "ljt.loc[ljt.ServiceProviderName == 'Glendale Plaza', 'Abbreviations2'] = 'GP'\n",
    "ljt.loc[ljt.ServiceProviderName == 'Washington Parks and People', 'Abbreviations2'] = 'PAP'\n",
    "ljt.loc[ljt.ServiceProviderName == 'United Planning Organization (UPO)', 'Abbreviations2'] = 'UPO'\n",
    "ljt.loc[ljt.ServiceProviderName == 'Health Resources Services - Intake Center', 'Abbreviations2'] = 'HRS'\n",
    "ljt.loc[ljt.ServiceProviderName == 'Shining Star Early Learning Center', 'Abbreviations2'] = 'SSEL'\n",
    "ljt.loc[ljt.ServiceProviderName == 'US Department Veterans Affairs', 'Abbreviations2'] = 'DVA'\n",
    "ljt.loc[ljt.ServiceProviderName == 'One Care DC', 'Abbreviations2'] = 'OCDC'\n",
    "ljt.loc[ljt.ServiceProviderName == 'DC Re-Engagement Center', 'Abbreviations2'] = 'REC'\n",
    "ljt.loc[ljt.ServiceProviderName == 'DC Central Kitchen 2 (WEX)', 'Abbreviations2'] = 'DCC2'\n",
    "ljt.loc[ljt.ServiceProviderName == 'Anchor Mental Health of Catholic Charities', 'Abbreviations2'] = 'AMH'\n",
    "ljt.loc[ljt.ServiceProviderName == 'Homes for hopes', 'Abbreviations2'] = 'HFH'\n",
    "ljt.loc[ljt.ServiceProviderName == 'Excel Automotive Institute', 'Abbreviations2'] = 'EAI'\n",
    "ljt.loc[ljt.ServiceProviderName == 'Veterans Affairs Medical Center (VA Hospital)', 'Abbreviations2'] = 'VAH'\n",
    "ljt.loc[ljt.ServiceProviderName == 'Office of Returning Citizens', 'Abbreviations2'] = 'ORC'\n",
    "ljt.loc[ljt.ServiceProviderName == 'National Service Contractors Inc', 'Abbreviations2'] = 'NSI'\n",
    "ljt.loc[ljt.ServiceProviderName == 'DC City Council', 'Abbreviations2'] = 'DCCC'\n",
    "ljt.loc[ljt.ServiceProviderName == 'Dudley Beauty College', 'Abbreviations2'] = 'DBC'\n",
    "ljt.loc[ljt.ServiceProviderName == 'Atlantic Terrace Apartments', 'Abbreviations2'] = 'ATA'\n",
    "ljt.loc[ljt.ServiceProviderName == 'Plum Good', 'Abbreviations2'] = 'PG'\n",
    "ljt.loc[ljt.ServiceProviderName == 'DC L.E.A.P. Academy', 'Abbreviations2'] = 'LEAP'\n",
    "ljt.loc[ljt.ServiceProviderName == 'Art and Soul Solutions, Inc.', 'Abbreviations2'] = 'ASSI'\n",
    "ljt.loc[ljt.ServiceProviderName == 'Mount Carmel Baptist Church', 'Abbreviations2'] = 'MCBC'\n",
    "ljt.loc[ljt.ServiceProviderName == 'The Village Evergreen', 'Abbreviations2'] = 'TVE'\n",
    "ljt.loc[ljt.ServiceProviderName == 'LPJ Legal PLLC', 'Abbreviations2'] = 'LPJ'\n",
    "ljt.loc[ljt.ServiceProviderName == 'DC Doors, Inc.', 'Abbreviations2'] = 'DCDI'\n",
    "ljt.loc[ljt.ServiceProviderName == 'Sustainable Facilities Management Services', 'Abbreviations2'] = 'SFMS'\n",
    "ljt.loc[ljt.ServiceProviderName == 'Nursing Assistant Academy', 'Abbreviations2'] = 'NAA'\n",
    "ljt.loc[ljt.ServiceProviderName == 'Voices for a Second Chance', 'Abbreviations2'] = 'VSC'\n",
    "ljt.loc[ljt.ServiceProviderName == 'Early Stages', 'Abbreviations2'] = 'ES'\n",
    "ljt.loc[ljt.ServiceProviderName == 'Hyatt Place', 'Abbreviations2'] = 'HP'\n",
    "ljt.loc[ljt.ServiceProviderName == 'Maya Angelou School-See Forever Foundation', 'Abbreviations2'] = 'MASF'\n",
    "ljt.loc[ljt.ServiceProviderName == 'May Lightfoot', 'Abbreviations2'] = 'ML'\n",
    "ljt.loc[ljt.ServiceProviderName == 'Office of the Chief Technology Office', 'Abbreviations2'] = 'OCTO'\n",
    "ljt.loc[ljt.ServiceProviderName == 'Residence Inn Arlington Capital View', 'Abbreviations2'] = 'RIA'\n",
    "ljt.loc[ljt.ServiceProviderName == 'Promoting Love and Wisdom', 'Abbreviations2'] = 'POW'\n",
    "ljt.loc[ljt.ServiceProviderName == 'The National Children Center', 'Abbreviations2'] = 'NCC'\n",
    "ljt.loc[ljt.ServiceProviderName == 'Equity Management II LLC', 'Abbreviations2'] = 'EM'\n",
    "ljt.loc[ljt.ServiceProviderName == 'CC Prep - MLK', 'Abbreviations2'] = 'CCML'\n",
    "ljt.loc[ljt.ServiceProviderName == '1st CDL Training Center of NOVA', 'Abbreviations2'] = 'CDL'\n",
    "ljt.loc[ljt.ServiceProviderName == 'Georgetown University', 'Abbreviations2'] = 'GU'\n",
    "ljt.loc[ljt.ServiceProviderName == 'So Others Might Eat (SOME)', 'Abbreviations2'] = 'SOME'\n",
    "ljt.loc[ljt.ServiceProviderName == 'Metropolitan Washington Council AFL-CIO', 'Abbreviations2'] = 'AFL'\n",
    "ljt.loc[ljt.ServiceProviderName == 'Washington Literacy Center', 'Abbreviations2'] = 'WLC'\n",
    "ljt.loc[ljt.ServiceProviderName == 'Washington Area New Automobile Dealers Association (WANADA)', 'Abbreviations2'] = 'WANA'\n",
    "ljt.loc[ljt.ServiceProviderName == 'MPD (Cadet Corps Branch)', 'Abbreviations2'] = 'MPD'\n",
    "ljt.loc[ljt.ServiceProviderName == 'University of the District of Columbia (UDC)', 'Abbreviations2'] = 'UDC'\n",
    "ljt.loc[ljt.ServiceProviderName == 'CNI, LLC', 'Abbreviations2'] = 'CNI'\n",
    "ljt.loc[ljt.ServiceProviderName == 'Opportunities Industrialization Center of Washington-OIC/DC', 'Abbreviations2'] = 'OIC'\n",
    "ljt.loc[ljt.ServiceProviderName == 'Pepco Holdings, Inc.', 'Abbreviations2'] = 'PEP'\n",
    "ljt.loc[ljt.ServiceProviderName == 'GRID Alternatives Mid-Atlantic', 'Abbreviations2'] = 'GRID'\n",
    "ljt.loc[ljt.ServiceProviderName == 'Hamel Builders Inc.', 'Abbreviations2'] = 'HBI'\n",
    "ljt.loc[ljt.ServiceProviderName == 'The Training Zone of the DMV', 'Abbreviations2'] = 'TTZ'\n",
    "ljt.loc[ljt.ServiceProviderName == 'DC Department of Fire & Emergency Services', 'Abbreviations2'] = 'FEMS'\n",
    "ljt.loc[ljt.ServiceProviderName == 'Latin American Youth Center-LAYC', 'Abbreviations2'] = 'LAYC'\n",
    "ljt.loc[ljt.ServiceProviderName == 'KBEC Group, Inc.', 'Abbreviations2'] = 'KBEC'\n",
    "ljt.loc[ljt.ServiceProviderName == 'Toni Thomas Associates', 'Abbreviations2'] = 'TTA'\n",
    "ljt.loc[ljt.ServiceProviderName == 'Westlink Career Institute', 'Abbreviations2'] = 'WCI'\n",
    "ljt.loc[ljt.ServiceProviderName == 'Served Academy', 'Abbreviations2'] = 'SA'\n",
    "ljt.loc[ljt.ServiceProviderName == 'Run Hope Work' 'Abbreviations2'] = 'RHW'"
   ]
  },
  {
   "cell_type": "markdown",
   "id": "afb31fe4",
   "metadata": {},
   "source": [
    "## Report 1: Job Readiness Training"
   ]
  },
  {
   "cell_type": "markdown",
   "id": "d6cc7ca8",
   "metadata": {},
   "source": [
    "#### Filter 1: Program (TEP, DCCC, DCIA, BTW 50+)"
   ]
  },
  {
   "cell_type": "code",
   "execution_count": null,
   "id": "498122b5",
   "metadata": {},
   "outputs": [],
   "source": [
    "# filtering to relevant programs\n",
    "jrt = ljt[(ljt.ProgramTitle == 'Transitional Employment Program (Way to Work)') | (ljt.ProgramTitle == 'DC Career Connections (DCCC)') | (ljt.ProgramTitle == 'DC Infrastructure Academy') | (ljt.ProgramTitle == 'Back to Work 50+ DC')]"
   ]
  },
  {
   "cell_type": "markdown",
   "id": "0599ca0d",
   "metadata": {},
   "source": [
    "#### Filter 2: Activity Code (220)"
   ]
  },
  {
   "cell_type": "code",
   "execution_count": null,
   "id": "c7ce776f",
   "metadata": {},
   "outputs": [],
   "source": [
    "# filtering by activity code\n",
    "jrt = jrt[jrt.ServiceCode == '220']"
   ]
  },
  {
   "cell_type": "markdown",
   "id": "05bb66f1",
   "metadata": {},
   "source": [
    "### Report 1.1: Enrollments"
   ]
  },
  {
   "cell_type": "markdown",
   "id": "62f2fa98",
   "metadata": {},
   "source": [
    "#### Filter 3: Start Date"
   ]
  },
  {
   "cell_type": "code",
   "execution_count": null,
   "id": "baabfce1",
   "metadata": {},
   "outputs": [],
   "source": [
    "# filtering by start date\n",
    "jrt_st = jrt[jrt.StartDate == 1]"
   ]
  },
  {
   "cell_type": "code",
   "execution_count": null,
   "id": "8b17856a",
   "metadata": {},
   "outputs": [],
   "source": [
    "# creating enrollments table\n",
    "jrt_1 = jrt_st[['Abbreviations', 'Completion_num']].groupby('Abbreviations').count()\n",
    "jrt_1 = jrt_1.rename(columns = {\"Completion_num\": \"Enrollments\"})\n",
    "jrt_1"
   ]
  },
  {
   "cell_type": "markdown",
   "id": "a056fb24",
   "metadata": {},
   "source": [
    "#### Visualizations 1.1: Enrollments"
   ]
  },
  {
   "cell_type": "code",
   "execution_count": null,
   "id": "2e5737d8",
   "metadata": {},
   "outputs": [],
   "source": [
    "plt.style.use('ggplot')\n",
    "\n",
    "x = jrt_1.index.tolist()\n",
    "\n",
    "x_pos = [i for i, _ in enumerate(x)]\n",
    "\n",
    "plt.bar(x_pos, jrt_1['Enrollments'], color='green')\n",
    "plt.xlabel(\"Program\")\n",
    "plt.ylabel(\"Enrollments\")\n",
    "plt.title(\"Enrollments for Job Readiness Training FY {} {}\".format(year, quarter))\n",
    "\n",
    "plt.xticks(x_pos, x)\n",
    "\n",
    "plt.savefig('graphs/graph1.1_jrt_enr.png', dpi=300, bbox_inches='tight')\n",
    "plt.show()"
   ]
  },
  {
   "cell_type": "markdown",
   "id": "cb121537",
   "metadata": {},
   "source": [
    "### Report 1.2: Completions"
   ]
  },
  {
   "cell_type": "markdown",
   "id": "bdbccb72",
   "metadata": {},
   "source": [
    "#### Filter 4: End Date"
   ]
  },
  {
   "cell_type": "code",
   "execution_count": null,
   "id": "4a4619aa",
   "metadata": {},
   "outputs": [],
   "source": [
    "# filtering by end date\n",
    "jrt_en = jrt[jrt.EndDate == 1]"
   ]
  },
  {
   "cell_type": "code",
   "execution_count": null,
   "id": "ee8e0031",
   "metadata": {},
   "outputs": [],
   "source": [
    "# creating completions table\n",
    "jrt_2 = jrt_en[['Abbreviations', 'Completion_num']].groupby(\"Abbreviations\").agg(['count', 'sum'])\n",
    "jrt_2.columns = jrt_2.columns.get_level_values(1)\n",
    "jrt_2 = jrt_2.rename(columns = {\"count\": \"Total\", \"sum\": \"Completions\"})\n",
    "jrt_2['Completion_Ratio'] = (jrt_2.Completions / jrt_2.Total)*100\n",
    "jrt_2"
   ]
  },
  {
   "cell_type": "markdown",
   "id": "50a8e1e6",
   "metadata": {},
   "source": [
    "#### Visualizations 1.2: Completions"
   ]
  },
  {
   "cell_type": "code",
   "execution_count": null,
   "id": "993fbea1",
   "metadata": {},
   "outputs": [],
   "source": [
    "X = jrt_2.index.tolist()\n",
    "  \n",
    "X_axis = np.arange(len(X))\n",
    "  \n",
    "plt.bar(X_axis - 0.2, jrt_2['Total'], 0.4, label = 'Total')\n",
    "plt.bar(X_axis + 0.2, jrt_2['Completions'], 0.4, label = 'Successful Completions')\n",
    "  \n",
    "plt.xticks(X_axis, X)\n",
    "plt.xlabel(\"Program\")\n",
    "plt.ylabel(\"Total Number of Participants\")\n",
    "plt.title(\"Successful Completions of Job Readiness Training FY {} {}\".format(year, quarter))\n",
    "plt.legend()\n",
    "plt.savefig('graphs/graph1.2_jrt_comp.png', dpi=300, bbox_inches='tight')\n",
    "plt.show()"
   ]
  },
  {
   "cell_type": "markdown",
   "id": "4271195b",
   "metadata": {},
   "source": [
    "#### Visualization 1.3: Completion Rates"
   ]
  },
  {
   "cell_type": "code",
   "execution_count": null,
   "id": "96a77786",
   "metadata": {},
   "outputs": [],
   "source": [
    "plt.style.use('ggplot')\n",
    "\n",
    "x = jrt_2.index.tolist()\n",
    "\n",
    "x_pos = [i for i, _ in enumerate(x)]\n",
    "\n",
    "plt.bar(x_pos, jrt_2['Completion_Ratio'], color='Blue')\n",
    "plt.xlabel(\"Program\")\n",
    "plt.ylabel(\"Successful Completions (%)\")\n",
    "plt.title(\"Successful Completion Rates for Job Readiness Training FY {} {}\".format(year, quarter))\n",
    "\n",
    "plt.xticks(x_pos, x)\n",
    "plt.savefig('graphs/graph1.3_jrt_comp_pct.png', dpi=300, bbox_inches='tight')\n",
    "plt.show()"
   ]
  },
  {
   "cell_type": "markdown",
   "id": "a583105f",
   "metadata": {},
   "source": [
    "## Report 2: Occupational Skills Training"
   ]
  },
  {
   "cell_type": "markdown",
   "id": "6bd0d6a2",
   "metadata": {},
   "source": [
    "#### Filter 1: Program (TEP, DCCC, DCIA, FEMS, MPD, Pre-App)"
   ]
  },
  {
   "cell_type": "code",
   "execution_count": null,
   "id": "c9831a7b",
   "metadata": {},
   "outputs": [],
   "source": [
    "# filtering to relevant programs\n",
    "ost = ljt[(ljt.ProgramTitle == 'Transitional Employment Program (Way to Work)') | (ljt.ProgramTitle == 'DC Career Connections (DCCC)') | (ljt.ProgramTitle == 'DC Infrastructure Academy') | (ljt.ServiceProviderName == 'DC Department of Fire & Emergency Services') | (ljt.ServiceProviderName == 'MPD (Cadet Corps Branch)') | (ljt.ProgramTitle == 'Pre-Apprenticeship Program')]"
   ]
  },
  {
   "cell_type": "markdown",
   "id": "9f7374b0",
   "metadata": {},
   "source": [
    "#### Filter 2: Activity Code (315, 328, 313)"
   ]
  },
  {
   "cell_type": "code",
   "execution_count": null,
   "id": "f570e356",
   "metadata": {},
   "outputs": [],
   "source": [
    "# filtering by activity code\n",
    "ost = ost[(ost.ServiceCode == '315') | (ost.ServiceCode == '328') | (ost.ServiceCode == '333')]"
   ]
  },
  {
   "cell_type": "markdown",
   "id": "a39d7e51",
   "metadata": {},
   "source": [
    "### Report 2.1: Enrollments"
   ]
  },
  {
   "cell_type": "markdown",
   "id": "92eaee29",
   "metadata": {},
   "source": [
    "#### Filter 3: Start Date"
   ]
  },
  {
   "cell_type": "code",
   "execution_count": null,
   "id": "6a30622d",
   "metadata": {},
   "outputs": [],
   "source": [
    "# filtering by start date\n",
    "ost_st = ost[ost.StartDate == 1]"
   ]
  },
  {
   "cell_type": "code",
   "execution_count": null,
   "id": "4a952c24",
   "metadata": {},
   "outputs": [],
   "source": [
    "ljt.head()"
   ]
  },
  {
   "cell_type": "code",
   "execution_count": null,
   "id": "96890208",
   "metadata": {},
   "outputs": [],
   "source": [
    "# creating enrollments table\n",
    "ost_1 = ost_st[['ProgramTitle', 'Abbreviations2', 'Completion_num']].groupby(['ProgramTitle', 'Abbreviations2']).count()\n",
    "ost_1 = ost_1.rename(columns = {\"Completion_num\": \"Enrollments\"})\n",
    "ost_1 = ost_1.reset_index(level='ProgramTitle')\n",
    "ost_1"
   ]
  },
  {
   "cell_type": "markdown",
   "id": "336242d5",
   "metadata": {},
   "source": [
    "#### Visualizations 2.1: Enrollments"
   ]
  },
  {
   "cell_type": "code",
   "execution_count": null,
   "id": "94f73bf9",
   "metadata": {},
   "outputs": [],
   "source": [
    "plt.style.use('ggplot')\n",
    "\n",
    "x = ost_1[ost_1.ProgramTitle == 'DC Career Connections (DCCC)'].index.tolist()\n",
    "\n",
    "x_pos = [i for i, _ in enumerate(x)]\n",
    "\n",
    "plt.bar(x_pos, ost_1[ost_1.ProgramTitle == 'DC Career Connections (DCCC)']['Enrollments'], color='green')\n",
    "plt.xlabel(\"Vendor\")\n",
    "plt.ylabel(\"Enrollments\")\n",
    "plt.title(\"Enrollments for DCCC Occupational Skills Training FY {} {}\".format(year, quarter))\n",
    "\n",
    "plt.xticks(x_pos, x)\n",
    "plt.savefig('graphs/graph2.1_ost_dccc_enr.png', dpi=300, bbox_inches='tight')\n",
    "plt.show()"
   ]
  },
  {
   "cell_type": "code",
   "execution_count": null,
   "id": "47a92725",
   "metadata": {},
   "outputs": [],
   "source": [
    "plt.style.use('ggplot')\n",
    "\n",
    "x = ost_1[ost_1.ProgramTitle == 'DC Department of Fire & Emergency Services'].index.tolist()\n",
    "\n",
    "x_pos = [i for i, _ in enumerate(x)]\n",
    "\n",
    "plt.bar(x_pos, ost_1[ost_1.ProgramTitle == 'DC Department of Fire & Emergency Services']['Enrollments'], color='green')\n",
    "plt.xlabel(\"Vendor\")\n",
    "plt.ylabel(\"Enrollments\")\n",
    "plt.title(\"Enrollments for FEMS Occupational Skills Training FY {} {}\".format(year, quarter))\n",
    "\n",
    "plt.xticks(x_pos, x)\n",
    "plt.savefig('graphs/graph2.1_ost_fems_enr.png', dpi=300, bbox_inches='tight')\n",
    "plt.show()"
   ]
  },
  {
   "cell_type": "code",
   "execution_count": null,
   "id": "fe7a0324",
   "metadata": {},
   "outputs": [],
   "source": [
    "plt.style.use('ggplot')\n",
    "\n",
    "x = ost_1[ost_1.ProgramTitle == 'DC Infrastructure Academy'].index.tolist()\n",
    "\n",
    "x_pos = [i for i, _ in enumerate(x)]\n",
    "\n",
    "plt.bar(x_pos, ost_1[ost_1.ProgramTitle == 'DC Infrastructure Academy']['Enrollments'], color='green')\n",
    "plt.xlabel(\"Vendor\")\n",
    "plt.ylabel(\"Enrollments\")\n",
    "plt.title(\"Enrollments for DCIA Occupational Skills Training FY {} {}\".format(year, quarter))\n",
    "\n",
    "plt.xticks(x_pos, x)\n",
    "plt.savefig('graphs/graph2.1_ost_dcia_enr.png', dpi=300, bbox_inches='tight')\n",
    "plt.show()"
   ]
  },
  {
   "cell_type": "code",
   "execution_count": null,
   "id": "fad610b9",
   "metadata": {},
   "outputs": [],
   "source": [
    "plt.style.use('ggplot')\n",
    "\n",
    "x = ost_1[ost_1.ProgramTitle == 'MPD (Cadet Corps Branch)'].index.tolist()\n",
    "\n",
    "x_pos = [i for i, _ in enumerate(x)]\n",
    "\n",
    "plt.bar(x_pos, ost_1[ost_1.ProgramTitle == 'MPD (Cadet Corps Branch)']['Enrollments'], color='green')\n",
    "plt.xlabel(\"Vendor\")\n",
    "plt.ylabel(\"Enrollments\")\n",
    "plt.title(\"Enrollments for MPD Occupational Skills Training FY {} {}\".format(year, quarter))\n",
    "\n",
    "plt.xticks(x_pos, x)\n",
    "plt.savefig('graphs/graph2.1_ost_mpd_enr.png', dpi=300, bbox_inches='tight')\n",
    "plt.show()"
   ]
  },
  {
   "cell_type": "code",
   "execution_count": null,
   "id": "3689003e",
   "metadata": {},
   "outputs": [],
   "source": [
    "plt.style.use('ggplot')\n",
    "\n",
    "x = ost_1[ost_1.ProgramTitle == 'Pre-Apprenticeship Program'].index.tolist()\n",
    "\n",
    "x_pos = [i for i, _ in enumerate(x)]\n",
    "\n",
    "plt.bar(x_pos, ost_1[ost_1.ProgramTitle == 'Pre-Apprenticeship Program']['Enrollments'], color='green')\n",
    "plt.xlabel(\"Vendor\")\n",
    "plt.ylabel(\"Enrollments\")\n",
    "plt.title(\"Enrollments for Pre-App Occupational Skills Training FY {} {}\".format(year, quarter))\n",
    "\n",
    "plt.xticks(x_pos, x)\n",
    "plt.savefig('graphs/graph2.1_ost_pre_app_enr.png', dpi=300, bbox_inches='tight')\n",
    "plt.show()"
   ]
  },
  {
   "cell_type": "code",
   "execution_count": null,
   "id": "fd184c00",
   "metadata": {},
   "outputs": [],
   "source": [
    "plt.style.use('ggplot')\n",
    "\n",
    "x = ost_1[ost_1.ProgramTitle == 'Transitional Employment Program (Way to Work)'].index.tolist()\n",
    "\n",
    "x_pos = [i for i, _ in enumerate(x)]\n",
    "\n",
    "plt.bar(x_pos, ost_1[ost_1.ProgramTitle == 'Transitional Employment Program (Way to Work)']['Enrollments'], color='green')\n",
    "plt.xlabel(\"Vendor\")\n",
    "plt.ylabel(\"Enrollments\")\n",
    "plt.title(\"Enrollments for TEP Occupational Skills Training FY {} {}\".format(year, quarter))\n",
    "\n",
    "plt.xticks(x_pos, x)\n",
    "plt.savefig('graphs/graph2.1_ost_tep_enr.png', dpi=300, bbox_inches='tight')\n",
    "plt.show()"
   ]
  },
  {
   "cell_type": "markdown",
   "id": "f73b31cd",
   "metadata": {},
   "source": [
    "### Report 2.2: Completions"
   ]
  },
  {
   "cell_type": "code",
   "execution_count": null,
   "id": "19b62a5d",
   "metadata": {},
   "outputs": [],
   "source": [
    "# filtering by end date\n",
    "ost_en = ost[ost.EndDate == 1]"
   ]
  },
  {
   "cell_type": "code",
   "execution_count": null,
   "id": "7edb6130",
   "metadata": {},
   "outputs": [],
   "source": [
    "# creating completions table\n",
    "ost_2 = ost_en[['ProgramTitle', 'Abbreviations2', 'Completion_num']].groupby([\"ProgramTitle\", \"Abbreviations2\"]).agg(['count', 'sum'])\n",
    "ost_2.columns = ost_2.columns.get_level_values(1)\n",
    "ost_2 = ost_2.rename(columns = {\"count\": \"Total\", \"sum\": \"Completions\"})\n",
    "ost_2['Completion_Ratio'] = (ost_2.Completions / ost_2.Total)*100\n",
    "ost_2 = ost_2.reset_index(level='ProgramTitle')\n",
    "ost_2"
   ]
  },
  {
   "cell_type": "markdown",
   "id": "6819eaf1",
   "metadata": {},
   "source": [
    "#### Visualizations 2.2: Completions"
   ]
  },
  {
   "cell_type": "code",
   "execution_count": null,
   "id": "ab73dba3",
   "metadata": {},
   "outputs": [],
   "source": [
    "X = ost_2[ost_2.ProgramTitle == 'DC Career Connections (DCCC)'].index.tolist()\n",
    "  \n",
    "X_axis = np.arange(len(X))\n",
    "  \n",
    "plt.bar(X_axis - 0.2, ost_2[ost_2.ProgramTitle == 'DC Career Connections (DCCC)']['Total'], 0.4, label = 'Total')\n",
    "plt.bar(X_axis + 0.2, ost_2[ost_2.ProgramTitle == 'DC Career Connections (DCCC)']['Completions'], 0.4, label = 'Successful Completions')\n",
    "  \n",
    "plt.xticks(X_axis, X)\n",
    "plt.xlabel(\"Program\")\n",
    "plt.ylabel(\"Total Number of Participants\")\n",
    "plt.title(\"Successful Completions of DCCC Occupational Skills Training FY {} {}\".format(year, quarter))\n",
    "plt.legend()\n",
    "plt.savefig('graphs/graph2.2_ost_dccc_comp.png', dpi=300, bbox_inches='tight')\n",
    "plt.show()"
   ]
  },
  {
   "cell_type": "code",
   "execution_count": null,
   "id": "3d66a8e1",
   "metadata": {},
   "outputs": [],
   "source": [
    "X = ost_2[ost_2.ProgramTitle == 'DC Department of Fire & Emergency Services'].index.tolist()\n",
    "  \n",
    "X_axis = np.arange(len(X))\n",
    "  \n",
    "plt.bar(X_axis - 0.2, ost_2[ost_2.ProgramTitle == 'DC Department of Fire & Emergency Services']['Total'], 0.4, label = 'Total')\n",
    "plt.bar(X_axis + 0.2, ost_2[ost_2.ProgramTitle == 'DC Department of Fire & Emergency Services']['Completions'], 0.4, label = 'Successful Completions')\n",
    "  \n",
    "plt.xticks(X_axis, X)\n",
    "plt.xlabel(\"Program\")\n",
    "plt.ylabel(\"Total Number of Participants\")\n",
    "plt.title(\"Successful Completions of FEMS Occupational Skills Training FY {} {}\".format(year, quarter))\n",
    "plt.legend()\n",
    "plt.savefig('graphs/graph2.2_ost_fems_comp.png', dpi=300, bbox_inches='tight')\n",
    "plt.show()"
   ]
  },
  {
   "cell_type": "code",
   "execution_count": null,
   "id": "70253bb0",
   "metadata": {
    "scrolled": true
   },
   "outputs": [],
   "source": [
    "X = ost_2[ost_2.ProgramTitle == 'DC Infrastructure Academy'].index.tolist()\n",
    "  \n",
    "X_axis = np.arange(len(X))\n",
    "  \n",
    "plt.bar(X_axis - 0.2, ost_2[ost_2.ProgramTitle == 'DC Infrastructure Academy']['Total'], 0.4, label = 'Total')\n",
    "plt.bar(X_axis + 0.2, ost_2[ost_2.ProgramTitle == 'DC Infrastructure Academy']['Completions'], 0.4, label = 'Successful Completions')\n",
    "  \n",
    "plt.xticks(X_axis, X)\n",
    "plt.xlabel(\"Program\")\n",
    "plt.ylabel(\"Total Number of Participants\")\n",
    "plt.title(\"Successful Completions of DCIA Occupational Skills Training FY {} {}\".format(year, quarter))\n",
    "plt.legend()\n",
    "plt.savefig('graphs/graph2.2_ost_dcia_comp.png', dpi=300, bbox_inches='tight')\n",
    "plt.show()"
   ]
  },
  {
   "cell_type": "code",
   "execution_count": null,
   "id": "bb27dd64",
   "metadata": {},
   "outputs": [],
   "source": [
    "X = ost_2[ost_2.ProgramTitle == 'MPD (Cadet Corps Branch)'].index.tolist()\n",
    "  \n",
    "X_axis = np.arange(len(X))\n",
    "  \n",
    "plt.bar(X_axis - 0.2, ost_2[ost_2.ProgramTitle == 'MPD (Cadet Corps Branch)']['Total'], 0.4, label = 'Total')\n",
    "plt.bar(X_axis + 0.2, ost_2[ost_2.ProgramTitle == 'MPD (Cadet Corps Branch)']['Completions'], 0.4, label = 'Successful Completions')\n",
    "  \n",
    "plt.xticks(X_axis, X)\n",
    "plt.xlabel(\"Program\")\n",
    "plt.ylabel(\"Total Number of Participants\")\n",
    "plt.title(\"Successful Completions of MPD Occupational Skills Training FY {} {}\".format(year, quarter))\n",
    "plt.legend()\n",
    "plt.savefig('graphs/graph2.2_ost_mpd_comp.png', dpi=300, bbox_inches='tight')\n",
    "plt.show()"
   ]
  },
  {
   "cell_type": "code",
   "execution_count": null,
   "id": "6a86615a",
   "metadata": {},
   "outputs": [],
   "source": [
    "X = ost_2[ost_2.ProgramTitle == 'Pre-Apprenticeship Program'].index.tolist()\n",
    "  \n",
    "X_axis = np.arange(len(X))\n",
    "  \n",
    "plt.bar(X_axis - 0.2, ost_2[ost_2.ProgramTitle == 'Pre-Apprenticeship Program']['Total'], 0.4, label = 'Total')\n",
    "plt.bar(X_axis + 0.2, ost_2[ost_2.ProgramTitle == 'Pre-Apprenticeship Program']['Completions'], 0.4, label = 'Successful Completions')\n",
    "  \n",
    "plt.xticks(X_axis, X)\n",
    "plt.xlabel(\"Program\")\n",
    "plt.ylabel(\"Total Number of Participants\")\n",
    "plt.title(\"Successful Completions of Pre-App Occupational Skills Training FY {} {}\".format(year, quarter))\n",
    "plt.legend()\n",
    "plt.savefig('graphs/graph2.2_ost_pre_app_comp.png', dpi=300, bbox_inches='tight')\n",
    "plt.show()"
   ]
  },
  {
   "cell_type": "code",
   "execution_count": null,
   "id": "263b79fe",
   "metadata": {},
   "outputs": [],
   "source": [
    "X = ost_2[ost_2.ProgramTitle == 'Transitional Employment Program (Way to Work)'].index.tolist()\n",
    "  \n",
    "X_axis = np.arange(len(X))\n",
    "  \n",
    "plt.bar(X_axis - 0.2, ost_2[ost_2.ProgramTitle == 'Transitional Employment Program (Way to Work)']['Total'], 0.4, label = 'Total')\n",
    "plt.bar(X_axis + 0.2, ost_2[ost_2.ProgramTitle == 'Transitional Employment Program (Way to Work)']['Completions'], 0.4, label = 'Successful Completions')\n",
    "  \n",
    "plt.xticks(X_axis, X)\n",
    "plt.xlabel(\"Program\")\n",
    "plt.ylabel(\"Total Number of Participants\")\n",
    "plt.title(\"Successful Completions of TEP Occupational Skills Training FY {} {}\".format(year, quarter))\n",
    "plt.legend()\n",
    "plt.savefig('graphs/graph2.2_ost_tep_comp.png', dpi=300, bbox_inches='tight')\n",
    "plt.show()"
   ]
  },
  {
   "cell_type": "markdown",
   "id": "cba49271",
   "metadata": {},
   "source": [
    "#### Visualization 2.3: Completion Rates"
   ]
  },
  {
   "cell_type": "code",
   "execution_count": null,
   "id": "1fcfa9c8",
   "metadata": {},
   "outputs": [],
   "source": [
    "plt.style.use('ggplot')\n",
    "\n",
    "x = ost_2[ost_2.ProgramTitle == 'DC Career Connections (DCCC)'].index.tolist()\n",
    "\n",
    "x_pos = [i for i, _ in enumerate(x)]\n",
    "\n",
    "plt.bar(x_pos, ost_2[ost_2.ProgramTitle == 'DC Career Connections (DCCC)']['Completion_Ratio'], color='Blue')\n",
    "plt.xlabel(\"Program\")\n",
    "plt.ylabel(\"Successful Completions (%)\")\n",
    "plt.title(\"Successful Completion Rates for DCCC Occupational Skills Training FY {} {}\".format(year, quarter))\n",
    "\n",
    "plt.xticks(x_pos, x)\n",
    "plt.savefig('graphs/graph2.3_ost_dccc_comp_pct.png', dpi=300, bbox_inches='tight')\n",
    "plt.show()"
   ]
  },
  {
   "cell_type": "code",
   "execution_count": null,
   "id": "37c6c9eb",
   "metadata": {},
   "outputs": [],
   "source": [
    "plt.style.use('ggplot')\n",
    "\n",
    "x = ost_2[ost_2.ProgramTitle == 'DC Department of Fire & Emergency Services'].index.tolist()\n",
    "\n",
    "x_pos = [i for i, _ in enumerate(x)]\n",
    "\n",
    "plt.bar(x_pos, ost_2[ost_2.ProgramTitle == 'DC Department of Fire & Emergency Services']['Completion_Ratio'], color='Blue')\n",
    "plt.xlabel(\"Program\")\n",
    "plt.ylabel(\"Successful Completions (%)\")\n",
    "plt.title(\"Successful Completion Rates for FEMS Occupational Skills Training FY {} {}\".format(year, quarter))\n",
    "\n",
    "plt.xticks(x_pos, x)\n",
    "plt.savefig('graphs/graph2.3_ost_fems_comp_pct.png', dpi=300, bbox_inches='tight')\n",
    "plt.show()"
   ]
  },
  {
   "cell_type": "code",
   "execution_count": null,
   "id": "644111c0",
   "metadata": {
    "scrolled": true
   },
   "outputs": [],
   "source": [
    "plt.style.use('ggplot')\n",
    "\n",
    "x = ost_2[ost_2.ProgramTitle == 'DC Infrastructure Academy'].index.tolist()\n",
    "\n",
    "x_pos = [i for i, _ in enumerate(x)]\n",
    "\n",
    "plt.bar(x_pos, ost_2[ost_2.ProgramTitle == 'DC Infrastructure Academy']['Completion_Ratio'], color='Blue')\n",
    "plt.xlabel(\"Program\")\n",
    "plt.ylabel(\"Successful Completions (%)\")\n",
    "plt.title(\"Successful Completion Rates for DCIA Occupational Skills Training FY {} {}\".format(year, quarter))\n",
    "\n",
    "plt.xticks(x_pos, x)\n",
    "plt.savefig('graphs/graph2.3_ost_dcia_comp_pct.png', dpi=300, bbox_inches='tight')\n",
    "plt.show()"
   ]
  },
  {
   "cell_type": "code",
   "execution_count": null,
   "id": "2359a949",
   "metadata": {},
   "outputs": [],
   "source": [
    "plt.style.use('ggplot')\n",
    "\n",
    "x = ost_2[ost_2.ProgramTitle == 'MPD (Cadet Corps Branch)'].index.tolist()\n",
    "\n",
    "x_pos = [i for i, _ in enumerate(x)]\n",
    "\n",
    "plt.bar(x_pos, ost_2[ost_2.ProgramTitle == 'MPD (Cadet Corps Branch)']['Completion_Ratio'], color='Blue')\n",
    "plt.xlabel(\"Program\")\n",
    "plt.ylabel(\"Successful Completions (%)\")\n",
    "plt.title(\"Successful Completion Rates for MPD Occupational Skills Training FY {} {}\".format(year, quarter))\n",
    "\n",
    "plt.xticks(x_pos, x)\n",
    "plt.savefig('graphs/graph2.3_ost_mpd_comp_pct.png', dpi=300, bbox_inches='tight')\n",
    "plt.show()"
   ]
  },
  {
   "cell_type": "code",
   "execution_count": null,
   "id": "49e91943",
   "metadata": {},
   "outputs": [],
   "source": [
    "plt.style.use('ggplot')\n",
    "\n",
    "x = ost_2[ost_2.ProgramTitle == 'Pre-Apprenticeship Program'].index.tolist()\n",
    "\n",
    "x_pos = [i for i, _ in enumerate(x)]\n",
    "\n",
    "plt.bar(x_pos, ost_2[ost_2.ProgramTitle == 'Pre-Apprenticeship Program']['Completion_Ratio'], color='Blue')\n",
    "plt.xlabel(\"Program\")\n",
    "plt.ylabel(\"Successful Completions (%)\")\n",
    "plt.title(\"Successful Completion Rates for Pre-App Occupational Skills Training FY {} {}\".format(year, quarter))\n",
    "\n",
    "plt.xticks(x_pos, x)\n",
    "plt.savefig('graphs/graph2.3_ost_pre_app_comp_pct.png', dpi=300, bbox_inches='tight')\n",
    "plt.show()"
   ]
  },
  {
   "cell_type": "code",
   "execution_count": null,
   "id": "126b3b8d",
   "metadata": {},
   "outputs": [],
   "source": [
    "plt.style.use('ggplot')\n",
    "\n",
    "x = ost_2[ost_2.ProgramTitle == 'Transitional Employment Program (Way to Work)'].index.tolist()\n",
    "\n",
    "x_pos = [i for i, _ in enumerate(x)]\n",
    "\n",
    "plt.bar(x_pos, ost_2[ost_2.ProgramTitle == 'Transitional Employment Program (Way to Work)']['Completion_Ratio'], color='Blue')\n",
    "plt.xlabel(\"Program\")\n",
    "plt.ylabel(\"Successful Completions (%)\")\n",
    "plt.title(\"Successful Completion Rates for TEP Occupational Skills Training FY {} {}\".format(year, quarter))\n",
    "\n",
    "plt.xticks(x_pos, x)\n",
    "plt.savefig('graphs/graph2.3_ost_tep_comp_pct.png', dpi=300, bbox_inches='tight')\n",
    "plt.show()"
   ]
  },
  {
   "cell_type": "markdown",
   "id": "2eb1a918",
   "metadata": {},
   "source": [
    "## Report 3: GED"
   ]
  },
  {
   "cell_type": "markdown",
   "id": "f59da4ad",
   "metadata": {},
   "source": [
    "#### Filter 1: Program (TEP, DCCC)"
   ]
  },
  {
   "cell_type": "code",
   "execution_count": null,
   "id": "cfb1d2c2",
   "metadata": {},
   "outputs": [],
   "source": [
    "# filtering to relevant programs\n",
    "ged = ljt[(ljt.ProgramTitle == 'Transitional Employment Program (Way to Work)') | (ljt.ProgramTitle == 'DC Career Connections (DCCC)')]"
   ]
  },
  {
   "cell_type": "markdown",
   "id": "8f290b9d",
   "metadata": {},
   "source": [
    "#### Filter 2: Activity Code (214)"
   ]
  },
  {
   "cell_type": "code",
   "execution_count": null,
   "id": "3e0e507d",
   "metadata": {},
   "outputs": [],
   "source": [
    "# filtering by activity code\n",
    "ged = ged[ged.ServiceCode == '315']"
   ]
  },
  {
   "cell_type": "markdown",
   "id": "bab33f00",
   "metadata": {},
   "source": [
    "### Report 3.1: Enrollments"
   ]
  },
  {
   "cell_type": "markdown",
   "id": "fbb1e7b1",
   "metadata": {},
   "source": [
    "#### Filter 3: Start Date"
   ]
  },
  {
   "cell_type": "code",
   "execution_count": null,
   "id": "46ad5e41",
   "metadata": {},
   "outputs": [],
   "source": [
    "# filtering by start date\n",
    "ged_st = ged[ged.StartDate == 1]"
   ]
  },
  {
   "cell_type": "code",
   "execution_count": null,
   "id": "92606093",
   "metadata": {},
   "outputs": [],
   "source": [
    "# creating enrollments table\n",
    "ged_1 = ged_st[['ProgramTitle', 'Completion_num']].groupby('ProgramTitle').count()\n",
    "ged_1 = ged_1.rename(columns = {\"Completion_num\": \"Enrollments\"})\n",
    "ged_1"
   ]
  },
  {
   "cell_type": "markdown",
   "id": "7096f585",
   "metadata": {},
   "source": [
    "#### Visualizations 3.1: Enrollments"
   ]
  },
  {
   "cell_type": "code",
   "execution_count": null,
   "id": "d8086cb8",
   "metadata": {},
   "outputs": [],
   "source": [
    "'''\n",
    "plt.style.use('ggplot')\n",
    "\n",
    "x = ged_1.index.tolist()\n",
    "\n",
    "x_pos = [i for i, _ in enumerate(x)]\n",
    "\n",
    "plt.bar(x_pos, ost_1['Enrollments'], color='green')\n",
    "plt.xlabel(\"Program\")\n",
    "plt.ylabel(\"Enrollments\")\n",
    "plt.title(\"Enrollments for GED FY {} {}\".format(year, quarter))\n",
    "\n",
    "plt.xticks(x_pos, x)\n",
    "plt.savefig('graphs/graph3.1_ged_enr.png', dpi=300, bbox_inches='tight')\n",
    "plt.show()\n",
    "'''"
   ]
  },
  {
   "cell_type": "markdown",
   "id": "13fcabbe",
   "metadata": {},
   "source": [
    "### Report 3.2: Completions"
   ]
  },
  {
   "cell_type": "code",
   "execution_count": null,
   "id": "2205f07a",
   "metadata": {},
   "outputs": [],
   "source": [
    "# filtering by end date\n",
    "ged_en = ged[ged.EndDate == 1]"
   ]
  },
  {
   "cell_type": "code",
   "execution_count": null,
   "id": "7f063ae6",
   "metadata": {},
   "outputs": [],
   "source": [
    "# creating completions table\n",
    "ged_2 = ged_en[['ProgramTitle', 'Completion_num']].groupby(\"ProgramTitle\").agg(['count', 'sum'])\n",
    "ged_2.columns = ged_2.columns.get_level_values(1)\n",
    "ged_2 = ged_2.rename(columns = {\"count\": \"Total\", \"sum\": \"Completions\"})\n",
    "ged_2['Completion_Ratio'] = (ged_2.Completions / ged_2.Total)*100\n",
    "ged_2"
   ]
  },
  {
   "cell_type": "markdown",
   "id": "38a299af",
   "metadata": {},
   "source": [
    "#### Visualizations 3.2: Completions"
   ]
  },
  {
   "cell_type": "code",
   "execution_count": null,
   "id": "0356f8f2",
   "metadata": {},
   "outputs": [],
   "source": [
    "'''\n",
    "X = ged_2.index.tolist()\n",
    "  \n",
    "X_axis = np.arange(len(X))\n",
    "  \n",
    "plt.bar(X_axis - 0.2, ged_2['Total'], 0.4, label = 'Total')\n",
    "plt.bar(X_axis + 0.2, ged_2['Completions'], 0.4, label = 'Successful Completions')\n",
    "  \n",
    "plt.xticks(X_axis, X)\n",
    "plt.xlabel(\"Program\")\n",
    "plt.ylabel(\"Total Number of Participants\")\n",
    "plt.title(\"Successful Completions of GED FY {} {}\".format(year, quarter))\n",
    "plt.legend()\n",
    "plt.savefig('graphs/graph3.2_ged_comp.png', dpi=300, bbox_inches='tight')\n",
    "plt.show()\n",
    "'''"
   ]
  },
  {
   "cell_type": "markdown",
   "id": "7f5801f9",
   "metadata": {},
   "source": [
    "#### Visualization 3.3: Completion Rates"
   ]
  },
  {
   "cell_type": "code",
   "execution_count": null,
   "id": "7fd5c93e",
   "metadata": {},
   "outputs": [],
   "source": [
    "'''\n",
    "plt.style.use('ggplot')\n",
    "\n",
    "x = ged_2.index.tolist()\n",
    "\n",
    "x_pos = [i for i, _ in enumerate(x)]\n",
    "\n",
    "plt.bar(x_pos, ged_2['Completion_Ratio'], color='Blue')\n",
    "plt.xlabel(\"Program\")\n",
    "plt.ylabel(\"Successful Completions (%)\")\n",
    "plt.title(\"Successful Completion Rates for GED FY {} {}\".format(year, quarter))\n",
    "\n",
    "plt.xticks(x_pos, x)\n",
    "plt.savefig('graphs/graph3.3_ged_comp_pct.png', dpi=300, bbox_inches='tight')\n",
    "plt.show()\n",
    "'''"
   ]
  },
  {
   "cell_type": "markdown",
   "id": "11351bb9",
   "metadata": {},
   "source": [
    "## Report 4: Credentials"
   ]
  },
  {
   "cell_type": "markdown",
   "id": "85051eb9",
   "metadata": {},
   "source": [
    "#### Filter 1: Program (TEP, DCCC, DCIA)"
   ]
  },
  {
   "cell_type": "code",
   "execution_count": null,
   "id": "7876484b",
   "metadata": {},
   "outputs": [],
   "source": [
    "# filtering to relevant programs\n",
    "cred = ljt[(ljt.ProgramTitle == 'Transitional Employment Program (Way to Work)') | (ljt.ProgramTitle == 'DC Career Connections (DCCC)') | (ljt.ProgramTitle == 'DC Infrastructure Academy')]"
   ]
  },
  {
   "cell_type": "markdown",
   "id": "30a5f3b6",
   "metadata": {},
   "source": [
    "#### Filter 2: Activity Code (214, 313, 328)"
   ]
  },
  {
   "cell_type": "code",
   "execution_count": null,
   "id": "fd572391",
   "metadata": {},
   "outputs": [],
   "source": [
    "# filtering by activity code\n",
    "cred = cred[(cred.ServiceCode == '214') | (cred.ServiceCode == '313') | (cred.ServiceCode == '328')]"
   ]
  },
  {
   "cell_type": "markdown",
   "id": "354ea0fd",
   "metadata": {},
   "source": [
    "### Report 4.1: Enrollments"
   ]
  },
  {
   "cell_type": "markdown",
   "id": "80daf59c",
   "metadata": {},
   "source": [
    "#### Filter 3: Start Date"
   ]
  },
  {
   "cell_type": "code",
   "execution_count": null,
   "id": "3471f182",
   "metadata": {},
   "outputs": [],
   "source": [
    "# filtering by start date\n",
    "cred_st = cred[cred.StartDate == 1]"
   ]
  },
  {
   "cell_type": "code",
   "execution_count": null,
   "id": "5d8f5fe3",
   "metadata": {},
   "outputs": [],
   "source": [
    "# creating enrollments table\n",
    "cred_1 = cred_st[['Abbreviations', 'Completion_num']].groupby('Abbreviations').count()\n",
    "cred_1 = cred_1.rename(columns = {\"Completion_num\": \"Enrollments\"})\n",
    "cred_1"
   ]
  },
  {
   "cell_type": "markdown",
   "id": "e850ba89",
   "metadata": {},
   "source": [
    "#### Visualizations 4.1: Enrollments"
   ]
  },
  {
   "cell_type": "code",
   "execution_count": null,
   "id": "c3d315ed",
   "metadata": {},
   "outputs": [],
   "source": [
    "plt.style.use('ggplot')\n",
    "\n",
    "x = cred_1.index.tolist()\n",
    "\n",
    "x_pos = [i for i, _ in enumerate(x)]\n",
    "\n",
    "plt.bar(x_pos, cred_1['Enrollments'], color='green')\n",
    "plt.xlabel(\"Program\")\n",
    "plt.ylabel(\"Enrollments\")\n",
    "plt.title(\"Enrollments for Credentials FY {} {}\".format(year, quarter))\n",
    "\n",
    "plt.xticks(x_pos, x)\n",
    "plt.savefig('graphs/graph4.1_cred_enr.png', dpi=300, bbox_inches='tight')\n",
    "plt.show()"
   ]
  },
  {
   "cell_type": "markdown",
   "id": "9d1120c1",
   "metadata": {},
   "source": [
    "### Report 4.2: Completions"
   ]
  },
  {
   "cell_type": "code",
   "execution_count": null,
   "id": "f1bd9524",
   "metadata": {},
   "outputs": [],
   "source": [
    "# filtering by end date\n",
    "cred_en = cred[cred.EndDate == 1]"
   ]
  },
  {
   "cell_type": "code",
   "execution_count": null,
   "id": "b1dc5e19",
   "metadata": {},
   "outputs": [],
   "source": [
    "# creating completions table\n",
    "cred_2 = cred_en[['Abbreviations', 'Completion_num']].groupby(\"Abbreviations\").agg(['count', 'sum'])\n",
    "cred_2.columns = cred_2.columns.get_level_values(1)\n",
    "cred_2 = cred_2.rename(columns = {\"count\": \"Total\", \"sum\": \"Completions\"})\n",
    "cred_2['Completion_Ratio'] = (cred_2.Completions / cred_2.Total)*100\n",
    "cred_2"
   ]
  },
  {
   "cell_type": "markdown",
   "id": "cf6ef9a1",
   "metadata": {},
   "source": [
    "#### Visualizations 4.2: Completions"
   ]
  },
  {
   "cell_type": "code",
   "execution_count": null,
   "id": "60a3ea6e",
   "metadata": {},
   "outputs": [],
   "source": [
    "X = cred_2.index.tolist()\n",
    "  \n",
    "X_axis = np.arange(len(X))\n",
    "  \n",
    "plt.bar(X_axis - 0.2, cred_2['Total'], 0.4, label = 'Total')\n",
    "plt.bar(X_axis + 0.2, cred_2['Completions'], 0.4, label = 'Successful Completions')\n",
    "  \n",
    "plt.xticks(X_axis, X)\n",
    "plt.xlabel(\"Program\")\n",
    "plt.ylabel(\"Total Number of Participants\")\n",
    "plt.title(\"Successful Completions of Credentials FY {} {}\".format(year, quarter))\n",
    "plt.legend()\n",
    "plt.savefig('graphs/graph4.2_cred_comp.png', dpi=300, bbox_inches='tight')\n",
    "plt.show()"
   ]
  },
  {
   "cell_type": "markdown",
   "id": "898335bc",
   "metadata": {},
   "source": [
    "#### Visualization 4.3: Completion Rates"
   ]
  },
  {
   "cell_type": "code",
   "execution_count": null,
   "id": "f75ef870",
   "metadata": {},
   "outputs": [],
   "source": [
    "plt.style.use('ggplot')\n",
    "\n",
    "X_axis = np.arange(len(X))\n",
    "\n",
    "x_pos = [i for i, _ in enumerate(x)]\n",
    "\n",
    "plt.bar(x_pos, cred_2['Completion_Ratio'], color='Blue')\n",
    "plt.xlabel(\"Program\")\n",
    "plt.ylabel(\"Successful Completions (%)\")\n",
    "plt.title(\"Successful Completion Rates for Credentials FY {} {}\".format(year, quarter))\n",
    "\n",
    "plt.xticks(x_pos, x)\n",
    "plt.savefig('graphs/graph4.3_cred_comp_pct.png', dpi=300, bbox_inches='tight')\n",
    "plt.show()"
   ]
  },
  {
   "cell_type": "markdown",
   "id": "5a8d49cb",
   "metadata": {},
   "source": [
    "## Report 5: Subsidized Employment"
   ]
  },
  {
   "cell_type": "markdown",
   "id": "d17ba01e",
   "metadata": {},
   "source": [
    "#### Filter 1: Program (TEP, DCCC)"
   ]
  },
  {
   "cell_type": "code",
   "execution_count": null,
   "id": "e4712221",
   "metadata": {},
   "outputs": [],
   "source": [
    "# filtering to relevant programs\n",
    "sub = ljt[(ljt.ProgramTitle == 'Transitional Employment Program (Way to Work)') | (ljt.ProgramTitle == 'DC Career Connections (DCCC)')]"
   ]
  },
  {
   "cell_type": "markdown",
   "id": "496f24de",
   "metadata": {},
   "source": [
    "#### Filter 2: Activity Code (219)"
   ]
  },
  {
   "cell_type": "code",
   "execution_count": null,
   "id": "f396aa08",
   "metadata": {},
   "outputs": [],
   "source": [
    "# filtering by activity code\n",
    "sub = sub[sub.ServiceCode == '219']"
   ]
  },
  {
   "cell_type": "markdown",
   "id": "9f0ad6c6",
   "metadata": {},
   "source": [
    "### Report 5.1: Enrollments"
   ]
  },
  {
   "cell_type": "markdown",
   "id": "cc5507a7",
   "metadata": {},
   "source": [
    "#### Filter 3: Start Date"
   ]
  },
  {
   "cell_type": "code",
   "execution_count": null,
   "id": "ef920c07",
   "metadata": {},
   "outputs": [],
   "source": [
    "# filtering by start date\n",
    "sub_st = sub[sub.StartDate == 1]"
   ]
  },
  {
   "cell_type": "code",
   "execution_count": null,
   "id": "f9a291fc",
   "metadata": {},
   "outputs": [],
   "source": [
    "# creating enrollments table\n",
    "sub_1 = sub_st[['ProgramTitle', 'StartMonthYear', 'Completion_num']].groupby(['ProgramTitle', 'StartMonthYear']).count()\n",
    "sub_1 = sub_1.rename(columns = {\"Completion_num\": \"Enrollments\"})\n",
    "sub_1 = sub_1.reset_index(level='ProgramTitle')\n",
    "sub_1"
   ]
  },
  {
   "cell_type": "markdown",
   "id": "8816230a",
   "metadata": {},
   "source": [
    "#### Visualizations 5.1: Enrollments"
   ]
  },
  {
   "cell_type": "code",
   "execution_count": null,
   "id": "ee5873cb",
   "metadata": {},
   "outputs": [],
   "source": [
    "plt.style.use('ggplot')\n",
    "\n",
    "x = sub_1[sub_1.ProgramTitle == 'DC Career Connections (DCCC)'].index.tolist()\n",
    "\n",
    "x_pos = [i for i, _ in enumerate(x)]\n",
    "\n",
    "plt.bar(x_pos, sub_1[sub_1.ProgramTitle == 'DC Career Connections (DCCC)']['Enrollments'], color='green')\n",
    "plt.xlabel(\"Program\")\n",
    "plt.ylabel(\"Enrollments\")\n",
    "plt.title(\"Enrollments for DCCC Subsidized Employment FY {} {}\".format(year, quarter))\n",
    "\n",
    "plt.xticks(x_pos, x)\n",
    "plt.savefig('graphs/graph5.1_sub_dccc_enr.png', dpi=300, bbox_inches='tight')\n",
    "plt.show()"
   ]
  },
  {
   "cell_type": "code",
   "execution_count": null,
   "id": "695e05a8",
   "metadata": {},
   "outputs": [],
   "source": [
    "plt.style.use('ggplot')\n",
    "\n",
    "x = sub_1[sub_1.ProgramTitle == 'Transitional Employment Program (Way to Work)'].index.tolist()\n",
    "\n",
    "x_pos = [i for i, _ in enumerate(x)]\n",
    "\n",
    "plt.bar(x_pos, sub_1[sub_1.ProgramTitle == 'Transitional Employment Program (Way to Work)']['Enrollments'], color='green')\n",
    "plt.xlabel(\"Program\")\n",
    "plt.ylabel(\"Enrollments\")\n",
    "plt.title(\"Enrollments for TEP Subsidized Employment FY {} {}\".format(year, quarter))\n",
    "\n",
    "plt.xticks(x_pos, x)\n",
    "plt.savefig('graphs/graph5.1_sub_tep_enr.png', dpi=300, bbox_inches='tight')\n",
    "plt.show()"
   ]
  },
  {
   "cell_type": "markdown",
   "id": "50b86507",
   "metadata": {},
   "source": [
    "### Report 5.2: Completions"
   ]
  },
  {
   "cell_type": "code",
   "execution_count": null,
   "id": "08e4b5e7",
   "metadata": {},
   "outputs": [],
   "source": [
    "# filtering by end date\n",
    "sub_en = sub[sub.EndDate == 1]"
   ]
  },
  {
   "cell_type": "code",
   "execution_count": null,
   "id": "0c64fba1",
   "metadata": {},
   "outputs": [],
   "source": [
    "# creating completions table\n",
    "sub_2 = sub_en[['ProgramTitle', 'StartMonthYear', 'Completion_num']].groupby([\"ProgramTitle\", \"StartMonthYear\"]).agg(['count', 'sum'])\n",
    "sub_2.columns = sub_2.columns.get_level_values(1)\n",
    "sub_2 = sub_2.rename(columns = {\"count\": \"Total\", \"sum\": \"Completions\"})\n",
    "sub_2['Completion_Ratio'] = (sub_2.Completions / sub_2.Total)*100\n",
    "sub_2 = sub_2.reset_index(level='ProgramTitle')\n",
    "sub_2"
   ]
  },
  {
   "cell_type": "markdown",
   "id": "1243df38",
   "metadata": {},
   "source": [
    "#### Visualizations 5.2: Completions"
   ]
  },
  {
   "cell_type": "code",
   "execution_count": null,
   "id": "7bab35ca",
   "metadata": {},
   "outputs": [],
   "source": [
    "X = sub_2[sub_2.ProgramTitle == 'DC Career Connections (DCCC)'].index.tolist()\n",
    "  \n",
    "X_axis = np.arange(len(X))\n",
    "  \n",
    "plt.bar(X_axis - 0.2, sub_2[sub_2.ProgramTitle == 'DC Career Connections (DCCC)']['Total'], 0.4, label = 'Total')\n",
    "plt.bar(X_axis + 0.2, sub_2[sub_2.ProgramTitle == 'DC Career Connections (DCCC)']['Completions'], 0.4, label = 'Successful Completions')\n",
    "  \n",
    "plt.xticks(X_axis, X)\n",
    "plt.xlabel(\"Program\")\n",
    "plt.ylabel(\"Total Number of Participants\")\n",
    "plt.title(\"Successful Completions of DCCC Subsidized Employment FY {} {}\".format(year, quarter))\n",
    "plt.legend()\n",
    "plt.savefig('graphs/graph5.2_sub_dccc_comp.png', dpi=300, bbox_inches='tight')\n",
    "plt.show()"
   ]
  },
  {
   "cell_type": "code",
   "execution_count": null,
   "id": "62d0e21d",
   "metadata": {},
   "outputs": [],
   "source": [
    "X = sub_2[sub_2.ProgramTitle == 'Transitional Employment Program (Way to Work)'].index.tolist()\n",
    "  \n",
    "X_axis = np.arange(len(X))\n",
    "  \n",
    "plt.bar(X_axis - 0.2, sub_2[sub_2.ProgramTitle == 'Transitional Employment Program (Way to Work)']['Total'], 0.4, label = 'Total')\n",
    "plt.bar(X_axis + 0.2, sub_2[sub_2.ProgramTitle == 'Transitional Employment Program (Way to Work)']['Completions'], 0.4, label = 'Successful Completions')\n",
    "  \n",
    "plt.xticks(X_axis, X)\n",
    "plt.xlabel(\"Program\")\n",
    "plt.ylabel(\"Total Number of Participants\")\n",
    "plt.title(\"Successful Completions of TEP Subsidized Employment FY {} {}\".format(year, quarter))\n",
    "plt.legend()\n",
    "plt.savefig('graphs/graph5.2_sub_tep_comp.png', dpi=300, bbox_inches='tight')\n",
    "plt.show()"
   ]
  },
  {
   "cell_type": "markdown",
   "id": "271f860b",
   "metadata": {},
   "source": [
    "#### Visualization 5.3: Completion Rates"
   ]
  },
  {
   "cell_type": "code",
   "execution_count": null,
   "id": "4ecd364a",
   "metadata": {},
   "outputs": [],
   "source": [
    "plt.style.use('ggplot')\n",
    "\n",
    "x = sub_2[sub_2.ProgramTitle == 'DC Career Connections (DCCC)'].index.tolist()\n",
    "\n",
    "x_pos = [i for i, _ in enumerate(x)]\n",
    "\n",
    "plt.bar(x_pos, sub_2[sub_2.ProgramTitle == 'DC Career Connections (DCCC)']['Completion_Ratio'], color='Blue')\n",
    "plt.xlabel(\"Program\")\n",
    "plt.ylabel(\"Successful Completions (%)\")\n",
    "plt.title(\"Successful Completion Rates for DCCC Subsidized Employment FY {} {}\".format(year, quarter))\n",
    "\n",
    "plt.xticks(x_pos, x)\n",
    "plt.savefig('graphs/graph5.3_sub_dccc_comp_pct.png', dpi=300, bbox_inches='tight')\n",
    "plt.show()"
   ]
  },
  {
   "cell_type": "code",
   "execution_count": null,
   "id": "71965855",
   "metadata": {},
   "outputs": [],
   "source": [
    "plt.style.use('ggplot')\n",
    "\n",
    "x = sub_2[sub_2.ProgramTitle == 'Transitional Employment Program (Way to Work)'].index.tolist()\n",
    "\n",
    "x_pos = [i for i, _ in enumerate(x)]\n",
    "\n",
    "plt.bar(x_pos, sub_2[sub_2.ProgramTitle == 'Transitional Employment Program (Way to Work)']['Completion_Ratio'], color='Blue')\n",
    "plt.xlabel(\"Program\")\n",
    "plt.ylabel(\"Successful Completions (%)\")\n",
    "plt.title(\"Successful Completion Rates for TEP Subsidized Employment FY {} {}\".format(year, quarter))\n",
    "\n",
    "plt.xticks(x_pos, x)\n",
    "plt.savefig('graphs/graph5.3_sub_tep_comp_pct.png', dpi=300, bbox_inches='tight')\n",
    "plt.show()"
   ]
  },
  {
   "cell_type": "markdown",
   "id": "d99ffecb",
   "metadata": {},
   "source": [
    "## Report 6: Wages and Retention"
   ]
  },
  {
   "cell_type": "code",
   "execution_count": null,
   "id": "7c4edea9",
   "metadata": {},
   "outputs": [],
   "source": [
    "# reading in data\n",
    "dccc_wage = pd.read_csv('wage_data/DCCCplacementandretentionWages050621.csv')\n",
    "fems_wage = pd.read_csv('wage_data/FEMSplacementandretentionWages050621.csv')\n",
    "leap_wage = pd.read_csv('wage_data/LEAPplacementandretentionWages050621.csv')\n",
    "pre_app_wage = pd.read_csv('wage_data/PreAppplacementandretentionWages050621.csv')\n",
    "tep_wage = pd.read_csv('wage_data/TEPplacementandretentionWages050621.csv')"
   ]
  },
  {
   "cell_type": "code",
   "execution_count": null,
   "id": "9ce47e1b",
   "metadata": {},
   "outputs": [],
   "source": [
    "# combining all wage data\n",
    "wage_data = pd.concat([dccc_wage, fems_wage, leap_wage, pre_app_wage, tep_wage])"
   ]
  },
  {
   "cell_type": "code",
   "execution_count": null,
   "id": "bc921ff4",
   "metadata": {},
   "outputs": [],
   "source": [
    "wage_data = wage_data.fillna(0)"
   ]
  },
  {
   "cell_type": "code",
   "execution_count": null,
   "id": "ecf8fa22",
   "metadata": {},
   "outputs": [],
   "source": [
    "# subsetting\n",
    "wage_data = wage_data[[\"State ID\", \"Program_Name\", \"2020Q1\", \"2020Q2\", \"2020Q3\", \"2020Q4\"]]"
   ]
  },
  {
   "cell_type": "code",
   "execution_count": null,
   "id": "000e05cd",
   "metadata": {},
   "outputs": [],
   "source": [
    "# creating retained column\n",
    "wage_data['Retained'] = 0\n",
    "\n",
    "# recoding retained column\n",
    "wage_data.loc[(wage_data['2020Q1'] != 0) & (wage_data['2020Q2'] != 0), 'Retained'] = 1"
   ]
  },
  {
   "cell_type": "code",
   "execution_count": null,
   "id": "c06ea6eb",
   "metadata": {},
   "outputs": [],
   "source": [
    "# creating completions table\n",
    "wage_data = wage_data[['Program_Name', 'Retained']].groupby(\"Program_Name\").agg(['count', 'sum'])\n",
    "wage_data.columns = wage_data.columns.get_level_values(1)\n",
    "wage_data = wage_data.rename(columns = {\"count\": \"Total_Exits\", \"sum\": \"Retained\"})\n",
    "wage_data['Retained_Ratio'] = (wage_data.Retained / wage_data.Total_Exits)*100\n",
    "wage_data"
   ]
  },
  {
   "cell_type": "markdown",
   "id": "f992d4a9",
   "metadata": {},
   "source": [
    "#### Visualizations 6.1: Retention"
   ]
  },
  {
   "cell_type": "code",
   "execution_count": null,
   "id": "aca67d0d",
   "metadata": {},
   "outputs": [],
   "source": [
    "X = ['FEMS', 'DCCC', 'L.E.A.P.', 'Pre-App', 'TEP']\n",
    "  \n",
    "X_axis = np.arange(len(X))\n",
    "  \n",
    "plt.bar(X_axis - 0.2, wage_data['Total_Exits'], 0.4, label = 'Total Exited')\n",
    "plt.bar(X_axis + 0.2, wage_data['Retained'], 0.4, label = 'Total Retained')\n",
    "  \n",
    "plt.xticks(X_axis, X)\n",
    "plt.xlabel(\"Program\")\n",
    "plt.ylabel(\"Total Number of Participants\")\n",
    "plt.title(\"Obtained and Retained Employment FY {} {}\".format(year, quarter))\n",
    "plt.legend()\n",
    "plt.savefig('graphs/graph6.1_emp_ret.png', dpi=300, bbox_inches='tight')\n",
    "plt.show()"
   ]
  },
  {
   "cell_type": "markdown",
   "id": "10fd1209",
   "metadata": {},
   "source": [
    "#### Visualization 6.2: Retention Rates"
   ]
  },
  {
   "cell_type": "code",
   "execution_count": null,
   "id": "050d6207",
   "metadata": {},
   "outputs": [],
   "source": [
    "plt.style.use('ggplot')\n",
    "\n",
    "x = ['FEMS', 'DCCC', 'L.E.A.P.', 'Pre-App', 'TEP']\n",
    "\n",
    "x_pos = [i for i, _ in enumerate(x)]\n",
    "\n",
    "plt.bar(x_pos, wage_data['Retained_Ratio'], color='Blue')\n",
    "plt.xlabel(\"Program\")\n",
    "plt.ylabel(\"Retentioned Employment (%)\")\n",
    "plt.title(\"Retention Rates for Obtained Employment FY {} {}\".format(year, quarter))\n",
    "\n",
    "plt.xticks(x_pos, x)\n",
    "plt.savefig('graphs/graph6.1_emp_ret_pct.png', dpi=300, bbox_inches='tight')\n",
    "plt.show()"
   ]
  },
  {
   "cell_type": "code",
   "execution_count": null,
   "id": "63f61ac5",
   "metadata": {},
   "outputs": [],
   "source": [
    "# writing out tables\n",
    "with pd.ExcelWriter('output/tables.xlsx') as writer:  \n",
    "    jrt_1.to_excel(writer, sheet_name='jrt_enr')\n",
    "    jrt_2.to_excel(writer, sheet_name='jrt_comp')\n",
    "    ost_1.to_excel(writer, sheet_name='ost_enr')\n",
    "    ost_2.to_excel(writer, sheet_name='ost_comp')\n",
    "    ged_1.to_excel(writer, sheet_name='ged_enr')\n",
    "    ged_2.to_excel(writer, sheet_name='ged_comp')\n",
    "    cred_1.to_excel(writer, sheet_name='cred_enr')\n",
    "    cred_2.to_excel(writer, sheet_name='cred_comp')\n",
    "    sub_1.to_excel(writer, sheet_name='sub_enr')\n",
    "    sub_2.to_excel(writer, sheet_name='sub_comp')\n",
    "    wage_data.to_excel(writer, sheet_name='wage_data')"
   ]
  },
  {
   "cell_type": "code",
   "execution_count": null,
   "id": "6a25107b",
   "metadata": {},
   "outputs": [],
   "source": []
  }
 ],
 "metadata": {
  "kernelspec": {
   "display_name": "Python 3",
   "language": "python",
   "name": "python3"
  },
  "language_info": {
   "codemirror_mode": {
    "name": "ipython",
    "version": 3
   },
   "file_extension": ".py",
   "mimetype": "text/x-python",
   "name": "python",
   "nbconvert_exporter": "python",
   "pygments_lexer": "ipython3",
   "version": "3.8.8"
  }
 },
 "nbformat": 4,
 "nbformat_minor": 5
}
