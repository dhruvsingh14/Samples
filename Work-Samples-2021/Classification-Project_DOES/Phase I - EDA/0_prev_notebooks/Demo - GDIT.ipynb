{
 "cells": [
  {
   "cell_type": "markdown",
   "id": "da1f7719",
   "metadata": {},
   "source": [
    "# Demo - GDIT"
   ]
  },
  {
   "cell_type": "code",
   "execution_count": 1,
   "id": "f3138b89",
   "metadata": {},
   "outputs": [],
   "source": [
    "# libraries\n",
    "import pandas as pd\n",
    "import numpy as np\n",
    "import matplotlib.pyplot as plt\n",
    "import seaborn as sns"
   ]
  },
  {
   "cell_type": "code",
   "execution_count": 2,
   "id": "995ce2a8",
   "metadata": {},
   "outputs": [],
   "source": [
    "# reading in data\n",
    "age = pd.read_csv('readonly/1_age.csv')"
   ]
  },
  {
   "cell_type": "code",
   "execution_count": 3,
   "id": "27ba84bf",
   "metadata": {},
   "outputs": [
    {
     "data": {
      "text/html": [
       "<div>\n",
       "<style scoped>\n",
       "    .dataframe tbody tr th:only-of-type {\n",
       "        vertical-align: middle;\n",
       "    }\n",
       "\n",
       "    .dataframe tbody tr th {\n",
       "        vertical-align: top;\n",
       "    }\n",
       "\n",
       "    .dataframe thead th {\n",
       "        text-align: right;\n",
       "    }\n",
       "</style>\n",
       "<table border=\"1\" class=\"dataframe\">\n",
       "  <thead>\n",
       "    <tr style=\"text-align: right;\">\n",
       "      <th></th>\n",
       "      <th>AGE</th>\n",
       "      <th>0-12</th>\n",
       "      <th>13-14</th>\n",
       "      <th>15-16</th>\n",
       "      <th>17</th>\n",
       "    </tr>\n",
       "  </thead>\n",
       "  <tbody>\n",
       "    <tr>\n",
       "      <th>0</th>\n",
       "      <td>FY2012</td>\n",
       "      <td>11</td>\n",
       "      <td>11</td>\n",
       "      <td>39</td>\n",
       "      <td>38</td>\n",
       "    </tr>\n",
       "    <tr>\n",
       "      <th>1</th>\n",
       "      <td>FY2013</td>\n",
       "      <td>14</td>\n",
       "      <td>13</td>\n",
       "      <td>40</td>\n",
       "      <td>34</td>\n",
       "    </tr>\n",
       "    <tr>\n",
       "      <th>2</th>\n",
       "      <td>FY2014</td>\n",
       "      <td>21</td>\n",
       "      <td>16</td>\n",
       "      <td>36</td>\n",
       "      <td>27</td>\n",
       "    </tr>\n",
       "    <tr>\n",
       "      <th>3</th>\n",
       "      <td>FY2015</td>\n",
       "      <td>17</td>\n",
       "      <td>14</td>\n",
       "      <td>38</td>\n",
       "      <td>30</td>\n",
       "    </tr>\n",
       "    <tr>\n",
       "      <th>4</th>\n",
       "      <td>FY2016</td>\n",
       "      <td>18</td>\n",
       "      <td>14</td>\n",
       "      <td>37</td>\n",
       "      <td>31</td>\n",
       "    </tr>\n",
       "  </tbody>\n",
       "</table>\n",
       "</div>"
      ],
      "text/plain": [
       "      AGE  0-12  13-14  15-16  17\n",
       "0  FY2012    11     11     39  38\n",
       "1  FY2013    14     13     40  34\n",
       "2  FY2014    21     16     36  27\n",
       "3  FY2015    17     14     38  30\n",
       "4  FY2016    18     14     37  31"
      ]
     },
     "execution_count": 3,
     "metadata": {},
     "output_type": "execute_result"
    }
   ],
   "source": [
    "age.head()"
   ]
  },
  {
   "cell_type": "code",
   "execution_count": 4,
   "id": "0989e7db",
   "metadata": {},
   "outputs": [],
   "source": [
    "age = age.set_index('AGE')"
   ]
  },
  {
   "cell_type": "code",
   "execution_count": 5,
   "id": "d204e1fe",
   "metadata": {},
   "outputs": [
    {
     "data": {
      "text/plain": [
       "0-12     int64\n",
       "13-14    int64\n",
       "15-16    int64\n",
       "17       int64\n",
       "dtype: object"
      ]
     },
     "execution_count": 5,
     "metadata": {},
     "output_type": "execute_result"
    }
   ],
   "source": [
    "age.dtypes"
   ]
  },
  {
   "cell_type": "code",
   "execution_count": 6,
   "id": "80012e37",
   "metadata": {},
   "outputs": [
    {
     "data": {
      "text/plain": [
       "Index(['0-12', '13-14', '15-16', '17'], dtype='object')"
      ]
     },
     "execution_count": 6,
     "metadata": {},
     "output_type": "execute_result"
    }
   ],
   "source": [
    "age.columns"
   ]
  },
  {
   "cell_type": "markdown",
   "id": "baf81882",
   "metadata": {},
   "source": [
    "### Viz 1: Age"
   ]
  },
  {
   "cell_type": "code",
   "execution_count": 7,
   "id": "c2b0c245",
   "metadata": {},
   "outputs": [
    {
     "data": {
      "image/png": "[encoded data removed]",
      "text/plain": [
       "<Figure size 432x288 with 1 Axes>"
      ]
     },
     "metadata": {
      "needs_background": "light"
     },
     "output_type": "display_data"
    }
   ],
   "source": [
    "fig, ax = plt.subplots()\n",
    "\n",
    "# Initialize the bottom at zero for the first set of bars.\n",
    "bottom = np.zeros(len(age))\n",
    "\n",
    "# Plot each layer of the bar, adding each bar to the \"bottom\" so\n",
    "# the next bar starts higher.\n",
    "for i, col in enumerate(age.columns):\n",
    "  ax.bar(age.index, age[col], bottom=bottom, label=col)\n",
    "  bottom += np.array(age[col])\n",
    "\n",
    "ax.set_title(\"UC's by Age\")\n",
    "plt.xlabel(\"Year\")\n",
    "plt.ylabel(\"Percentage\")\n",
    "plt.xticks(rotation=45)\n",
    "ax.legend()\n",
    "plt.savefig('graphs/1_age.png', dpi=300, bbox_inches='tight')\n",
    "plt.show()"
   ]
  },
  {
   "cell_type": "markdown",
   "id": "d8cdab65",
   "metadata": {},
   "source": [
    "## Viz 2: Country"
   ]
  },
  {
   "cell_type": "code",
   "execution_count": 8,
   "id": "dc24cf67",
   "metadata": {},
   "outputs": [],
   "source": [
    "# reading in data\n",
    "country = pd.read_csv('readonly/2_country.csv')"
   ]
  },
  {
   "cell_type": "code",
   "execution_count": 9,
   "id": "bac03564",
   "metadata": {},
   "outputs": [],
   "source": [
    "country = country.set_index('YEAR')"
   ]
  },
  {
   "cell_type": "code",
   "execution_count": 10,
   "id": "c2965aa1",
   "metadata": {},
   "outputs": [
    {
     "data": {
      "text/html": [
       "<div>\n",
       "<style scoped>\n",
       "    .dataframe tbody tr th:only-of-type {\n",
       "        vertical-align: middle;\n",
       "    }\n",
       "\n",
       "    .dataframe tbody tr th {\n",
       "        vertical-align: top;\n",
       "    }\n",
       "\n",
       "    .dataframe thead th {\n",
       "        text-align: right;\n",
       "    }\n",
       "</style>\n",
       "<table border=\"1\" class=\"dataframe\">\n",
       "  <thead>\n",
       "    <tr style=\"text-align: right;\">\n",
       "      <th></th>\n",
       "      <th>HONDURAS</th>\n",
       "      <th>GUATEMALA</th>\n",
       "      <th>EL SALVADOR</th>\n",
       "      <th>MEXICO</th>\n",
       "      <th>ALL OTHER COUNTRIES</th>\n",
       "    </tr>\n",
       "    <tr>\n",
       "      <th>YEAR</th>\n",
       "      <th></th>\n",
       "      <th></th>\n",
       "      <th></th>\n",
       "      <th></th>\n",
       "      <th></th>\n",
       "    </tr>\n",
       "  </thead>\n",
       "  <tbody>\n",
       "    <tr>\n",
       "      <th>FY2012</th>\n",
       "      <td>27</td>\n",
       "      <td>34</td>\n",
       "      <td>27</td>\n",
       "      <td>8</td>\n",
       "      <td>4</td>\n",
       "    </tr>\n",
       "    <tr>\n",
       "      <th>FY2013</th>\n",
       "      <td>30</td>\n",
       "      <td>37</td>\n",
       "      <td>26</td>\n",
       "      <td>3</td>\n",
       "      <td>5</td>\n",
       "    </tr>\n",
       "    <tr>\n",
       "      <th>FY2014</th>\n",
       "      <td>34</td>\n",
       "      <td>32</td>\n",
       "      <td>29</td>\n",
       "      <td>2</td>\n",
       "      <td>3</td>\n",
       "    </tr>\n",
       "    <tr>\n",
       "      <th>FY2015</th>\n",
       "      <td>17</td>\n",
       "      <td>45</td>\n",
       "      <td>29</td>\n",
       "      <td>6</td>\n",
       "      <td>3</td>\n",
       "    </tr>\n",
       "    <tr>\n",
       "      <th>FY2016</th>\n",
       "      <td>21</td>\n",
       "      <td>40</td>\n",
       "      <td>34</td>\n",
       "      <td>3</td>\n",
       "      <td>2</td>\n",
       "    </tr>\n",
       "  </tbody>\n",
       "</table>\n",
       "</div>"
      ],
      "text/plain": [
       "        HONDURAS  GUATEMALA  EL SALVADOR  MEXICO  ALL OTHER COUNTRIES\n",
       "YEAR                                                                 \n",
       "FY2012        27         34           27       8                    4\n",
       "FY2013        30         37           26       3                    5\n",
       "FY2014        34         32           29       2                    3\n",
       "FY2015        17         45           29       6                    3\n",
       "FY2016        21         40           34       3                    2"
      ]
     },
     "execution_count": 10,
     "metadata": {},
     "output_type": "execute_result"
    }
   ],
   "source": [
    "country.head()"
   ]
  },
  {
   "cell_type": "code",
   "execution_count": 11,
   "id": "959de0de",
   "metadata": {},
   "outputs": [
    {
     "data": {
      "text/plain": [
       "HONDURAS               int64\n",
       "GUATEMALA              int64\n",
       "EL SALVADOR            int64\n",
       "MEXICO                 int64\n",
       "ALL OTHER COUNTRIES    int64\n",
       "dtype: object"
      ]
     },
     "execution_count": 11,
     "metadata": {},
     "output_type": "execute_result"
    }
   ],
   "source": [
    "country.dtypes"
   ]
  },
  {
   "cell_type": "code",
   "execution_count": 12,
   "id": "3ac50780",
   "metadata": {},
   "outputs": [
    {
     "data": {
      "text/plain": [
       "Index(['HONDURAS', 'GUATEMALA', 'EL SALVADOR', 'MEXICO',\n",
       "       'ALL OTHER COUNTRIES'],\n",
       "      dtype='object')"
      ]
     },
     "execution_count": 12,
     "metadata": {},
     "output_type": "execute_result"
    }
   ],
   "source": [
    "country.columns"
   ]
  },
  {
   "cell_type": "code",
   "execution_count": 13,
   "id": "01e4ce53",
   "metadata": {},
   "outputs": [
    {
     "data": {
      "image/png": "[encoded data removed]",
      "text/plain": [
       "<Figure size 432x288 with 1 Axes>"
      ]
     },
     "metadata": {
      "needs_background": "light"
     },
     "output_type": "display_data"
    }
   ],
   "source": [
    "## comparing country of origin\n",
    "country.plot(kind='line')\n",
    "plt.xticks(rotation=45)\n",
    "plt.title(\"UC's by Country of Origin\")\n",
    "plt.ylabel(\"Percentage\")\n",
    "plt.savefig('graphs/2_country.png', dpi=300, bbox_inches='tight')\n",
    "plt.show()"
   ]
  },
  {
   "cell_type": "markdown",
   "id": "0d3cafdb",
   "metadata": {},
   "source": [
    "## Viz 3: Gender"
   ]
  },
  {
   "cell_type": "code",
   "execution_count": 14,
   "id": "ad6e8c1b",
   "metadata": {},
   "outputs": [],
   "source": [
    "# reading in data\n",
    "gender = pd.read_csv('readonly/3_gender.csv')"
   ]
  },
  {
   "cell_type": "code",
   "execution_count": 15,
   "id": "c74eedfe",
   "metadata": {},
   "outputs": [],
   "source": [
    "gender = gender.set_index('YEAR')"
   ]
  },
  {
   "cell_type": "code",
   "execution_count": 16,
   "id": "09a58635",
   "metadata": {},
   "outputs": [
    {
     "data": {
      "text/html": [
       "<div>\n",
       "<style scoped>\n",
       "    .dataframe tbody tr th:only-of-type {\n",
       "        vertical-align: middle;\n",
       "    }\n",
       "\n",
       "    .dataframe tbody tr th {\n",
       "        vertical-align: top;\n",
       "    }\n",
       "\n",
       "    .dataframe thead th {\n",
       "        text-align: right;\n",
       "    }\n",
       "</style>\n",
       "<table border=\"1\" class=\"dataframe\">\n",
       "  <thead>\n",
       "    <tr style=\"text-align: right;\">\n",
       "      <th></th>\n",
       "      <th>MALES</th>\n",
       "      <th>FEMALES</th>\n",
       "    </tr>\n",
       "    <tr>\n",
       "      <th>YEAR</th>\n",
       "      <th></th>\n",
       "      <th></th>\n",
       "    </tr>\n",
       "  </thead>\n",
       "  <tbody>\n",
       "    <tr>\n",
       "      <th>FY2012</th>\n",
       "      <td>77</td>\n",
       "      <td>23</td>\n",
       "    </tr>\n",
       "    <tr>\n",
       "      <th>FY2013</th>\n",
       "      <td>73</td>\n",
       "      <td>27</td>\n",
       "    </tr>\n",
       "    <tr>\n",
       "      <th>FY2014</th>\n",
       "      <td>66</td>\n",
       "      <td>34</td>\n",
       "    </tr>\n",
       "    <tr>\n",
       "      <th>FY2015</th>\n",
       "      <td>68</td>\n",
       "      <td>32</td>\n",
       "    </tr>\n",
       "    <tr>\n",
       "      <th>FY2016</th>\n",
       "      <td>67</td>\n",
       "      <td>33</td>\n",
       "    </tr>\n",
       "  </tbody>\n",
       "</table>\n",
       "</div>"
      ],
      "text/plain": [
       "        MALES  FEMALES\n",
       "YEAR                  \n",
       "FY2012     77       23\n",
       "FY2013     73       27\n",
       "FY2014     66       34\n",
       "FY2015     68       32\n",
       "FY2016     67       33"
      ]
     },
     "execution_count": 16,
     "metadata": {},
     "output_type": "execute_result"
    }
   ],
   "source": [
    "gender.head()"
   ]
  },
  {
   "cell_type": "code",
   "execution_count": 17,
   "id": "e9d818c5",
   "metadata": {},
   "outputs": [
    {
     "data": {
      "text/plain": [
       "MALES      int64\n",
       "FEMALES    int64\n",
       "dtype: object"
      ]
     },
     "execution_count": 17,
     "metadata": {},
     "output_type": "execute_result"
    }
   ],
   "source": [
    "gender.dtypes"
   ]
  },
  {
   "cell_type": "code",
   "execution_count": 18,
   "id": "86b1e1d0",
   "metadata": {},
   "outputs": [
    {
     "data": {
      "text/plain": [
       "Index(['MALES', 'FEMALES'], dtype='object')"
      ]
     },
     "execution_count": 18,
     "metadata": {},
     "output_type": "execute_result"
    }
   ],
   "source": [
    "gender.columns"
   ]
  },
  {
   "cell_type": "code",
   "execution_count": 19,
   "id": "195e7d6f",
   "metadata": {},
   "outputs": [
    {
     "data": {
      "image/png": "[encoded data removed]",
      "text/plain": [
       "<Figure size 432x288 with 1 Axes>"
      ]
     },
     "metadata": {
      "needs_background": "light"
     },
     "output_type": "display_data"
    }
   ],
   "source": [
    "X = gender.index.tolist()\n",
    "  \n",
    "X_axis = np.arange(len(X))\n",
    "  \n",
    "plt.bar(X_axis - 0.2, gender['MALES'], 0.4, label = 'MALES')\n",
    "plt.bar(X_axis + 0.2, gender['FEMALES'], 0.4, label = 'FEMALES')\n",
    "  \n",
    "plt.xticks(X_axis, X)\n",
    "plt.xlabel(\"Year\")\n",
    "plt.ylabel(\"Percentage\")\n",
    "plt.title(\"UC's by Gender\")\n",
    "plt.legend()\n",
    "plt.xticks(rotation=45)\n",
    "plt.savefig('graphs/3_gender.png', dpi=300, bbox_inches='tight')\n",
    "plt.show()"
   ]
  },
  {
   "cell_type": "markdown",
   "id": "8fbf9b60",
   "metadata": {},
   "source": [
    "## Viz 4: Home Studies"
   ]
  },
  {
   "cell_type": "code",
   "execution_count": 25,
   "id": "45a8a2e0",
   "metadata": {},
   "outputs": [],
   "source": [
    "# reading in data\n",
    "home_studies = pd.read_csv('readonly/4_home_studies.csv')"
   ]
  },
  {
   "cell_type": "code",
   "execution_count": 27,
   "id": "ecc8608a",
   "metadata": {},
   "outputs": [
    {
     "data": {
      "text/html": [
       "<div>\n",
       "<style scoped>\n",
       "    .dataframe tbody tr th:only-of-type {\n",
       "        vertical-align: middle;\n",
       "    }\n",
       "\n",
       "    .dataframe tbody tr th {\n",
       "        vertical-align: top;\n",
       "    }\n",
       "\n",
       "    .dataframe thead th {\n",
       "        text-align: right;\n",
       "    }\n",
       "</style>\n",
       "<table border=\"1\" class=\"dataframe\">\n",
       "  <thead>\n",
       "    <tr style=\"text-align: right;\">\n",
       "      <th></th>\n",
       "      <th>YEAR</th>\n",
       "      <th>HOME STUDIES</th>\n",
       "      <th>UC SERVED BY PRS</th>\n",
       "    </tr>\n",
       "  </thead>\n",
       "  <tbody>\n",
       "    <tr>\n",
       "      <th>0</th>\n",
       "      <td>FY2015</td>\n",
       "      <td>1895</td>\n",
       "      <td>8618</td>\n",
       "    </tr>\n",
       "    <tr>\n",
       "      <th>1</th>\n",
       "      <td>FY2016</td>\n",
       "      <td>3540</td>\n",
       "      <td>10546</td>\n",
       "    </tr>\n",
       "    <tr>\n",
       "      <th>2</th>\n",
       "      <td>FY2017</td>\n",
       "      <td>3173</td>\n",
       "      <td>13381</td>\n",
       "    </tr>\n",
       "    <tr>\n",
       "      <th>3</th>\n",
       "      <td>FY2018</td>\n",
       "      <td>3641</td>\n",
       "      <td>14088</td>\n",
       "    </tr>\n",
       "    <tr>\n",
       "      <th>4</th>\n",
       "      <td>FY2019</td>\n",
       "      <td>4875</td>\n",
       "      <td>14518</td>\n",
       "    </tr>\n",
       "  </tbody>\n",
       "</table>\n",
       "</div>"
      ],
      "text/plain": [
       "     YEAR  HOME STUDIES  UC SERVED BY PRS\n",
       "0  FY2015          1895              8618\n",
       "1  FY2016          3540             10546\n",
       "2  FY2017          3173             13381\n",
       "3  FY2018          3641             14088\n",
       "4  FY2019          4875             14518"
      ]
     },
     "execution_count": 27,
     "metadata": {},
     "output_type": "execute_result"
    }
   ],
   "source": [
    "home_studies.head()"
   ]
  },
  {
   "cell_type": "code",
   "execution_count": 28,
   "id": "e36e0460",
   "metadata": {},
   "outputs": [
    {
     "data": {
      "text/plain": [
       "YEAR                object\n",
       "HOME STUDIES         int64\n",
       "UC SERVED BY PRS     int64\n",
       "dtype: object"
      ]
     },
     "execution_count": 28,
     "metadata": {},
     "output_type": "execute_result"
    }
   ],
   "source": [
    "home_studies.dtypes"
   ]
  },
  {
   "cell_type": "code",
   "execution_count": 29,
   "id": "303b2080",
   "metadata": {},
   "outputs": [
    {
     "data": {
      "text/plain": [
       "Index(['YEAR', 'HOME STUDIES', 'UC SERVED BY PRS'], dtype='object')"
      ]
     },
     "execution_count": 29,
     "metadata": {},
     "output_type": "execute_result"
    }
   ],
   "source": [
    "home_studies.columns"
   ]
  },
  {
   "cell_type": "code",
   "execution_count": 33,
   "id": "dff6d00e",
   "metadata": {},
   "outputs": [
    {
     "data": {
      "image/png": "[encoded data removed]",
      "text/plain": [
       "<Figure size 432x288 with 1 Axes>"
      ]
     },
     "metadata": {
      "needs_background": "light"
     },
     "output_type": "display_data"
    }
   ],
   "source": [
    "# creating plot\n",
    "plt.figure()\n",
    "plt.bar(home_studies['YEAR'], home_studies['UC SERVED BY PRS'], alpha=0.85, label='UC SERVED BY PRS');\n",
    "plt.bar(home_studies['YEAR'], home_studies['HOME STUDIES'], alpha=0.85, label='HOME STUDIES');\n",
    "plt.legend();\n",
    "plt.title(\"UC's by Home Studies and PRS\");\n",
    "plt.xlabel('YEAR')\n",
    "plt.ylabel(\"# of Total UC's\")\n",
    "plt.xticks(rotation=30, fontsize=9);\n",
    "plt.savefig('graphs/4_home_studies.png', dpi=300, bbox_inches='tight')\n",
    "plt.show()"
   ]
  },
  {
   "cell_type": "markdown",
   "id": "a47d1795",
   "metadata": {},
   "source": [
    "## Viz 5: Referrals"
   ]
  },
  {
   "cell_type": "code",
   "execution_count": 34,
   "id": "096dfbb9",
   "metadata": {},
   "outputs": [],
   "source": [
    "# reading in data\n",
    "referrals = pd.read_csv('readonly/5_referrals.csv')"
   ]
  },
  {
   "cell_type": "code",
   "execution_count": 35,
   "id": "2e7cb385",
   "metadata": {},
   "outputs": [],
   "source": [
    "referrals = referrals.set_index('YEAR')"
   ]
  },
  {
   "cell_type": "code",
   "execution_count": 36,
   "id": "bbd64f47",
   "metadata": {},
   "outputs": [
    {
     "data": {
      "text/html": [
       "<div>\n",
       "<style scoped>\n",
       "    .dataframe tbody tr th:only-of-type {\n",
       "        vertical-align: middle;\n",
       "    }\n",
       "\n",
       "    .dataframe tbody tr th {\n",
       "        vertical-align: top;\n",
       "    }\n",
       "\n",
       "    .dataframe thead th {\n",
       "        text-align: right;\n",
       "    }\n",
       "</style>\n",
       "<table border=\"1\" class=\"dataframe\">\n",
       "  <thead>\n",
       "    <tr style=\"text-align: right;\">\n",
       "      <th></th>\n",
       "      <th>REFERRALS</th>\n",
       "    </tr>\n",
       "    <tr>\n",
       "      <th>YEAR</th>\n",
       "      <th></th>\n",
       "    </tr>\n",
       "  </thead>\n",
       "  <tbody>\n",
       "    <tr>\n",
       "      <th>FY2012</th>\n",
       "      <td>13625</td>\n",
       "    </tr>\n",
       "    <tr>\n",
       "      <th>FY2013</th>\n",
       "      <td>24668</td>\n",
       "    </tr>\n",
       "    <tr>\n",
       "      <th>FY2014</th>\n",
       "      <td>57496</td>\n",
       "    </tr>\n",
       "    <tr>\n",
       "      <th>FY2015</th>\n",
       "      <td>33726</td>\n",
       "    </tr>\n",
       "    <tr>\n",
       "      <th>FY2016</th>\n",
       "      <td>59170</td>\n",
       "    </tr>\n",
       "  </tbody>\n",
       "</table>\n",
       "</div>"
      ],
      "text/plain": [
       "        REFERRALS\n",
       "YEAR             \n",
       "FY2012      13625\n",
       "FY2013      24668\n",
       "FY2014      57496\n",
       "FY2015      33726\n",
       "FY2016      59170"
      ]
     },
     "execution_count": 36,
     "metadata": {},
     "output_type": "execute_result"
    }
   ],
   "source": [
    "referrals.head()"
   ]
  },
  {
   "cell_type": "code",
   "execution_count": 37,
   "id": "07692efb",
   "metadata": {},
   "outputs": [
    {
     "data": {
      "text/plain": [
       "REFERRALS    int64\n",
       "dtype: object"
      ]
     },
     "execution_count": 37,
     "metadata": {},
     "output_type": "execute_result"
    }
   ],
   "source": [
    "referrals.dtypes"
   ]
  },
  {
   "cell_type": "code",
   "execution_count": 38,
   "id": "d6a809e3",
   "metadata": {},
   "outputs": [
    {
     "data": {
      "text/plain": [
       "Index(['REFERRALS'], dtype='object')"
      ]
     },
     "execution_count": 38,
     "metadata": {},
     "output_type": "execute_result"
    }
   ],
   "source": [
    "referrals.columns"
   ]
  },
  {
   "cell_type": "code",
   "execution_count": 41,
   "id": "b62f7666",
   "metadata": {},
   "outputs": [
    {
     "data": {
      "image/png": "[encoded data removed]",
      "text/plain": [
       "<Figure size 432x288 with 1 Axes>"
      ]
     },
     "metadata": {
      "needs_background": "light"
     },
     "output_type": "display_data"
    }
   ],
   "source": [
    "## comparing country of origin\n",
    "referrals.plot(kind='line', color='green')\n",
    "plt.xticks(rotation=45)\n",
    "plt.title(\"Referrals\")\n",
    "plt.ylabel(\"Total\")\n",
    "plt.savefig('graphs/5_referrals.png', dpi=300, bbox_inches='tight')\n",
    "plt.show()"
   ]
  },
  {
   "cell_type": "code",
   "execution_count": null,
   "id": "f5e1c874",
   "metadata": {},
   "outputs": [],
   "source": []
  }
 ],
 "metadata": {
  "kernelspec": {
   "display_name": "Python 3",
   "language": "python",
   "name": "python3"
  },
  "language_info": {
   "codemirror_mode": {
    "name": "ipython",
    "version": 3
   },
   "file_extension": ".py",
   "mimetype": "text/x-python",
   "name": "python",
   "nbconvert_exporter": "python",
   "pygments_lexer": "ipython3",
   "version": "3.8.8"
  }
 },
 "nbformat": 4,
 "nbformat_minor": 5
}
