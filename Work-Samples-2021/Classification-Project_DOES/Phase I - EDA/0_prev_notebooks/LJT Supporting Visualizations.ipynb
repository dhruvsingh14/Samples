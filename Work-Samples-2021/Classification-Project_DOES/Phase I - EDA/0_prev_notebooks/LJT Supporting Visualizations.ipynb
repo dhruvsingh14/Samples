{
 "cells": [
  {
   "cell_type": "markdown",
   "id": "1a80cc5a",
   "metadata": {},
   "source": [
    "# LJT: Supporting Visualizations"
   ]
  },
  {
   "cell_type": "markdown",
   "id": "270ed0cb",
   "metadata": {},
   "source": [
    "#### Analyst: Dhruv Singh <br> Report Name: LJT Supporting Visualizations <br> Report Quarter, Year: FY 2021 Q1-Q3 <br> Date Updated: 10/14/2021"
   ]
  },
  {
   "cell_type": "code",
   "execution_count": 1,
   "id": "7fb42d5a",
   "metadata": {},
   "outputs": [],
   "source": [
    "# libraries\n",
    "import pandas as pd\n",
    "import numpy as np\n",
    "import matplotlib.pyplot as plt"
   ]
  },
  {
   "cell_type": "code",
   "execution_count": 2,
   "id": "696a28d6",
   "metadata": {},
   "outputs": [],
   "source": [
    "# reading in data\n",
    "Funding = pd.read_csv('data/1_Funding.csv')\n",
    "BTW_Completion = pd.read_csv('data/2_BTW_Completion.csv')\n",
    "DCCC_JRT_Completion = pd.read_csv('data/3_DCCC_JRT_Completion.csv')\n",
    "DCCC_Subsidized_Employment_Enrollments = pd.read_csv('data/4_DCCC_Subsidized_Employment_Enrollments.csv')\n",
    "DCCC_Placement = pd.read_csv('data/5_DCCC_Placement.csv')\n",
    "DCIA_Enrollments = pd.read_csv('data/6_DCIA_Enrollments.csv')\n",
    "MOU_Completions = pd.read_csv('data/7_MOU_Completions.csv')\n",
    "PreApp_Completions = pd.read_csv('data/8_Pre-App_Completions.csv')\n",
    "TEP_Completions = pd.read_csv('data/9_TEP_Completions.csv')\n",
    "WEX_Subsidized_Employment_Enrollments = pd.read_csv('data/10_WEX_Subsidized_Employment_Enrollments.csv')\n",
    "TEP_Placement = pd.read_csv('data/11_TEP_Placement.csv')"
   ]
  },
  {
   "cell_type": "markdown",
   "id": "6260c449",
   "metadata": {},
   "source": [
    "#### Funding"
   ]
  },
  {
   "cell_type": "code",
   "execution_count": 3,
   "id": "0e8521f0",
   "metadata": {},
   "outputs": [],
   "source": [
    "Funding = Funding.set_index('Program')"
   ]
  },
  {
   "cell_type": "code",
   "execution_count": 4,
   "id": "427cb2e8",
   "metadata": {},
   "outputs": [
    {
     "data": {
      "text/html": [
       "<div>\n",
       "<style scoped>\n",
       "    .dataframe tbody tr th:only-of-type {\n",
       "        vertical-align: middle;\n",
       "    }\n",
       "\n",
       "    .dataframe tbody tr th {\n",
       "        vertical-align: top;\n",
       "    }\n",
       "\n",
       "    .dataframe thead th {\n",
       "        text-align: right;\n",
       "    }\n",
       "</style>\n",
       "<table border=\"1\" class=\"dataframe\">\n",
       "  <thead>\n",
       "    <tr style=\"text-align: right;\">\n",
       "      <th></th>\n",
       "      <th>Program Name</th>\n",
       "      <th>FY20 Annual Budget</th>\n",
       "    </tr>\n",
       "    <tr>\n",
       "      <th>Program</th>\n",
       "      <th></th>\n",
       "      <th></th>\n",
       "    </tr>\n",
       "  </thead>\n",
       "  <tbody>\n",
       "    <tr>\n",
       "      <th>BTW</th>\n",
       "      <td>Back to Work 50+</td>\n",
       "      <td>55967</td>\n",
       "    </tr>\n",
       "    <tr>\n",
       "      <th>DCCC</th>\n",
       "      <td>District of Columbia Career Connections</td>\n",
       "      <td>1644023</td>\n",
       "    </tr>\n",
       "    <tr>\n",
       "      <th>DCIA</th>\n",
       "      <td>District of Columbia Infrastructure Academy</td>\n",
       "      <td>1067000</td>\n",
       "    </tr>\n",
       "    <tr>\n",
       "      <th>LEAP</th>\n",
       "      <td>Learn Earn Advance Prosper</td>\n",
       "      <td>1561000</td>\n",
       "    </tr>\n",
       "    <tr>\n",
       "      <th>FEMS</th>\n",
       "      <td>FEMS</td>\n",
       "      <td>500000</td>\n",
       "    </tr>\n",
       "  </tbody>\n",
       "</table>\n",
       "</div>"
      ],
      "text/plain": [
       "                                        Program Name   FY20 Annual Budget\n",
       "Program                                                                  \n",
       "BTW                                  Back to Work 50+               55967\n",
       "DCCC         District of Columbia Career Connections              1644023\n",
       "DCIA     District of Columbia Infrastructure Academy              1067000\n",
       "LEAP                      Learn Earn Advance Prosper              1561000\n",
       "FEMS                                            FEMS               500000"
      ]
     },
     "execution_count": 4,
     "metadata": {},
     "output_type": "execute_result"
    }
   ],
   "source": [
    "Funding.head()"
   ]
  },
  {
   "cell_type": "code",
   "execution_count": 5,
   "id": "0c1fa405",
   "metadata": {},
   "outputs": [
    {
     "data": {
      "image/png": "[encoded data removed]",
      "text/plain": [
       "<Figure size 432x288 with 1 Axes>"
      ]
     },
     "metadata": {},
     "output_type": "display_data"
    }
   ],
   "source": [
    "plt.style.use('ggplot')\n",
    "\n",
    "x = Funding.index.tolist()\n",
    "\n",
    "x_pos = [i for i, _ in enumerate(x)]\n",
    "\n",
    "plt.bar(x_pos, Funding['FY20 Annual Budget'], color='green')\n",
    "plt.xlabel(\"Program\")\n",
    "plt.ylabel(\"Funding (Millions USD)\")\n",
    "plt.title(\"FY 2020 Budget\")\n",
    "\n",
    "plt.xticks(x_pos, x)\n",
    "\n",
    "plt.savefig('graphs/1_Funding.png', dpi=300, bbox_inches='tight')\n",
    "plt.show()"
   ]
  },
  {
   "cell_type": "markdown",
   "id": "d6370779",
   "metadata": {},
   "source": [
    "#### BTW Completions"
   ]
  },
  {
   "cell_type": "code",
   "execution_count": 6,
   "id": "ecc1b838",
   "metadata": {},
   "outputs": [],
   "source": [
    "BTW_Completion = BTW_Completion.set_index('Program')"
   ]
  },
  {
   "cell_type": "code",
   "execution_count": 7,
   "id": "f7f85416",
   "metadata": {},
   "outputs": [
    {
     "data": {
      "text/html": [
       "<div>\n",
       "<style scoped>\n",
       "    .dataframe tbody tr th:only-of-type {\n",
       "        vertical-align: middle;\n",
       "    }\n",
       "\n",
       "    .dataframe tbody tr th {\n",
       "        vertical-align: top;\n",
       "    }\n",
       "\n",
       "    .dataframe thead th {\n",
       "        text-align: right;\n",
       "    }\n",
       "</style>\n",
       "<table border=\"1\" class=\"dataframe\">\n",
       "  <thead>\n",
       "    <tr style=\"text-align: right;\">\n",
       "      <th></th>\n",
       "      <th>Total Exits</th>\n",
       "      <th>Successful Completions</th>\n",
       "      <th>Percentage</th>\n",
       "    </tr>\n",
       "    <tr>\n",
       "      <th>Program</th>\n",
       "      <th></th>\n",
       "      <th></th>\n",
       "      <th></th>\n",
       "    </tr>\n",
       "  </thead>\n",
       "  <tbody>\n",
       "    <tr>\n",
       "      <th>BTW</th>\n",
       "      <td>43</td>\n",
       "      <td>15</td>\n",
       "      <td>35%</td>\n",
       "    </tr>\n",
       "  </tbody>\n",
       "</table>\n",
       "</div>"
      ],
      "text/plain": [
       "         Total Exits  Successful Completions Percentage\n",
       "Program                                                \n",
       "BTW               43                      15        35%"
      ]
     },
     "execution_count": 7,
     "metadata": {},
     "output_type": "execute_result"
    }
   ],
   "source": [
    "BTW_Completion.head()"
   ]
  },
  {
   "cell_type": "code",
   "execution_count": 8,
   "id": "1e428574",
   "metadata": {},
   "outputs": [
    {
     "data": {
      "image/png": "[encoded data removed]",
      "text/plain": [
       "<Figure size 432x288 with 1 Axes>"
      ]
     },
     "metadata": {},
     "output_type": "display_data"
    }
   ],
   "source": [
    "X = BTW_Completion.index.tolist()\n",
    "  \n",
    "X_axis = np.arange(len(X))\n",
    "  \n",
    "plt.bar(X_axis - 0.2, BTW_Completion['Total Exits'], 0.4, label = 'Total Exits')\n",
    "plt.bar(X_axis + 0.2, BTW_Completion['Successful Completions'], 0.4, label = 'Successful Completions')\n",
    "  \n",
    "plt.xticks(X_axis, X)\n",
    "plt.xlabel(\"Program\")\n",
    "plt.ylabel(\"Total Participants\")\n",
    "plt.title(\"Back to Work 50+: Successful Completions\")\n",
    "plt.legend()\n",
    "plt.savefig('graphs/2_BTW.png', dpi=300, bbox_inches='tight')\n",
    "plt.show()"
   ]
  },
  {
   "cell_type": "markdown",
   "id": "425ff6ef",
   "metadata": {},
   "source": [
    "#### DCCC Job Readiness Training: Completions"
   ]
  },
  {
   "cell_type": "code",
   "execution_count": 9,
   "id": "114187a7",
   "metadata": {},
   "outputs": [],
   "source": [
    "DCCC_JRT_Completion = DCCC_JRT_Completion.set_index('Program')"
   ]
  },
  {
   "cell_type": "code",
   "execution_count": 10,
   "id": "283aa152",
   "metadata": {},
   "outputs": [
    {
     "data": {
      "text/html": [
       "<div>\n",
       "<style scoped>\n",
       "    .dataframe tbody tr th:only-of-type {\n",
       "        vertical-align: middle;\n",
       "    }\n",
       "\n",
       "    .dataframe tbody tr th {\n",
       "        vertical-align: top;\n",
       "    }\n",
       "\n",
       "    .dataframe thead th {\n",
       "        text-align: right;\n",
       "    }\n",
       "</style>\n",
       "<table border=\"1\" class=\"dataframe\">\n",
       "  <thead>\n",
       "    <tr style=\"text-align: right;\">\n",
       "      <th></th>\n",
       "      <th>Total Exits</th>\n",
       "      <th>Successful Completions</th>\n",
       "      <th>JRT Completion Percentage</th>\n",
       "    </tr>\n",
       "    <tr>\n",
       "      <th>Program</th>\n",
       "      <th></th>\n",
       "      <th></th>\n",
       "      <th></th>\n",
       "    </tr>\n",
       "  </thead>\n",
       "  <tbody>\n",
       "    <tr>\n",
       "      <th>DCCC</th>\n",
       "      <td>134</td>\n",
       "      <td>134</td>\n",
       "      <td>100%</td>\n",
       "    </tr>\n",
       "  </tbody>\n",
       "</table>\n",
       "</div>"
      ],
      "text/plain": [
       "         Total Exits  Successful Completions JRT Completion Percentage\n",
       "Program                                                               \n",
       "DCCC             134                     134                      100%"
      ]
     },
     "execution_count": 10,
     "metadata": {},
     "output_type": "execute_result"
    }
   ],
   "source": [
    "DCCC_JRT_Completion"
   ]
  },
  {
   "cell_type": "code",
   "execution_count": 11,
   "id": "f6fd6ee2",
   "metadata": {},
   "outputs": [
    {
     "data": {
      "image/png": "[encoded data removed]",
      "text/plain": [
       "<Figure size 432x288 with 1 Axes>"
      ]
     },
     "metadata": {},
     "output_type": "display_data"
    }
   ],
   "source": [
    "X = DCCC_JRT_Completion.index.tolist()\n",
    "  \n",
    "X_axis = np.arange(len(X))\n",
    "  \n",
    "plt.bar(X_axis - 0.2, DCCC_JRT_Completion['Total Exits'], 0.4, label = 'Total Exits')\n",
    "plt.bar(X_axis + 0.2, DCCC_JRT_Completion['Successful Completions'], 0.4, label = 'Successful Completions')\n",
    "  \n",
    "plt.xticks(X_axis, X)\n",
    "plt.xlabel(\"Program\")\n",
    "plt.ylabel(\"Total Participants\")\n",
    "plt.title(\"DCCC Job Readiness Training: Successful Completions\")\n",
    "plt.legend()\n",
    "plt.savefig('graphs/3_DCCC_JRT.png', dpi=300, bbox_inches='tight')\n",
    "plt.show()"
   ]
  },
  {
   "cell_type": "markdown",
   "id": "7d2e85b4",
   "metadata": {},
   "source": [
    "#### DCCC Subsidized Employment: Enrollments"
   ]
  },
  {
   "cell_type": "code",
   "execution_count": 12,
   "id": "8bc65e9b",
   "metadata": {},
   "outputs": [],
   "source": [
    "DCCC_Subsidized_Employment_Enrollments = DCCC_Subsidized_Employment_Enrollments.set_index('Month')"
   ]
  },
  {
   "cell_type": "code",
   "execution_count": 13,
   "id": "a1e932a6",
   "metadata": {},
   "outputs": [
    {
     "data": {
      "text/html": [
       "<div>\n",
       "<style scoped>\n",
       "    .dataframe tbody tr th:only-of-type {\n",
       "        vertical-align: middle;\n",
       "    }\n",
       "\n",
       "    .dataframe tbody tr th {\n",
       "        vertical-align: top;\n",
       "    }\n",
       "\n",
       "    .dataframe thead th {\n",
       "        text-align: right;\n",
       "    }\n",
       "</style>\n",
       "<table border=\"1\" class=\"dataframe\">\n",
       "  <thead>\n",
       "    <tr style=\"text-align: right;\">\n",
       "      <th></th>\n",
       "      <th>New Enrollments</th>\n",
       "    </tr>\n",
       "    <tr>\n",
       "      <th>Month</th>\n",
       "      <th></th>\n",
       "    </tr>\n",
       "  </thead>\n",
       "  <tbody>\n",
       "    <tr>\n",
       "      <th>10/1/2020</th>\n",
       "      <td>2</td>\n",
       "    </tr>\n",
       "    <tr>\n",
       "      <th>11/1/2020</th>\n",
       "      <td>1</td>\n",
       "    </tr>\n",
       "    <tr>\n",
       "      <th>12/1/2020</th>\n",
       "      <td>8</td>\n",
       "    </tr>\n",
       "    <tr>\n",
       "      <th>1/1/2021</th>\n",
       "      <td>4</td>\n",
       "    </tr>\n",
       "    <tr>\n",
       "      <th>2/1/2021</th>\n",
       "      <td>9</td>\n",
       "    </tr>\n",
       "  </tbody>\n",
       "</table>\n",
       "</div>"
      ],
      "text/plain": [
       "           New Enrollments\n",
       "Month                     \n",
       "10/1/2020                2\n",
       "11/1/2020                1\n",
       "12/1/2020                8\n",
       "1/1/2021                 4\n",
       "2/1/2021                 9"
      ]
     },
     "execution_count": 13,
     "metadata": {},
     "output_type": "execute_result"
    }
   ],
   "source": [
    "DCCC_Subsidized_Employment_Enrollments.head()"
   ]
  },
  {
   "cell_type": "code",
   "execution_count": 14,
   "id": "c55af704",
   "metadata": {},
   "outputs": [
    {
     "data": {
      "image/png": "[encoded data removed]",
      "text/plain": [
       "<Figure size 432x288 with 1 Axes>"
      ]
     },
     "metadata": {},
     "output_type": "display_data"
    }
   ],
   "source": [
    "plt.style.use('ggplot')\n",
    "\n",
    "x = DCCC_Subsidized_Employment_Enrollments.index.tolist()\n",
    "\n",
    "x_pos = [i for i, _ in enumerate(x)]\n",
    "\n",
    "plt.bar(x_pos, DCCC_Subsidized_Employment_Enrollments['New Enrollments'], color='green')\n",
    "plt.xlabel(\"Month\")\n",
    "plt.ylabel(\"New Enrollments\")\n",
    "plt.title(\"DCCC Subsidized Employment: New Enrollments\")\n",
    "\n",
    "plt.xticks(x_pos, x, rotation = 45)\n",
    "\n",
    "plt.savefig('graphs/4_DCCC_SubsEmp_Enrollments.png', dpi=300, bbox_inches='tight')\n",
    "plt.show()"
   ]
  },
  {
   "cell_type": "markdown",
   "id": "43d91469",
   "metadata": {},
   "source": [
    "#### DCCC Placement"
   ]
  },
  {
   "cell_type": "code",
   "execution_count": 15,
   "id": "06b7ddde",
   "metadata": {},
   "outputs": [],
   "source": [
    "DCCC_Placement = DCCC_Placement.set_index('Level')"
   ]
  },
  {
   "cell_type": "code",
   "execution_count": 16,
   "id": "944b7eb8",
   "metadata": {},
   "outputs": [
    {
     "data": {
      "text/html": [
       "<div>\n",
       "<style scoped>\n",
       "    .dataframe tbody tr th:only-of-type {\n",
       "        vertical-align: middle;\n",
       "    }\n",
       "\n",
       "    .dataframe tbody tr th {\n",
       "        vertical-align: top;\n",
       "    }\n",
       "\n",
       "    .dataframe thead th {\n",
       "        text-align: right;\n",
       "    }\n",
       "</style>\n",
       "<table border=\"1\" class=\"dataframe\">\n",
       "  <thead>\n",
       "    <tr style=\"text-align: right;\">\n",
       "      <th></th>\n",
       "      <th>Unsuccessful Completions</th>\n",
       "      <th>Successful Completions</th>\n",
       "      <th>Entered Employment</th>\n",
       "      <th>Total Exits</th>\n",
       "      <th>Percentage</th>\n",
       "    </tr>\n",
       "    <tr>\n",
       "      <th>Level</th>\n",
       "      <th></th>\n",
       "      <th></th>\n",
       "      <th></th>\n",
       "      <th></th>\n",
       "      <th></th>\n",
       "    </tr>\n",
       "  </thead>\n",
       "  <tbody>\n",
       "    <tr>\n",
       "      <th>Overall</th>\n",
       "      <td>15</td>\n",
       "      <td>16</td>\n",
       "      <td>17</td>\n",
       "      <td>31</td>\n",
       "      <td>55%</td>\n",
       "    </tr>\n",
       "    <tr>\n",
       "      <th>Retention</th>\n",
       "      <td>128</td>\n",
       "      <td>110</td>\n",
       "      <td>142</td>\n",
       "      <td>238</td>\n",
       "      <td>60%</td>\n",
       "    </tr>\n",
       "  </tbody>\n",
       "</table>\n",
       "</div>"
      ],
      "text/plain": [
       "           Unsuccessful Completions   Successful Completions   \\\n",
       "Level                                                           \n",
       "Overall                           15                       16   \n",
       "Retention                        128                      110   \n",
       "\n",
       "           Entered Employment  Total Exits Percentage  \n",
       "Level                                                  \n",
       "Overall                    17           31        55%  \n",
       "Retention                 142          238        60%  "
      ]
     },
     "execution_count": 16,
     "metadata": {},
     "output_type": "execute_result"
    }
   ],
   "source": [
    "DCCC_Placement.head()"
   ]
  },
  {
   "cell_type": "code",
   "execution_count": 17,
   "id": "650656e7",
   "metadata": {},
   "outputs": [
    {
     "data": {
      "image/png": "[encoded data removed]",
      "text/plain": [
       "<Figure size 432x288 with 1 Axes>"
      ]
     },
     "metadata": {},
     "output_type": "display_data"
    }
   ],
   "source": [
    "X = DCCC_Placement.index.tolist()\n",
    "  \n",
    "X_axis = np.arange(len(X))\n",
    "  \n",
    "plt.bar(X_axis - 0.2, DCCC_Placement['Total Exits'], 0.4, label = 'Total Completions')\n",
    "plt.bar(X_axis + 0.2, DCCC_Placement['Entered Employment'], 0.4, label = 'Entered Employment')\n",
    "  \n",
    "plt.xticks(X_axis, X)\n",
    "plt.xlabel(\"Program\")\n",
    "plt.ylabel(\"Total Participants\")\n",
    "plt.title(\"DCCC Placements and Retention\")\n",
    "plt.legend()\n",
    "plt.savefig('graphs/5_DCCC_Placements.png', dpi=300, bbox_inches='tight')\n",
    "plt.show()"
   ]
  },
  {
   "cell_type": "markdown",
   "id": "f446d18c",
   "metadata": {},
   "source": [
    "#### DCIA Enrollments"
   ]
  },
  {
   "cell_type": "code",
   "execution_count": 18,
   "id": "c8ccc34f",
   "metadata": {},
   "outputs": [],
   "source": [
    "DCIA_Enrollments = DCIA_Enrollments.set_index('Course')"
   ]
  },
  {
   "cell_type": "code",
   "execution_count": 19,
   "id": "dc9cfef1",
   "metadata": {
    "scrolled": true
   },
   "outputs": [
    {
     "data": {
      "text/html": [
       "<div>\n",
       "<style scoped>\n",
       "    .dataframe tbody tr th:only-of-type {\n",
       "        vertical-align: middle;\n",
       "    }\n",
       "\n",
       "    .dataframe tbody tr th {\n",
       "        vertical-align: top;\n",
       "    }\n",
       "\n",
       "    .dataframe thead th {\n",
       "        text-align: right;\n",
       "    }\n",
       "</style>\n",
       "<table border=\"1\" class=\"dataframe\">\n",
       "  <thead>\n",
       "    <tr style=\"text-align: right;\">\n",
       "      <th></th>\n",
       "      <th>Vendor name</th>\n",
       "      <th>Course Description</th>\n",
       "      <th>Vendor</th>\n",
       "      <th>Training Enrollments</th>\n",
       "      <th>Current Enrolled</th>\n",
       "      <th>Un-and Successful Completions</th>\n",
       "      <th>Occupational Codes</th>\n",
       "      <th>Participants Completing Program</th>\n",
       "      <th>Unnamed: 9</th>\n",
       "      <th>Credentials Earned</th>\n",
       "      <th>Unnamed: 11</th>\n",
       "    </tr>\n",
       "    <tr>\n",
       "      <th>Course</th>\n",
       "      <th></th>\n",
       "      <th></th>\n",
       "      <th></th>\n",
       "      <th></th>\n",
       "      <th></th>\n",
       "      <th></th>\n",
       "      <th></th>\n",
       "      <th></th>\n",
       "      <th></th>\n",
       "      <th></th>\n",
       "      <th></th>\n",
       "    </tr>\n",
       "  </thead>\n",
       "  <tbody>\n",
       "    <tr>\n",
       "      <th>DMV DL Cl-B</th>\n",
       "      <td>Toni Thomas Associates</td>\n",
       "      <td>Commercial Driver's License Class B</td>\n",
       "      <td>TTA</td>\n",
       "      <td>31</td>\n",
       "      <td>0</td>\n",
       "      <td>31.0</td>\n",
       "      <td>53-3000</td>\n",
       "      <td>23.0</td>\n",
       "      <td>74%</td>\n",
       "      <td>0</td>\n",
       "      <td>0</td>\n",
       "    </tr>\n",
       "    <tr>\n",
       "      <th>OSHA10</th>\n",
       "      <td>The Training Zone of the DMV</td>\n",
       "      <td>Flagger/OSHA10</td>\n",
       "      <td>DMV</td>\n",
       "      <td>57</td>\n",
       "      <td>NaN</td>\n",
       "      <td>57.0</td>\n",
       "      <td>47-4051.00</td>\n",
       "      <td>57.0</td>\n",
       "      <td>100%</td>\n",
       "      <td>38</td>\n",
       "      <td>67%</td>\n",
       "    </tr>\n",
       "    <tr>\n",
       "      <th>OSHA30</th>\n",
       "      <td>The Training Zone of the DMV</td>\n",
       "      <td>OSHA 30</td>\n",
       "      <td>DMV</td>\n",
       "      <td>18</td>\n",
       "      <td>N/A</td>\n",
       "      <td>18.0</td>\n",
       "      <td>47-4051.00</td>\n",
       "      <td>18.0</td>\n",
       "      <td>100%</td>\n",
       "      <td>0</td>\n",
       "      <td>0</td>\n",
       "    </tr>\n",
       "    <tr>\n",
       "      <th>CPR/AED</th>\n",
       "      <td>ICE Training Center Inc.</td>\n",
       "      <td>CPR/AED Training</td>\n",
       "      <td>ICE</td>\n",
       "      <td>19</td>\n",
       "      <td>NaN</td>\n",
       "      <td>19.0</td>\n",
       "      <td>47-4051.00</td>\n",
       "      <td>19.0</td>\n",
       "      <td>100%</td>\n",
       "      <td>19</td>\n",
       "      <td>100%</td>\n",
       "    </tr>\n",
       "    <tr>\n",
       "      <th>GRID Solar</th>\n",
       "      <td>GRID Alternatives Mid-Atlantic</td>\n",
       "      <td>*Solar Works</td>\n",
       "      <td>GRID</td>\n",
       "      <td>35</td>\n",
       "      <td>1</td>\n",
       "      <td>34.0</td>\n",
       "      <td>47-</td>\n",
       "      <td>32.0</td>\n",
       "      <td>94%</td>\n",
       "      <td>0*</td>\n",
       "      <td>0</td>\n",
       "    </tr>\n",
       "  </tbody>\n",
       "</table>\n",
       "</div>"
      ],
      "text/plain": [
       "                              Vendor name    \\\n",
       "Course                                        \n",
       "DMV DL Cl-B          Toni Thomas Associates   \n",
       "OSHA10         The Training Zone of the DMV   \n",
       "OSHA30         The Training Zone of the DMV   \n",
       "CPR/AED            ICE Training Center Inc.   \n",
       "GRID Solar   GRID Alternatives Mid-Atlantic   \n",
       "\n",
       "                            Course Description   Vendor  Training Enrollments  \\\n",
       "Course                                                                          \n",
       "DMV DL Cl-B  Commercial Driver's License Class B    TTA                    31   \n",
       "OSHA10                            Flagger/OSHA10    DMV                    57   \n",
       "OSHA30                                   OSHA 30    DMV                    18   \n",
       "CPR/AED                         CPR/AED Training    ICE                    19   \n",
       "GRID Solar                          *Solar Works   GRID                    35   \n",
       "\n",
       "            Current Enrolled   Un-and Successful Completions   \\\n",
       "Course                                                          \n",
       "DMV DL Cl-B                 0                            31.0   \n",
       "OSHA10                    NaN                            57.0   \n",
       "OSHA30                    N/A                            18.0   \n",
       "CPR/AED                   NaN                            19.0   \n",
       "GRID Solar                  1                            34.0   \n",
       "\n",
       "            Occupational Codes    Participants Completing Program  Unnamed: 9  \\\n",
       "Course                                                                          \n",
       "DMV DL Cl-B              53-3000                              23.0        74%   \n",
       "OSHA10                47-4051.00                              57.0       100%   \n",
       "OSHA30                47-4051.00                              18.0       100%   \n",
       "CPR/AED               47-4051.00                              19.0       100%   \n",
       "GRID Solar                   47-                              32.0        94%   \n",
       "\n",
       "            Credentials Earned Unnamed: 11  \n",
       "Course                                      \n",
       "DMV DL Cl-B                  0           0  \n",
       "OSHA10                      38         67%  \n",
       "OSHA30                       0           0  \n",
       "CPR/AED                     19        100%  \n",
       "GRID Solar                  0*           0  "
      ]
     },
     "execution_count": 19,
     "metadata": {},
     "output_type": "execute_result"
    }
   ],
   "source": [
    "DCIA_Enrollments.head()"
   ]
  },
  {
   "cell_type": "code",
   "execution_count": 20,
   "id": "ede6ebb3",
   "metadata": {},
   "outputs": [
    {
     "data": {
      "image/png": "[encoded data removed]",
      "text/plain": [
       "<Figure size 432x288 with 1 Axes>"
      ]
     },
     "metadata": {},
     "output_type": "display_data"
    }
   ],
   "source": [
    "plt.style.use('ggplot')\n",
    "\n",
    "y = DCIA_Enrollments.index.tolist()\n",
    "\n",
    "y_pos = [i for i, _ in enumerate(y)]\n",
    "\n",
    "plt.barh(y_pos, DCIA_Enrollments['Training Enrollments'], color='green')\n",
    "plt.xlabel(\"Training Enrollments\")\n",
    "plt.ylabel(\"Course\")\n",
    "plt.title(\"DCIA Enrollments by Course\")\n",
    "\n",
    "plt.yticks(y_pos, y)\n",
    "\n",
    "plt.savefig('graphs/6_DCIA_Enrollments.png', dpi=300, bbox_inches='tight')\n",
    "plt.show()"
   ]
  },
  {
   "cell_type": "markdown",
   "id": "48f93a97",
   "metadata": {},
   "source": [
    "#### MOU Completions"
   ]
  },
  {
   "cell_type": "code",
   "execution_count": 21,
   "id": "77a47e78",
   "metadata": {},
   "outputs": [],
   "source": [
    "MOU_Completions = MOU_Completions.set_index('Program')"
   ]
  },
  {
   "cell_type": "code",
   "execution_count": 22,
   "id": "193d9b76",
   "metadata": {},
   "outputs": [
    {
     "data": {
      "text/html": [
       "<div>\n",
       "<style scoped>\n",
       "    .dataframe tbody tr th:only-of-type {\n",
       "        vertical-align: middle;\n",
       "    }\n",
       "\n",
       "    .dataframe tbody tr th {\n",
       "        vertical-align: top;\n",
       "    }\n",
       "\n",
       "    .dataframe thead th {\n",
       "        text-align: right;\n",
       "    }\n",
       "</style>\n",
       "<table border=\"1\" class=\"dataframe\">\n",
       "  <thead>\n",
       "    <tr style=\"text-align: right;\">\n",
       "      <th></th>\n",
       "      <th>Total Exits</th>\n",
       "      <th>Successful Completions</th>\n",
       "      <th>Percentage</th>\n",
       "    </tr>\n",
       "    <tr>\n",
       "      <th>Program</th>\n",
       "      <th></th>\n",
       "      <th></th>\n",
       "      <th></th>\n",
       "    </tr>\n",
       "  </thead>\n",
       "  <tbody>\n",
       "    <tr>\n",
       "      <th>FEMS</th>\n",
       "      <td>17</td>\n",
       "      <td>16</td>\n",
       "      <td>94%</td>\n",
       "    </tr>\n",
       "    <tr>\n",
       "      <th>LEAP</th>\n",
       "      <td>7</td>\n",
       "      <td>7</td>\n",
       "      <td>100%</td>\n",
       "    </tr>\n",
       "  </tbody>\n",
       "</table>\n",
       "</div>"
      ],
      "text/plain": [
       "         Total Exits  Successful Completions Percentage\n",
       "Program                                                \n",
       "FEMS              17                      16        94%\n",
       "LEAP               7                       7       100%"
      ]
     },
     "execution_count": 22,
     "metadata": {},
     "output_type": "execute_result"
    }
   ],
   "source": [
    "MOU_Completions.head()"
   ]
  },
  {
   "cell_type": "code",
   "execution_count": 23,
   "id": "cb1f6080",
   "metadata": {},
   "outputs": [
    {
     "data": {
      "image/png": "[encoded data removed]",
      "text/plain": [
       "<Figure size 432x288 with 1 Axes>"
      ]
     },
     "metadata": {},
     "output_type": "display_data"
    }
   ],
   "source": [
    "X = MOU_Completions.index.tolist()\n",
    "  \n",
    "X_axis = np.arange(len(X))\n",
    "  \n",
    "plt.bar(X_axis - 0.2, MOU_Completions['Total Exits'], 0.4, label = 'Total Exits')\n",
    "plt.bar(X_axis + 0.2, MOU_Completions['Successful Completions'], 0.4, label = 'Successful Completions')\n",
    "  \n",
    "plt.xticks(X_axis, X)\n",
    "plt.xlabel(\"Program\")\n",
    "plt.ylabel(\"Total Participants\")\n",
    "plt.title(\"Memorandum of Understanding: Successful Completions\")\n",
    "plt.legend()\n",
    "plt.savefig('graphs/7_MOU_Completions.png', dpi=300, bbox_inches='tight')\n",
    "plt.show()"
   ]
  },
  {
   "cell_type": "markdown",
   "id": "77141ae3",
   "metadata": {},
   "source": [
    "#### Pre App Completions"
   ]
  },
  {
   "cell_type": "code",
   "execution_count": 24,
   "id": "977ae3d9",
   "metadata": {},
   "outputs": [],
   "source": [
    "PreApp_Completions = PreApp_Completions.set_index('Level')"
   ]
  },
  {
   "cell_type": "code",
   "execution_count": 25,
   "id": "e03eff1e",
   "metadata": {},
   "outputs": [
    {
     "data": {
      "text/html": [
       "<div>\n",
       "<style scoped>\n",
       "    .dataframe tbody tr th:only-of-type {\n",
       "        vertical-align: middle;\n",
       "    }\n",
       "\n",
       "    .dataframe tbody tr th {\n",
       "        vertical-align: top;\n",
       "    }\n",
       "\n",
       "    .dataframe thead th {\n",
       "        text-align: right;\n",
       "    }\n",
       "</style>\n",
       "<table border=\"1\" class=\"dataframe\">\n",
       "  <thead>\n",
       "    <tr style=\"text-align: right;\">\n",
       "      <th></th>\n",
       "      <th>New Enrollments</th>\n",
       "      <th>Successful Completions</th>\n",
       "      <th>Percentage</th>\n",
       "    </tr>\n",
       "    <tr>\n",
       "      <th>Level</th>\n",
       "      <th></th>\n",
       "      <th></th>\n",
       "      <th></th>\n",
       "    </tr>\n",
       "  </thead>\n",
       "  <tbody>\n",
       "    <tr>\n",
       "      <th>CSA (AFL-CIO)</th>\n",
       "      <td>21</td>\n",
       "      <td>20</td>\n",
       "      <td>95%</td>\n",
       "    </tr>\n",
       "    <tr>\n",
       "      <th>Retention</th>\n",
       "      <td>30</td>\n",
       "      <td>23</td>\n",
       "      <td>77%</td>\n",
       "    </tr>\n",
       "  </tbody>\n",
       "</table>\n",
       "</div>"
      ],
      "text/plain": [
       "               New Enrollments  Successful Completions Percentage\n",
       "Level                                                            \n",
       "CSA (AFL-CIO)               21                      20        95%\n",
       "Retention                   30                      23        77%"
      ]
     },
     "execution_count": 25,
     "metadata": {},
     "output_type": "execute_result"
    }
   ],
   "source": [
    "PreApp_Completions.head()"
   ]
  },
  {
   "cell_type": "code",
   "execution_count": 26,
   "id": "1ab78e18",
   "metadata": {},
   "outputs": [
    {
     "data": {
      "image/png": "[encoded data removed]",
      "text/plain": [
       "<Figure size 432x288 with 1 Axes>"
      ]
     },
     "metadata": {},
     "output_type": "display_data"
    }
   ],
   "source": [
    "X = PreApp_Completions.index.tolist()\n",
    "  \n",
    "X_axis = np.arange(len(X))\n",
    "  \n",
    "plt.bar(X_axis - 0.2, PreApp_Completions['New Enrollments'], 0.4, label = 'New Enrollments')\n",
    "plt.bar(X_axis + 0.2, PreApp_Completions['Successful Completions'], 0.4, label = 'Successful Completions')\n",
    "  \n",
    "plt.xticks(X_axis, X)\n",
    "plt.xlabel(\"Program\")\n",
    "plt.ylabel(\"Total Participants\")\n",
    "plt.title(\"Pre-Apprenticeship: Successful Completions\")\n",
    "plt.legend()\n",
    "plt.savefig('graphs/8_Pre-App_Completions.png', dpi=300, bbox_inches='tight')\n",
    "plt.show()"
   ]
  },
  {
   "cell_type": "markdown",
   "id": "c16de42a",
   "metadata": {},
   "source": [
    "#### TEP Completions"
   ]
  },
  {
   "cell_type": "code",
   "execution_count": 27,
   "id": "f63ed588",
   "metadata": {},
   "outputs": [],
   "source": [
    "TEP_Completions = TEP_Completions.set_index('Level')"
   ]
  },
  {
   "cell_type": "code",
   "execution_count": 28,
   "id": "8a0ea40d",
   "metadata": {},
   "outputs": [
    {
     "data": {
      "text/html": [
       "<div>\n",
       "<style scoped>\n",
       "    .dataframe tbody tr th:only-of-type {\n",
       "        vertical-align: middle;\n",
       "    }\n",
       "\n",
       "    .dataframe tbody tr th {\n",
       "        vertical-align: top;\n",
       "    }\n",
       "\n",
       "    .dataframe thead th {\n",
       "        text-align: right;\n",
       "    }\n",
       "</style>\n",
       "<table border=\"1\" class=\"dataframe\">\n",
       "  <thead>\n",
       "    <tr style=\"text-align: right;\">\n",
       "      <th></th>\n",
       "      <th>Successful Completions</th>\n",
       "      <th>Total Exits</th>\n",
       "      <th>Completion Percentage</th>\n",
       "    </tr>\n",
       "    <tr>\n",
       "      <th>Level</th>\n",
       "      <th></th>\n",
       "      <th></th>\n",
       "      <th></th>\n",
       "    </tr>\n",
       "  </thead>\n",
       "  <tbody>\n",
       "    <tr>\n",
       "      <th>Overall</th>\n",
       "      <td>167</td>\n",
       "      <td>333</td>\n",
       "      <td>50%</td>\n",
       "    </tr>\n",
       "    <tr>\n",
       "      <th>JRT</th>\n",
       "      <td>225</td>\n",
       "      <td>287</td>\n",
       "      <td>78%</td>\n",
       "    </tr>\n",
       "  </tbody>\n",
       "</table>\n",
       "</div>"
      ],
      "text/plain": [
       "         Successful Completions  Total Exits Completion Percentage\n",
       "Level                                                             \n",
       "Overall                     167          333                   50%\n",
       "JRT                         225          287                   78%"
      ]
     },
     "execution_count": 28,
     "metadata": {},
     "output_type": "execute_result"
    }
   ],
   "source": [
    "TEP_Completions.head()"
   ]
  },
  {
   "cell_type": "code",
   "execution_count": 29,
   "id": "14c0d3d1",
   "metadata": {},
   "outputs": [
    {
     "data": {
      "image/png": "[encoded data removed]",
      "text/plain": [
       "<Figure size 432x288 with 1 Axes>"
      ]
     },
     "metadata": {},
     "output_type": "display_data"
    }
   ],
   "source": [
    "X = TEP_Completions.index.tolist()\n",
    "  \n",
    "X_axis = np.arange(len(X))\n",
    "  \n",
    "plt.bar(X_axis - 0.2, TEP_Completions['Total Exits'], 0.4, label = 'Total Exits')\n",
    "plt.bar(X_axis + 0.2, TEP_Completions['Successful Completions'], 0.4, label = 'Successful Completions')\n",
    "  \n",
    "plt.xticks(X_axis, X)\n",
    "plt.xlabel(\"Program\")\n",
    "plt.ylabel(\"Total Participants\")\n",
    "plt.title(\"Transitional Employment Program: Successful Completions\")\n",
    "plt.legend()\n",
    "plt.savefig('graphs/9_TEP_Completions.png', dpi=300, bbox_inches='tight')\n",
    "plt.show()"
   ]
  },
  {
   "cell_type": "markdown",
   "id": "1379a150",
   "metadata": {},
   "source": [
    "#### WEX Subsidized Employment: Enrollments"
   ]
  },
  {
   "cell_type": "code",
   "execution_count": 30,
   "id": "e6b85886",
   "metadata": {},
   "outputs": [],
   "source": [
    "WEX_Subsidized_Employment_Enrollments = WEX_Subsidized_Employment_Enrollments.set_index('Month')"
   ]
  },
  {
   "cell_type": "code",
   "execution_count": 31,
   "id": "5a1c501b",
   "metadata": {},
   "outputs": [
    {
     "data": {
      "text/html": [
       "<div>\n",
       "<style scoped>\n",
       "    .dataframe tbody tr th:only-of-type {\n",
       "        vertical-align: middle;\n",
       "    }\n",
       "\n",
       "    .dataframe tbody tr th {\n",
       "        vertical-align: top;\n",
       "    }\n",
       "\n",
       "    .dataframe thead th {\n",
       "        text-align: right;\n",
       "    }\n",
       "</style>\n",
       "<table border=\"1\" class=\"dataframe\">\n",
       "  <thead>\n",
       "    <tr style=\"text-align: right;\">\n",
       "      <th></th>\n",
       "      <th>New Enrollments</th>\n",
       "    </tr>\n",
       "    <tr>\n",
       "      <th>Month</th>\n",
       "      <th></th>\n",
       "    </tr>\n",
       "  </thead>\n",
       "  <tbody>\n",
       "    <tr>\n",
       "      <th>10/1/2020</th>\n",
       "      <td>2</td>\n",
       "    </tr>\n",
       "    <tr>\n",
       "      <th>11/1/2020</th>\n",
       "      <td>1</td>\n",
       "    </tr>\n",
       "    <tr>\n",
       "      <th>12/1/2020</th>\n",
       "      <td>8</td>\n",
       "    </tr>\n",
       "    <tr>\n",
       "      <th>1/1/2021</th>\n",
       "      <td>4</td>\n",
       "    </tr>\n",
       "    <tr>\n",
       "      <th>2/1/2021</th>\n",
       "      <td>9</td>\n",
       "    </tr>\n",
       "  </tbody>\n",
       "</table>\n",
       "</div>"
      ],
      "text/plain": [
       "           New Enrollments\n",
       "Month                     \n",
       "10/1/2020                2\n",
       "11/1/2020                1\n",
       "12/1/2020                8\n",
       "1/1/2021                 4\n",
       "2/1/2021                 9"
      ]
     },
     "execution_count": 31,
     "metadata": {},
     "output_type": "execute_result"
    }
   ],
   "source": [
    "WEX_Subsidized_Employment_Enrollments.head()"
   ]
  },
  {
   "cell_type": "code",
   "execution_count": 32,
   "id": "d302b157",
   "metadata": {},
   "outputs": [
    {
     "data": {
      "image/png": "[encoded data removed]",
      "text/plain": [
       "<Figure size 432x288 with 1 Axes>"
      ]
     },
     "metadata": {},
     "output_type": "display_data"
    }
   ],
   "source": [
    "plt.style.use('ggplot')\n",
    "\n",
    "x = WEX_Subsidized_Employment_Enrollments.index.tolist()\n",
    "\n",
    "x_pos = [i for i, _ in enumerate(x)]\n",
    "\n",
    "plt.bar(x_pos, WEX_Subsidized_Employment_Enrollments['New Enrollments'], color='green')\n",
    "plt.xlabel(\"Month\")\n",
    "plt.ylabel(\"New Enrollments\")\n",
    "plt.title(\"TEP Subsidized Employment: New Enrollments\")\n",
    "\n",
    "plt.xticks(x_pos, x, rotation = 45)\n",
    "\n",
    "plt.savefig('graphs/10_TEP_SubsEmp_Enrollments.png', dpi=300, bbox_inches='tight')\n",
    "plt.show()"
   ]
  },
  {
   "cell_type": "markdown",
   "id": "cb4626bf",
   "metadata": {},
   "source": [
    "#### TEP Placements"
   ]
  },
  {
   "cell_type": "code",
   "execution_count": 33,
   "id": "146aa311",
   "metadata": {},
   "outputs": [],
   "source": [
    "TEP_Placement = TEP_Placement.set_index('Level')"
   ]
  },
  {
   "cell_type": "code",
   "execution_count": 34,
   "id": "1968bf99",
   "metadata": {},
   "outputs": [
    {
     "data": {
      "text/html": [
       "<div>\n",
       "<style scoped>\n",
       "    .dataframe tbody tr th:only-of-type {\n",
       "        vertical-align: middle;\n",
       "    }\n",
       "\n",
       "    .dataframe tbody tr th {\n",
       "        vertical-align: top;\n",
       "    }\n",
       "\n",
       "    .dataframe thead th {\n",
       "        text-align: right;\n",
       "    }\n",
       "</style>\n",
       "<table border=\"1\" class=\"dataframe\">\n",
       "  <thead>\n",
       "    <tr style=\"text-align: right;\">\n",
       "      <th></th>\n",
       "      <th>Successful Completions</th>\n",
       "      <th>Total Exits</th>\n",
       "      <th>Completion Percentage</th>\n",
       "    </tr>\n",
       "    <tr>\n",
       "      <th>Level</th>\n",
       "      <th></th>\n",
       "      <th></th>\n",
       "      <th></th>\n",
       "    </tr>\n",
       "  </thead>\n",
       "  <tbody>\n",
       "    <tr>\n",
       "      <th>Subsidized Employment</th>\n",
       "      <td>44</td>\n",
       "      <td>102</td>\n",
       "      <td>43%</td>\n",
       "    </tr>\n",
       "    <tr>\n",
       "      <th>Retention</th>\n",
       "      <td>355</td>\n",
       "      <td>611</td>\n",
       "      <td>58%</td>\n",
       "    </tr>\n",
       "  </tbody>\n",
       "</table>\n",
       "</div>"
      ],
      "text/plain": [
       "                       Successful Completions  Total Exits  \\\n",
       "Level                                                        \n",
       "Subsidized Employment                      44          102   \n",
       "Retention                                 355          611   \n",
       "\n",
       "                      Completion Percentage  \n",
       "Level                                        \n",
       "Subsidized Employment                   43%  \n",
       "Retention                               58%  "
      ]
     },
     "execution_count": 34,
     "metadata": {},
     "output_type": "execute_result"
    }
   ],
   "source": [
    "TEP_Placement"
   ]
  },
  {
   "cell_type": "code",
   "execution_count": 35,
   "id": "801ad632",
   "metadata": {},
   "outputs": [
    {
     "data": {
      "image/png": "[encoded data removed]",
      "text/plain": [
       "<Figure size 432x288 with 1 Axes>"
      ]
     },
     "metadata": {},
     "output_type": "display_data"
    }
   ],
   "source": [
    "X = TEP_Placement.index.tolist()\n",
    "  \n",
    "X_axis = np.arange(len(X))\n",
    "  \n",
    "plt.bar(X_axis - 0.2, TEP_Placement['Total Exits'], 0.4, label = 'Total Completions')\n",
    "plt.bar(X_axis + 0.2, TEP_Placement['Successful Completions'], 0.4, label = 'Entered Employment')\n",
    "  \n",
    "plt.xticks(X_axis, X)\n",
    "plt.xlabel(\"Program\")\n",
    "plt.ylabel(\"Total Participants\")\n",
    "plt.title(\"Transitional Employment Program: Placements and Retention\")\n",
    "plt.legend()\n",
    "plt.savefig('graphs/11_TEP_Placements.png', dpi=300, bbox_inches='tight')\n",
    "plt.show()"
   ]
  }
 ],
 "metadata": {
  "kernelspec": {
   "display_name": "Python 3",
   "language": "python",
   "name": "python3"
  },
  "language_info": {
   "codemirror_mode": {
    "name": "ipython",
    "version": 3
   },
   "file_extension": ".py",
   "mimetype": "text/x-python",
   "name": "python",
   "nbconvert_exporter": "python",
   "pygments_lexer": "ipython3",
   "version": "3.8.8"
  }
 },
 "nbformat": 4,
 "nbformat_minor": 5
}
