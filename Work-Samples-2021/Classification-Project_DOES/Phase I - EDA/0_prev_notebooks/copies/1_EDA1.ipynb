{
 "cells": [
  {
   "cell_type": "markdown",
   "id": "09058d11",
   "metadata": {},
   "source": [
    "#### Analyst: Dhruv Singh <br> Report Name: Success Classifier, Phase 1 <br> Report Quarter, Year: FY 2011-2021 <br> Date Updated: 10/22/2021"
   ]
  },
  {
   "cell_type": "markdown",
   "id": "40a8cd3e",
   "metadata": {},
   "source": [
    "# Phase I: Exploratory Data Analysis"
   ]
  },
  {
   "cell_type": "code",
   "execution_count": 1,
   "id": "26d724f5",
   "metadata": {},
   "outputs": [],
   "source": [
    "# libraries\n",
    "import pandas as pd\n",
    "import numpy as np\n",
    "from scipy import stats\n",
    "import matplotlib.pyplot as plt\n",
    "import seaborn as sns\n",
    "%matplotlib inline\n",
    "import re"
   ]
  },
  {
   "cell_type": "markdown",
   "id": "37112501",
   "metadata": {},
   "source": [
    "### Reading in Data"
   ]
  },
  {
   "cell_type": "code",
   "execution_count": 3,
   "id": "f7f2077d",
   "metadata": {},
   "outputs": [],
   "source": [
    "df = pd.read_csv('1_readonly\\Services.csv', low_memory=False)"
   ]
  },
  {
   "cell_type": "code",
   "execution_count": 4,
   "id": "8f0546e4",
   "metadata": {},
   "outputs": [
    {
     "data": {
      "text/plain": [
       "(165367, 78)"
      ]
     },
     "execution_count": 4,
     "metadata": {},
     "output_type": "execute_result"
    }
   ],
   "source": [
    "df.shape"
   ]
  },
  {
   "cell_type": "code",
   "execution_count": 5,
   "id": "0b941b93",
   "metadata": {
    "scrolled": true
   },
   "outputs": [],
   "source": [
    "subset = ['StateId', 'ProgramTitle', 'Age_AtReg', 'Disability', 'Gender', 'CitizenStatus', 'EducationLevel', 'Race_Hispanic', 'Race_NativeAmerican', 'Race_Asian', 'Race_AfricanAmerican', 'Race_PacificIslander', 'Race_White', 'ActualstartDate', 'ActualEndDate', 'EmpName']"
   ]
  },
  {
   "cell_type": "markdown",
   "id": "4f427f33",
   "metadata": {},
   "source": [
    "### Subsetting Data to Relevant Columns"
   ]
  },
  {
   "cell_type": "code",
   "execution_count": 6,
   "id": "ee4b96c9",
   "metadata": {},
   "outputs": [],
   "source": [
    "df = df[subset]"
   ]
  },
  {
   "cell_type": "code",
   "execution_count": 8,
   "id": "0236b30e",
   "metadata": {},
   "outputs": [
    {
     "data": {
      "text/plain": [
       "StateId                   int64\n",
       "ProgramTitle             object\n",
       "Age_AtReg                 int64\n",
       "Disability              float64\n",
       "Gender                    int64\n",
       "CitizenStatus            object\n",
       "EducationLevel          float64\n",
       "Race_Hispanic             int64\n",
       "Race_NativeAmerican       int64\n",
       "Race_Asian                int64\n",
       "Race_AfricanAmerican      int64\n",
       "Race_PacificIslander      int64\n",
       "Race_White                int64\n",
       "ActualstartDate          object\n",
       "ActualEndDate            object\n",
       "EmpName                  object\n",
       "dtype: object"
      ]
     },
     "execution_count": 8,
     "metadata": {},
     "output_type": "execute_result"
    }
   ],
   "source": [
    "df.dtypes"
   ]
  },
  {
   "cell_type": "markdown",
   "id": "13a4d1f8",
   "metadata": {},
   "source": [
    "### Missing Values"
   ]
  },
  {
   "cell_type": "code",
   "execution_count": 9,
   "id": "27fb2962",
   "metadata": {},
   "outputs": [
    {
     "data": {
      "text/plain": [
       "StateId                      0\n",
       "ProgramTitle                 0\n",
       "Age_AtReg                    0\n",
       "Disability                 179\n",
       "Gender                       0\n",
       "CitizenStatus                0\n",
       "EducationLevel            3181\n",
       "Race_Hispanic                0\n",
       "Race_NativeAmerican          0\n",
       "Race_Asian                   0\n",
       "Race_AfricanAmerican         0\n",
       "Race_PacificIslander         0\n",
       "Race_White                   0\n",
       "ActualstartDate              0\n",
       "ActualEndDate              834\n",
       "EmpName                 110359\n",
       "dtype: int64"
      ]
     },
     "execution_count": 9,
     "metadata": {},
     "output_type": "execute_result"
    }
   ],
   "source": [
    "# checking if there are any missing values\n",
    "df.isnull().sum()"
   ]
  },
  {
   "cell_type": "code",
   "execution_count": 10,
   "id": "d2b03446",
   "metadata": {},
   "outputs": [
    {
     "data": {
      "text/html": [
       "<div>\n",
       "<style scoped>\n",
       "    .dataframe tbody tr th:only-of-type {\n",
       "        vertical-align: middle;\n",
       "    }\n",
       "\n",
       "    .dataframe tbody tr th {\n",
       "        vertical-align: top;\n",
       "    }\n",
       "\n",
       "    .dataframe thead th {\n",
       "        text-align: right;\n",
       "    }\n",
       "</style>\n",
       "<table border=\"1\" class=\"dataframe\">\n",
       "  <thead>\n",
       "    <tr style=\"text-align: right;\">\n",
       "      <th></th>\n",
       "      <th>StateId</th>\n",
       "      <th>Age_AtReg</th>\n",
       "      <th>Disability</th>\n",
       "      <th>Gender</th>\n",
       "      <th>EducationLevel</th>\n",
       "      <th>Race_Hispanic</th>\n",
       "      <th>Race_NativeAmerican</th>\n",
       "      <th>Race_Asian</th>\n",
       "      <th>Race_AfricanAmerican</th>\n",
       "      <th>Race_PacificIslander</th>\n",
       "      <th>Race_White</th>\n",
       "    </tr>\n",
       "    <tr>\n",
       "      <th>EducationLevel</th>\n",
       "      <th></th>\n",
       "      <th></th>\n",
       "      <th></th>\n",
       "      <th></th>\n",
       "      <th></th>\n",
       "      <th></th>\n",
       "      <th></th>\n",
       "      <th></th>\n",
       "      <th></th>\n",
       "      <th></th>\n",
       "      <th></th>\n",
       "    </tr>\n",
       "  </thead>\n",
       "  <tbody>\n",
       "    <tr>\n",
       "      <th>False</th>\n",
       "      <td>265387.576166</td>\n",
       "      <td>36.957573</td>\n",
       "      <td>0.255174</td>\n",
       "      <td>1.480103</td>\n",
       "      <td>54.220161</td>\n",
       "      <td>1.589798</td>\n",
       "      <td>1.053352</td>\n",
       "      <td>1.043074</td>\n",
       "      <td>1.888831</td>\n",
       "      <td>1.039325</td>\n",
       "      <td>1.068199</td>\n",
       "    </tr>\n",
       "    <tr>\n",
       "      <th>True</th>\n",
       "      <td>287496.201823</td>\n",
       "      <td>34.092109</td>\n",
       "      <td>0.505501</td>\n",
       "      <td>1.453002</td>\n",
       "      <td>NaN</td>\n",
       "      <td>2.340773</td>\n",
       "      <td>0.856334</td>\n",
       "      <td>0.849733</td>\n",
       "      <td>1.722414</td>\n",
       "      <td>0.847218</td>\n",
       "      <td>0.862622</td>\n",
       "    </tr>\n",
       "  </tbody>\n",
       "</table>\n",
       "</div>"
      ],
      "text/plain": [
       "                      StateId  Age_AtReg  Disability    Gender  \\\n",
       "EducationLevel                                                   \n",
       "False           265387.576166  36.957573    0.255174  1.480103   \n",
       "True            287496.201823  34.092109    0.505501  1.453002   \n",
       "\n",
       "                EducationLevel  Race_Hispanic  Race_NativeAmerican  \\\n",
       "EducationLevel                                                       \n",
       "False                54.220161       1.589798             1.053352   \n",
       "True                       NaN       2.340773             0.856334   \n",
       "\n",
       "                Race_Asian  Race_AfricanAmerican  Race_PacificIslander  \\\n",
       "EducationLevel                                                           \n",
       "False             1.043074              1.888831              1.039325   \n",
       "True              0.849733              1.722414              0.847218   \n",
       "\n",
       "                Race_White  \n",
       "EducationLevel              \n",
       "False             1.068199  \n",
       "True              0.862622  "
      ]
     },
     "execution_count": 10,
     "metadata": {},
     "output_type": "execute_result"
    }
   ],
   "source": [
    "# Check if EducationLevel appears to be missing at random\n",
    "df.groupby(df['EducationLevel'].isnull()).mean()"
   ]
  },
  {
   "cell_type": "code",
   "execution_count": 11,
   "id": "fdea7f46",
   "metadata": {},
   "outputs": [],
   "source": [
    "# filling missing values\n",
    "df = df.fillna(0)"
   ]
  },
  {
   "cell_type": "markdown",
   "id": "9f5dec2f",
   "metadata": {},
   "source": [
    "### Adding Target Column: Employed"
   ]
  },
  {
   "cell_type": "code",
   "execution_count": 12,
   "id": "acac97fe",
   "metadata": {},
   "outputs": [],
   "source": [
    "df['Employed'] = 0\n",
    "df.loc[df[\"EmpName\"] != 0, \"Employed\"] = 1"
   ]
  },
  {
   "cell_type": "code",
   "execution_count": 13,
   "id": "fe9f3536",
   "metadata": {},
   "outputs": [
    {
     "data": {
      "text/plain": [
       "0    110359\n",
       "1     55008\n",
       "Name: Employed, dtype: int64"
      ]
     },
     "execution_count": 13,
     "metadata": {},
     "output_type": "execute_result"
    }
   ],
   "source": [
    "# See the distribution of our target variable\n",
    "df['Employed'].value_counts()"
   ]
  },
  {
   "cell_type": "markdown",
   "id": "9addb1f6",
   "metadata": {},
   "source": [
    "### Datetime Manipulations"
   ]
  },
  {
   "cell_type": "markdown",
   "id": "94d770e4",
   "metadata": {},
   "source": [
    "##### Dropping Missing End Dates"
   ]
  },
  {
   "cell_type": "code",
   "execution_count": 14,
   "id": "775fa111",
   "metadata": {},
   "outputs": [],
   "source": [
    "# converting date variables to datetime type\n",
    "df['ActualEndDate'] = pd.to_datetime(df['ActualEndDate'], errors='coerce')\n",
    "df['ActualstartDate'] = pd.to_datetime(df['ActualstartDate'])"
   ]
  },
  {
   "cell_type": "code",
   "execution_count": 15,
   "id": "2615c833",
   "metadata": {},
   "outputs": [],
   "source": [
    "# dropping rows with start date > end date\n",
    "df = df[df.ActualstartDate <= df.ActualEndDate]"
   ]
  },
  {
   "cell_type": "markdown",
   "id": "a3baf48b",
   "metadata": {},
   "source": [
    "##### Creating Length Variable"
   ]
  },
  {
   "cell_type": "code",
   "execution_count": 16,
   "id": "1ba7e7ae",
   "metadata": {},
   "outputs": [
    {
     "data": {
      "text/plain": [
       "(164530, 17)"
      ]
     },
     "execution_count": 16,
     "metadata": {},
     "output_type": "execute_result"
    }
   ],
   "source": [
    "df.shape"
   ]
  },
  {
   "cell_type": "code",
   "execution_count": 17,
   "id": "8658b861",
   "metadata": {},
   "outputs": [],
   "source": [
    "df['Length'] = (df.ActualEndDate - df.ActualstartDate).dt.days"
   ]
  },
  {
   "cell_type": "code",
   "execution_count": 19,
   "id": "c70876f1",
   "metadata": {},
   "outputs": [
    {
     "data": {
      "text/plain": [
       "count    164530.000000\n",
       "mean         20.424306\n",
       "std          72.866674\n",
       "min           0.000000\n",
       "25%           0.000000\n",
       "50%           0.000000\n",
       "75%           0.000000\n",
       "max        2975.000000\n",
       "Name: Length, dtype: float64"
      ]
     },
     "execution_count": 19,
     "metadata": {},
     "output_type": "execute_result"
    }
   ],
   "source": [
    "df['Length'].describe()"
   ]
  },
  {
   "cell_type": "markdown",
   "id": "99cd3cad",
   "metadata": {},
   "source": [
    "##### Creating month and year variables"
   ]
  },
  {
   "cell_type": "code",
   "execution_count": 21,
   "id": "5e4bfd04",
   "metadata": {},
   "outputs": [],
   "source": [
    "# extracting month and year columns\n",
    "df['StartMonth'] = pd.DatetimeIndex(df['ActualstartDate']).month\n",
    "df['StartYear'] = pd.DatetimeIndex(df['ActualstartDate']).year\n",
    "df['EndMonth'] = pd.DatetimeIndex(df['ActualEndDate']).month\n",
    "df['EndYear'] = pd.DatetimeIndex(df['ActualEndDate']).year"
   ]
  },
  {
   "cell_type": "markdown",
   "id": "3088e7ee",
   "metadata": {},
   "source": [
    "#### De-Duplicating Data"
   ]
  },
  {
   "cell_type": "code",
   "execution_count": 22,
   "id": "e28c66a1",
   "metadata": {},
   "outputs": [
    {
     "data": {
      "text/plain": [
       "StateId                          int64\n",
       "ProgramTitle                    object\n",
       "Age_AtReg                        int64\n",
       "Disability                     float64\n",
       "Gender                           int64\n",
       "CitizenStatus                   object\n",
       "EducationLevel                 float64\n",
       "Race_Hispanic                    int64\n",
       "Race_NativeAmerican              int64\n",
       "Race_Asian                       int64\n",
       "Race_AfricanAmerican             int64\n",
       "Race_PacificIslander             int64\n",
       "Race_White                       int64\n",
       "ActualstartDate         datetime64[ns]\n",
       "ActualEndDate           datetime64[ns]\n",
       "EmpName                         object\n",
       "Employed                         int64\n",
       "Length                           int64\n",
       "StartMonth                       int64\n",
       "StartYear                        int64\n",
       "EndMonth                         int64\n",
       "EndYear                          int64\n",
       "dtype: object"
      ]
     },
     "execution_count": 22,
     "metadata": {},
     "output_type": "execute_result"
    }
   ],
   "source": [
    "df.dtypes"
   ]
  },
  {
   "cell_type": "code",
   "execution_count": 23,
   "id": "4f4738f8",
   "metadata": {},
   "outputs": [
    {
     "data": {
      "text/plain": [
       "(164530, 22)"
      ]
     },
     "execution_count": 23,
     "metadata": {},
     "output_type": "execute_result"
    }
   ],
   "source": [
    "df.shape"
   ]
  },
  {
   "cell_type": "code",
   "execution_count": 24,
   "id": "68bd9cd4",
   "metadata": {},
   "outputs": [],
   "source": [
    "# services are inflated: often recording the same services on multiple rows\n",
    "df = df.sort_values(by=[\"StateId\", \"Age_AtReg\", \"ProgramTitle\", \"EmpName\", \"StartYear\", \"StartMonth\"])"
   ]
  },
  {
   "cell_type": "code",
   "execution_count": 25,
   "id": "7dca60ca",
   "metadata": {},
   "outputs": [],
   "source": [
    "# dropping dups \n",
    "df = df.drop_duplicates(subset = [\"StateId\", \"ProgramTitle\", \"Age_AtReg\", \"EmpName\", \"StartYear\", \"StartMonth\"], keep='first')"
   ]
  },
  {
   "cell_type": "code",
   "execution_count": 26,
   "id": "f8ec6a77",
   "metadata": {},
   "outputs": [
    {
     "data": {
      "text/plain": [
       "(85456, 22)"
      ]
     },
     "execution_count": 26,
     "metadata": {},
     "output_type": "execute_result"
    }
   ],
   "source": [
    "df.shape"
   ]
  },
  {
   "cell_type": "markdown",
   "id": "75fc8a4b",
   "metadata": {},
   "source": [
    "### Dropping Date and EmpName Columns"
   ]
  },
  {
   "cell_type": "code",
   "execution_count": null,
   "id": "6cd25f2f",
   "metadata": {},
   "outputs": [],
   "source": [
    "df.drop(['StateId', 'ActualstartDate', 'ActualEndDate', 'EmpName'], axis=1, inplace = True)"
   ]
  },
  {
   "cell_type": "code",
   "execution_count": null,
   "id": "73b64b1b",
   "metadata": {},
   "outputs": [],
   "source": [
    "df.shape"
   ]
  },
  {
   "cell_type": "code",
   "execution_count": null,
   "id": "11fff690",
   "metadata": {},
   "outputs": [],
   "source": [
    "df.dtypes"
   ]
  },
  {
   "cell_type": "markdown",
   "id": "5e4e0af0",
   "metadata": {},
   "source": [
    "#### One-Hot Encoding Program Title"
   ]
  },
  {
   "cell_type": "code",
   "execution_count": null,
   "id": "9df3cb66",
   "metadata": {},
   "outputs": [],
   "source": [
    "# Get one hot encoding of column Program Title\n",
    "one_hot = pd.get_dummies(df['ProgramTitle'])\n",
    "# Drop column Program Title as it is now encoded\n",
    "df = df.drop('ProgramTitle',axis = 1)\n",
    "# Join the encoded df\n",
    "df = df.join(one_hot)"
   ]
  },
  {
   "cell_type": "code",
   "execution_count": null,
   "id": "345970b9",
   "metadata": {},
   "outputs": [],
   "source": [
    "df.dtypes"
   ]
  },
  {
   "cell_type": "code",
   "execution_count": null,
   "id": "c742d618",
   "metadata": {},
   "outputs": [],
   "source": [
    "df = df.rename(columns={\"Back to Work 50+ DC\": \"BTW\", \n",
    "                        \"DC Career Connections (DCCC)\": \"DCCC\", \n",
    "                        \"DC Infrastructure Academy\": \"DCIA\", \n",
    "                        \"L.E.A.P. (Learn, Earn, Advance, Prosper)\": \"LEAP\", \n",
    "                        \"Local Training Account\": \"LTA\", \n",
    "                        \"Pre-Apprenticeship Program\": \"Pre-App\", \n",
    "                        \"Title I - Workforce Development (WIOA)\": \"WIOA\", \n",
    "                        \"Transitional Employment Program (Way to Work)\": \"TEP\"})"
   ]
  },
  {
   "cell_type": "code",
   "execution_count": null,
   "id": "c4457e92",
   "metadata": {},
   "outputs": [],
   "source": [
    "df.dtypes"
   ]
  },
  {
   "cell_type": "markdown",
   "id": "65c0a427",
   "metadata": {},
   "source": [
    "### Recoding Variables"
   ]
  },
  {
   "cell_type": "code",
   "execution_count": null,
   "id": "df4ed7a0",
   "metadata": {},
   "outputs": [],
   "source": [
    "# Citizenship Status\n",
    "df.loc[df[\"CitizenStatus\"] == \"3\", \"CitizenStatus\"] = \"2_interim\"\n",
    "df.loc[(df[\"CitizenStatus\"] != \"1\") & (df[\"CitizenStatus\"] != \"2_interim\"), \"CitizenStatus\"] = \"3\"\n",
    "df.loc[df[\"CitizenStatus\"] == \"2_interim\", \"CitizenStatus\"] = \"2\""
   ]
  },
  {
   "cell_type": "code",
   "execution_count": null,
   "id": "bfe34ac0",
   "metadata": {},
   "outputs": [],
   "source": [
    "# converting citizen status to numeric\n",
    "df['CitizenStatus'] = pd.to_numeric(df['CitizenStatus'])"
   ]
  },
  {
   "cell_type": "code",
   "execution_count": null,
   "id": "e2a2f14d",
   "metadata": {},
   "outputs": [],
   "source": [
    "df.dtypes"
   ]
  },
  {
   "cell_type": "code",
   "execution_count": null,
   "id": "3b9c8b65",
   "metadata": {},
   "outputs": [],
   "source": [
    "# recoding race, gender, and disability\n",
    "\n",
    "# disability\n",
    "df.loc[df[\"Disability\"] == 9, \"Disability\"] = 0\n",
    "\n",
    "# gender\n",
    "df.loc[df[\"Gender\"] == 9, \"Gender\"] = 0\n",
    "\n",
    "# race\n",
    "df.loc[df[\"Race_Hispanic\"] == 9, \"Race_Hispanic\"] = 0\n",
    "df.loc[df[\"Race_NativeAmerican\"] == 9, \"Race_NativeAmerican\"] = 0\n",
    "df.loc[df[\"Race_Asian\"] == 9, \"Race_Asian\"] = 0\n",
    "df.loc[df[\"Race_AfricanAmerican\"] == 9, \"Race_AfricanAmerican\"] = 0\n",
    "df.loc[df[\"Race_PacificIslander\"] == 9, \"Race_PacificIslander\"] = 0\n",
    "df.loc[df[\"Race_White\"] == 9, \"Race_White\"] = 0"
   ]
  },
  {
   "cell_type": "code",
   "execution_count": null,
   "id": "5d2140d6",
   "metadata": {},
   "outputs": [],
   "source": [
    "# education level to make it ordinal\n",
    "\n",
    "# first recoding to interim values\n",
    "df.loc[df[\"EducationLevel\"] == 88, \"EducationLevel\"] = 188\n",
    "df.loc[df[\"EducationLevel\"] == 89, \"EducationLevel\"] = 189\n",
    "df.loc[df[\"EducationLevel\"] == 87, \"EducationLevel\"] = 187\n",
    "df.loc[df[\"EducationLevel\"] == 13, \"EducationLevel\"] = 113\n",
    "df.loc[df[\"EducationLevel\"] == 14, \"EducationLevel\"] = 114\n",
    "df.loc[df[\"EducationLevel\"] == 15, \"EducationLevel\"] = 115\n",
    "df.loc[df[\"EducationLevel\"] == 90, \"EducationLevel\"] = 190\n",
    "df.loc[df[\"EducationLevel\"] == 91, \"EducationLevel\"] = 191\n",
    "df.loc[df[\"EducationLevel\"] == 16, \"EducationLevel\"] = 116\n",
    "df.loc[df[\"EducationLevel\"] == 17, \"EducationLevel\"] = 117\n",
    "\n",
    "# then recoding to final ordinal values\n",
    "df.loc[df[\"EducationLevel\"] == 188, \"EducationLevel\"] = 13\n",
    "df.loc[df[\"EducationLevel\"] == 189, \"EducationLevel\"] = 13\n",
    "df.loc[df[\"EducationLevel\"] == 187, \"EducationLevel\"] = 14\n",
    "df.loc[df[\"EducationLevel\"] == 113, \"EducationLevel\"] = 15\n",
    "df.loc[df[\"EducationLevel\"] == 114, \"EducationLevel\"] = 16\n",
    "df.loc[df[\"EducationLevel\"] == 115, \"EducationLevel\"] = 17\n",
    "df.loc[df[\"EducationLevel\"] == 190, \"EducationLevel\"] = 18\n",
    "df.loc[df[\"EducationLevel\"] == 191, \"EducationLevel\"] = 19\n",
    "df.loc[df[\"EducationLevel\"] == 116, \"EducationLevel\"] = 20\n",
    "df.loc[df[\"EducationLevel\"] == 117, \"EducationLevel\"] = 21"
   ]
  },
  {
   "cell_type": "markdown",
   "id": "e58b4389",
   "metadata": {},
   "source": [
    "### Describing Data"
   ]
  },
  {
   "cell_type": "code",
   "execution_count": null,
   "id": "49298d92",
   "metadata": {},
   "outputs": [],
   "source": [
    "df.describe()"
   ]
  },
  {
   "cell_type": "code",
   "execution_count": null,
   "id": "03262943",
   "metadata": {},
   "outputs": [],
   "source": [
    "df.shape"
   ]
  },
  {
   "cell_type": "markdown",
   "id": "45d7dc06",
   "metadata": {},
   "source": [
    "### Summarizing"
   ]
  },
  {
   "cell_type": "code",
   "execution_count": null,
   "id": "8e802937",
   "metadata": {},
   "outputs": [],
   "source": [
    "# Look at the correlation matrix\n",
    "corr = df.corr()\n",
    "corr\n",
    "# corr.to_csv('corr.csv')"
   ]
  },
  {
   "cell_type": "code",
   "execution_count": null,
   "id": "327aec53",
   "metadata": {},
   "outputs": [],
   "source": [
    "# Look at employed by different education levels\n",
    "df.groupby('EducationLevel')['Employed'].describe()"
   ]
  },
  {
   "cell_type": "markdown",
   "id": "7fb6c8cf",
   "metadata": {},
   "source": [
    "#### T Tests"
   ]
  },
  {
   "cell_type": "code",
   "execution_count": null,
   "id": "b4b6bbb2",
   "metadata": {},
   "outputs": [],
   "source": [
    "def describe_cont_feature(feature):\n",
    "    print('\\n*** Results for {} ***'.format(feature))\n",
    "    print(df.groupby('Employed')[feature].describe())\n",
    "    print(ttest(feature))\n",
    "    \n",
    "def ttest(feature):\n",
    "    employed = df[df['Employed']==1][feature]\n",
    "    not_employed = df[df['Employed']==0][feature]\n",
    "    tstat, pval = stats.ttest_ind(employed, not_employed, equal_var=False)\n",
    "    print('t-statistic: {:.1f}, p-value: {:.3}'.format(tstat, pval))"
   ]
  },
  {
   "cell_type": "code",
   "execution_count": null,
   "id": "e87b996b",
   "metadata": {},
   "outputs": [],
   "source": [
    "# Look at the distribution of each feature at each level of the target variable\n",
    "for feature in ['Age_AtReg', 'Disability', 'Gender', 'CitizenStatus', 'EducationLevel']:\n",
    "    describe_cont_feature(feature)"
   ]
  },
  {
   "cell_type": "code",
   "execution_count": null,
   "id": "07590857",
   "metadata": {},
   "outputs": [],
   "source": [
    "# Look at the average value of each feature based on whether Age is missing\n",
    "df.groupby(df['Age_AtReg'].isnull()).mean()"
   ]
  },
  {
   "cell_type": "markdown",
   "id": "48f5e095",
   "metadata": {},
   "source": [
    "### Plotting Features"
   ]
  },
  {
   "cell_type": "code",
   "execution_count": null,
   "id": "d7e481b0",
   "metadata": {},
   "outputs": [],
   "source": [
    "# Plot overlaid histograms for continuous features\n",
    "for i in ['Age_AtReg', 'EducationLevel']:\n",
    "    unemployed = list(df[df['Employed'] == 0][i].dropna())\n",
    "    employed = list(df[df['Employed'] == 1][i].dropna())\n",
    "    xmin = min(min(unemployed), min(employed))\n",
    "    xmax = max(max(unemployed), max(employed))\n",
    "    width = (xmax - xmin) / 40\n",
    "    sns.distplot(unemployed, color='r', kde=False, bins=np.arange(xmin, xmax, width))\n",
    "    sns.distplot(employed, color='g', kde=False, bins=np.arange(xmin, xmax, width))\n",
    "    plt.legend(['Did not gain employment', 'Employed'])\n",
    "    plt.title('Overlaid histogram for {}'.format(i))\n",
    "    plt.show()"
   ]
  },
  {
   "cell_type": "code",
   "execution_count": null,
   "id": "1974ff87",
   "metadata": {},
   "outputs": [],
   "source": [
    "# Generate categorical plots for ordinal features\n",
    "for col in ['CitizenStatus', 'EducationLevel']:\n",
    "    sns.catplot(x=col, y='Employed', data=df, kind='point', aspect=2, )\n",
    "    plt.ylim(0, 1)"
   ]
  },
  {
   "cell_type": "markdown",
   "id": "3efba866",
   "metadata": {},
   "source": [
    "#### Number of Unique Values"
   ]
  },
  {
   "cell_type": "code",
   "execution_count": null,
   "id": "84d5b232",
   "metadata": {},
   "outputs": [],
   "source": [
    "# Explore the number of unique values for each feature\n",
    "for col in df.columns:\n",
    "    print('{}: {} unique values'.format(col, df[col].nunique()))"
   ]
  },
  {
   "cell_type": "code",
   "execution_count": null,
   "id": "1887be3e",
   "metadata": {},
   "outputs": [],
   "source": [
    "# Checking employment rate by gender\n",
    "df[['Employed', 'Gender']].groupby('Gender').mean()"
   ]
  },
  {
   "cell_type": "code",
   "execution_count": null,
   "id": "e445af95",
   "metadata": {},
   "outputs": [],
   "source": [
    "# Check survival rate by citizen status\n",
    "df[['Employed', 'CitizenStatus']].groupby('CitizenStatus').mean()"
   ]
  },
  {
   "cell_type": "code",
   "execution_count": null,
   "id": "008e5e73",
   "metadata": {},
   "outputs": [],
   "source": [
    "# run this line when you have the employed variable\n",
    "# and have not yet filled missing values\n",
    "\n",
    "# Is education level missing at random?\n",
    "# df[['EducationLevel', 'Employed']].groupby(df['EducationLevel'].isnull()).mean()"
   ]
  },
  {
   "cell_type": "code",
   "execution_count": null,
   "id": "d47fbf44",
   "metadata": {},
   "outputs": [],
   "source": [
    "# Look at employment rate by citizenship and gender\n",
    "df.pivot_table('Employed', index=['CitizenStatus', 'Gender'], aggfunc=['count', 'mean'])"
   ]
  },
  {
   "cell_type": "code",
   "execution_count": null,
   "id": "312a2466",
   "metadata": {},
   "outputs": [],
   "source": [
    "df.to_csv('cleaned_data/df.csv', index=False)"
   ]
  },
  {
   "cell_type": "code",
   "execution_count": null,
   "id": "b4aa9910",
   "metadata": {},
   "outputs": [],
   "source": []
  }
 ],
 "metadata": {
  "kernelspec": {
   "display_name": "Python 3",
   "language": "python",
   "name": "python3"
  },
  "language_info": {
   "codemirror_mode": {
    "name": "ipython",
    "version": 3
   },
   "file_extension": ".py",
   "mimetype": "text/x-python",
   "name": "python",
   "nbconvert_exporter": "python",
   "pygments_lexer": "ipython3",
   "version": "3.8.8"
  }
 },
 "nbformat": 4,
 "nbformat_minor": 5
}
