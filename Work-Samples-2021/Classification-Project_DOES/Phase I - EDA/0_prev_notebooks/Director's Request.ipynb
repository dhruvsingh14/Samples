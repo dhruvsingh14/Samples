{
 "cells": [
  {
   "cell_type": "markdown",
   "id": "11d0324d",
   "metadata": {},
   "source": [
    "# Director's Request"
   ]
  },
  {
   "cell_type": "markdown",
   "id": "90b1c115",
   "metadata": {},
   "source": [
    "#### Analyst: Dhruv Singh <br> Report Name: Directoer's Request <br> Report Quarter, Year: Q1 FY 2022 <br> Date Updated: 10/20/2021"
   ]
  },
  {
   "cell_type": "code",
   "execution_count": 1,
   "id": "52b148a2",
   "metadata": {},
   "outputs": [],
   "source": [
    "# libraries\n",
    "import pandas as pd\n",
    "import numpy as np\n",
    "import matplotlib.pyplot as plt\n",
    "import seaborn as sns"
   ]
  },
  {
   "cell_type": "markdown",
   "id": "8b472f81",
   "metadata": {},
   "source": [
    "### Reading in Data"
   ]
  },
  {
   "cell_type": "code",
   "execution_count": 2,
   "id": "459b38f8",
   "metadata": {},
   "outputs": [],
   "source": [
    "# reading in data\n",
    "enrollments = pd.read_csv('1_readonly/viz1_enrollments.csv')\n",
    "\n",
    "PE_comp = pd.read_csv('1_readonly/viz2.1_successful_completions_PE.csv')\n",
    "DCCC_comp = pd.read_csv('1_readonly/viz2.2_successful_completions_DCCC.csv')\n",
    "DCIA_comp = pd.read_csv('1_readonly/viz2.3_successful_completions_DCIA.csv')\n",
    "\n",
    "PE_emp = pd.read_csv('1_readonly/viz3.1_employment_rates_PE.csv')\n",
    "DCCC_emp = pd.read_csv('1_readonly/viz3.2_employment_rates_DCCC.csv')\n",
    "DCIA_emp = pd.read_csv('1_readonly/viz3.3_employment_rates_DCIA.csv')"
   ]
  },
  {
   "cell_type": "markdown",
   "id": "634f3d86",
   "metadata": {},
   "source": [
    "## Viz 1: Enrollments"
   ]
  },
  {
   "cell_type": "code",
   "execution_count": 3,
   "id": "bd8d5367",
   "metadata": {},
   "outputs": [],
   "source": [
    "enrollments['Fiscal Year'] = enrollments['Fiscal Year'].apply(str)"
   ]
  },
  {
   "cell_type": "code",
   "execution_count": 4,
   "id": "46493643",
   "metadata": {},
   "outputs": [
    {
     "data": {
      "text/plain": [
       "Fiscal Year                  object\n",
       "Project Empowerment           int64\n",
       "DC Career Connections         int64\n",
       "DC Infrastructure Academy     int64\n",
       "dtype: object"
      ]
     },
     "execution_count": 4,
     "metadata": {},
     "output_type": "execute_result"
    }
   ],
   "source": [
    "enrollments.dtypes"
   ]
  },
  {
   "cell_type": "code",
   "execution_count": 5,
   "id": "862702ef",
   "metadata": {},
   "outputs": [],
   "source": [
    "enrollments = enrollments.set_index('Fiscal Year')"
   ]
  },
  {
   "cell_type": "code",
   "execution_count": 6,
   "id": "1fb54c3c",
   "metadata": {},
   "outputs": [
    {
     "data": {
      "text/html": [
       "<div>\n",
       "<style scoped>\n",
       "    .dataframe tbody tr th:only-of-type {\n",
       "        vertical-align: middle;\n",
       "    }\n",
       "\n",
       "    .dataframe tbody tr th {\n",
       "        vertical-align: top;\n",
       "    }\n",
       "\n",
       "    .dataframe thead th {\n",
       "        text-align: right;\n",
       "    }\n",
       "</style>\n",
       "<table border=\"1\" class=\"dataframe\">\n",
       "  <thead>\n",
       "    <tr style=\"text-align: right;\">\n",
       "      <th></th>\n",
       "      <th>Project Empowerment</th>\n",
       "      <th>DC Career Connections</th>\n",
       "      <th>DC Infrastructure Academy</th>\n",
       "    </tr>\n",
       "    <tr>\n",
       "      <th>Fiscal Year</th>\n",
       "      <th></th>\n",
       "      <th></th>\n",
       "      <th></th>\n",
       "    </tr>\n",
       "  </thead>\n",
       "  <tbody>\n",
       "    <tr>\n",
       "      <th>2018</th>\n",
       "      <td>893</td>\n",
       "      <td>521</td>\n",
       "      <td>566</td>\n",
       "    </tr>\n",
       "    <tr>\n",
       "      <th>2019</th>\n",
       "      <td>894</td>\n",
       "      <td>398</td>\n",
       "      <td>777</td>\n",
       "    </tr>\n",
       "    <tr>\n",
       "      <th>2020</th>\n",
       "      <td>495</td>\n",
       "      <td>186</td>\n",
       "      <td>283</td>\n",
       "    </tr>\n",
       "    <tr>\n",
       "      <th>2021</th>\n",
       "      <td>630</td>\n",
       "      <td>168</td>\n",
       "      <td>321</td>\n",
       "    </tr>\n",
       "  </tbody>\n",
       "</table>\n",
       "</div>"
      ],
      "text/plain": [
       "             Project Empowerment  DC Career Connections  \\\n",
       "Fiscal Year                                               \n",
       "2018                         893                    521   \n",
       "2019                         894                    398   \n",
       "2020                         495                    186   \n",
       "2021                         630                    168   \n",
       "\n",
       "             DC Infrastructure Academy  \n",
       "Fiscal Year                             \n",
       "2018                               566  \n",
       "2019                               777  \n",
       "2020                               283  \n",
       "2021                               321  "
      ]
     },
     "execution_count": 6,
     "metadata": {},
     "output_type": "execute_result"
    }
   ],
   "source": [
    "enrollments.head()"
   ]
  },
  {
   "cell_type": "code",
   "execution_count": 7,
   "id": "e4296a45",
   "metadata": {},
   "outputs": [
    {
     "data": {
      "text/plain": [
       "Index(['Project Empowerment', 'DC Career Connections',\n",
       "       'DC Infrastructure Academy'],\n",
       "      dtype='object')"
      ]
     },
     "execution_count": 7,
     "metadata": {},
     "output_type": "execute_result"
    }
   ],
   "source": [
    "enrollments.columns"
   ]
  },
  {
   "cell_type": "code",
   "execution_count": 8,
   "id": "07354cb9",
   "metadata": {},
   "outputs": [
    {
     "data": {
      "image/png": "[encoded data removed]",
      "text/plain": [
       "<Figure size 432x288 with 1 Axes>"
      ]
     },
     "metadata": {
      "needs_background": "light"
     },
     "output_type": "display_data"
    }
   ],
   "source": [
    "## comparing enrollment numbers\n",
    "enrollments.plot(kind='line', linewidth=2)\n",
    "#plt.xticks(rotation=45)\n",
    "plt.title(\"Total Enrollments: FY 2018 - FY 2021\")\n",
    "plt.ylabel(\"Enrollments\")\n",
    "plt.savefig('2_graphs/1_enrollments.png', dpi=300, bbox_inches='tight')\n",
    "plt.show()"
   ]
  },
  {
   "cell_type": "markdown",
   "id": "00c01d09",
   "metadata": {},
   "source": [
    "## Viz 2: Completions"
   ]
  },
  {
   "cell_type": "markdown",
   "id": "54c81283",
   "metadata": {},
   "source": [
    "##### PE"
   ]
  },
  {
   "cell_type": "code",
   "execution_count": 9,
   "id": "25717fa9",
   "metadata": {},
   "outputs": [],
   "source": [
    "PE_comp['Fiscal Year'] = PE_comp['Fiscal Year'].apply(str)"
   ]
  },
  {
   "cell_type": "code",
   "execution_count": 10,
   "id": "a4831822",
   "metadata": {},
   "outputs": [
    {
     "data": {
      "text/plain": [
       "Fiscal Year    object\n",
       "Exit            int64\n",
       "Successful      int64\n",
       "dtype: object"
      ]
     },
     "execution_count": 10,
     "metadata": {},
     "output_type": "execute_result"
    }
   ],
   "source": [
    "PE_comp.dtypes"
   ]
  },
  {
   "cell_type": "code",
   "execution_count": 11,
   "id": "8b0426ee",
   "metadata": {},
   "outputs": [],
   "source": [
    "PE_comp = PE_comp.set_index('Fiscal Year')"
   ]
  },
  {
   "cell_type": "code",
   "execution_count": 12,
   "id": "cecf6127",
   "metadata": {},
   "outputs": [
    {
     "data": {
      "text/html": [
       "<div>\n",
       "<style scoped>\n",
       "    .dataframe tbody tr th:only-of-type {\n",
       "        vertical-align: middle;\n",
       "    }\n",
       "\n",
       "    .dataframe tbody tr th {\n",
       "        vertical-align: top;\n",
       "    }\n",
       "\n",
       "    .dataframe thead th {\n",
       "        text-align: right;\n",
       "    }\n",
       "</style>\n",
       "<table border=\"1\" class=\"dataframe\">\n",
       "  <thead>\n",
       "    <tr style=\"text-align: right;\">\n",
       "      <th></th>\n",
       "      <th>Exit</th>\n",
       "      <th>Successful</th>\n",
       "    </tr>\n",
       "    <tr>\n",
       "      <th>Fiscal Year</th>\n",
       "      <th></th>\n",
       "      <th></th>\n",
       "    </tr>\n",
       "  </thead>\n",
       "  <tbody>\n",
       "    <tr>\n",
       "      <th>2018</th>\n",
       "      <td>1180</td>\n",
       "      <td>682</td>\n",
       "    </tr>\n",
       "    <tr>\n",
       "      <th>2019</th>\n",
       "      <td>928</td>\n",
       "      <td>448</td>\n",
       "    </tr>\n",
       "    <tr>\n",
       "      <th>2020</th>\n",
       "      <td>740</td>\n",
       "      <td>367</td>\n",
       "    </tr>\n",
       "    <tr>\n",
       "      <th>2021</th>\n",
       "      <td>479</td>\n",
       "      <td>266</td>\n",
       "    </tr>\n",
       "  </tbody>\n",
       "</table>\n",
       "</div>"
      ],
      "text/plain": [
       "             Exit  Successful\n",
       "Fiscal Year                  \n",
       "2018         1180         682\n",
       "2019          928         448\n",
       "2020          740         367\n",
       "2021          479         266"
      ]
     },
     "execution_count": 12,
     "metadata": {},
     "output_type": "execute_result"
    }
   ],
   "source": [
    "PE_comp.head()"
   ]
  },
  {
   "cell_type": "code",
   "execution_count": 13,
   "id": "6cbc2c8d",
   "metadata": {},
   "outputs": [
    {
     "data": {
      "text/plain": [
       "Index(['Exit', 'Successful'], dtype='object')"
      ]
     },
     "execution_count": 13,
     "metadata": {},
     "output_type": "execute_result"
    }
   ],
   "source": [
    "PE_comp.columns"
   ]
  },
  {
   "cell_type": "code",
   "execution_count": 14,
   "id": "ef252a3e",
   "metadata": {},
   "outputs": [
    {
     "data": {
      "image/png": "[encoded data removed]",
      "text/plain": [
       "<Figure size 432x288 with 1 Axes>"
      ]
     },
     "metadata": {
      "needs_background": "light"
     },
     "output_type": "display_data"
    }
   ],
   "source": [
    "X = PE_comp.index.tolist()\n",
    "  \n",
    "X_axis = np.arange(len(X))\n",
    "  \n",
    "plt.bar(X_axis - 0.2, PE_comp['Exit'], 0.4, label = 'Total Exits', color='steelblue')\n",
    "plt.bar(X_axis + 0.2, PE_comp['Successful'], 0.4, label = 'Successful Completion', color='tomato')\n",
    "  \n",
    "plt.xticks(X_axis, X)\n",
    "plt.xlabel(\"Year\")\n",
    "plt.ylabel(\"Participants\")\n",
    "plt.title(\"Project Empowerment: Completions (FY18-FY21)\")\n",
    "plt.legend()\n",
    "#plt.xticks(rotation=45)\n",
    "plt.savefig('2_graphs/2.1_pe_comp.png', dpi=300, bbox_inches='tight')\n",
    "plt.show()"
   ]
  },
  {
   "cell_type": "markdown",
   "id": "af309381",
   "metadata": {},
   "source": [
    "##### DCCC"
   ]
  },
  {
   "cell_type": "code",
   "execution_count": 15,
   "id": "de62c678",
   "metadata": {},
   "outputs": [],
   "source": [
    "DCCC_comp['Fiscal Year'] = DCCC_comp['Fiscal Year'].apply(str)"
   ]
  },
  {
   "cell_type": "code",
   "execution_count": 16,
   "id": "cfe1febc",
   "metadata": {},
   "outputs": [
    {
     "data": {
      "text/plain": [
       "Fiscal Year    object\n",
       "Completions     int64\n",
       "Successful      int64\n",
       "dtype: object"
      ]
     },
     "execution_count": 16,
     "metadata": {},
     "output_type": "execute_result"
    }
   ],
   "source": [
    "DCCC_comp.dtypes"
   ]
  },
  {
   "cell_type": "code",
   "execution_count": 17,
   "id": "5851abef",
   "metadata": {},
   "outputs": [],
   "source": [
    "DCCC_comp = DCCC_comp.set_index('Fiscal Year')"
   ]
  },
  {
   "cell_type": "code",
   "execution_count": 18,
   "id": "90c138bd",
   "metadata": {},
   "outputs": [
    {
     "data": {
      "text/html": [
       "<div>\n",
       "<style scoped>\n",
       "    .dataframe tbody tr th:only-of-type {\n",
       "        vertical-align: middle;\n",
       "    }\n",
       "\n",
       "    .dataframe tbody tr th {\n",
       "        vertical-align: top;\n",
       "    }\n",
       "\n",
       "    .dataframe thead th {\n",
       "        text-align: right;\n",
       "    }\n",
       "</style>\n",
       "<table border=\"1\" class=\"dataframe\">\n",
       "  <thead>\n",
       "    <tr style=\"text-align: right;\">\n",
       "      <th></th>\n",
       "      <th>Completions</th>\n",
       "      <th>Successful</th>\n",
       "    </tr>\n",
       "    <tr>\n",
       "      <th>Fiscal Year</th>\n",
       "      <th></th>\n",
       "      <th></th>\n",
       "    </tr>\n",
       "  </thead>\n",
       "  <tbody>\n",
       "    <tr>\n",
       "      <th>2018</th>\n",
       "      <td>467</td>\n",
       "      <td>235</td>\n",
       "    </tr>\n",
       "    <tr>\n",
       "      <th>2019</th>\n",
       "      <td>491</td>\n",
       "      <td>213</td>\n",
       "    </tr>\n",
       "    <tr>\n",
       "      <th>2020</th>\n",
       "      <td>280</td>\n",
       "      <td>144</td>\n",
       "    </tr>\n",
       "    <tr>\n",
       "      <th>2021</th>\n",
       "      <td>163</td>\n",
       "      <td>80</td>\n",
       "    </tr>\n",
       "  </tbody>\n",
       "</table>\n",
       "</div>"
      ],
      "text/plain": [
       "             Completions  Successful\n",
       "Fiscal Year                         \n",
       "2018                 467         235\n",
       "2019                 491         213\n",
       "2020                 280         144\n",
       "2021                 163          80"
      ]
     },
     "execution_count": 18,
     "metadata": {},
     "output_type": "execute_result"
    }
   ],
   "source": [
    "DCCC_comp.head()"
   ]
  },
  {
   "cell_type": "code",
   "execution_count": 19,
   "id": "c1464d4d",
   "metadata": {},
   "outputs": [
    {
     "data": {
      "text/plain": [
       "Index(['Completions', 'Successful'], dtype='object')"
      ]
     },
     "execution_count": 19,
     "metadata": {},
     "output_type": "execute_result"
    }
   ],
   "source": [
    "DCCC_comp.columns"
   ]
  },
  {
   "cell_type": "code",
   "execution_count": 20,
   "id": "b41ad8e6",
   "metadata": {},
   "outputs": [
    {
     "data": {
      "image/png": "[encoded data removed]",
      "text/plain": [
       "<Figure size 432x288 with 1 Axes>"
      ]
     },
     "metadata": {
      "needs_background": "light"
     },
     "output_type": "display_data"
    }
   ],
   "source": [
    "X = DCCC_comp.index.tolist()\n",
    "  \n",
    "X_axis = np.arange(len(X))\n",
    "  \n",
    "plt.bar(X_axis - 0.2, DCCC_comp['Completions'], 0.4, label = 'Total Exits', color='steelblue')\n",
    "plt.bar(X_axis + 0.2, DCCC_comp['Successful'], 0.4, label = 'Successful Completion', color='tomato')\n",
    "  \n",
    "plt.xticks(X_axis, X)\n",
    "plt.xlabel(\"Year\")\n",
    "plt.ylabel(\"Participants\")\n",
    "plt.title(\"DC Career Connections: Completions (FY18-FY21)\")\n",
    "plt.legend()\n",
    "#plt.xticks(rotation=45)\n",
    "plt.savefig('2_graphs/2.2_dccc_comp.png', dpi=300, bbox_inches='tight')\n",
    "plt.show()"
   ]
  },
  {
   "cell_type": "markdown",
   "id": "7a4d58b5",
   "metadata": {},
   "source": [
    "##### DCIA"
   ]
  },
  {
   "cell_type": "code",
   "execution_count": 21,
   "id": "ad59b485",
   "metadata": {},
   "outputs": [],
   "source": [
    "DCIA_comp['Fiscal Year'] = DCIA_comp['Fiscal Year'].apply(str)"
   ]
  },
  {
   "cell_type": "code",
   "execution_count": 22,
   "id": "b48846f6",
   "metadata": {},
   "outputs": [
    {
     "data": {
      "text/plain": [
       "Fiscal Year    object\n",
       "Completions     int64\n",
       "Successful      int64\n",
       "dtype: object"
      ]
     },
     "execution_count": 22,
     "metadata": {},
     "output_type": "execute_result"
    }
   ],
   "source": [
    "DCIA_comp.dtypes"
   ]
  },
  {
   "cell_type": "code",
   "execution_count": 23,
   "id": "fd442265",
   "metadata": {},
   "outputs": [],
   "source": [
    "DCIA_comp = DCIA_comp.set_index('Fiscal Year')"
   ]
  },
  {
   "cell_type": "code",
   "execution_count": 24,
   "id": "828f4683",
   "metadata": {},
   "outputs": [
    {
     "data": {
      "text/html": [
       "<div>\n",
       "<style scoped>\n",
       "    .dataframe tbody tr th:only-of-type {\n",
       "        vertical-align: middle;\n",
       "    }\n",
       "\n",
       "    .dataframe tbody tr th {\n",
       "        vertical-align: top;\n",
       "    }\n",
       "\n",
       "    .dataframe thead th {\n",
       "        text-align: right;\n",
       "    }\n",
       "</style>\n",
       "<table border=\"1\" class=\"dataframe\">\n",
       "  <thead>\n",
       "    <tr style=\"text-align: right;\">\n",
       "      <th></th>\n",
       "      <th>Completions</th>\n",
       "      <th>Successful</th>\n",
       "    </tr>\n",
       "    <tr>\n",
       "      <th>Fiscal Year</th>\n",
       "      <th></th>\n",
       "      <th></th>\n",
       "    </tr>\n",
       "  </thead>\n",
       "  <tbody>\n",
       "    <tr>\n",
       "      <th>2018</th>\n",
       "      <td>566</td>\n",
       "      <td>528</td>\n",
       "    </tr>\n",
       "    <tr>\n",
       "      <th>2019</th>\n",
       "      <td>777</td>\n",
       "      <td>697</td>\n",
       "    </tr>\n",
       "    <tr>\n",
       "      <th>2020</th>\n",
       "      <td>283</td>\n",
       "      <td>248</td>\n",
       "    </tr>\n",
       "    <tr>\n",
       "      <th>2021</th>\n",
       "      <td>285</td>\n",
       "      <td>250</td>\n",
       "    </tr>\n",
       "  </tbody>\n",
       "</table>\n",
       "</div>"
      ],
      "text/plain": [
       "             Completions  Successful\n",
       "Fiscal Year                         \n",
       "2018                 566         528\n",
       "2019                 777         697\n",
       "2020                 283         248\n",
       "2021                 285         250"
      ]
     },
     "execution_count": 24,
     "metadata": {},
     "output_type": "execute_result"
    }
   ],
   "source": [
    "DCIA_comp.head()"
   ]
  },
  {
   "cell_type": "code",
   "execution_count": 25,
   "id": "a47226d0",
   "metadata": {},
   "outputs": [
    {
     "data": {
      "text/plain": [
       "Index(['Completions', 'Successful'], dtype='object')"
      ]
     },
     "execution_count": 25,
     "metadata": {},
     "output_type": "execute_result"
    }
   ],
   "source": [
    "DCIA_comp.columns"
   ]
  },
  {
   "cell_type": "code",
   "execution_count": 26,
   "id": "fb1e3edb",
   "metadata": {},
   "outputs": [
    {
     "data": {
      "image/png": "[encoded data removed]",
      "text/plain": [
       "<Figure size 432x288 with 1 Axes>"
      ]
     },
     "metadata": {
      "needs_background": "light"
     },
     "output_type": "display_data"
    }
   ],
   "source": [
    "X = DCIA_comp.index.tolist()\n",
    "  \n",
    "X_axis = np.arange(len(X))\n",
    "  \n",
    "plt.bar(X_axis - 0.2, DCIA_comp['Completions'], 0.4, label = 'Total Exits', color='steelblue')\n",
    "plt.bar(X_axis + 0.2, DCIA_comp['Successful'], 0.4, label = 'Successful Completion', color='tomato')\n",
    "  \n",
    "plt.xticks(X_axis, X)\n",
    "plt.xlabel(\"Year\")\n",
    "plt.ylabel(\"Participants\")\n",
    "plt.title(\"DC Infrastructure Academy: Completions (FY18-FY21)\")\n",
    "plt.legend()\n",
    "#plt.xticks(rotation=45)\n",
    "plt.savefig('2_graphs/2.3_dcia_comp.png', dpi=300, bbox_inches='tight')\n",
    "plt.show()"
   ]
  },
  {
   "cell_type": "markdown",
   "id": "2570ca72",
   "metadata": {},
   "source": [
    "### Viz 3: Rates"
   ]
  },
  {
   "cell_type": "markdown",
   "id": "2daf3c22",
   "metadata": {},
   "source": [
    "##### PE"
   ]
  },
  {
   "cell_type": "code",
   "execution_count": 27,
   "id": "c6f6f9e7",
   "metadata": {},
   "outputs": [],
   "source": [
    "PE_emp['Fiscal Year'] = PE_emp['Fiscal Year'].apply(str)"
   ]
  },
  {
   "cell_type": "code",
   "execution_count": 28,
   "id": "4bb6feac",
   "metadata": {},
   "outputs": [
    {
     "data": {
      "text/plain": [
       "Fiscal Year         object\n",
       "Completion Rate    float64\n",
       "Employed Rate      float64\n",
       "dtype: object"
      ]
     },
     "execution_count": 28,
     "metadata": {},
     "output_type": "execute_result"
    }
   ],
   "source": [
    "PE_emp.dtypes"
   ]
  },
  {
   "cell_type": "code",
   "execution_count": 29,
   "id": "3fd96738",
   "metadata": {},
   "outputs": [],
   "source": [
    "PE_emp = PE_emp.set_index('Fiscal Year')"
   ]
  },
  {
   "cell_type": "code",
   "execution_count": 30,
   "id": "aac1cbc4",
   "metadata": {},
   "outputs": [
    {
     "data": {
      "text/html": [
       "<div>\n",
       "<style scoped>\n",
       "    .dataframe tbody tr th:only-of-type {\n",
       "        vertical-align: middle;\n",
       "    }\n",
       "\n",
       "    .dataframe tbody tr th {\n",
       "        vertical-align: top;\n",
       "    }\n",
       "\n",
       "    .dataframe thead th {\n",
       "        text-align: right;\n",
       "    }\n",
       "</style>\n",
       "<table border=\"1\" class=\"dataframe\">\n",
       "  <thead>\n",
       "    <tr style=\"text-align: right;\">\n",
       "      <th></th>\n",
       "      <th>Completion Rate</th>\n",
       "      <th>Employed Rate</th>\n",
       "    </tr>\n",
       "    <tr>\n",
       "      <th>Fiscal Year</th>\n",
       "      <th></th>\n",
       "      <th></th>\n",
       "    </tr>\n",
       "  </thead>\n",
       "  <tbody>\n",
       "    <tr>\n",
       "      <th>2018</th>\n",
       "      <td>57.796610</td>\n",
       "      <td>46.334311</td>\n",
       "    </tr>\n",
       "    <tr>\n",
       "      <th>2019</th>\n",
       "      <td>48.275862</td>\n",
       "      <td>78.794643</td>\n",
       "    </tr>\n",
       "    <tr>\n",
       "      <th>2020</th>\n",
       "      <td>49.594595</td>\n",
       "      <td>84.468665</td>\n",
       "    </tr>\n",
       "    <tr>\n",
       "      <th>2021</th>\n",
       "      <td>55.532359</td>\n",
       "      <td>87.218045</td>\n",
       "    </tr>\n",
       "  </tbody>\n",
       "</table>\n",
       "</div>"
      ],
      "text/plain": [
       "             Completion Rate  Employed Rate\n",
       "Fiscal Year                                \n",
       "2018               57.796610      46.334311\n",
       "2019               48.275862      78.794643\n",
       "2020               49.594595      84.468665\n",
       "2021               55.532359      87.218045"
      ]
     },
     "execution_count": 30,
     "metadata": {},
     "output_type": "execute_result"
    }
   ],
   "source": [
    "PE_emp.head()"
   ]
  },
  {
   "cell_type": "code",
   "execution_count": 31,
   "id": "13dc8927",
   "metadata": {},
   "outputs": [
    {
     "data": {
      "text/plain": [
       "Index(['Completion Rate', 'Employed Rate'], dtype='object')"
      ]
     },
     "execution_count": 31,
     "metadata": {},
     "output_type": "execute_result"
    }
   ],
   "source": [
    "PE_emp.columns"
   ]
  },
  {
   "cell_type": "code",
   "execution_count": 32,
   "id": "f63c3725",
   "metadata": {},
   "outputs": [
    {
     "data": {
      "image/png": "[encoded data removed]",
      "text/plain": [
       "<Figure size 432x288 with 1 Axes>"
      ]
     },
     "metadata": {
      "needs_background": "light"
     },
     "output_type": "display_data"
    }
   ],
   "source": [
    "## comparing enrollment numbers\n",
    "PE_emp.plot(kind='line', linewidth=2)\n",
    "#plt.xticks(rotation=45)\n",
    "plt.title(\"Project Empowerment: Employment (FY18-FY21)\")\n",
    "plt.ylabel(\"Percentage\")\n",
    "plt.savefig('2_graphs/3.1_pe_emp.png', dpi=300, bbox_inches='tight')\n",
    "plt.show()"
   ]
  },
  {
   "cell_type": "markdown",
   "id": "968c3bd7",
   "metadata": {},
   "source": [
    "##### DCCC"
   ]
  },
  {
   "cell_type": "code",
   "execution_count": 33,
   "id": "8e9b116b",
   "metadata": {},
   "outputs": [],
   "source": [
    "DCCC_emp['Fiscal Year'] = DCCC_emp['Fiscal Year'].apply(str)"
   ]
  },
  {
   "cell_type": "code",
   "execution_count": 34,
   "id": "d6a27c8a",
   "metadata": {},
   "outputs": [
    {
     "data": {
      "text/plain": [
       "Fiscal Year         object\n",
       "Completion Rate    float64\n",
       "Employed Rate      float64\n",
       "dtype: object"
      ]
     },
     "execution_count": 34,
     "metadata": {},
     "output_type": "execute_result"
    }
   ],
   "source": [
    "DCCC_emp.dtypes"
   ]
  },
  {
   "cell_type": "code",
   "execution_count": 35,
   "id": "5c0a2c61",
   "metadata": {},
   "outputs": [],
   "source": [
    "DCCC_emp = DCCC_emp.set_index('Fiscal Year')"
   ]
  },
  {
   "cell_type": "code",
   "execution_count": 36,
   "id": "19263af1",
   "metadata": {},
   "outputs": [
    {
     "data": {
      "text/html": [
       "<div>\n",
       "<style scoped>\n",
       "    .dataframe tbody tr th:only-of-type {\n",
       "        vertical-align: middle;\n",
       "    }\n",
       "\n",
       "    .dataframe tbody tr th {\n",
       "        vertical-align: top;\n",
       "    }\n",
       "\n",
       "    .dataframe thead th {\n",
       "        text-align: right;\n",
       "    }\n",
       "</style>\n",
       "<table border=\"1\" class=\"dataframe\">\n",
       "  <thead>\n",
       "    <tr style=\"text-align: right;\">\n",
       "      <th></th>\n",
       "      <th>Completion Rate</th>\n",
       "      <th>Employed Rate</th>\n",
       "    </tr>\n",
       "    <tr>\n",
       "      <th>Fiscal Year</th>\n",
       "      <th></th>\n",
       "      <th></th>\n",
       "    </tr>\n",
       "  </thead>\n",
       "  <tbody>\n",
       "    <tr>\n",
       "      <th>2018</th>\n",
       "      <td>50.321199</td>\n",
       "      <td>58.723404</td>\n",
       "    </tr>\n",
       "    <tr>\n",
       "      <th>2019</th>\n",
       "      <td>43.380855</td>\n",
       "      <td>48.356808</td>\n",
       "    </tr>\n",
       "    <tr>\n",
       "      <th>2020</th>\n",
       "      <td>51.428571</td>\n",
       "      <td>53.472222</td>\n",
       "    </tr>\n",
       "    <tr>\n",
       "      <th>2021</th>\n",
       "      <td>49.079755</td>\n",
       "      <td>65.000000</td>\n",
       "    </tr>\n",
       "  </tbody>\n",
       "</table>\n",
       "</div>"
      ],
      "text/plain": [
       "             Completion Rate  Employed Rate\n",
       "Fiscal Year                                \n",
       "2018               50.321199      58.723404\n",
       "2019               43.380855      48.356808\n",
       "2020               51.428571      53.472222\n",
       "2021               49.079755      65.000000"
      ]
     },
     "execution_count": 36,
     "metadata": {},
     "output_type": "execute_result"
    }
   ],
   "source": [
    "DCCC_emp.head()"
   ]
  },
  {
   "cell_type": "code",
   "execution_count": 37,
   "id": "3f868260",
   "metadata": {},
   "outputs": [
    {
     "data": {
      "text/plain": [
       "Index(['Completion Rate', 'Employed Rate'], dtype='object')"
      ]
     },
     "execution_count": 37,
     "metadata": {},
     "output_type": "execute_result"
    }
   ],
   "source": [
    "DCCC_emp.columns"
   ]
  },
  {
   "cell_type": "code",
   "execution_count": 38,
   "id": "4efa9ce5",
   "metadata": {},
   "outputs": [
    {
     "data": {
      "image/png": "[encoded data removed]",
      "text/plain": [
       "<Figure size 432x288 with 1 Axes>"
      ]
     },
     "metadata": {
      "needs_background": "light"
     },
     "output_type": "display_data"
    }
   ],
   "source": [
    "## comparing enrollment numbers\n",
    "DCCC_emp.plot(kind='line', linewidth=2)\n",
    "#plt.xticks(rotation=45)\n",
    "plt.title(\"DC Career Connections: Employment (FY18-FY21)\")\n",
    "plt.ylabel(\"Percentage\")\n",
    "plt.savefig('2_graphs/3.2_dccc_emp.png', dpi=300, bbox_inches='tight')\n",
    "plt.show()"
   ]
  },
  {
   "cell_type": "markdown",
   "id": "8cc54775",
   "metadata": {},
   "source": [
    "##### DCIA"
   ]
  },
  {
   "cell_type": "code",
   "execution_count": 39,
   "id": "3da45fd5",
   "metadata": {},
   "outputs": [],
   "source": [
    "DCIA_emp['Fiscal Year'] = DCIA_emp['Fiscal Year'].apply(str)"
   ]
  },
  {
   "cell_type": "code",
   "execution_count": 40,
   "id": "8ed0d80d",
   "metadata": {},
   "outputs": [
    {
     "data": {
      "text/plain": [
       "Fiscal Year         object\n",
       "Completion Rate    float64\n",
       "Employed Rate      float64\n",
       "dtype: object"
      ]
     },
     "execution_count": 40,
     "metadata": {},
     "output_type": "execute_result"
    }
   ],
   "source": [
    "DCIA_emp.dtypes"
   ]
  },
  {
   "cell_type": "code",
   "execution_count": 41,
   "id": "a740e2ae",
   "metadata": {},
   "outputs": [],
   "source": [
    "DCIA_emp = DCIA_emp.set_index('Fiscal Year')"
   ]
  },
  {
   "cell_type": "code",
   "execution_count": 42,
   "id": "bdb2374e",
   "metadata": {},
   "outputs": [
    {
     "data": {
      "text/html": [
       "<div>\n",
       "<style scoped>\n",
       "    .dataframe tbody tr th:only-of-type {\n",
       "        vertical-align: middle;\n",
       "    }\n",
       "\n",
       "    .dataframe tbody tr th {\n",
       "        vertical-align: top;\n",
       "    }\n",
       "\n",
       "    .dataframe thead th {\n",
       "        text-align: right;\n",
       "    }\n",
       "</style>\n",
       "<table border=\"1\" class=\"dataframe\">\n",
       "  <thead>\n",
       "    <tr style=\"text-align: right;\">\n",
       "      <th></th>\n",
       "      <th>Completion Rate</th>\n",
       "      <th>Employed Rate</th>\n",
       "    </tr>\n",
       "    <tr>\n",
       "      <th>Fiscal Year</th>\n",
       "      <th></th>\n",
       "      <th></th>\n",
       "    </tr>\n",
       "  </thead>\n",
       "  <tbody>\n",
       "    <tr>\n",
       "      <th>2018</th>\n",
       "      <td>93.286219</td>\n",
       "      <td>50.189394</td>\n",
       "    </tr>\n",
       "    <tr>\n",
       "      <th>2019</th>\n",
       "      <td>89.703990</td>\n",
       "      <td>46.054519</td>\n",
       "    </tr>\n",
       "    <tr>\n",
       "      <th>2020</th>\n",
       "      <td>87.632509</td>\n",
       "      <td>60.483871</td>\n",
       "    </tr>\n",
       "    <tr>\n",
       "      <th>2021</th>\n",
       "      <td>87.719298</td>\n",
       "      <td>31.600000</td>\n",
       "    </tr>\n",
       "  </tbody>\n",
       "</table>\n",
       "</div>"
      ],
      "text/plain": [
       "             Completion Rate  Employed Rate\n",
       "Fiscal Year                                \n",
       "2018               93.286219      50.189394\n",
       "2019               89.703990      46.054519\n",
       "2020               87.632509      60.483871\n",
       "2021               87.719298      31.600000"
      ]
     },
     "execution_count": 42,
     "metadata": {},
     "output_type": "execute_result"
    }
   ],
   "source": [
    "DCIA_emp.head()"
   ]
  },
  {
   "cell_type": "code",
   "execution_count": 43,
   "id": "e8b4258e",
   "metadata": {},
   "outputs": [
    {
     "data": {
      "text/plain": [
       "Index(['Completion Rate', 'Employed Rate'], dtype='object')"
      ]
     },
     "execution_count": 43,
     "metadata": {},
     "output_type": "execute_result"
    }
   ],
   "source": [
    "DCIA_emp.columns"
   ]
  },
  {
   "cell_type": "code",
   "execution_count": 44,
   "id": "96022652",
   "metadata": {},
   "outputs": [
    {
     "data": {
      "image/png": "[encoded data removed]",
      "text/plain": [
       "<Figure size 432x288 with 1 Axes>"
      ]
     },
     "metadata": {
      "needs_background": "light"
     },
     "output_type": "display_data"
    }
   ],
   "source": [
    "## comparing enrollment numbers\n",
    "DCIA_emp.plot(kind='line', linewidth=2)\n",
    "#plt.xticks(rotation=45)\n",
    "plt.title(\"DC Infrastructure Academy: Employment (FY18-FY21)\")\n",
    "plt.ylabel(\"Percentage\")\n",
    "plt.savefig('2_graphs/3.3_dcia_emp.png', dpi=300, bbox_inches='tight')\n",
    "plt.show()"
   ]
  },
  {
   "cell_type": "code",
   "execution_count": null,
   "id": "caa608cf",
   "metadata": {},
   "outputs": [],
   "source": []
  },
  {
   "cell_type": "code",
   "execution_count": null,
   "id": "0e2f8bdf",
   "metadata": {},
   "outputs": [],
   "source": []
  },
  {
   "cell_type": "code",
   "execution_count": null,
   "id": "89a616d8",
   "metadata": {},
   "outputs": [],
   "source": []
  },
  {
   "cell_type": "code",
   "execution_count": null,
   "id": "d89a1420",
   "metadata": {},
   "outputs": [],
   "source": []
  }
 ],
 "metadata": {
  "kernelspec": {
   "display_name": "Python 3",
   "language": "python",
   "name": "python3"
  },
  "language_info": {
   "codemirror_mode": {
    "name": "ipython",
    "version": 3
   },
   "file_extension": ".py",
   "mimetype": "text/x-python",
   "name": "python",
   "nbconvert_exporter": "python",
   "pygments_lexer": "ipython3",
   "version": "3.8.8"
  }
 },
 "nbformat": 4,
 "nbformat_minor": 5
}
