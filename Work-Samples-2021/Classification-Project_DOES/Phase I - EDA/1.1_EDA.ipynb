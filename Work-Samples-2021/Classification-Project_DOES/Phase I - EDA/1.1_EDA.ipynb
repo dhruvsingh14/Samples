{
 "cells": [
  {
   "cell_type": "markdown",
   "id": "09058d11",
   "metadata": {},
   "source": [
    "#### Analyst: Dhruv Singh <br> Report Name: Success Classifier, Phase 1.1: EDA <br> Report Quarter, Year: FY 2011-2021 <br> Date Updated: 10/22/2021"
   ]
  },
  {
   "cell_type": "markdown",
   "id": "40a8cd3e",
   "metadata": {},
   "source": [
    "# Phase I. A: Exploratory Data Analysis"
   ]
  },
  {
   "cell_type": "code",
   "execution_count": 1,
   "id": "26d724f5",
   "metadata": {},
   "outputs": [],
   "source": [
    "# libraries\n",
    "import pandas as pd\n",
    "import numpy as np\n",
    "from scipy import stats\n",
    "import matplotlib.pyplot as plt\n",
    "import seaborn as sns\n",
    "%matplotlib inline\n",
    "import re"
   ]
  },
  {
   "cell_type": "markdown",
   "id": "37112501",
   "metadata": {},
   "source": [
    "### Reading in Data"
   ]
  },
  {
   "cell_type": "code",
   "execution_count": 2,
   "id": "f7f2077d",
   "metadata": {},
   "outputs": [],
   "source": [
    "df = pd.read_csv('1_readonly\\Services.csv', low_memory=False)"
   ]
  },
  {
   "cell_type": "code",
   "execution_count": 3,
   "id": "8f0546e4",
   "metadata": {},
   "outputs": [
    {
     "data": {
      "text/plain": [
       "(165367, 78)"
      ]
     },
     "execution_count": 3,
     "metadata": {},
     "output_type": "execute_result"
    }
   ],
   "source": [
    "df.shape"
   ]
  },
  {
   "cell_type": "code",
   "execution_count": 4,
   "id": "0b941b93",
   "metadata": {
    "scrolled": true
   },
   "outputs": [],
   "source": [
    "subset = ['StateId', 'ProgramTitle', 'Age_AtReg', 'Disability', 'Gender', 'CitizenStatus', 'EducationLevel', 'Race_Hispanic', 'Race_NativeAmerican', 'Race_Asian', 'Race_AfricanAmerican', 'Race_PacificIslander', 'Race_White', 'ActualstartDate', 'ActualEndDate', 'EmpName']"
   ]
  },
  {
   "cell_type": "markdown",
   "id": "4f427f33",
   "metadata": {},
   "source": [
    "### Subsetting Data to Relevant Columns"
   ]
  },
  {
   "cell_type": "code",
   "execution_count": 5,
   "id": "ee4b96c9",
   "metadata": {},
   "outputs": [],
   "source": [
    "df = df[subset]"
   ]
  },
  {
   "cell_type": "code",
   "execution_count": 6,
   "id": "0236b30e",
   "metadata": {},
   "outputs": [
    {
     "data": {
      "text/plain": [
       "StateId                   int64\n",
       "ProgramTitle             object\n",
       "Age_AtReg                 int64\n",
       "Disability              float64\n",
       "Gender                    int64\n",
       "CitizenStatus            object\n",
       "EducationLevel          float64\n",
       "Race_Hispanic             int64\n",
       "Race_NativeAmerican       int64\n",
       "Race_Asian                int64\n",
       "Race_AfricanAmerican      int64\n",
       "Race_PacificIslander      int64\n",
       "Race_White                int64\n",
       "ActualstartDate          object\n",
       "ActualEndDate            object\n",
       "EmpName                  object\n",
       "dtype: object"
      ]
     },
     "execution_count": 6,
     "metadata": {},
     "output_type": "execute_result"
    }
   ],
   "source": [
    "df.dtypes"
   ]
  },
  {
   "cell_type": "markdown",
   "id": "13a4d1f8",
   "metadata": {},
   "source": [
    "### Missing Values"
   ]
  },
  {
   "cell_type": "code",
   "execution_count": 7,
   "id": "27fb2962",
   "metadata": {},
   "outputs": [
    {
     "data": {
      "text/plain": [
       "StateId                      0\n",
       "ProgramTitle                 0\n",
       "Age_AtReg                    0\n",
       "Disability                 179\n",
       "Gender                       0\n",
       "CitizenStatus                0\n",
       "EducationLevel            3181\n",
       "Race_Hispanic                0\n",
       "Race_NativeAmerican          0\n",
       "Race_Asian                   0\n",
       "Race_AfricanAmerican         0\n",
       "Race_PacificIslander         0\n",
       "Race_White                   0\n",
       "ActualstartDate              0\n",
       "ActualEndDate              834\n",
       "EmpName                 110359\n",
       "dtype: int64"
      ]
     },
     "execution_count": 7,
     "metadata": {},
     "output_type": "execute_result"
    }
   ],
   "source": [
    "# checking if there are any missing values\n",
    "df.isnull().sum()"
   ]
  },
  {
   "cell_type": "code",
   "execution_count": 8,
   "id": "d2b03446",
   "metadata": {},
   "outputs": [
    {
     "data": {
      "text/html": [
       "<div>\n",
       "<style scoped>\n",
       "    .dataframe tbody tr th:only-of-type {\n",
       "        vertical-align: middle;\n",
       "    }\n",
       "\n",
       "    .dataframe tbody tr th {\n",
       "        vertical-align: top;\n",
       "    }\n",
       "\n",
       "    .dataframe thead th {\n",
       "        text-align: right;\n",
       "    }\n",
       "</style>\n",
       "<table border=\"1\" class=\"dataframe\">\n",
       "  <thead>\n",
       "    <tr style=\"text-align: right;\">\n",
       "      <th></th>\n",
       "      <th>StateId</th>\n",
       "      <th>Age_AtReg</th>\n",
       "      <th>Disability</th>\n",
       "      <th>Gender</th>\n",
       "      <th>EducationLevel</th>\n",
       "      <th>Race_Hispanic</th>\n",
       "      <th>Race_NativeAmerican</th>\n",
       "      <th>Race_Asian</th>\n",
       "      <th>Race_AfricanAmerican</th>\n",
       "      <th>Race_PacificIslander</th>\n",
       "      <th>Race_White</th>\n",
       "    </tr>\n",
       "    <tr>\n",
       "      <th>EducationLevel</th>\n",
       "      <th></th>\n",
       "      <th></th>\n",
       "      <th></th>\n",
       "      <th></th>\n",
       "      <th></th>\n",
       "      <th></th>\n",
       "      <th></th>\n",
       "      <th></th>\n",
       "      <th></th>\n",
       "      <th></th>\n",
       "      <th></th>\n",
       "    </tr>\n",
       "  </thead>\n",
       "  <tbody>\n",
       "    <tr>\n",
       "      <th>False</th>\n",
       "      <td>265387.576166</td>\n",
       "      <td>36.957573</td>\n",
       "      <td>0.255174</td>\n",
       "      <td>1.480103</td>\n",
       "      <td>54.220161</td>\n",
       "      <td>1.589798</td>\n",
       "      <td>1.053352</td>\n",
       "      <td>1.043074</td>\n",
       "      <td>1.888831</td>\n",
       "      <td>1.039325</td>\n",
       "      <td>1.068199</td>\n",
       "    </tr>\n",
       "    <tr>\n",
       "      <th>True</th>\n",
       "      <td>287496.201823</td>\n",
       "      <td>34.092109</td>\n",
       "      <td>0.505501</td>\n",
       "      <td>1.453002</td>\n",
       "      <td>NaN</td>\n",
       "      <td>2.340773</td>\n",
       "      <td>0.856334</td>\n",
       "      <td>0.849733</td>\n",
       "      <td>1.722414</td>\n",
       "      <td>0.847218</td>\n",
       "      <td>0.862622</td>\n",
       "    </tr>\n",
       "  </tbody>\n",
       "</table>\n",
       "</div>"
      ],
      "text/plain": [
       "                      StateId  Age_AtReg  Disability    Gender  \\\n",
       "EducationLevel                                                   \n",
       "False           265387.576166  36.957573    0.255174  1.480103   \n",
       "True            287496.201823  34.092109    0.505501  1.453002   \n",
       "\n",
       "                EducationLevel  Race_Hispanic  Race_NativeAmerican  \\\n",
       "EducationLevel                                                       \n",
       "False                54.220161       1.589798             1.053352   \n",
       "True                       NaN       2.340773             0.856334   \n",
       "\n",
       "                Race_Asian  Race_AfricanAmerican  Race_PacificIslander  \\\n",
       "EducationLevel                                                           \n",
       "False             1.043074              1.888831              1.039325   \n",
       "True              0.849733              1.722414              0.847218   \n",
       "\n",
       "                Race_White  \n",
       "EducationLevel              \n",
       "False             1.068199  \n",
       "True              0.862622  "
      ]
     },
     "execution_count": 8,
     "metadata": {},
     "output_type": "execute_result"
    }
   ],
   "source": [
    "# Check if EducationLevel appears to be missing at random\n",
    "df.groupby(df['EducationLevel'].isnull()).mean()"
   ]
  },
  {
   "cell_type": "code",
   "execution_count": 9,
   "id": "fdea7f46",
   "metadata": {},
   "outputs": [],
   "source": [
    "# filling missing values\n",
    "df = df.fillna(0)"
   ]
  },
  {
   "cell_type": "markdown",
   "id": "9f5dec2f",
   "metadata": {},
   "source": [
    "### Adding Target Column: Employed"
   ]
  },
  {
   "cell_type": "code",
   "execution_count": 10,
   "id": "acac97fe",
   "metadata": {},
   "outputs": [],
   "source": [
    "df['Employed'] = 0\n",
    "df.loc[df[\"EmpName\"] != 0, \"Employed\"] = 1"
   ]
  },
  {
   "cell_type": "code",
   "execution_count": 11,
   "id": "fe9f3536",
   "metadata": {},
   "outputs": [
    {
     "data": {
      "text/plain": [
       "0    110359\n",
       "1     55008\n",
       "Name: Employed, dtype: int64"
      ]
     },
     "execution_count": 11,
     "metadata": {},
     "output_type": "execute_result"
    }
   ],
   "source": [
    "# See the distribution of our target variable\n",
    "df['Employed'].value_counts()"
   ]
  },
  {
   "cell_type": "markdown",
   "id": "9addb1f6",
   "metadata": {},
   "source": [
    "### Datetime Manipulations"
   ]
  },
  {
   "cell_type": "markdown",
   "id": "94d770e4",
   "metadata": {},
   "source": [
    "##### Dropping Missing End Dates"
   ]
  },
  {
   "cell_type": "code",
   "execution_count": 12,
   "id": "775fa111",
   "metadata": {},
   "outputs": [],
   "source": [
    "# converting date variables to datetime type\n",
    "df['ActualEndDate'] = pd.to_datetime(df['ActualEndDate'], errors='coerce')\n",
    "df['ActualstartDate'] = pd.to_datetime(df['ActualstartDate'])"
   ]
  },
  {
   "cell_type": "code",
   "execution_count": 13,
   "id": "2615c833",
   "metadata": {},
   "outputs": [],
   "source": [
    "# dropping rows with start date > end date\n",
    "df = df[df.ActualstartDate <= df.ActualEndDate]"
   ]
  },
  {
   "cell_type": "markdown",
   "id": "a3baf48b",
   "metadata": {},
   "source": [
    "##### Creating Length Variable"
   ]
  },
  {
   "cell_type": "code",
   "execution_count": 14,
   "id": "1ba7e7ae",
   "metadata": {},
   "outputs": [
    {
     "data": {
      "text/plain": [
       "(164530, 17)"
      ]
     },
     "execution_count": 14,
     "metadata": {},
     "output_type": "execute_result"
    }
   ],
   "source": [
    "df.shape"
   ]
  },
  {
   "cell_type": "code",
   "execution_count": 15,
   "id": "8658b861",
   "metadata": {},
   "outputs": [],
   "source": [
    "df['Length'] = (df.ActualEndDate - df.ActualstartDate).dt.days"
   ]
  },
  {
   "cell_type": "code",
   "execution_count": 16,
   "id": "c70876f1",
   "metadata": {},
   "outputs": [
    {
     "data": {
      "text/plain": [
       "count    164530.000000\n",
       "mean         20.424306\n",
       "std          72.866674\n",
       "min           0.000000\n",
       "25%           0.000000\n",
       "50%           0.000000\n",
       "75%           0.000000\n",
       "max        2975.000000\n",
       "Name: Length, dtype: float64"
      ]
     },
     "execution_count": 16,
     "metadata": {},
     "output_type": "execute_result"
    }
   ],
   "source": [
    "df['Length'].describe()"
   ]
  },
  {
   "cell_type": "markdown",
   "id": "49ac6f81",
   "metadata": {},
   "source": [
    "##### Creating month and year variables"
   ]
  },
  {
   "cell_type": "code",
   "execution_count": 17,
   "id": "bc57b2cc",
   "metadata": {},
   "outputs": [],
   "source": [
    "# extracting month and year columns\n",
    "df['StartMonth'] = pd.DatetimeIndex(df['ActualstartDate']).month\n",
    "df['StartYear'] = pd.DatetimeIndex(df['ActualstartDate']).year\n",
    "df['EndMonth'] = pd.DatetimeIndex(df['ActualEndDate']).month\n",
    "df['EndYear'] = pd.DatetimeIndex(df['ActualEndDate']).year"
   ]
  },
  {
   "cell_type": "markdown",
   "id": "3088e7ee",
   "metadata": {},
   "source": [
    "#### De-Duplicating Data"
   ]
  },
  {
   "cell_type": "code",
   "execution_count": 18,
   "id": "36a21370",
   "metadata": {},
   "outputs": [
    {
     "data": {
      "text/plain": [
       "StateId                          int64\n",
       "ProgramTitle                    object\n",
       "Age_AtReg                        int64\n",
       "Disability                     float64\n",
       "Gender                           int64\n",
       "CitizenStatus                   object\n",
       "EducationLevel                 float64\n",
       "Race_Hispanic                    int64\n",
       "Race_NativeAmerican              int64\n",
       "Race_Asian                       int64\n",
       "Race_AfricanAmerican             int64\n",
       "Race_PacificIslander             int64\n",
       "Race_White                       int64\n",
       "ActualstartDate         datetime64[ns]\n",
       "ActualEndDate           datetime64[ns]\n",
       "EmpName                         object\n",
       "Employed                         int64\n",
       "Length                           int64\n",
       "StartMonth                       int64\n",
       "StartYear                        int64\n",
       "EndMonth                         int64\n",
       "EndYear                          int64\n",
       "dtype: object"
      ]
     },
     "execution_count": 18,
     "metadata": {},
     "output_type": "execute_result"
    }
   ],
   "source": [
    "df.dtypes"
   ]
  },
  {
   "cell_type": "code",
   "execution_count": 19,
   "id": "448a4823",
   "metadata": {},
   "outputs": [
    {
     "data": {
      "text/plain": [
       "(164530, 22)"
      ]
     },
     "execution_count": 19,
     "metadata": {},
     "output_type": "execute_result"
    }
   ],
   "source": [
    "df.shape"
   ]
  },
  {
   "cell_type": "code",
   "execution_count": 20,
   "id": "68bd9cd4",
   "metadata": {},
   "outputs": [],
   "source": [
    "# services are inflated: often recording the same services on multiple rows\n",
    "df = df.sort_values(by=[\"StateId\", \"ProgramTitle\", \"EmpName\", \"StartYear\"])"
   ]
  },
  {
   "cell_type": "code",
   "execution_count": 21,
   "id": "7dca60ca",
   "metadata": {},
   "outputs": [],
   "source": [
    "# dropping dups \n",
    "df = df.drop_duplicates(subset = [\"StateId\", \"ProgramTitle\", \"EmpName\", \"StartYear\"], keep='first')"
   ]
  },
  {
   "cell_type": "code",
   "execution_count": 22,
   "id": "f8ec6a77",
   "metadata": {},
   "outputs": [
    {
     "data": {
      "text/plain": [
       "(38263, 22)"
      ]
     },
     "execution_count": 22,
     "metadata": {},
     "output_type": "execute_result"
    }
   ],
   "source": [
    "df.shape"
   ]
  },
  {
   "cell_type": "markdown",
   "id": "97765cf4",
   "metadata": {},
   "source": [
    "##### Converting float to int: disability, education"
   ]
  },
  {
   "cell_type": "code",
   "execution_count": 23,
   "id": "48cd9e5a",
   "metadata": {},
   "outputs": [],
   "source": [
    "df[\"Disability\"] = df[\"Disability\"].astype(np.int64)\n",
    "df[\"EducationLevel\"] = df[\"EducationLevel\"].astype(np.int64)"
   ]
  },
  {
   "cell_type": "markdown",
   "id": "65c0a427",
   "metadata": {},
   "source": [
    "### Recoding Variables"
   ]
  },
  {
   "cell_type": "markdown",
   "id": "ce2741f2",
   "metadata": {},
   "source": [
    "Citizenship Variable (original):\n",
    "\n",
    "\t1: Citizen of U.S. or Territory\n",
    "\t2: Alien/Refugee Lawfully Admitted to US\n",
    "\t3: US Permanent Resident\n",
    "\t4: None of the Above"
   ]
  },
  {
   "cell_type": "code",
   "execution_count": 24,
   "id": "6eac1091",
   "metadata": {},
   "outputs": [
    {
     "data": {
      "text/plain": [
       "array(['1', '  ', '3', '2', '4', '0'], dtype=object)"
      ]
     },
     "execution_count": 24,
     "metadata": {},
     "output_type": "execute_result"
    }
   ],
   "source": [
    "df.CitizenStatus.unique()\n",
    "\n",
    "# since 0's and blanks aren't part of the data dictionary, they must be recoded to 4's"
   ]
  },
  {
   "cell_type": "code",
   "execution_count": 25,
   "id": "60a5a41d",
   "metadata": {},
   "outputs": [
    {
     "data": {
      "text/plain": [
       "1     37117\n",
       "3       653\n",
       "2       318\n",
       "        141\n",
       "4        29\n",
       "0         5\n",
       "Name: CitizenStatus, dtype: int64"
      ]
     },
     "execution_count": 25,
     "metadata": {},
     "output_type": "execute_result"
    }
   ],
   "source": [
    "df.CitizenStatus.value_counts()"
   ]
  },
  {
   "cell_type": "code",
   "execution_count": 26,
   "id": "df4ed7a0",
   "metadata": {},
   "outputs": [],
   "source": [
    "# Citizenship Status: recoding to swap 2 and 3\n",
    "df.loc[df[\"CitizenStatus\"] == \"3\", \"CitizenStatus\"] = \"2_interim\"\n",
    "df.loc[df[\"CitizenStatus\"] == \"2\", \"CitizenStatus\"] = \"3\"\n",
    "df.loc[df[\"CitizenStatus\"] == \"2_interim\", \"CitizenStatus\"] = \"2\""
   ]
  },
  {
   "cell_type": "code",
   "execution_count": 27,
   "id": "6125e3b4",
   "metadata": {},
   "outputs": [
    {
     "data": {
      "text/plain": [
       "1     37117\n",
       "2       653\n",
       "3       318\n",
       "        141\n",
       "4        29\n",
       "0         5\n",
       "Name: CitizenStatus, dtype: int64"
      ]
     },
     "execution_count": 27,
     "metadata": {},
     "output_type": "execute_result"
    }
   ],
   "source": [
    "df.CitizenStatus.value_counts()"
   ]
  },
  {
   "cell_type": "code",
   "execution_count": 28,
   "id": "778393f4",
   "metadata": {},
   "outputs": [],
   "source": [
    "# recoding 0's and blanks to 4's\n",
    "df.loc[(df[\"CitizenStatus\"] != \"1\") & (df[\"CitizenStatus\"] != \"2\") & (df[\"CitizenStatus\"] != \"3\"), \"CitizenStatus\"] = \"4\""
   ]
  },
  {
   "cell_type": "code",
   "execution_count": 29,
   "id": "ce15f3ed",
   "metadata": {},
   "outputs": [
    {
     "data": {
      "text/plain": [
       "1    37117\n",
       "2      653\n",
       "3      318\n",
       "4      175\n",
       "Name: CitizenStatus, dtype: int64"
      ]
     },
     "execution_count": 29,
     "metadata": {},
     "output_type": "execute_result"
    }
   ],
   "source": [
    "df.CitizenStatus.value_counts()"
   ]
  },
  {
   "cell_type": "code",
   "execution_count": 30,
   "id": "bfe34ac0",
   "metadata": {},
   "outputs": [],
   "source": [
    "# converting citizen status to numeric\n",
    "df['CitizenStatus'] = pd.to_numeric(df['CitizenStatus'])"
   ]
  },
  {
   "cell_type": "code",
   "execution_count": 31,
   "id": "e2a2f14d",
   "metadata": {},
   "outputs": [
    {
     "data": {
      "text/plain": [
       "StateId                          int64\n",
       "ProgramTitle                    object\n",
       "Age_AtReg                        int64\n",
       "Disability                       int64\n",
       "Gender                           int64\n",
       "CitizenStatus                    int64\n",
       "EducationLevel                   int64\n",
       "Race_Hispanic                    int64\n",
       "Race_NativeAmerican              int64\n",
       "Race_Asian                       int64\n",
       "Race_AfricanAmerican             int64\n",
       "Race_PacificIslander             int64\n",
       "Race_White                       int64\n",
       "ActualstartDate         datetime64[ns]\n",
       "ActualEndDate           datetime64[ns]\n",
       "EmpName                         object\n",
       "Employed                         int64\n",
       "Length                           int64\n",
       "StartMonth                       int64\n",
       "StartYear                        int64\n",
       "EndMonth                         int64\n",
       "EndYear                          int64\n",
       "dtype: object"
      ]
     },
     "execution_count": 31,
     "metadata": {},
     "output_type": "execute_result"
    }
   ],
   "source": [
    "df.dtypes"
   ]
  },
  {
   "cell_type": "code",
   "execution_count": 32,
   "id": "98721871",
   "metadata": {},
   "outputs": [
    {
     "data": {
      "text/html": [
       "<div>\n",
       "<style scoped>\n",
       "    .dataframe tbody tr th:only-of-type {\n",
       "        vertical-align: middle;\n",
       "    }\n",
       "\n",
       "    .dataframe tbody tr th {\n",
       "        vertical-align: top;\n",
       "    }\n",
       "\n",
       "    .dataframe thead th {\n",
       "        text-align: right;\n",
       "    }\n",
       "</style>\n",
       "<table border=\"1\" class=\"dataframe\">\n",
       "  <thead>\n",
       "    <tr style=\"text-align: right;\">\n",
       "      <th></th>\n",
       "      <th>Disability</th>\n",
       "      <th>Gender</th>\n",
       "      <th>Race_Hispanic</th>\n",
       "      <th>Race_NativeAmerican</th>\n",
       "      <th>Race_Asian</th>\n",
       "      <th>Race_AfricanAmerican</th>\n",
       "      <th>Race_PacificIslander</th>\n",
       "      <th>Race_White</th>\n",
       "    </tr>\n",
       "  </thead>\n",
       "  <tbody>\n",
       "    <tr>\n",
       "      <th>0</th>\n",
       "      <td>35695.0</td>\n",
       "      <td>NaN</td>\n",
       "      <td>30866.0</td>\n",
       "      <td>33710.0</td>\n",
       "      <td>34092.0</td>\n",
       "      <td>1079.0</td>\n",
       "      <td>34194.0</td>\n",
       "      <td>33243.0</td>\n",
       "    </tr>\n",
       "    <tr>\n",
       "      <th>1</th>\n",
       "      <td>1665.0</td>\n",
       "      <td>20964.0</td>\n",
       "      <td>677.0</td>\n",
       "      <td>564.0</td>\n",
       "      <td>182.0</td>\n",
       "      <td>33202.0</td>\n",
       "      <td>80.0</td>\n",
       "      <td>1031.0</td>\n",
       "    </tr>\n",
       "    <tr>\n",
       "      <th>2</th>\n",
       "      <td>NaN</td>\n",
       "      <td>17263.0</td>\n",
       "      <td>NaN</td>\n",
       "      <td>NaN</td>\n",
       "      <td>NaN</td>\n",
       "      <td>NaN</td>\n",
       "      <td>NaN</td>\n",
       "      <td>NaN</td>\n",
       "    </tr>\n",
       "    <tr>\n",
       "      <th>9</th>\n",
       "      <td>903.0</td>\n",
       "      <td>36.0</td>\n",
       "      <td>6720.0</td>\n",
       "      <td>3989.0</td>\n",
       "      <td>3989.0</td>\n",
       "      <td>3982.0</td>\n",
       "      <td>3989.0</td>\n",
       "      <td>3989.0</td>\n",
       "    </tr>\n",
       "  </tbody>\n",
       "</table>\n",
       "</div>"
      ],
      "text/plain": [
       "   Disability   Gender  Race_Hispanic  Race_NativeAmerican  Race_Asian  \\\n",
       "0     35695.0      NaN        30866.0              33710.0     34092.0   \n",
       "1      1665.0  20964.0          677.0                564.0       182.0   \n",
       "2         NaN  17263.0            NaN                  NaN         NaN   \n",
       "9       903.0     36.0         6720.0               3989.0      3989.0   \n",
       "\n",
       "   Race_AfricanAmerican  Race_PacificIslander  Race_White  \n",
       "0                1079.0               34194.0     33243.0  \n",
       "1               33202.0                  80.0      1031.0  \n",
       "2                   NaN                   NaN         NaN  \n",
       "9                3982.0                3989.0      3989.0  "
      ]
     },
     "execution_count": 32,
     "metadata": {},
     "output_type": "execute_result"
    }
   ],
   "source": [
    "df[[\"Disability\", \"Gender\", \"Race_Hispanic\", \"Race_NativeAmerican\", \"Race_Asian\", \"Race_AfricanAmerican\", \"Race_PacificIslander\", \"Race_White\"]].apply(pd.Series.value_counts)"
   ]
  },
  {
   "cell_type": "markdown",
   "id": "eeb7cdf6",
   "metadata": {},
   "source": [
    "For race variables:\n",
    "\n",
    "\t1: Yes\n",
    "\t0: No\n",
    "\t9: Prefer not to disclose\n",
    "\n",
    "\n",
    "For gender variable: \n",
    "\n",
    "\t1: Male\n",
    "\t2: Female\n",
    "\t9: Prefer not to disclose"
   ]
  },
  {
   "cell_type": "code",
   "execution_count": 33,
   "id": "3b9c8b65",
   "metadata": {},
   "outputs": [],
   "source": [
    "# recoding 9 (undisclosed) to 0 (no) for race and disability\n",
    "\n",
    "# race\n",
    "df.loc[df[\"Race_Hispanic\"] == 9, \"Race_Hispanic\"] = 0\n",
    "df.loc[df[\"Race_NativeAmerican\"] == 9, \"Race_NativeAmerican\"] = 0\n",
    "df.loc[df[\"Race_Asian\"] == 9, \"Race_Asian\"] = 0\n",
    "df.loc[df[\"Race_AfricanAmerican\"] == 9, \"Race_AfricanAmerican\"] = 0\n",
    "df.loc[df[\"Race_PacificIslander\"] == 9, \"Race_PacificIslander\"] = 0\n",
    "df.loc[df[\"Race_White\"] == 9, \"Race_White\"] = 0\n",
    "\n",
    "# disability\n",
    "df.loc[df[\"Disability\"] == 9, \"Disability\"] = 0\n",
    "\n",
    "# recoding 9 (undisclosed) to 0 (undisclosed) for gender\n",
    "\n",
    "# gender\n",
    "df.loc[df[\"Gender\"] == 9, \"Gender\"] = 0"
   ]
  },
  {
   "cell_type": "code",
   "execution_count": 34,
   "id": "cd801fc1",
   "metadata": {},
   "outputs": [
    {
     "data": {
      "text/html": [
       "<div>\n",
       "<style scoped>\n",
       "    .dataframe tbody tr th:only-of-type {\n",
       "        vertical-align: middle;\n",
       "    }\n",
       "\n",
       "    .dataframe tbody tr th {\n",
       "        vertical-align: top;\n",
       "    }\n",
       "\n",
       "    .dataframe thead th {\n",
       "        text-align: right;\n",
       "    }\n",
       "</style>\n",
       "<table border=\"1\" class=\"dataframe\">\n",
       "  <thead>\n",
       "    <tr style=\"text-align: right;\">\n",
       "      <th></th>\n",
       "      <th>Disability</th>\n",
       "      <th>Gender</th>\n",
       "      <th>Race_Hispanic</th>\n",
       "      <th>Race_NativeAmerican</th>\n",
       "      <th>Race_Asian</th>\n",
       "      <th>Race_AfricanAmerican</th>\n",
       "      <th>Race_PacificIslander</th>\n",
       "      <th>Race_White</th>\n",
       "    </tr>\n",
       "  </thead>\n",
       "  <tbody>\n",
       "    <tr>\n",
       "      <th>0</th>\n",
       "      <td>36598.0</td>\n",
       "      <td>36</td>\n",
       "      <td>37586.0</td>\n",
       "      <td>37699.0</td>\n",
       "      <td>38081.0</td>\n",
       "      <td>5061.0</td>\n",
       "      <td>38183.0</td>\n",
       "      <td>37232.0</td>\n",
       "    </tr>\n",
       "    <tr>\n",
       "      <th>1</th>\n",
       "      <td>1665.0</td>\n",
       "      <td>20964</td>\n",
       "      <td>677.0</td>\n",
       "      <td>564.0</td>\n",
       "      <td>182.0</td>\n",
       "      <td>33202.0</td>\n",
       "      <td>80.0</td>\n",
       "      <td>1031.0</td>\n",
       "    </tr>\n",
       "    <tr>\n",
       "      <th>2</th>\n",
       "      <td>NaN</td>\n",
       "      <td>17263</td>\n",
       "      <td>NaN</td>\n",
       "      <td>NaN</td>\n",
       "      <td>NaN</td>\n",
       "      <td>NaN</td>\n",
       "      <td>NaN</td>\n",
       "      <td>NaN</td>\n",
       "    </tr>\n",
       "  </tbody>\n",
       "</table>\n",
       "</div>"
      ],
      "text/plain": [
       "   Disability  Gender  Race_Hispanic  Race_NativeAmerican  Race_Asian  \\\n",
       "0     36598.0      36        37586.0              37699.0     38081.0   \n",
       "1      1665.0   20964          677.0                564.0       182.0   \n",
       "2         NaN   17263            NaN                  NaN         NaN   \n",
       "\n",
       "   Race_AfricanAmerican  Race_PacificIslander  Race_White  \n",
       "0                5061.0               38183.0     37232.0  \n",
       "1               33202.0                  80.0      1031.0  \n",
       "2                   NaN                   NaN         NaN  "
      ]
     },
     "execution_count": 34,
     "metadata": {},
     "output_type": "execute_result"
    }
   ],
   "source": [
    "df[[\"Disability\", \"Gender\", \"Race_Hispanic\", \"Race_NativeAmerican\", \"Race_Asian\", \"Race_AfricanAmerican\", \"Race_PacificIslander\", \"Race_White\"]].apply(pd.Series.value_counts)"
   ]
  },
  {
   "cell_type": "code",
   "execution_count": 35,
   "id": "81adbdaa",
   "metadata": {},
   "outputs": [
    {
     "data": {
      "text/plain": [
       "87    15128\n",
       "16     3498\n",
       "13     3012\n",
       "88     2931\n",
       "14     2714\n",
       "90     2017\n",
       "17     1846\n",
       "11     1555\n",
       "15     1155\n",
       "10     1097\n",
       "91      912\n",
       "0       787\n",
       "9       593\n",
       "12      534\n",
       "8       264\n",
       "7       126\n",
       "6        39\n",
       "3        11\n",
       "89       11\n",
       "2        10\n",
       "1         8\n",
       "4         8\n",
       "5         7\n",
       "Name: EducationLevel, dtype: int64"
      ]
     },
     "execution_count": 35,
     "metadata": {},
     "output_type": "execute_result"
    }
   ],
   "source": [
    "df.EducationLevel.value_counts()"
   ]
  },
  {
   "cell_type": "markdown",
   "id": "a96ff7d7",
   "metadata": {},
   "source": [
    "Education Level (original):\n",
    "\n",
    "\t9: 9th Grade\n",
    "\t10: 10th Grade\n",
    "\t11: 11th grade\n",
    "\t12: 12th grade no Diploma\n",
    "\t13: HS Grad and 1 year of College or a Technical or Vocational School\n",
    "\t14: HS Grad and 2 years of College or a Technical or Vocational School\n",
    "\t15: HS Grad and 3 years of College or a Technical or Vocational School\n",
    "\t16: Bachelor’s Degree or equivalent\n",
    "\t17: Attained degree beyond a Bachelor’s degree\n",
    "\t87: Attained High School Diploma\n",
    "\t88: Attained GED or Equivalent\n",
    "\t90: Attained a postsecondary technical or vocational certificate (non-degree)\n",
    "\t91: Associate’s Degree"
   ]
  },
  {
   "cell_type": "code",
   "execution_count": 36,
   "id": "5d2140d6",
   "metadata": {},
   "outputs": [],
   "source": [
    "# recoding education level to make it ordinal\n",
    "\n",
    "# recoding 88 to 13\n",
    "# recoding 87 to 14\n",
    "# recoding 13 to 15\n",
    "# recoding 14 to 16\n",
    "# recoding 15 to 17\n",
    "# recoding 90 to 18\n",
    "# recoding 91 to 19\n",
    "# recoding 16 to 20\n",
    "# recoding 17 to 21\n",
    "\n",
    "# first recoding to interim values\n",
    "df.loc[df[\"EducationLevel\"] == 88, \"EducationLevel\"] = 188\n",
    "df.loc[df[\"EducationLevel\"] == 89, \"EducationLevel\"] = 189\n",
    "df.loc[df[\"EducationLevel\"] == 87, \"EducationLevel\"] = 187\n",
    "df.loc[df[\"EducationLevel\"] == 13, \"EducationLevel\"] = 113\n",
    "df.loc[df[\"EducationLevel\"] == 14, \"EducationLevel\"] = 114\n",
    "df.loc[df[\"EducationLevel\"] == 15, \"EducationLevel\"] = 115\n",
    "df.loc[df[\"EducationLevel\"] == 90, \"EducationLevel\"] = 190\n",
    "df.loc[df[\"EducationLevel\"] == 91, \"EducationLevel\"] = 191\n",
    "df.loc[df[\"EducationLevel\"] == 16, \"EducationLevel\"] = 116\n",
    "df.loc[df[\"EducationLevel\"] == 17, \"EducationLevel\"] = 117\n",
    "\n",
    "# then recoding to final ordinal values\n",
    "df.loc[df[\"EducationLevel\"] == 188, \"EducationLevel\"] = 13\n",
    "df.loc[df[\"EducationLevel\"] == 189, \"EducationLevel\"] = 13\n",
    "df.loc[df[\"EducationLevel\"] == 187, \"EducationLevel\"] = 14\n",
    "df.loc[df[\"EducationLevel\"] == 113, \"EducationLevel\"] = 15\n",
    "df.loc[df[\"EducationLevel\"] == 114, \"EducationLevel\"] = 16\n",
    "df.loc[df[\"EducationLevel\"] == 115, \"EducationLevel\"] = 17\n",
    "df.loc[df[\"EducationLevel\"] == 190, \"EducationLevel\"] = 18\n",
    "df.loc[df[\"EducationLevel\"] == 191, \"EducationLevel\"] = 19\n",
    "df.loc[df[\"EducationLevel\"] == 116, \"EducationLevel\"] = 20\n",
    "df.loc[df[\"EducationLevel\"] == 117, \"EducationLevel\"] = 21"
   ]
  },
  {
   "cell_type": "markdown",
   "id": "dee38a28",
   "metadata": {},
   "source": [
    "Education Level (recoded):\n",
    "\n",
    "\t0: No schooling\n",
    "\t1: 1st Grade\n",
    "\t2: 2nd Grade\n",
    "\t3: 3rd Grade\n",
    "\t4: 4th Grade\n",
    "\t5: 5th Grade\n",
    "\t6: 6th Grade\n",
    "\t7: 7th Grade\n",
    "\t8: 8th Grade\n",
    "\t9: 9th Grade\n",
    "\t10: 10th Grade\n",
    "\t11: 11th grade\n",
    "\t12: 12th grade no Diploma\n",
    "\t13: Attained GED or Equivalent\n",
    "\t14: Attained High School Diploma\n",
    "\t15: HS Grad and 1 year of College or a Technical or Vocational School\n",
    "\t16: HS Grad and 2 years of College or a Technical or Vocational School\n",
    "\t17: HS Grad and 3 years of College or a Technical or Vocational School\n",
    "\t18: Attained a postsecondary technical or vocational certificate (non-degree)\n",
    "\t19: Associate’s Degree\n",
    "\t20: Bachelor’s Degree or equivalent\n",
    "\t21: Attained degree beyond a Bachelor’s degree"
   ]
  },
  {
   "cell_type": "code",
   "execution_count": 37,
   "id": "2f9bdb53",
   "metadata": {},
   "outputs": [
    {
     "data": {
      "text/plain": [
       "14    15128\n",
       "20     3498\n",
       "15     3012\n",
       "13     2942\n",
       "16     2714\n",
       "18     2017\n",
       "21     1846\n",
       "11     1555\n",
       "17     1155\n",
       "10     1097\n",
       "19      912\n",
       "0       787\n",
       "9       593\n",
       "12      534\n",
       "8       264\n",
       "7       126\n",
       "6        39\n",
       "3        11\n",
       "2        10\n",
       "1         8\n",
       "4         8\n",
       "5         7\n",
       "Name: EducationLevel, dtype: int64"
      ]
     },
     "execution_count": 37,
     "metadata": {},
     "output_type": "execute_result"
    }
   ],
   "source": [
    "df.EducationLevel.value_counts()"
   ]
  },
  {
   "cell_type": "markdown",
   "id": "e58b4389",
   "metadata": {},
   "source": [
    "### Describing Data"
   ]
  },
  {
   "cell_type": "code",
   "execution_count": 38,
   "id": "49298d92",
   "metadata": {},
   "outputs": [
    {
     "data": {
      "text/html": [
       "<div>\n",
       "<style scoped>\n",
       "    .dataframe tbody tr th:only-of-type {\n",
       "        vertical-align: middle;\n",
       "    }\n",
       "\n",
       "    .dataframe tbody tr th {\n",
       "        vertical-align: top;\n",
       "    }\n",
       "\n",
       "    .dataframe thead th {\n",
       "        text-align: right;\n",
       "    }\n",
       "</style>\n",
       "<table border=\"1\" class=\"dataframe\">\n",
       "  <thead>\n",
       "    <tr style=\"text-align: right;\">\n",
       "      <th></th>\n",
       "      <th>StateId</th>\n",
       "      <th>Age_AtReg</th>\n",
       "      <th>Disability</th>\n",
       "      <th>Gender</th>\n",
       "      <th>CitizenStatus</th>\n",
       "      <th>EducationLevel</th>\n",
       "      <th>Race_Hispanic</th>\n",
       "      <th>Race_NativeAmerican</th>\n",
       "      <th>Race_Asian</th>\n",
       "      <th>Race_AfricanAmerican</th>\n",
       "      <th>Race_PacificIslander</th>\n",
       "      <th>Race_White</th>\n",
       "      <th>Employed</th>\n",
       "      <th>Length</th>\n",
       "      <th>StartMonth</th>\n",
       "      <th>StartYear</th>\n",
       "      <th>EndMonth</th>\n",
       "      <th>EndYear</th>\n",
       "    </tr>\n",
       "  </thead>\n",
       "  <tbody>\n",
       "    <tr>\n",
       "      <th>count</th>\n",
       "      <td>38263.000000</td>\n",
       "      <td>38263.000000</td>\n",
       "      <td>38263.000000</td>\n",
       "      <td>38263.000000</td>\n",
       "      <td>38263.000000</td>\n",
       "      <td>38263.000000</td>\n",
       "      <td>38263.000000</td>\n",
       "      <td>38263.000000</td>\n",
       "      <td>38263.000000</td>\n",
       "      <td>38263.000000</td>\n",
       "      <td>38263.000000</td>\n",
       "      <td>38263.000000</td>\n",
       "      <td>38263.000000</td>\n",
       "      <td>38263.000000</td>\n",
       "      <td>38263.000000</td>\n",
       "      <td>38263.000000</td>\n",
       "      <td>38263.000000</td>\n",
       "      <td>38263.000000</td>\n",
       "    </tr>\n",
       "    <tr>\n",
       "      <th>mean</th>\n",
       "      <td>269411.827457</td>\n",
       "      <td>35.537647</td>\n",
       "      <td>0.043515</td>\n",
       "      <td>1.450226</td>\n",
       "      <td>1.047409</td>\n",
       "      <td>14.735201</td>\n",
       "      <td>0.017693</td>\n",
       "      <td>0.014740</td>\n",
       "      <td>0.004757</td>\n",
       "      <td>0.867731</td>\n",
       "      <td>0.002091</td>\n",
       "      <td>0.026945</td>\n",
       "      <td>0.280950</td>\n",
       "      <td>26.379322</td>\n",
       "      <td>6.074406</td>\n",
       "      <td>2016.488671</td>\n",
       "      <td>6.174660</td>\n",
       "      <td>2016.551551</td>\n",
       "    </tr>\n",
       "    <tr>\n",
       "      <th>std</th>\n",
       "      <td>163979.894088</td>\n",
       "      <td>13.070649</td>\n",
       "      <td>0.204015</td>\n",
       "      <td>0.499410</td>\n",
       "      <td>0.298709</td>\n",
       "      <td>3.630815</td>\n",
       "      <td>0.131836</td>\n",
       "      <td>0.120512</td>\n",
       "      <td>0.068804</td>\n",
       "      <td>0.338787</td>\n",
       "      <td>0.045678</td>\n",
       "      <td>0.161925</td>\n",
       "      <td>0.449469</td>\n",
       "      <td>85.667889</td>\n",
       "      <td>3.479703</td>\n",
       "      <td>2.896886</td>\n",
       "      <td>3.423544</td>\n",
       "      <td>2.886643</td>\n",
       "    </tr>\n",
       "    <tr>\n",
       "      <th>min</th>\n",
       "      <td>20.000000</td>\n",
       "      <td>0.000000</td>\n",
       "      <td>0.000000</td>\n",
       "      <td>0.000000</td>\n",
       "      <td>1.000000</td>\n",
       "      <td>0.000000</td>\n",
       "      <td>0.000000</td>\n",
       "      <td>0.000000</td>\n",
       "      <td>0.000000</td>\n",
       "      <td>0.000000</td>\n",
       "      <td>0.000000</td>\n",
       "      <td>0.000000</td>\n",
       "      <td>0.000000</td>\n",
       "      <td>0.000000</td>\n",
       "      <td>1.000000</td>\n",
       "      <td>2011.000000</td>\n",
       "      <td>1.000000</td>\n",
       "      <td>2011.000000</td>\n",
       "    </tr>\n",
       "    <tr>\n",
       "      <th>25%</th>\n",
       "      <td>124618.000000</td>\n",
       "      <td>24.000000</td>\n",
       "      <td>0.000000</td>\n",
       "      <td>1.000000</td>\n",
       "      <td>1.000000</td>\n",
       "      <td>14.000000</td>\n",
       "      <td>0.000000</td>\n",
       "      <td>0.000000</td>\n",
       "      <td>0.000000</td>\n",
       "      <td>1.000000</td>\n",
       "      <td>0.000000</td>\n",
       "      <td>0.000000</td>\n",
       "      <td>0.000000</td>\n",
       "      <td>0.000000</td>\n",
       "      <td>3.000000</td>\n",
       "      <td>2014.000000</td>\n",
       "      <td>3.000000</td>\n",
       "      <td>2015.000000</td>\n",
       "    </tr>\n",
       "    <tr>\n",
       "      <th>50%</th>\n",
       "      <td>264403.000000</td>\n",
       "      <td>33.000000</td>\n",
       "      <td>0.000000</td>\n",
       "      <td>1.000000</td>\n",
       "      <td>1.000000</td>\n",
       "      <td>14.000000</td>\n",
       "      <td>0.000000</td>\n",
       "      <td>0.000000</td>\n",
       "      <td>0.000000</td>\n",
       "      <td>1.000000</td>\n",
       "      <td>0.000000</td>\n",
       "      <td>0.000000</td>\n",
       "      <td>0.000000</td>\n",
       "      <td>0.000000</td>\n",
       "      <td>6.000000</td>\n",
       "      <td>2017.000000</td>\n",
       "      <td>6.000000</td>\n",
       "      <td>2017.000000</td>\n",
       "    </tr>\n",
       "    <tr>\n",
       "      <th>75%</th>\n",
       "      <td>423754.000000</td>\n",
       "      <td>47.000000</td>\n",
       "      <td>0.000000</td>\n",
       "      <td>2.000000</td>\n",
       "      <td>1.000000</td>\n",
       "      <td>16.000000</td>\n",
       "      <td>0.000000</td>\n",
       "      <td>0.000000</td>\n",
       "      <td>0.000000</td>\n",
       "      <td>1.000000</td>\n",
       "      <td>0.000000</td>\n",
       "      <td>0.000000</td>\n",
       "      <td>1.000000</td>\n",
       "      <td>1.000000</td>\n",
       "      <td>9.000000</td>\n",
       "      <td>2019.000000</td>\n",
       "      <td>9.000000</td>\n",
       "      <td>2019.000000</td>\n",
       "    </tr>\n",
       "    <tr>\n",
       "      <th>max</th>\n",
       "      <td>646834.000000</td>\n",
       "      <td>83.000000</td>\n",
       "      <td>1.000000</td>\n",
       "      <td>2.000000</td>\n",
       "      <td>4.000000</td>\n",
       "      <td>21.000000</td>\n",
       "      <td>1.000000</td>\n",
       "      <td>1.000000</td>\n",
       "      <td>1.000000</td>\n",
       "      <td>1.000000</td>\n",
       "      <td>1.000000</td>\n",
       "      <td>1.000000</td>\n",
       "      <td>1.000000</td>\n",
       "      <td>2975.000000</td>\n",
       "      <td>12.000000</td>\n",
       "      <td>2021.000000</td>\n",
       "      <td>12.000000</td>\n",
       "      <td>2021.000000</td>\n",
       "    </tr>\n",
       "  </tbody>\n",
       "</table>\n",
       "</div>"
      ],
      "text/plain": [
       "             StateId     Age_AtReg    Disability        Gender  CitizenStatus  \\\n",
       "count   38263.000000  38263.000000  38263.000000  38263.000000   38263.000000   \n",
       "mean   269411.827457     35.537647      0.043515      1.450226       1.047409   \n",
       "std    163979.894088     13.070649      0.204015      0.499410       0.298709   \n",
       "min        20.000000      0.000000      0.000000      0.000000       1.000000   \n",
       "25%    124618.000000     24.000000      0.000000      1.000000       1.000000   \n",
       "50%    264403.000000     33.000000      0.000000      1.000000       1.000000   \n",
       "75%    423754.000000     47.000000      0.000000      2.000000       1.000000   \n",
       "max    646834.000000     83.000000      1.000000      2.000000       4.000000   \n",
       "\n",
       "       EducationLevel  Race_Hispanic  Race_NativeAmerican    Race_Asian  \\\n",
       "count    38263.000000   38263.000000         38263.000000  38263.000000   \n",
       "mean        14.735201       0.017693             0.014740      0.004757   \n",
       "std          3.630815       0.131836             0.120512      0.068804   \n",
       "min          0.000000       0.000000             0.000000      0.000000   \n",
       "25%         14.000000       0.000000             0.000000      0.000000   \n",
       "50%         14.000000       0.000000             0.000000      0.000000   \n",
       "75%         16.000000       0.000000             0.000000      0.000000   \n",
       "max         21.000000       1.000000             1.000000      1.000000   \n",
       "\n",
       "       Race_AfricanAmerican  Race_PacificIslander    Race_White      Employed  \\\n",
       "count          38263.000000          38263.000000  38263.000000  38263.000000   \n",
       "mean               0.867731              0.002091      0.026945      0.280950   \n",
       "std                0.338787              0.045678      0.161925      0.449469   \n",
       "min                0.000000              0.000000      0.000000      0.000000   \n",
       "25%                1.000000              0.000000      0.000000      0.000000   \n",
       "50%                1.000000              0.000000      0.000000      0.000000   \n",
       "75%                1.000000              0.000000      0.000000      1.000000   \n",
       "max                1.000000              1.000000      1.000000      1.000000   \n",
       "\n",
       "             Length    StartMonth     StartYear      EndMonth       EndYear  \n",
       "count  38263.000000  38263.000000  38263.000000  38263.000000  38263.000000  \n",
       "mean      26.379322      6.074406   2016.488671      6.174660   2016.551551  \n",
       "std       85.667889      3.479703      2.896886      3.423544      2.886643  \n",
       "min        0.000000      1.000000   2011.000000      1.000000   2011.000000  \n",
       "25%        0.000000      3.000000   2014.000000      3.000000   2015.000000  \n",
       "50%        0.000000      6.000000   2017.000000      6.000000   2017.000000  \n",
       "75%        1.000000      9.000000   2019.000000      9.000000   2019.000000  \n",
       "max     2975.000000     12.000000   2021.000000     12.000000   2021.000000  "
      ]
     },
     "execution_count": 38,
     "metadata": {},
     "output_type": "execute_result"
    }
   ],
   "source": [
    "df.describe()"
   ]
  },
  {
   "cell_type": "code",
   "execution_count": 39,
   "id": "03262943",
   "metadata": {},
   "outputs": [
    {
     "data": {
      "text/plain": [
       "(38263, 22)"
      ]
     },
     "execution_count": 39,
     "metadata": {},
     "output_type": "execute_result"
    }
   ],
   "source": [
    "df.shape"
   ]
  },
  {
   "cell_type": "markdown",
   "id": "45d7dc06",
   "metadata": {},
   "source": [
    "### Summarizing"
   ]
  },
  {
   "cell_type": "code",
   "execution_count": 40,
   "id": "8e802937",
   "metadata": {},
   "outputs": [
    {
     "data": {
      "text/html": [
       "<div>\n",
       "<style scoped>\n",
       "    .dataframe tbody tr th:only-of-type {\n",
       "        vertical-align: middle;\n",
       "    }\n",
       "\n",
       "    .dataframe tbody tr th {\n",
       "        vertical-align: top;\n",
       "    }\n",
       "\n",
       "    .dataframe thead th {\n",
       "        text-align: right;\n",
       "    }\n",
       "</style>\n",
       "<table border=\"1\" class=\"dataframe\">\n",
       "  <thead>\n",
       "    <tr style=\"text-align: right;\">\n",
       "      <th></th>\n",
       "      <th>StateId</th>\n",
       "      <th>Age_AtReg</th>\n",
       "      <th>Disability</th>\n",
       "      <th>Gender</th>\n",
       "      <th>CitizenStatus</th>\n",
       "      <th>EducationLevel</th>\n",
       "      <th>Race_Hispanic</th>\n",
       "      <th>Race_NativeAmerican</th>\n",
       "      <th>Race_Asian</th>\n",
       "      <th>Race_AfricanAmerican</th>\n",
       "      <th>Race_PacificIslander</th>\n",
       "      <th>Race_White</th>\n",
       "      <th>Employed</th>\n",
       "      <th>Length</th>\n",
       "      <th>StartMonth</th>\n",
       "      <th>StartYear</th>\n",
       "      <th>EndMonth</th>\n",
       "      <th>EndYear</th>\n",
       "    </tr>\n",
       "  </thead>\n",
       "  <tbody>\n",
       "    <tr>\n",
       "      <th>StateId</th>\n",
       "      <td>1.000000</td>\n",
       "      <td>-0.236235</td>\n",
       "      <td>-0.007725</td>\n",
       "      <td>-0.025417</td>\n",
       "      <td>0.038824</td>\n",
       "      <td>-0.004842</td>\n",
       "      <td>0.069946</td>\n",
       "      <td>0.010288</td>\n",
       "      <td>0.035239</td>\n",
       "      <td>-0.202039</td>\n",
       "      <td>0.027061</td>\n",
       "      <td>0.082317</td>\n",
       "      <td>0.024101</td>\n",
       "      <td>0.009546</td>\n",
       "      <td>0.016978</td>\n",
       "      <td>0.305266</td>\n",
       "      <td>0.007147</td>\n",
       "      <td>0.308097</td>\n",
       "    </tr>\n",
       "    <tr>\n",
       "      <th>Age_AtReg</th>\n",
       "      <td>-0.236235</td>\n",
       "      <td>1.000000</td>\n",
       "      <td>0.113534</td>\n",
       "      <td>-0.043074</td>\n",
       "      <td>0.009524</td>\n",
       "      <td>0.208703</td>\n",
       "      <td>0.003549</td>\n",
       "      <td>0.000428</td>\n",
       "      <td>0.003928</td>\n",
       "      <td>-0.059192</td>\n",
       "      <td>-0.017292</td>\n",
       "      <td>0.050119</td>\n",
       "      <td>0.020021</td>\n",
       "      <td>-0.085002</td>\n",
       "      <td>-0.026471</td>\n",
       "      <td>-0.104088</td>\n",
       "      <td>-0.029082</td>\n",
       "      <td>-0.111085</td>\n",
       "    </tr>\n",
       "    <tr>\n",
       "      <th>Disability</th>\n",
       "      <td>-0.007725</td>\n",
       "      <td>0.113534</td>\n",
       "      <td>1.000000</td>\n",
       "      <td>-0.020425</td>\n",
       "      <td>-0.018842</td>\n",
       "      <td>0.036655</td>\n",
       "      <td>-0.002390</td>\n",
       "      <td>0.017495</td>\n",
       "      <td>0.009459</td>\n",
       "      <td>-0.005208</td>\n",
       "      <td>0.009869</td>\n",
       "      <td>0.041247</td>\n",
       "      <td>-0.029295</td>\n",
       "      <td>-0.020109</td>\n",
       "      <td>0.009981</td>\n",
       "      <td>0.028230</td>\n",
       "      <td>0.002065</td>\n",
       "      <td>0.027500</td>\n",
       "    </tr>\n",
       "    <tr>\n",
       "      <th>Gender</th>\n",
       "      <td>-0.025417</td>\n",
       "      <td>-0.043074</td>\n",
       "      <td>-0.020425</td>\n",
       "      <td>1.000000</td>\n",
       "      <td>-0.005731</td>\n",
       "      <td>0.110807</td>\n",
       "      <td>0.012384</td>\n",
       "      <td>0.011322</td>\n",
       "      <td>0.010693</td>\n",
       "      <td>-0.037754</td>\n",
       "      <td>0.004562</td>\n",
       "      <td>0.013515</td>\n",
       "      <td>0.041109</td>\n",
       "      <td>-0.001771</td>\n",
       "      <td>0.019960</td>\n",
       "      <td>0.004510</td>\n",
       "      <td>0.014310</td>\n",
       "      <td>0.005066</td>\n",
       "    </tr>\n",
       "    <tr>\n",
       "      <th>CitizenStatus</th>\n",
       "      <td>0.038824</td>\n",
       "      <td>0.009524</td>\n",
       "      <td>-0.018842</td>\n",
       "      <td>-0.005731</td>\n",
       "      <td>1.000000</td>\n",
       "      <td>0.012081</td>\n",
       "      <td>0.094841</td>\n",
       "      <td>-0.016509</td>\n",
       "      <td>0.025906</td>\n",
       "      <td>-0.097122</td>\n",
       "      <td>0.002313</td>\n",
       "      <td>0.035728</td>\n",
       "      <td>0.004352</td>\n",
       "      <td>-0.018882</td>\n",
       "      <td>-0.005280</td>\n",
       "      <td>0.001376</td>\n",
       "      <td>-0.008276</td>\n",
       "      <td>0.000106</td>\n",
       "    </tr>\n",
       "    <tr>\n",
       "      <th>EducationLevel</th>\n",
       "      <td>-0.004842</td>\n",
       "      <td>0.208703</td>\n",
       "      <td>0.036655</td>\n",
       "      <td>0.110807</td>\n",
       "      <td>0.012081</td>\n",
       "      <td>1.000000</td>\n",
       "      <td>0.016668</td>\n",
       "      <td>0.023973</td>\n",
       "      <td>0.037683</td>\n",
       "      <td>-0.126084</td>\n",
       "      <td>-0.003911</td>\n",
       "      <td>0.105979</td>\n",
       "      <td>0.093169</td>\n",
       "      <td>-0.078607</td>\n",
       "      <td>-0.007125</td>\n",
       "      <td>0.062653</td>\n",
       "      <td>-0.014410</td>\n",
       "      <td>0.057173</td>\n",
       "    </tr>\n",
       "    <tr>\n",
       "      <th>Race_Hispanic</th>\n",
       "      <td>0.069946</td>\n",
       "      <td>0.003549</td>\n",
       "      <td>-0.002390</td>\n",
       "      <td>0.012384</td>\n",
       "      <td>0.094841</td>\n",
       "      <td>0.016668</td>\n",
       "      <td>1.000000</td>\n",
       "      <td>0.036225</td>\n",
       "      <td>0.065634</td>\n",
       "      <td>-0.216773</td>\n",
       "      <td>0.032917</td>\n",
       "      <td>0.139273</td>\n",
       "      <td>0.006967</td>\n",
       "      <td>0.001882</td>\n",
       "      <td>-0.004066</td>\n",
       "      <td>-0.004642</td>\n",
       "      <td>-0.008295</td>\n",
       "      <td>-0.004148</td>\n",
       "    </tr>\n",
       "    <tr>\n",
       "      <th>Race_NativeAmerican</th>\n",
       "      <td>0.010288</td>\n",
       "      <td>0.000428</td>\n",
       "      <td>0.017495</td>\n",
       "      <td>0.011322</td>\n",
       "      <td>-0.016509</td>\n",
       "      <td>0.023973</td>\n",
       "      <td>0.036225</td>\n",
       "      <td>1.000000</td>\n",
       "      <td>0.051432</td>\n",
       "      <td>-0.061710</td>\n",
       "      <td>0.094106</td>\n",
       "      <td>0.163134</td>\n",
       "      <td>0.006053</td>\n",
       "      <td>-0.006754</td>\n",
       "      <td>0.000002</td>\n",
       "      <td>0.012007</td>\n",
       "      <td>-0.002503</td>\n",
       "      <td>0.011715</td>\n",
       "    </tr>\n",
       "    <tr>\n",
       "      <th>Race_Asian</th>\n",
       "      <td>0.035239</td>\n",
       "      <td>0.003928</td>\n",
       "      <td>0.009459</td>\n",
       "      <td>0.010693</td>\n",
       "      <td>0.025906</td>\n",
       "      <td>0.037683</td>\n",
       "      <td>0.065634</td>\n",
       "      <td>0.051432</td>\n",
       "      <td>1.000000</td>\n",
       "      <td>-0.097464</td>\n",
       "      <td>0.104942</td>\n",
       "      <td>0.051834</td>\n",
       "      <td>0.002423</td>\n",
       "      <td>-0.008106</td>\n",
       "      <td>-0.001697</td>\n",
       "      <td>0.000664</td>\n",
       "      <td>-0.000420</td>\n",
       "      <td>-0.000050</td>\n",
       "    </tr>\n",
       "    <tr>\n",
       "      <th>Race_AfricanAmerican</th>\n",
       "      <td>-0.202039</td>\n",
       "      <td>-0.059192</td>\n",
       "      <td>-0.005208</td>\n",
       "      <td>-0.037754</td>\n",
       "      <td>-0.097122</td>\n",
       "      <td>-0.126084</td>\n",
       "      <td>-0.216773</td>\n",
       "      <td>-0.061710</td>\n",
       "      <td>-0.097464</td>\n",
       "      <td>1.000000</td>\n",
       "      <td>-0.034484</td>\n",
       "      <td>-0.308069</td>\n",
       "      <td>-0.040868</td>\n",
       "      <td>0.039547</td>\n",
       "      <td>0.011674</td>\n",
       "      <td>-0.055227</td>\n",
       "      <td>0.016223</td>\n",
       "      <td>-0.052664</td>\n",
       "    </tr>\n",
       "    <tr>\n",
       "      <th>Race_PacificIslander</th>\n",
       "      <td>0.027061</td>\n",
       "      <td>-0.017292</td>\n",
       "      <td>0.009869</td>\n",
       "      <td>0.004562</td>\n",
       "      <td>0.002313</td>\n",
       "      <td>-0.003911</td>\n",
       "      <td>0.032917</td>\n",
       "      <td>0.094106</td>\n",
       "      <td>0.104942</td>\n",
       "      <td>-0.034484</td>\n",
       "      <td>1.000000</td>\n",
       "      <td>0.048920</td>\n",
       "      <td>-0.010790</td>\n",
       "      <td>-0.006087</td>\n",
       "      <td>0.007078</td>\n",
       "      <td>0.006104</td>\n",
       "      <td>0.004350</td>\n",
       "      <td>0.005922</td>\n",
       "    </tr>\n",
       "    <tr>\n",
       "      <th>Race_White</th>\n",
       "      <td>0.082317</td>\n",
       "      <td>0.050119</td>\n",
       "      <td>0.041247</td>\n",
       "      <td>0.013515</td>\n",
       "      <td>0.035728</td>\n",
       "      <td>0.105979</td>\n",
       "      <td>0.139273</td>\n",
       "      <td>0.163134</td>\n",
       "      <td>0.051834</td>\n",
       "      <td>-0.308069</td>\n",
       "      <td>0.048920</td>\n",
       "      <td>1.000000</td>\n",
       "      <td>0.023823</td>\n",
       "      <td>-0.018677</td>\n",
       "      <td>-0.010980</td>\n",
       "      <td>0.003019</td>\n",
       "      <td>-0.012261</td>\n",
       "      <td>0.001641</td>\n",
       "    </tr>\n",
       "    <tr>\n",
       "      <th>Employed</th>\n",
       "      <td>0.024101</td>\n",
       "      <td>0.020021</td>\n",
       "      <td>-0.029295</td>\n",
       "      <td>0.041109</td>\n",
       "      <td>0.004352</td>\n",
       "      <td>0.093169</td>\n",
       "      <td>0.006967</td>\n",
       "      <td>0.006053</td>\n",
       "      <td>0.002423</td>\n",
       "      <td>-0.040868</td>\n",
       "      <td>-0.010790</td>\n",
       "      <td>0.023823</td>\n",
       "      <td>1.000000</td>\n",
       "      <td>-0.074589</td>\n",
       "      <td>0.004197</td>\n",
       "      <td>0.157966</td>\n",
       "      <td>-0.007840</td>\n",
       "      <td>0.153673</td>\n",
       "    </tr>\n",
       "    <tr>\n",
       "      <th>Length</th>\n",
       "      <td>0.009546</td>\n",
       "      <td>-0.085002</td>\n",
       "      <td>-0.020109</td>\n",
       "      <td>-0.001771</td>\n",
       "      <td>-0.018882</td>\n",
       "      <td>-0.078607</td>\n",
       "      <td>0.001882</td>\n",
       "      <td>-0.006754</td>\n",
       "      <td>-0.008106</td>\n",
       "      <td>0.039547</td>\n",
       "      <td>-0.006087</td>\n",
       "      <td>-0.018677</td>\n",
       "      <td>-0.074589</td>\n",
       "      <td>1.000000</td>\n",
       "      <td>-0.007668</td>\n",
       "      <td>-0.113075</td>\n",
       "      <td>0.037962</td>\n",
       "      <td>-0.037375</td>\n",
       "    </tr>\n",
       "    <tr>\n",
       "      <th>StartMonth</th>\n",
       "      <td>0.016978</td>\n",
       "      <td>-0.026471</td>\n",
       "      <td>0.009981</td>\n",
       "      <td>0.019960</td>\n",
       "      <td>-0.005280</td>\n",
       "      <td>-0.007125</td>\n",
       "      <td>-0.004066</td>\n",
       "      <td>0.000002</td>\n",
       "      <td>-0.001697</td>\n",
       "      <td>0.011674</td>\n",
       "      <td>0.007078</td>\n",
       "      <td>-0.010980</td>\n",
       "      <td>0.004197</td>\n",
       "      <td>-0.007668</td>\n",
       "      <td>1.000000</td>\n",
       "      <td>-0.064824</td>\n",
       "      <td>0.857094</td>\n",
       "      <td>-0.049981</td>\n",
       "    </tr>\n",
       "    <tr>\n",
       "      <th>StartYear</th>\n",
       "      <td>0.305266</td>\n",
       "      <td>-0.104088</td>\n",
       "      <td>0.028230</td>\n",
       "      <td>0.004510</td>\n",
       "      <td>0.001376</td>\n",
       "      <td>0.062653</td>\n",
       "      <td>-0.004642</td>\n",
       "      <td>0.012007</td>\n",
       "      <td>0.000664</td>\n",
       "      <td>-0.055227</td>\n",
       "      <td>0.006104</td>\n",
       "      <td>0.003019</td>\n",
       "      <td>0.157966</td>\n",
       "      <td>-0.113075</td>\n",
       "      <td>-0.064824</td>\n",
       "      <td>1.000000</td>\n",
       "      <td>-0.079772</td>\n",
       "      <td>0.995701</td>\n",
       "    </tr>\n",
       "    <tr>\n",
       "      <th>EndMonth</th>\n",
       "      <td>0.007147</td>\n",
       "      <td>-0.029082</td>\n",
       "      <td>0.002065</td>\n",
       "      <td>0.014310</td>\n",
       "      <td>-0.008276</td>\n",
       "      <td>-0.014410</td>\n",
       "      <td>-0.008295</td>\n",
       "      <td>-0.002503</td>\n",
       "      <td>-0.000420</td>\n",
       "      <td>0.016223</td>\n",
       "      <td>0.004350</td>\n",
       "      <td>-0.012261</td>\n",
       "      <td>-0.007840</td>\n",
       "      <td>0.037962</td>\n",
       "      <td>0.857094</td>\n",
       "      <td>-0.079772</td>\n",
       "      <td>1.000000</td>\n",
       "      <td>-0.089740</td>\n",
       "    </tr>\n",
       "    <tr>\n",
       "      <th>EndYear</th>\n",
       "      <td>0.308097</td>\n",
       "      <td>-0.111085</td>\n",
       "      <td>0.027500</td>\n",
       "      <td>0.005066</td>\n",
       "      <td>0.000106</td>\n",
       "      <td>0.057173</td>\n",
       "      <td>-0.004148</td>\n",
       "      <td>0.011715</td>\n",
       "      <td>-0.000050</td>\n",
       "      <td>-0.052664</td>\n",
       "      <td>0.005922</td>\n",
       "      <td>0.001641</td>\n",
       "      <td>0.153673</td>\n",
       "      <td>-0.037375</td>\n",
       "      <td>-0.049981</td>\n",
       "      <td>0.995701</td>\n",
       "      <td>-0.089740</td>\n",
       "      <td>1.000000</td>\n",
       "    </tr>\n",
       "  </tbody>\n",
       "</table>\n",
       "</div>"
      ],
      "text/plain": [
       "                       StateId  Age_AtReg  Disability    Gender  \\\n",
       "StateId               1.000000  -0.236235   -0.007725 -0.025417   \n",
       "Age_AtReg            -0.236235   1.000000    0.113534 -0.043074   \n",
       "Disability           -0.007725   0.113534    1.000000 -0.020425   \n",
       "Gender               -0.025417  -0.043074   -0.020425  1.000000   \n",
       "CitizenStatus         0.038824   0.009524   -0.018842 -0.005731   \n",
       "EducationLevel       -0.004842   0.208703    0.036655  0.110807   \n",
       "Race_Hispanic         0.069946   0.003549   -0.002390  0.012384   \n",
       "Race_NativeAmerican   0.010288   0.000428    0.017495  0.011322   \n",
       "Race_Asian            0.035239   0.003928    0.009459  0.010693   \n",
       "Race_AfricanAmerican -0.202039  -0.059192   -0.005208 -0.037754   \n",
       "Race_PacificIslander  0.027061  -0.017292    0.009869  0.004562   \n",
       "Race_White            0.082317   0.050119    0.041247  0.013515   \n",
       "Employed              0.024101   0.020021   -0.029295  0.041109   \n",
       "Length                0.009546  -0.085002   -0.020109 -0.001771   \n",
       "StartMonth            0.016978  -0.026471    0.009981  0.019960   \n",
       "StartYear             0.305266  -0.104088    0.028230  0.004510   \n",
       "EndMonth              0.007147  -0.029082    0.002065  0.014310   \n",
       "EndYear               0.308097  -0.111085    0.027500  0.005066   \n",
       "\n",
       "                      CitizenStatus  EducationLevel  Race_Hispanic  \\\n",
       "StateId                    0.038824       -0.004842       0.069946   \n",
       "Age_AtReg                  0.009524        0.208703       0.003549   \n",
       "Disability                -0.018842        0.036655      -0.002390   \n",
       "Gender                    -0.005731        0.110807       0.012384   \n",
       "CitizenStatus              1.000000        0.012081       0.094841   \n",
       "EducationLevel             0.012081        1.000000       0.016668   \n",
       "Race_Hispanic              0.094841        0.016668       1.000000   \n",
       "Race_NativeAmerican       -0.016509        0.023973       0.036225   \n",
       "Race_Asian                 0.025906        0.037683       0.065634   \n",
       "Race_AfricanAmerican      -0.097122       -0.126084      -0.216773   \n",
       "Race_PacificIslander       0.002313       -0.003911       0.032917   \n",
       "Race_White                 0.035728        0.105979       0.139273   \n",
       "Employed                   0.004352        0.093169       0.006967   \n",
       "Length                    -0.018882       -0.078607       0.001882   \n",
       "StartMonth                -0.005280       -0.007125      -0.004066   \n",
       "StartYear                  0.001376        0.062653      -0.004642   \n",
       "EndMonth                  -0.008276       -0.014410      -0.008295   \n",
       "EndYear                    0.000106        0.057173      -0.004148   \n",
       "\n",
       "                      Race_NativeAmerican  Race_Asian  Race_AfricanAmerican  \\\n",
       "StateId                          0.010288    0.035239             -0.202039   \n",
       "Age_AtReg                        0.000428    0.003928             -0.059192   \n",
       "Disability                       0.017495    0.009459             -0.005208   \n",
       "Gender                           0.011322    0.010693             -0.037754   \n",
       "CitizenStatus                   -0.016509    0.025906             -0.097122   \n",
       "EducationLevel                   0.023973    0.037683             -0.126084   \n",
       "Race_Hispanic                    0.036225    0.065634             -0.216773   \n",
       "Race_NativeAmerican              1.000000    0.051432             -0.061710   \n",
       "Race_Asian                       0.051432    1.000000             -0.097464   \n",
       "Race_AfricanAmerican            -0.061710   -0.097464              1.000000   \n",
       "Race_PacificIslander             0.094106    0.104942             -0.034484   \n",
       "Race_White                       0.163134    0.051834             -0.308069   \n",
       "Employed                         0.006053    0.002423             -0.040868   \n",
       "Length                          -0.006754   -0.008106              0.039547   \n",
       "StartMonth                       0.000002   -0.001697              0.011674   \n",
       "StartYear                        0.012007    0.000664             -0.055227   \n",
       "EndMonth                        -0.002503   -0.000420              0.016223   \n",
       "EndYear                          0.011715   -0.000050             -0.052664   \n",
       "\n",
       "                      Race_PacificIslander  Race_White  Employed    Length  \\\n",
       "StateId                           0.027061    0.082317  0.024101  0.009546   \n",
       "Age_AtReg                        -0.017292    0.050119  0.020021 -0.085002   \n",
       "Disability                        0.009869    0.041247 -0.029295 -0.020109   \n",
       "Gender                            0.004562    0.013515  0.041109 -0.001771   \n",
       "CitizenStatus                     0.002313    0.035728  0.004352 -0.018882   \n",
       "EducationLevel                   -0.003911    0.105979  0.093169 -0.078607   \n",
       "Race_Hispanic                     0.032917    0.139273  0.006967  0.001882   \n",
       "Race_NativeAmerican               0.094106    0.163134  0.006053 -0.006754   \n",
       "Race_Asian                        0.104942    0.051834  0.002423 -0.008106   \n",
       "Race_AfricanAmerican             -0.034484   -0.308069 -0.040868  0.039547   \n",
       "Race_PacificIslander              1.000000    0.048920 -0.010790 -0.006087   \n",
       "Race_White                        0.048920    1.000000  0.023823 -0.018677   \n",
       "Employed                         -0.010790    0.023823  1.000000 -0.074589   \n",
       "Length                           -0.006087   -0.018677 -0.074589  1.000000   \n",
       "StartMonth                        0.007078   -0.010980  0.004197 -0.007668   \n",
       "StartYear                         0.006104    0.003019  0.157966 -0.113075   \n",
       "EndMonth                          0.004350   -0.012261 -0.007840  0.037962   \n",
       "EndYear                           0.005922    0.001641  0.153673 -0.037375   \n",
       "\n",
       "                      StartMonth  StartYear  EndMonth   EndYear  \n",
       "StateId                 0.016978   0.305266  0.007147  0.308097  \n",
       "Age_AtReg              -0.026471  -0.104088 -0.029082 -0.111085  \n",
       "Disability              0.009981   0.028230  0.002065  0.027500  \n",
       "Gender                  0.019960   0.004510  0.014310  0.005066  \n",
       "CitizenStatus          -0.005280   0.001376 -0.008276  0.000106  \n",
       "EducationLevel         -0.007125   0.062653 -0.014410  0.057173  \n",
       "Race_Hispanic          -0.004066  -0.004642 -0.008295 -0.004148  \n",
       "Race_NativeAmerican     0.000002   0.012007 -0.002503  0.011715  \n",
       "Race_Asian             -0.001697   0.000664 -0.000420 -0.000050  \n",
       "Race_AfricanAmerican    0.011674  -0.055227  0.016223 -0.052664  \n",
       "Race_PacificIslander    0.007078   0.006104  0.004350  0.005922  \n",
       "Race_White             -0.010980   0.003019 -0.012261  0.001641  \n",
       "Employed                0.004197   0.157966 -0.007840  0.153673  \n",
       "Length                 -0.007668  -0.113075  0.037962 -0.037375  \n",
       "StartMonth              1.000000  -0.064824  0.857094 -0.049981  \n",
       "StartYear              -0.064824   1.000000 -0.079772  0.995701  \n",
       "EndMonth                0.857094  -0.079772  1.000000 -0.089740  \n",
       "EndYear                -0.049981   0.995701 -0.089740  1.000000  "
      ]
     },
     "execution_count": 40,
     "metadata": {},
     "output_type": "execute_result"
    }
   ],
   "source": [
    "# Look at the correlation matrix\n",
    "corr = df.corr()\n",
    "corr\n",
    "# corr.to_csv('corr.csv')"
   ]
  },
  {
   "cell_type": "code",
   "execution_count": 41,
   "id": "312a2466",
   "metadata": {},
   "outputs": [],
   "source": [
    "df.to_csv('2_data/1_cleaned_data.csv', index=False)"
   ]
  },
  {
   "cell_type": "code",
   "execution_count": null,
   "id": "b4aa9910",
   "metadata": {},
   "outputs": [],
   "source": []
  }
 ],
 "metadata": {
  "kernelspec": {
   "display_name": "Python 3",
   "language": "python",
   "name": "python3"
  },
  "language_info": {
   "codemirror_mode": {
    "name": "ipython",
    "version": 3
   },
   "file_extension": ".py",
   "mimetype": "text/x-python",
   "name": "python",
   "nbconvert_exporter": "python",
   "pygments_lexer": "ipython3",
   "version": "3.8.8"
  }
 },
 "nbformat": 4,
 "nbformat_minor": 5
}
