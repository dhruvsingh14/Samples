{
 "cells": [
  {
   "cell_type": "markdown",
   "id": "09058d11",
   "metadata": {},
   "source": [
    "#### Analyst: Dhruv Singh <br> Report Name: Success Classifier, Phase 1 <br> Report Quarter, Year: FY 2011-2021 <br> Date Updated: 10/22/2021"
   ]
  },
  {
   "cell_type": "markdown",
   "id": "40a8cd3e",
   "metadata": {},
   "source": [
    "# Phase I: Exploratory Data Analysis"
   ]
  },
  {
   "cell_type": "code",
   "execution_count": 1,
   "id": "26d724f5",
   "metadata": {},
   "outputs": [],
   "source": [
    "# libraries\n",
    "import pandas as pd\n",
    "import numpy as np\n",
    "from scipy import stats\n",
    "import matplotlib.pyplot as plt\n",
    "import seaborn as sns\n",
    "%matplotlib inline\n",
    "import re"
   ]
  },
  {
   "cell_type": "markdown",
   "id": "37112501",
   "metadata": {},
   "source": [
    "### Reading in Data"
   ]
  },
  {
   "cell_type": "code",
   "execution_count": 2,
   "id": "f7f2077d",
   "metadata": {},
   "outputs": [],
   "source": [
    "df = pd.read_csv('1_readonly\\Services.csv', low_memory=False)"
   ]
  },
  {
   "cell_type": "code",
   "execution_count": 3,
   "id": "8f0546e4",
   "metadata": {},
   "outputs": [
    {
     "data": {
      "text/plain": [
       "(165367, 78)"
      ]
     },
     "execution_count": 3,
     "metadata": {},
     "output_type": "execute_result"
    }
   ],
   "source": [
    "df.shape"
   ]
  },
  {
   "cell_type": "code",
   "execution_count": 4,
   "id": "0b941b93",
   "metadata": {
    "scrolled": true
   },
   "outputs": [],
   "source": [
    "subset = ['StateId', 'ProgramTitle', 'Age_AtReg', 'Disability', 'Gender', 'CitizenStatus', 'EducationLevel', 'Race_Hispanic', 'Race_NativeAmerican', 'Race_Asian', 'Race_AfricanAmerican', 'Race_PacificIslander', 'Race_White', 'ActualstartDate', 'ActualEndDate', 'EmpName']"
   ]
  },
  {
   "cell_type": "markdown",
   "id": "4f427f33",
   "metadata": {},
   "source": [
    "### Subsetting Data to Relevant Columns"
   ]
  },
  {
   "cell_type": "code",
   "execution_count": 5,
   "id": "ee4b96c9",
   "metadata": {},
   "outputs": [],
   "source": [
    "df = df[subset]"
   ]
  },
  {
   "cell_type": "code",
   "execution_count": 6,
   "id": "0236b30e",
   "metadata": {},
   "outputs": [
    {
     "data": {
      "text/plain": [
       "StateId                   int64\n",
       "ProgramTitle             object\n",
       "Age_AtReg                 int64\n",
       "Disability              float64\n",
       "Gender                    int64\n",
       "CitizenStatus            object\n",
       "EducationLevel          float64\n",
       "Race_Hispanic             int64\n",
       "Race_NativeAmerican       int64\n",
       "Race_Asian                int64\n",
       "Race_AfricanAmerican      int64\n",
       "Race_PacificIslander      int64\n",
       "Race_White                int64\n",
       "ActualstartDate          object\n",
       "ActualEndDate            object\n",
       "EmpName                  object\n",
       "dtype: object"
      ]
     },
     "execution_count": 6,
     "metadata": {},
     "output_type": "execute_result"
    }
   ],
   "source": [
    "df.dtypes"
   ]
  },
  {
   "cell_type": "markdown",
   "id": "13a4d1f8",
   "metadata": {},
   "source": [
    "### Missing Values"
   ]
  },
  {
   "cell_type": "code",
   "execution_count": 7,
   "id": "27fb2962",
   "metadata": {},
   "outputs": [
    {
     "data": {
      "text/plain": [
       "StateId                      0\n",
       "ProgramTitle                 0\n",
       "Age_AtReg                    0\n",
       "Disability                 179\n",
       "Gender                       0\n",
       "CitizenStatus                0\n",
       "EducationLevel            3181\n",
       "Race_Hispanic                0\n",
       "Race_NativeAmerican          0\n",
       "Race_Asian                   0\n",
       "Race_AfricanAmerican         0\n",
       "Race_PacificIslander         0\n",
       "Race_White                   0\n",
       "ActualstartDate              0\n",
       "ActualEndDate              834\n",
       "EmpName                 110359\n",
       "dtype: int64"
      ]
     },
     "execution_count": 7,
     "metadata": {},
     "output_type": "execute_result"
    }
   ],
   "source": [
    "# checking if there are any missing values\n",
    "df.isnull().sum()"
   ]
  },
  {
   "cell_type": "code",
   "execution_count": 8,
   "id": "d2b03446",
   "metadata": {},
   "outputs": [
    {
     "data": {
      "text/html": [
       "<div>\n",
       "<style scoped>\n",
       "    .dataframe tbody tr th:only-of-type {\n",
       "        vertical-align: middle;\n",
       "    }\n",
       "\n",
       "    .dataframe tbody tr th {\n",
       "        vertical-align: top;\n",
       "    }\n",
       "\n",
       "    .dataframe thead th {\n",
       "        text-align: right;\n",
       "    }\n",
       "</style>\n",
       "<table border=\"1\" class=\"dataframe\">\n",
       "  <thead>\n",
       "    <tr style=\"text-align: right;\">\n",
       "      <th></th>\n",
       "      <th>StateId</th>\n",
       "      <th>Age_AtReg</th>\n",
       "      <th>Disability</th>\n",
       "      <th>Gender</th>\n",
       "      <th>EducationLevel</th>\n",
       "      <th>Race_Hispanic</th>\n",
       "      <th>Race_NativeAmerican</th>\n",
       "      <th>Race_Asian</th>\n",
       "      <th>Race_AfricanAmerican</th>\n",
       "      <th>Race_PacificIslander</th>\n",
       "      <th>Race_White</th>\n",
       "    </tr>\n",
       "    <tr>\n",
       "      <th>EducationLevel</th>\n",
       "      <th></th>\n",
       "      <th></th>\n",
       "      <th></th>\n",
       "      <th></th>\n",
       "      <th></th>\n",
       "      <th></th>\n",
       "      <th></th>\n",
       "      <th></th>\n",
       "      <th></th>\n",
       "      <th></th>\n",
       "      <th></th>\n",
       "    </tr>\n",
       "  </thead>\n",
       "  <tbody>\n",
       "    <tr>\n",
       "      <th>False</th>\n",
       "      <td>265387.576166</td>\n",
       "      <td>36.957573</td>\n",
       "      <td>0.255174</td>\n",
       "      <td>1.480103</td>\n",
       "      <td>54.220161</td>\n",
       "      <td>1.589798</td>\n",
       "      <td>1.053352</td>\n",
       "      <td>1.043074</td>\n",
       "      <td>1.888831</td>\n",
       "      <td>1.039325</td>\n",
       "      <td>1.068199</td>\n",
       "    </tr>\n",
       "    <tr>\n",
       "      <th>True</th>\n",
       "      <td>287496.201823</td>\n",
       "      <td>34.092109</td>\n",
       "      <td>0.505501</td>\n",
       "      <td>1.453002</td>\n",
       "      <td>NaN</td>\n",
       "      <td>2.340773</td>\n",
       "      <td>0.856334</td>\n",
       "      <td>0.849733</td>\n",
       "      <td>1.722414</td>\n",
       "      <td>0.847218</td>\n",
       "      <td>0.862622</td>\n",
       "    </tr>\n",
       "  </tbody>\n",
       "</table>\n",
       "</div>"
      ],
      "text/plain": [
       "                      StateId  Age_AtReg  Disability    Gender  \\\n",
       "EducationLevel                                                   \n",
       "False           265387.576166  36.957573    0.255174  1.480103   \n",
       "True            287496.201823  34.092109    0.505501  1.453002   \n",
       "\n",
       "                EducationLevel  Race_Hispanic  Race_NativeAmerican  \\\n",
       "EducationLevel                                                       \n",
       "False                54.220161       1.589798             1.053352   \n",
       "True                       NaN       2.340773             0.856334   \n",
       "\n",
       "                Race_Asian  Race_AfricanAmerican  Race_PacificIslander  \\\n",
       "EducationLevel                                                           \n",
       "False             1.043074              1.888831              1.039325   \n",
       "True              0.849733              1.722414              0.847218   \n",
       "\n",
       "                Race_White  \n",
       "EducationLevel              \n",
       "False             1.068199  \n",
       "True              0.862622  "
      ]
     },
     "execution_count": 8,
     "metadata": {},
     "output_type": "execute_result"
    }
   ],
   "source": [
    "# Check if EducationLevel appears to be missing at random\n",
    "df.groupby(df['EducationLevel'].isnull()).mean()"
   ]
  },
  {
   "cell_type": "code",
   "execution_count": 9,
   "id": "fdea7f46",
   "metadata": {},
   "outputs": [],
   "source": [
    "# filling missing values\n",
    "df = df.fillna(0)"
   ]
  },
  {
   "cell_type": "markdown",
   "id": "9f5dec2f",
   "metadata": {},
   "source": [
    "### Adding Target Column: Employed"
   ]
  },
  {
   "cell_type": "code",
   "execution_count": 10,
   "id": "acac97fe",
   "metadata": {},
   "outputs": [],
   "source": [
    "df['Employed'] = 0\n",
    "df.loc[df[\"EmpName\"] != 0, \"Employed\"] = 1"
   ]
  },
  {
   "cell_type": "code",
   "execution_count": 11,
   "id": "fe9f3536",
   "metadata": {},
   "outputs": [
    {
     "data": {
      "text/plain": [
       "0    110359\n",
       "1     55008\n",
       "Name: Employed, dtype: int64"
      ]
     },
     "execution_count": 11,
     "metadata": {},
     "output_type": "execute_result"
    }
   ],
   "source": [
    "# See the distribution of our target variable\n",
    "df['Employed'].value_counts()"
   ]
  },
  {
   "cell_type": "markdown",
   "id": "9addb1f6",
   "metadata": {},
   "source": [
    "### Datetime Manipulations"
   ]
  },
  {
   "cell_type": "markdown",
   "id": "94d770e4",
   "metadata": {},
   "source": [
    "##### Dropping Missing End Dates"
   ]
  },
  {
   "cell_type": "code",
   "execution_count": 12,
   "id": "775fa111",
   "metadata": {},
   "outputs": [],
   "source": [
    "# converting date variables to datetime type\n",
    "df['ActualEndDate'] = pd.to_datetime(df['ActualEndDate'], errors='coerce')\n",
    "df['ActualstartDate'] = pd.to_datetime(df['ActualstartDate'])"
   ]
  },
  {
   "cell_type": "code",
   "execution_count": 13,
   "id": "2615c833",
   "metadata": {},
   "outputs": [],
   "source": [
    "# dropping rows with start date > end date\n",
    "df = df[df.ActualstartDate <= df.ActualEndDate]"
   ]
  },
  {
   "cell_type": "markdown",
   "id": "a3baf48b",
   "metadata": {},
   "source": [
    "##### Creating Length Variable"
   ]
  },
  {
   "cell_type": "code",
   "execution_count": 14,
   "id": "1ba7e7ae",
   "metadata": {},
   "outputs": [
    {
     "data": {
      "text/plain": [
       "(164530, 17)"
      ]
     },
     "execution_count": 14,
     "metadata": {},
     "output_type": "execute_result"
    }
   ],
   "source": [
    "df.shape"
   ]
  },
  {
   "cell_type": "code",
   "execution_count": 15,
   "id": "8658b861",
   "metadata": {},
   "outputs": [],
   "source": [
    "df['Length'] = (df.ActualEndDate - df.ActualstartDate).dt.days"
   ]
  },
  {
   "cell_type": "code",
   "execution_count": 16,
   "id": "c70876f1",
   "metadata": {},
   "outputs": [
    {
     "data": {
      "text/plain": [
       "count    164530.000000\n",
       "mean         20.424306\n",
       "std          72.866674\n",
       "min           0.000000\n",
       "25%           0.000000\n",
       "50%           0.000000\n",
       "75%           0.000000\n",
       "max        2975.000000\n",
       "Name: Length, dtype: float64"
      ]
     },
     "execution_count": 16,
     "metadata": {},
     "output_type": "execute_result"
    }
   ],
   "source": [
    "df['Length'].describe()"
   ]
  },
  {
   "cell_type": "markdown",
   "id": "9e953161",
   "metadata": {},
   "source": [
    "##### Creating month and year variables"
   ]
  },
  {
   "cell_type": "code",
   "execution_count": 17,
   "id": "376c85d2",
   "metadata": {},
   "outputs": [],
   "source": [
    "# extracting month and year columns\n",
    "df['StartMonth'] = pd.DatetimeIndex(df['ActualstartDate']).month\n",
    "df['StartYear'] = pd.DatetimeIndex(df['ActualstartDate']).year\n",
    "df['EndMonth'] = pd.DatetimeIndex(df['ActualEndDate']).month\n",
    "df['EndYear'] = pd.DatetimeIndex(df['ActualEndDate']).year"
   ]
  },
  {
   "cell_type": "markdown",
   "id": "3088e7ee",
   "metadata": {},
   "source": [
    "#### De-Duplicating Data"
   ]
  },
  {
   "cell_type": "code",
   "execution_count": 18,
   "id": "6eebdedf",
   "metadata": {},
   "outputs": [
    {
     "data": {
      "text/plain": [
       "StateId                          int64\n",
       "ProgramTitle                    object\n",
       "Age_AtReg                        int64\n",
       "Disability                     float64\n",
       "Gender                           int64\n",
       "CitizenStatus                   object\n",
       "EducationLevel                 float64\n",
       "Race_Hispanic                    int64\n",
       "Race_NativeAmerican              int64\n",
       "Race_Asian                       int64\n",
       "Race_AfricanAmerican             int64\n",
       "Race_PacificIslander             int64\n",
       "Race_White                       int64\n",
       "ActualstartDate         datetime64[ns]\n",
       "ActualEndDate           datetime64[ns]\n",
       "EmpName                         object\n",
       "Employed                         int64\n",
       "Length                           int64\n",
       "StartMonth                       int64\n",
       "StartYear                        int64\n",
       "EndMonth                         int64\n",
       "EndYear                          int64\n",
       "dtype: object"
      ]
     },
     "execution_count": 18,
     "metadata": {},
     "output_type": "execute_result"
    }
   ],
   "source": [
    "df.dtypes"
   ]
  },
  {
   "cell_type": "code",
   "execution_count": 19,
   "id": "160fda4a",
   "metadata": {},
   "outputs": [
    {
     "data": {
      "text/plain": [
       "(164530, 22)"
      ]
     },
     "execution_count": 19,
     "metadata": {},
     "output_type": "execute_result"
    }
   ],
   "source": [
    "df.shape"
   ]
  },
  {
   "cell_type": "code",
   "execution_count": 20,
   "id": "68bd9cd4",
   "metadata": {},
   "outputs": [],
   "source": [
    "# services are inflated: often recording the same services on multiple rows\n",
    "df = df.sort_values(by=[\"StateId\", \"Age_AtReg\", \"ProgramTitle\", \"EmpName\", \"StartYear\", \"StartMonth\"])"
   ]
  },
  {
   "cell_type": "code",
   "execution_count": 21,
   "id": "7dca60ca",
   "metadata": {},
   "outputs": [],
   "source": [
    "# dropping dups \n",
    "df = df.drop_duplicates(subset = [\"StateId\", \"ProgramTitle\", \"Age_AtReg\", \"EmpName\", \"StartYear\", \"StartMonth\"], keep='first')"
   ]
  },
  {
   "cell_type": "code",
   "execution_count": 22,
   "id": "f8ec6a77",
   "metadata": {},
   "outputs": [
    {
     "data": {
      "text/plain": [
       "(85456, 22)"
      ]
     },
     "execution_count": 22,
     "metadata": {},
     "output_type": "execute_result"
    }
   ],
   "source": [
    "df.shape"
   ]
  },
  {
   "cell_type": "markdown",
   "id": "65c0a427",
   "metadata": {},
   "source": [
    "### Recoding Variables"
   ]
  },
  {
   "cell_type": "markdown",
   "id": "b8da0690",
   "metadata": {},
   "source": [
    "Citizenship Variable (original):\n",
    "\n",
    "\t1: Citizen of U.S. or Territory\n",
    "\t2: Alien/Refugee Lawfully Admitted to US\n",
    "\t3: US Permanent Resident\n",
    "\t4: None of the Above"
   ]
  },
  {
   "cell_type": "code",
   "execution_count": 23,
   "id": "5291dab6",
   "metadata": {},
   "outputs": [
    {
     "data": {
      "text/plain": [
       "array(['1', '  ', '3', '2', '4', '0'], dtype=object)"
      ]
     },
     "execution_count": 23,
     "metadata": {},
     "output_type": "execute_result"
    }
   ],
   "source": [
    "df.CitizenStatus.unique()\n",
    "\n",
    "# since 0's and blanks aren't part of the data dictionary, they must be recoded to 4's"
   ]
  },
  {
   "cell_type": "code",
   "execution_count": 24,
   "id": "bfe0920e",
   "metadata": {},
   "outputs": [
    {
     "data": {
      "text/plain": [
       "1     82534\n",
       "3      1780\n",
       "2       845\n",
       "        227\n",
       "4        57\n",
       "0        13\n",
       "Name: CitizenStatus, dtype: int64"
      ]
     },
     "execution_count": 24,
     "metadata": {},
     "output_type": "execute_result"
    }
   ],
   "source": [
    "df.CitizenStatus.value_counts()"
   ]
  },
  {
   "cell_type": "code",
   "execution_count": 25,
   "id": "df4ed7a0",
   "metadata": {},
   "outputs": [],
   "source": [
    "# Citizenship Status: recoding to swap 2 and 3\n",
    "df.loc[df[\"CitizenStatus\"] == \"3\", \"CitizenStatus\"] = \"2_interim\"\n",
    "df.loc[df[\"CitizenStatus\"] == \"2\", \"CitizenStatus\"] = \"3\"\n",
    "df.loc[df[\"CitizenStatus\"] == \"2_interim\", \"CitizenStatus\"] = \"2\""
   ]
  },
  {
   "cell_type": "code",
   "execution_count": 26,
   "id": "792bf53d",
   "metadata": {},
   "outputs": [
    {
     "data": {
      "text/plain": [
       "1     82534\n",
       "2      1780\n",
       "3       845\n",
       "        227\n",
       "4        57\n",
       "0        13\n",
       "Name: CitizenStatus, dtype: int64"
      ]
     },
     "execution_count": 26,
     "metadata": {},
     "output_type": "execute_result"
    }
   ],
   "source": [
    "df.CitizenStatus.value_counts()"
   ]
  },
  {
   "cell_type": "code",
   "execution_count": 27,
   "id": "88f48dec",
   "metadata": {},
   "outputs": [],
   "source": [
    "# recoding 0's and blanks to 4's\n",
    "df.loc[(df[\"CitizenStatus\"] != \"1\") & (df[\"CitizenStatus\"] != \"2\") & (df[\"CitizenStatus\"] != \"3\"), \"CitizenStatus\"] = \"4\""
   ]
  },
  {
   "cell_type": "code",
   "execution_count": 28,
   "id": "54b2147d",
   "metadata": {},
   "outputs": [
    {
     "data": {
      "text/plain": [
       "1    82534\n",
       "2     1780\n",
       "3      845\n",
       "4      297\n",
       "Name: CitizenStatus, dtype: int64"
      ]
     },
     "execution_count": 28,
     "metadata": {},
     "output_type": "execute_result"
    }
   ],
   "source": [
    "df.CitizenStatus.value_counts()"
   ]
  },
  {
   "cell_type": "code",
   "execution_count": 29,
   "id": "bfe34ac0",
   "metadata": {},
   "outputs": [],
   "source": [
    "# converting citizen status to numeric\n",
    "df['CitizenStatus'] = pd.to_numeric(df['CitizenStatus'])"
   ]
  },
  {
   "cell_type": "code",
   "execution_count": 30,
   "id": "e2a2f14d",
   "metadata": {},
   "outputs": [
    {
     "data": {
      "text/plain": [
       "StateId                          int64\n",
       "ProgramTitle                    object\n",
       "Age_AtReg                        int64\n",
       "Disability                     float64\n",
       "Gender                           int64\n",
       "CitizenStatus                    int64\n",
       "EducationLevel                 float64\n",
       "Race_Hispanic                    int64\n",
       "Race_NativeAmerican              int64\n",
       "Race_Asian                       int64\n",
       "Race_AfricanAmerican             int64\n",
       "Race_PacificIslander             int64\n",
       "Race_White                       int64\n",
       "ActualstartDate         datetime64[ns]\n",
       "ActualEndDate           datetime64[ns]\n",
       "EmpName                         object\n",
       "Employed                         int64\n",
       "Length                           int64\n",
       "StartMonth                       int64\n",
       "StartYear                        int64\n",
       "EndMonth                         int64\n",
       "EndYear                          int64\n",
       "dtype: object"
      ]
     },
     "execution_count": 30,
     "metadata": {},
     "output_type": "execute_result"
    }
   ],
   "source": [
    "df.dtypes"
   ]
  },
  {
   "cell_type": "code",
   "execution_count": 31,
   "id": "2d08bd8c",
   "metadata": {},
   "outputs": [
    {
     "data": {
      "text/html": [
       "<div>\n",
       "<style scoped>\n",
       "    .dataframe tbody tr th:only-of-type {\n",
       "        vertical-align: middle;\n",
       "    }\n",
       "\n",
       "    .dataframe tbody tr th {\n",
       "        vertical-align: top;\n",
       "    }\n",
       "\n",
       "    .dataframe thead th {\n",
       "        text-align: right;\n",
       "    }\n",
       "</style>\n",
       "<table border=\"1\" class=\"dataframe\">\n",
       "  <thead>\n",
       "    <tr style=\"text-align: right;\">\n",
       "      <th></th>\n",
       "      <th>Disability</th>\n",
       "      <th>Gender</th>\n",
       "      <th>Race_Hispanic</th>\n",
       "      <th>Race_NativeAmerican</th>\n",
       "      <th>Race_Asian</th>\n",
       "      <th>Race_AfricanAmerican</th>\n",
       "      <th>Race_PacificIslander</th>\n",
       "      <th>Race_White</th>\n",
       "    </tr>\n",
       "  </thead>\n",
       "  <tbody>\n",
       "    <tr>\n",
       "      <th>0.0</th>\n",
       "      <td>79413.0</td>\n",
       "      <td>NaN</td>\n",
       "      <td>68726.0</td>\n",
       "      <td>74274.0</td>\n",
       "      <td>75161.0</td>\n",
       "      <td>2648.0</td>\n",
       "      <td>75499.0</td>\n",
       "      <td>73060.0</td>\n",
       "    </tr>\n",
       "    <tr>\n",
       "      <th>1.0</th>\n",
       "      <td>3974.0</td>\n",
       "      <td>44563.0</td>\n",
       "      <td>1517.0</td>\n",
       "      <td>1371.0</td>\n",
       "      <td>484.0</td>\n",
       "      <td>73019.0</td>\n",
       "      <td>146.0</td>\n",
       "      <td>2585.0</td>\n",
       "    </tr>\n",
       "    <tr>\n",
       "      <th>2.0</th>\n",
       "      <td>NaN</td>\n",
       "      <td>40795.0</td>\n",
       "      <td>NaN</td>\n",
       "      <td>NaN</td>\n",
       "      <td>NaN</td>\n",
       "      <td>NaN</td>\n",
       "      <td>NaN</td>\n",
       "      <td>NaN</td>\n",
       "    </tr>\n",
       "    <tr>\n",
       "      <th>9.0</th>\n",
       "      <td>2069.0</td>\n",
       "      <td>98.0</td>\n",
       "      <td>15213.0</td>\n",
       "      <td>9811.0</td>\n",
       "      <td>9811.0</td>\n",
       "      <td>9789.0</td>\n",
       "      <td>9811.0</td>\n",
       "      <td>9811.0</td>\n",
       "    </tr>\n",
       "  </tbody>\n",
       "</table>\n",
       "</div>"
      ],
      "text/plain": [
       "     Disability   Gender  Race_Hispanic  Race_NativeAmerican  Race_Asian  \\\n",
       "0.0     79413.0      NaN        68726.0              74274.0     75161.0   \n",
       "1.0      3974.0  44563.0         1517.0               1371.0       484.0   \n",
       "2.0         NaN  40795.0            NaN                  NaN         NaN   \n",
       "9.0      2069.0     98.0        15213.0               9811.0      9811.0   \n",
       "\n",
       "     Race_AfricanAmerican  Race_PacificIslander  Race_White  \n",
       "0.0                2648.0               75499.0     73060.0  \n",
       "1.0               73019.0                 146.0      2585.0  \n",
       "2.0                   NaN                   NaN         NaN  \n",
       "9.0                9789.0                9811.0      9811.0  "
      ]
     },
     "execution_count": 31,
     "metadata": {},
     "output_type": "execute_result"
    }
   ],
   "source": [
    "df[[\"Disability\", \"Gender\", \"Race_Hispanic\", \"Race_NativeAmerican\", \"Race_Asian\", \"Race_AfricanAmerican\", \"Race_PacificIslander\", \"Race_White\"]].apply(pd.Series.value_counts)"
   ]
  },
  {
   "cell_type": "markdown",
   "id": "93727aa5",
   "metadata": {},
   "source": [
    "For race variables:\n",
    "\n",
    "\t1: Yes\n",
    "\t0: No\n",
    "\t9: Prefer not to disclose\n",
    "\n",
    "\n",
    "For gender variable: \n",
    "\n",
    "\t1: Male\n",
    "\t2: Female\n",
    "\t9: Prefer not to disclose"
   ]
  },
  {
   "cell_type": "code",
   "execution_count": 32,
   "id": "3b9c8b65",
   "metadata": {},
   "outputs": [],
   "source": [
    "# recoding 9 (undisclosed) to 0 (no) for race and disability\n",
    "\n",
    "# race\n",
    "df.loc[df[\"Race_Hispanic\"] == 9, \"Race_Hispanic\"] = 0\n",
    "df.loc[df[\"Race_NativeAmerican\"] == 9, \"Race_NativeAmerican\"] = 0\n",
    "df.loc[df[\"Race_Asian\"] == 9, \"Race_Asian\"] = 0\n",
    "df.loc[df[\"Race_AfricanAmerican\"] == 9, \"Race_AfricanAmerican\"] = 0\n",
    "df.loc[df[\"Race_PacificIslander\"] == 9, \"Race_PacificIslander\"] = 0\n",
    "df.loc[df[\"Race_White\"] == 9, \"Race_White\"] = 0\n",
    "\n",
    "# disability\n",
    "df.loc[df[\"Disability\"] == 9, \"Disability\"] = 0\n",
    "\n",
    "# recoding 9 (undisclosed) to 0 (undisclosed) for gender\n",
    "\n",
    "# gender\n",
    "df.loc[df[\"Gender\"] == 9, \"Gender\"] = 0"
   ]
  },
  {
   "cell_type": "code",
   "execution_count": 33,
   "id": "af71a5ad",
   "metadata": {},
   "outputs": [
    {
     "data": {
      "text/html": [
       "<div>\n",
       "<style scoped>\n",
       "    .dataframe tbody tr th:only-of-type {\n",
       "        vertical-align: middle;\n",
       "    }\n",
       "\n",
       "    .dataframe tbody tr th {\n",
       "        vertical-align: top;\n",
       "    }\n",
       "\n",
       "    .dataframe thead th {\n",
       "        text-align: right;\n",
       "    }\n",
       "</style>\n",
       "<table border=\"1\" class=\"dataframe\">\n",
       "  <thead>\n",
       "    <tr style=\"text-align: right;\">\n",
       "      <th></th>\n",
       "      <th>Disability</th>\n",
       "      <th>Gender</th>\n",
       "      <th>Race_Hispanic</th>\n",
       "      <th>Race_NativeAmerican</th>\n",
       "      <th>Race_Asian</th>\n",
       "      <th>Race_AfricanAmerican</th>\n",
       "      <th>Race_PacificIslander</th>\n",
       "      <th>Race_White</th>\n",
       "    </tr>\n",
       "  </thead>\n",
       "  <tbody>\n",
       "    <tr>\n",
       "      <th>0.0</th>\n",
       "      <td>81482.0</td>\n",
       "      <td>98</td>\n",
       "      <td>83939.0</td>\n",
       "      <td>84085.0</td>\n",
       "      <td>84972.0</td>\n",
       "      <td>12437.0</td>\n",
       "      <td>85310.0</td>\n",
       "      <td>82871.0</td>\n",
       "    </tr>\n",
       "    <tr>\n",
       "      <th>1.0</th>\n",
       "      <td>3974.0</td>\n",
       "      <td>44563</td>\n",
       "      <td>1517.0</td>\n",
       "      <td>1371.0</td>\n",
       "      <td>484.0</td>\n",
       "      <td>73019.0</td>\n",
       "      <td>146.0</td>\n",
       "      <td>2585.0</td>\n",
       "    </tr>\n",
       "    <tr>\n",
       "      <th>2.0</th>\n",
       "      <td>NaN</td>\n",
       "      <td>40795</td>\n",
       "      <td>NaN</td>\n",
       "      <td>NaN</td>\n",
       "      <td>NaN</td>\n",
       "      <td>NaN</td>\n",
       "      <td>NaN</td>\n",
       "      <td>NaN</td>\n",
       "    </tr>\n",
       "  </tbody>\n",
       "</table>\n",
       "</div>"
      ],
      "text/plain": [
       "     Disability  Gender  Race_Hispanic  Race_NativeAmerican  Race_Asian  \\\n",
       "0.0     81482.0      98        83939.0              84085.0     84972.0   \n",
       "1.0      3974.0   44563         1517.0               1371.0       484.0   \n",
       "2.0         NaN   40795            NaN                  NaN         NaN   \n",
       "\n",
       "     Race_AfricanAmerican  Race_PacificIslander  Race_White  \n",
       "0.0               12437.0               85310.0     82871.0  \n",
       "1.0               73019.0                 146.0      2585.0  \n",
       "2.0                   NaN                   NaN         NaN  "
      ]
     },
     "execution_count": 33,
     "metadata": {},
     "output_type": "execute_result"
    }
   ],
   "source": [
    "df[[\"Disability\", \"Gender\", \"Race_Hispanic\", \"Race_NativeAmerican\", \"Race_Asian\", \"Race_AfricanAmerican\", \"Race_PacificIslander\", \"Race_White\"]].apply(pd.Series.value_counts)"
   ]
  },
  {
   "cell_type": "code",
   "execution_count": 34,
   "id": "b0194644",
   "metadata": {},
   "outputs": [
    {
     "data": {
      "text/plain": [
       "87.0    31815\n",
       "16.0     9644\n",
       "13.0     6530\n",
       "14.0     6259\n",
       "88.0     6194\n",
       "17.0     5668\n",
       "90.0     4845\n",
       "15.0     2683\n",
       "11.0     2600\n",
       "91.0     2541\n",
       "10.0     1938\n",
       "0.0      1628\n",
       "12.0     1215\n",
       "9.0      1073\n",
       "8.0       431\n",
       "7.0       221\n",
       "6.0        60\n",
       "89.0       27\n",
       "3.0        23\n",
       "2.0        20\n",
       "4.0        16\n",
       "1.0        13\n",
       "5.0        12\n",
       "Name: EducationLevel, dtype: int64"
      ]
     },
     "execution_count": 34,
     "metadata": {},
     "output_type": "execute_result"
    }
   ],
   "source": [
    "df.EducationLevel.value_counts()"
   ]
  },
  {
   "cell_type": "markdown",
   "id": "c854d56f",
   "metadata": {},
   "source": [
    "Education Level (original):\n",
    "\n",
    "\t9: 9th Grade\n",
    "\t10: 10th Grade\n",
    "\t11: 11th grade\n",
    "\t12: 12th grade no Diploma\n",
    "\t13: HS Grad and 1 year of College or a Technical or Vocational School\n",
    "\t14: HS Grad and 2 years of College or a Technical or Vocational School\n",
    "\t15: HS Grad and 3 years of College or a Technical or Vocational School\n",
    "\t16: Bachelor’s Degree or equivalent\n",
    "\t17: Attained degree beyond a Bachelor’s degree\n",
    "\t87: Attained High School Diploma\n",
    "\t88: Attained GED or Equivalent\n",
    "\t90: Attained a postsecondary technical or vocational certificate (non-degree)\n",
    "\t91: Associate’s Degree"
   ]
  },
  {
   "cell_type": "code",
   "execution_count": 35,
   "id": "5d2140d6",
   "metadata": {},
   "outputs": [],
   "source": [
    "# recoding education level to make it ordinal\n",
    "\n",
    "# recoding 88 to 13\n",
    "# recoding 87 to 14\n",
    "# recoding 13 to 15\n",
    "# recoding 14 to 16\n",
    "# recoding 15 to 17\n",
    "# recoding 90 to 18\n",
    "# recoding 91 to 19\n",
    "# recoding 16 to 20\n",
    "# recoding 17 to 21\n",
    "\n",
    "# first recoding to interim values\n",
    "df.loc[df[\"EducationLevel\"] == 88, \"EducationLevel\"] = 188\n",
    "df.loc[df[\"EducationLevel\"] == 89, \"EducationLevel\"] = 189\n",
    "df.loc[df[\"EducationLevel\"] == 87, \"EducationLevel\"] = 187\n",
    "df.loc[df[\"EducationLevel\"] == 13, \"EducationLevel\"] = 113\n",
    "df.loc[df[\"EducationLevel\"] == 14, \"EducationLevel\"] = 114\n",
    "df.loc[df[\"EducationLevel\"] == 15, \"EducationLevel\"] = 115\n",
    "df.loc[df[\"EducationLevel\"] == 90, \"EducationLevel\"] = 190\n",
    "df.loc[df[\"EducationLevel\"] == 91, \"EducationLevel\"] = 191\n",
    "df.loc[df[\"EducationLevel\"] == 16, \"EducationLevel\"] = 116\n",
    "df.loc[df[\"EducationLevel\"] == 17, \"EducationLevel\"] = 117\n",
    "\n",
    "# then recoding to final ordinal values\n",
    "df.loc[df[\"EducationLevel\"] == 188, \"EducationLevel\"] = 13\n",
    "df.loc[df[\"EducationLevel\"] == 189, \"EducationLevel\"] = 13\n",
    "df.loc[df[\"EducationLevel\"] == 187, \"EducationLevel\"] = 14\n",
    "df.loc[df[\"EducationLevel\"] == 113, \"EducationLevel\"] = 15\n",
    "df.loc[df[\"EducationLevel\"] == 114, \"EducationLevel\"] = 16\n",
    "df.loc[df[\"EducationLevel\"] == 115, \"EducationLevel\"] = 17\n",
    "df.loc[df[\"EducationLevel\"] == 190, \"EducationLevel\"] = 18\n",
    "df.loc[df[\"EducationLevel\"] == 191, \"EducationLevel\"] = 19\n",
    "df.loc[df[\"EducationLevel\"] == 116, \"EducationLevel\"] = 20\n",
    "df.loc[df[\"EducationLevel\"] == 117, \"EducationLevel\"] = 21"
   ]
  },
  {
   "cell_type": "markdown",
   "id": "fb6d5fd4",
   "metadata": {},
   "source": [
    "Education Level (recoded):\n",
    "\n",
    "\t0: No schooling\n",
    "\t1: 1st Grade\n",
    "\t2: 2nd Grade\n",
    "\t3: 3rd Grade\n",
    "\t4: 4th Grade\n",
    "\t5: 5th Grade\n",
    "\t6: 6th Grade\n",
    "\t7: 7th Grade\n",
    "\t8: 8th Grade\n",
    "\t9: 9th Grade\n",
    "\t10: 10th Grade\n",
    "\t11: 11th grade\n",
    "\t12: 12th grade no Diploma\n",
    "\t13: Attained GED or Equivalent\n",
    "\t14: Attained High School Diploma\n",
    "\t15: HS Grad and 1 year of College or a Technical or Vocational School\n",
    "\t16: HS Grad and 2 years of College or a Technical or Vocational School\n",
    "\t17: HS Grad and 3 years of College or a Technical or Vocational School\n",
    "\t18: Attained a postsecondary technical or vocational certificate (non-degree)\n",
    "\t19: Associate’s Degree\n",
    "\t20: Bachelor’s Degree or equivalent\n",
    "\t21: Attained degree beyond a Bachelor’s degree"
   ]
  },
  {
   "cell_type": "code",
   "execution_count": 36,
   "id": "c72a1f5e",
   "metadata": {},
   "outputs": [
    {
     "data": {
      "text/plain": [
       "14.0    31815\n",
       "20.0     9644\n",
       "15.0     6530\n",
       "16.0     6259\n",
       "13.0     6221\n",
       "21.0     5668\n",
       "18.0     4845\n",
       "17.0     2683\n",
       "11.0     2600\n",
       "19.0     2541\n",
       "10.0     1938\n",
       "0.0      1628\n",
       "12.0     1215\n",
       "9.0      1073\n",
       "8.0       431\n",
       "7.0       221\n",
       "6.0        60\n",
       "3.0        23\n",
       "2.0        20\n",
       "4.0        16\n",
       "1.0        13\n",
       "5.0        12\n",
       "Name: EducationLevel, dtype: int64"
      ]
     },
     "execution_count": 36,
     "metadata": {},
     "output_type": "execute_result"
    }
   ],
   "source": [
    "df.EducationLevel.value_counts()"
   ]
  },
  {
   "cell_type": "markdown",
   "id": "e58b4389",
   "metadata": {},
   "source": [
    "### Describing Data"
   ]
  },
  {
   "cell_type": "code",
   "execution_count": 37,
   "id": "49298d92",
   "metadata": {},
   "outputs": [
    {
     "data": {
      "text/html": [
       "<div>\n",
       "<style scoped>\n",
       "    .dataframe tbody tr th:only-of-type {\n",
       "        vertical-align: middle;\n",
       "    }\n",
       "\n",
       "    .dataframe tbody tr th {\n",
       "        vertical-align: top;\n",
       "    }\n",
       "\n",
       "    .dataframe thead th {\n",
       "        text-align: right;\n",
       "    }\n",
       "</style>\n",
       "<table border=\"1\" class=\"dataframe\">\n",
       "  <thead>\n",
       "    <tr style=\"text-align: right;\">\n",
       "      <th></th>\n",
       "      <th>StateId</th>\n",
       "      <th>Age_AtReg</th>\n",
       "      <th>Disability</th>\n",
       "      <th>Gender</th>\n",
       "      <th>CitizenStatus</th>\n",
       "      <th>EducationLevel</th>\n",
       "      <th>Race_Hispanic</th>\n",
       "      <th>Race_NativeAmerican</th>\n",
       "      <th>Race_Asian</th>\n",
       "      <th>Race_AfricanAmerican</th>\n",
       "      <th>Race_PacificIslander</th>\n",
       "      <th>Race_White</th>\n",
       "      <th>Employed</th>\n",
       "      <th>Length</th>\n",
       "      <th>StartMonth</th>\n",
       "      <th>StartYear</th>\n",
       "      <th>EndMonth</th>\n",
       "      <th>EndYear</th>\n",
       "    </tr>\n",
       "  </thead>\n",
       "  <tbody>\n",
       "    <tr>\n",
       "      <th>count</th>\n",
       "      <td>85456.000000</td>\n",
       "      <td>85456.000000</td>\n",
       "      <td>85456.000000</td>\n",
       "      <td>85456.000000</td>\n",
       "      <td>85456.000000</td>\n",
       "      <td>85456.000000</td>\n",
       "      <td>85456.000000</td>\n",
       "      <td>85456.000000</td>\n",
       "      <td>85456.000000</td>\n",
       "      <td>85456.000000</td>\n",
       "      <td>85456.000000</td>\n",
       "      <td>85456.000000</td>\n",
       "      <td>85456.000000</td>\n",
       "      <td>85456.000000</td>\n",
       "      <td>85456.000000</td>\n",
       "      <td>85456.000000</td>\n",
       "      <td>85456.000000</td>\n",
       "      <td>85456.000000</td>\n",
       "    </tr>\n",
       "    <tr>\n",
       "      <th>mean</th>\n",
       "      <td>264793.393103</td>\n",
       "      <td>36.959979</td>\n",
       "      <td>0.046503</td>\n",
       "      <td>1.476233</td>\n",
       "      <td>1.051032</td>\n",
       "      <td>15.156373</td>\n",
       "      <td>0.017752</td>\n",
       "      <td>0.016043</td>\n",
       "      <td>0.005664</td>\n",
       "      <td>0.854463</td>\n",
       "      <td>0.001708</td>\n",
       "      <td>0.030249</td>\n",
       "      <td>0.332358</td>\n",
       "      <td>25.537001</td>\n",
       "      <td>6.298458</td>\n",
       "      <td>2016.640470</td>\n",
       "      <td>6.356078</td>\n",
       "      <td>2016.704304</td>\n",
       "    </tr>\n",
       "    <tr>\n",
       "      <th>std</th>\n",
       "      <td>163727.066018</td>\n",
       "      <td>13.157010</td>\n",
       "      <td>0.210574</td>\n",
       "      <td>0.501729</td>\n",
       "      <td>0.298426</td>\n",
       "      <td>3.683426</td>\n",
       "      <td>0.132049</td>\n",
       "      <td>0.125643</td>\n",
       "      <td>0.075045</td>\n",
       "      <td>0.352643</td>\n",
       "      <td>0.041299</td>\n",
       "      <td>0.171274</td>\n",
       "      <td>0.471061</td>\n",
       "      <td>82.082859</td>\n",
       "      <td>3.387316</td>\n",
       "      <td>2.844043</td>\n",
       "      <td>3.357473</td>\n",
       "      <td>2.827862</td>\n",
       "    </tr>\n",
       "    <tr>\n",
       "      <th>min</th>\n",
       "      <td>20.000000</td>\n",
       "      <td>0.000000</td>\n",
       "      <td>0.000000</td>\n",
       "      <td>0.000000</td>\n",
       "      <td>1.000000</td>\n",
       "      <td>0.000000</td>\n",
       "      <td>0.000000</td>\n",
       "      <td>0.000000</td>\n",
       "      <td>0.000000</td>\n",
       "      <td>0.000000</td>\n",
       "      <td>0.000000</td>\n",
       "      <td>0.000000</td>\n",
       "      <td>0.000000</td>\n",
       "      <td>0.000000</td>\n",
       "      <td>1.000000</td>\n",
       "      <td>2011.000000</td>\n",
       "      <td>1.000000</td>\n",
       "      <td>2011.000000</td>\n",
       "    </tr>\n",
       "    <tr>\n",
       "      <th>25%</th>\n",
       "      <td>115430.000000</td>\n",
       "      <td>25.000000</td>\n",
       "      <td>0.000000</td>\n",
       "      <td>1.000000</td>\n",
       "      <td>1.000000</td>\n",
       "      <td>14.000000</td>\n",
       "      <td>0.000000</td>\n",
       "      <td>0.000000</td>\n",
       "      <td>0.000000</td>\n",
       "      <td>1.000000</td>\n",
       "      <td>0.000000</td>\n",
       "      <td>0.000000</td>\n",
       "      <td>0.000000</td>\n",
       "      <td>0.000000</td>\n",
       "      <td>3.000000</td>\n",
       "      <td>2015.000000</td>\n",
       "      <td>3.000000</td>\n",
       "      <td>2015.000000</td>\n",
       "    </tr>\n",
       "    <tr>\n",
       "      <th>50%</th>\n",
       "      <td>257591.000000</td>\n",
       "      <td>35.000000</td>\n",
       "      <td>0.000000</td>\n",
       "      <td>1.000000</td>\n",
       "      <td>1.000000</td>\n",
       "      <td>14.000000</td>\n",
       "      <td>0.000000</td>\n",
       "      <td>0.000000</td>\n",
       "      <td>0.000000</td>\n",
       "      <td>1.000000</td>\n",
       "      <td>0.000000</td>\n",
       "      <td>0.000000</td>\n",
       "      <td>0.000000</td>\n",
       "      <td>0.000000</td>\n",
       "      <td>6.000000</td>\n",
       "      <td>2017.000000</td>\n",
       "      <td>6.000000</td>\n",
       "      <td>2017.000000</td>\n",
       "    </tr>\n",
       "    <tr>\n",
       "      <th>75%</th>\n",
       "      <td>420994.750000</td>\n",
       "      <td>48.000000</td>\n",
       "      <td>0.000000</td>\n",
       "      <td>2.000000</td>\n",
       "      <td>1.000000</td>\n",
       "      <td>18.000000</td>\n",
       "      <td>0.000000</td>\n",
       "      <td>0.000000</td>\n",
       "      <td>0.000000</td>\n",
       "      <td>1.000000</td>\n",
       "      <td>0.000000</td>\n",
       "      <td>0.000000</td>\n",
       "      <td>1.000000</td>\n",
       "      <td>0.000000</td>\n",
       "      <td>9.000000</td>\n",
       "      <td>2019.000000</td>\n",
       "      <td>9.000000</td>\n",
       "      <td>2019.000000</td>\n",
       "    </tr>\n",
       "    <tr>\n",
       "      <th>max</th>\n",
       "      <td>646834.000000</td>\n",
       "      <td>83.000000</td>\n",
       "      <td>1.000000</td>\n",
       "      <td>2.000000</td>\n",
       "      <td>4.000000</td>\n",
       "      <td>21.000000</td>\n",
       "      <td>1.000000</td>\n",
       "      <td>1.000000</td>\n",
       "      <td>1.000000</td>\n",
       "      <td>1.000000</td>\n",
       "      <td>1.000000</td>\n",
       "      <td>1.000000</td>\n",
       "      <td>1.000000</td>\n",
       "      <td>2975.000000</td>\n",
       "      <td>12.000000</td>\n",
       "      <td>2021.000000</td>\n",
       "      <td>12.000000</td>\n",
       "      <td>2021.000000</td>\n",
       "    </tr>\n",
       "  </tbody>\n",
       "</table>\n",
       "</div>"
      ],
      "text/plain": [
       "             StateId     Age_AtReg    Disability        Gender  CitizenStatus  \\\n",
       "count   85456.000000  85456.000000  85456.000000  85456.000000   85456.000000   \n",
       "mean   264793.393103     36.959979      0.046503      1.476233       1.051032   \n",
       "std    163727.066018     13.157010      0.210574      0.501729       0.298426   \n",
       "min        20.000000      0.000000      0.000000      0.000000       1.000000   \n",
       "25%    115430.000000     25.000000      0.000000      1.000000       1.000000   \n",
       "50%    257591.000000     35.000000      0.000000      1.000000       1.000000   \n",
       "75%    420994.750000     48.000000      0.000000      2.000000       1.000000   \n",
       "max    646834.000000     83.000000      1.000000      2.000000       4.000000   \n",
       "\n",
       "       EducationLevel  Race_Hispanic  Race_NativeAmerican    Race_Asian  \\\n",
       "count    85456.000000   85456.000000         85456.000000  85456.000000   \n",
       "mean        15.156373       0.017752             0.016043      0.005664   \n",
       "std          3.683426       0.132049             0.125643      0.075045   \n",
       "min          0.000000       0.000000             0.000000      0.000000   \n",
       "25%         14.000000       0.000000             0.000000      0.000000   \n",
       "50%         14.000000       0.000000             0.000000      0.000000   \n",
       "75%         18.000000       0.000000             0.000000      0.000000   \n",
       "max         21.000000       1.000000             1.000000      1.000000   \n",
       "\n",
       "       Race_AfricanAmerican  Race_PacificIslander    Race_White      Employed  \\\n",
       "count          85456.000000          85456.000000  85456.000000  85456.000000   \n",
       "mean               0.854463              0.001708      0.030249      0.332358   \n",
       "std                0.352643              0.041299      0.171274      0.471061   \n",
       "min                0.000000              0.000000      0.000000      0.000000   \n",
       "25%                1.000000              0.000000      0.000000      0.000000   \n",
       "50%                1.000000              0.000000      0.000000      0.000000   \n",
       "75%                1.000000              0.000000      0.000000      1.000000   \n",
       "max                1.000000              1.000000      1.000000      1.000000   \n",
       "\n",
       "             Length    StartMonth     StartYear      EndMonth       EndYear  \n",
       "count  85456.000000  85456.000000  85456.000000  85456.000000  85456.000000  \n",
       "mean      25.537001      6.298458   2016.640470      6.356078   2016.704304  \n",
       "std       82.082859      3.387316      2.844043      3.357473      2.827862  \n",
       "min        0.000000      1.000000   2011.000000      1.000000   2011.000000  \n",
       "25%        0.000000      3.000000   2015.000000      3.000000   2015.000000  \n",
       "50%        0.000000      6.000000   2017.000000      6.000000   2017.000000  \n",
       "75%        0.000000      9.000000   2019.000000      9.000000   2019.000000  \n",
       "max     2975.000000     12.000000   2021.000000     12.000000   2021.000000  "
      ]
     },
     "execution_count": 37,
     "metadata": {},
     "output_type": "execute_result"
    }
   ],
   "source": [
    "df.describe()"
   ]
  },
  {
   "cell_type": "code",
   "execution_count": 38,
   "id": "03262943",
   "metadata": {},
   "outputs": [
    {
     "data": {
      "text/plain": [
       "(85456, 22)"
      ]
     },
     "execution_count": 38,
     "metadata": {},
     "output_type": "execute_result"
    }
   ],
   "source": [
    "df.shape"
   ]
  },
  {
   "cell_type": "markdown",
   "id": "45d7dc06",
   "metadata": {},
   "source": [
    "### Summarizing"
   ]
  },
  {
   "cell_type": "code",
   "execution_count": 39,
   "id": "8e802937",
   "metadata": {},
   "outputs": [
    {
     "data": {
      "text/html": [
       "<div>\n",
       "<style scoped>\n",
       "    .dataframe tbody tr th:only-of-type {\n",
       "        vertical-align: middle;\n",
       "    }\n",
       "\n",
       "    .dataframe tbody tr th {\n",
       "        vertical-align: top;\n",
       "    }\n",
       "\n",
       "    .dataframe thead th {\n",
       "        text-align: right;\n",
       "    }\n",
       "</style>\n",
       "<table border=\"1\" class=\"dataframe\">\n",
       "  <thead>\n",
       "    <tr style=\"text-align: right;\">\n",
       "      <th></th>\n",
       "      <th>StateId</th>\n",
       "      <th>Age_AtReg</th>\n",
       "      <th>Disability</th>\n",
       "      <th>Gender</th>\n",
       "      <th>CitizenStatus</th>\n",
       "      <th>EducationLevel</th>\n",
       "      <th>Race_Hispanic</th>\n",
       "      <th>Race_NativeAmerican</th>\n",
       "      <th>Race_Asian</th>\n",
       "      <th>Race_AfricanAmerican</th>\n",
       "      <th>Race_PacificIslander</th>\n",
       "      <th>Race_White</th>\n",
       "      <th>Employed</th>\n",
       "      <th>Length</th>\n",
       "      <th>StartMonth</th>\n",
       "      <th>StartYear</th>\n",
       "      <th>EndMonth</th>\n",
       "      <th>EndYear</th>\n",
       "    </tr>\n",
       "  </thead>\n",
       "  <tbody>\n",
       "    <tr>\n",
       "      <th>StateId</th>\n",
       "      <td>1.000000</td>\n",
       "      <td>-0.216006</td>\n",
       "      <td>-0.010709</td>\n",
       "      <td>-0.033312</td>\n",
       "      <td>0.079597</td>\n",
       "      <td>0.013884</td>\n",
       "      <td>0.072346</td>\n",
       "      <td>0.009310</td>\n",
       "      <td>0.046276</td>\n",
       "      <td>-0.217824</td>\n",
       "      <td>0.025423</td>\n",
       "      <td>0.100618</td>\n",
       "      <td>0.027109</td>\n",
       "      <td>-0.004758</td>\n",
       "      <td>-0.000818</td>\n",
       "      <td>0.287530</td>\n",
       "      <td>-0.006517</td>\n",
       "      <td>0.289331</td>\n",
       "    </tr>\n",
       "    <tr>\n",
       "      <th>Age_AtReg</th>\n",
       "      <td>-0.216006</td>\n",
       "      <td>1.000000</td>\n",
       "      <td>0.118714</td>\n",
       "      <td>-0.012475</td>\n",
       "      <td>0.010701</td>\n",
       "      <td>0.224762</td>\n",
       "      <td>0.009111</td>\n",
       "      <td>0.005683</td>\n",
       "      <td>0.001889</td>\n",
       "      <td>-0.061487</td>\n",
       "      <td>-0.016177</td>\n",
       "      <td>0.051361</td>\n",
       "      <td>0.003485</td>\n",
       "      <td>-0.065247</td>\n",
       "      <td>-0.001033</td>\n",
       "      <td>-0.074473</td>\n",
       "      <td>-0.004566</td>\n",
       "      <td>-0.079677</td>\n",
       "    </tr>\n",
       "    <tr>\n",
       "      <th>Disability</th>\n",
       "      <td>-0.010709</td>\n",
       "      <td>0.118714</td>\n",
       "      <td>1.000000</td>\n",
       "      <td>-0.017118</td>\n",
       "      <td>-0.024544</td>\n",
       "      <td>0.041423</td>\n",
       "      <td>-0.002755</td>\n",
       "      <td>0.021338</td>\n",
       "      <td>0.021099</td>\n",
       "      <td>-0.018223</td>\n",
       "      <td>0.004320</td>\n",
       "      <td>0.068069</td>\n",
       "      <td>-0.032418</td>\n",
       "      <td>-0.018222</td>\n",
       "      <td>0.005413</td>\n",
       "      <td>0.024889</td>\n",
       "      <td>0.004319</td>\n",
       "      <td>0.023702</td>\n",
       "    </tr>\n",
       "    <tr>\n",
       "      <th>Gender</th>\n",
       "      <td>-0.033312</td>\n",
       "      <td>-0.012475</td>\n",
       "      <td>-0.017118</td>\n",
       "      <td>1.000000</td>\n",
       "      <td>0.001496</td>\n",
       "      <td>0.119207</td>\n",
       "      <td>0.013345</td>\n",
       "      <td>0.010597</td>\n",
       "      <td>0.011345</td>\n",
       "      <td>-0.042004</td>\n",
       "      <td>-0.001429</td>\n",
       "      <td>0.010205</td>\n",
       "      <td>0.033670</td>\n",
       "      <td>-0.033526</td>\n",
       "      <td>0.012206</td>\n",
       "      <td>0.015211</td>\n",
       "      <td>0.005055</td>\n",
       "      <td>0.013460</td>\n",
       "    </tr>\n",
       "    <tr>\n",
       "      <th>CitizenStatus</th>\n",
       "      <td>0.079597</td>\n",
       "      <td>0.010701</td>\n",
       "      <td>-0.024544</td>\n",
       "      <td>0.001496</td>\n",
       "      <td>1.000000</td>\n",
       "      <td>0.038048</td>\n",
       "      <td>0.099654</td>\n",
       "      <td>-0.020587</td>\n",
       "      <td>0.021580</td>\n",
       "      <td>-0.095997</td>\n",
       "      <td>-0.002327</td>\n",
       "      <td>0.041229</td>\n",
       "      <td>0.005876</td>\n",
       "      <td>-0.023960</td>\n",
       "      <td>-0.007450</td>\n",
       "      <td>-0.000663</td>\n",
       "      <td>-0.009458</td>\n",
       "      <td>-0.002378</td>\n",
       "    </tr>\n",
       "    <tr>\n",
       "      <th>EducationLevel</th>\n",
       "      <td>0.013884</td>\n",
       "      <td>0.224762</td>\n",
       "      <td>0.041423</td>\n",
       "      <td>0.119207</td>\n",
       "      <td>0.038048</td>\n",
       "      <td>1.000000</td>\n",
       "      <td>0.031753</td>\n",
       "      <td>0.025857</td>\n",
       "      <td>0.043406</td>\n",
       "      <td>-0.144803</td>\n",
       "      <td>-0.004064</td>\n",
       "      <td>0.110214</td>\n",
       "      <td>0.091261</td>\n",
       "      <td>-0.097973</td>\n",
       "      <td>0.008691</td>\n",
       "      <td>0.071933</td>\n",
       "      <td>0.002080</td>\n",
       "      <td>0.065274</td>\n",
       "    </tr>\n",
       "    <tr>\n",
       "      <th>Race_Hispanic</th>\n",
       "      <td>0.072346</td>\n",
       "      <td>0.009111</td>\n",
       "      <td>-0.002755</td>\n",
       "      <td>0.013345</td>\n",
       "      <td>0.099654</td>\n",
       "      <td>0.031753</td>\n",
       "      <td>1.000000</td>\n",
       "      <td>0.043492</td>\n",
       "      <td>0.054803</td>\n",
       "      <td>-0.203106</td>\n",
       "      <td>0.018042</td>\n",
       "      <td>0.149072</td>\n",
       "      <td>-0.006055</td>\n",
       "      <td>-0.006482</td>\n",
       "      <td>-0.001642</td>\n",
       "      <td>-0.001016</td>\n",
       "      <td>-0.002750</td>\n",
       "      <td>-0.001424</td>\n",
       "    </tr>\n",
       "    <tr>\n",
       "      <th>Race_NativeAmerican</th>\n",
       "      <td>0.009310</td>\n",
       "      <td>0.005683</td>\n",
       "      <td>0.021338</td>\n",
       "      <td>0.010597</td>\n",
       "      <td>-0.020587</td>\n",
       "      <td>0.025857</td>\n",
       "      <td>0.043492</td>\n",
       "      <td>1.000000</td>\n",
       "      <td>0.077239</td>\n",
       "      <td>-0.045551</td>\n",
       "      <td>0.107478</td>\n",
       "      <td>0.171582</td>\n",
       "      <td>0.008964</td>\n",
       "      <td>-0.009839</td>\n",
       "      <td>0.001067</td>\n",
       "      <td>0.008053</td>\n",
       "      <td>-0.001503</td>\n",
       "      <td>0.007555</td>\n",
       "    </tr>\n",
       "    <tr>\n",
       "      <th>Race_Asian</th>\n",
       "      <td>0.046276</td>\n",
       "      <td>0.001889</td>\n",
       "      <td>0.021099</td>\n",
       "      <td>0.011345</td>\n",
       "      <td>0.021580</td>\n",
       "      <td>0.043406</td>\n",
       "      <td>0.054803</td>\n",
       "      <td>0.077239</td>\n",
       "      <td>1.000000</td>\n",
       "      <td>-0.090896</td>\n",
       "      <td>0.106375</td>\n",
       "      <td>0.077714</td>\n",
       "      <td>0.004680</td>\n",
       "      <td>-0.009833</td>\n",
       "      <td>-0.000067</td>\n",
       "      <td>0.008060</td>\n",
       "      <td>-0.000852</td>\n",
       "      <td>0.007451</td>\n",
       "    </tr>\n",
       "    <tr>\n",
       "      <th>Race_AfricanAmerican</th>\n",
       "      <td>-0.217824</td>\n",
       "      <td>-0.061487</td>\n",
       "      <td>-0.018223</td>\n",
       "      <td>-0.042004</td>\n",
       "      <td>-0.095997</td>\n",
       "      <td>-0.144803</td>\n",
       "      <td>-0.203106</td>\n",
       "      <td>-0.045551</td>\n",
       "      <td>-0.090896</td>\n",
       "      <td>1.000000</td>\n",
       "      <td>-0.025513</td>\n",
       "      <td>-0.310535</td>\n",
       "      <td>-0.028492</td>\n",
       "      <td>0.046731</td>\n",
       "      <td>0.006220</td>\n",
       "      <td>-0.059383</td>\n",
       "      <td>0.007784</td>\n",
       "      <td>-0.056239</td>\n",
       "    </tr>\n",
       "    <tr>\n",
       "      <th>Race_PacificIslander</th>\n",
       "      <td>0.025423</td>\n",
       "      <td>-0.016177</td>\n",
       "      <td>0.004320</td>\n",
       "      <td>-0.001429</td>\n",
       "      <td>-0.002327</td>\n",
       "      <td>-0.004064</td>\n",
       "      <td>0.018042</td>\n",
       "      <td>0.107478</td>\n",
       "      <td>0.106375</td>\n",
       "      <td>-0.025513</td>\n",
       "      <td>1.000000</td>\n",
       "      <td>0.057214</td>\n",
       "      <td>-0.015353</td>\n",
       "      <td>-0.003560</td>\n",
       "      <td>0.000788</td>\n",
       "      <td>0.003935</td>\n",
       "      <td>-0.000674</td>\n",
       "      <td>0.003825</td>\n",
       "    </tr>\n",
       "    <tr>\n",
       "      <th>Race_White</th>\n",
       "      <td>0.100618</td>\n",
       "      <td>0.051361</td>\n",
       "      <td>0.068069</td>\n",
       "      <td>0.010205</td>\n",
       "      <td>0.041229</td>\n",
       "      <td>0.110214</td>\n",
       "      <td>0.149072</td>\n",
       "      <td>0.171582</td>\n",
       "      <td>0.077714</td>\n",
       "      <td>-0.310535</td>\n",
       "      <td>0.057214</td>\n",
       "      <td>1.000000</td>\n",
       "      <td>0.016224</td>\n",
       "      <td>-0.022961</td>\n",
       "      <td>-0.006162</td>\n",
       "      <td>0.008393</td>\n",
       "      <td>-0.005789</td>\n",
       "      <td>0.006605</td>\n",
       "    </tr>\n",
       "    <tr>\n",
       "      <th>Employed</th>\n",
       "      <td>0.027109</td>\n",
       "      <td>0.003485</td>\n",
       "      <td>-0.032418</td>\n",
       "      <td>0.033670</td>\n",
       "      <td>0.005876</td>\n",
       "      <td>0.091261</td>\n",
       "      <td>-0.006055</td>\n",
       "      <td>0.008964</td>\n",
       "      <td>0.004680</td>\n",
       "      <td>-0.028492</td>\n",
       "      <td>-0.015353</td>\n",
       "      <td>0.016224</td>\n",
       "      <td>1.000000</td>\n",
       "      <td>-0.080548</td>\n",
       "      <td>0.024401</td>\n",
       "      <td>0.128736</td>\n",
       "      <td>0.018584</td>\n",
       "      <td>0.123753</td>\n",
       "    </tr>\n",
       "    <tr>\n",
       "      <th>Length</th>\n",
       "      <td>-0.004758</td>\n",
       "      <td>-0.065247</td>\n",
       "      <td>-0.018222</td>\n",
       "      <td>-0.033526</td>\n",
       "      <td>-0.023960</td>\n",
       "      <td>-0.097973</td>\n",
       "      <td>-0.006482</td>\n",
       "      <td>-0.009839</td>\n",
       "      <td>-0.009833</td>\n",
       "      <td>0.046731</td>\n",
       "      <td>-0.003560</td>\n",
       "      <td>-0.022961</td>\n",
       "      <td>-0.080548</td>\n",
       "      <td>1.000000</td>\n",
       "      <td>0.010962</td>\n",
       "      <td>-0.135268</td>\n",
       "      <td>0.023039</td>\n",
       "      <td>-0.058429</td>\n",
       "    </tr>\n",
       "    <tr>\n",
       "      <th>StartMonth</th>\n",
       "      <td>-0.000818</td>\n",
       "      <td>-0.001033</td>\n",
       "      <td>0.005413</td>\n",
       "      <td>0.012206</td>\n",
       "      <td>-0.007450</td>\n",
       "      <td>0.008691</td>\n",
       "      <td>-0.001642</td>\n",
       "      <td>0.001067</td>\n",
       "      <td>-0.000067</td>\n",
       "      <td>0.006220</td>\n",
       "      <td>0.000788</td>\n",
       "      <td>-0.006162</td>\n",
       "      <td>0.024401</td>\n",
       "      <td>0.010962</td>\n",
       "      <td>1.000000</td>\n",
       "      <td>-0.071877</td>\n",
       "      <td>0.847032</td>\n",
       "      <td>-0.055470</td>\n",
       "    </tr>\n",
       "    <tr>\n",
       "      <th>StartYear</th>\n",
       "      <td>0.287530</td>\n",
       "      <td>-0.074473</td>\n",
       "      <td>0.024889</td>\n",
       "      <td>0.015211</td>\n",
       "      <td>-0.000663</td>\n",
       "      <td>0.071933</td>\n",
       "      <td>-0.001016</td>\n",
       "      <td>0.008053</td>\n",
       "      <td>0.008060</td>\n",
       "      <td>-0.059383</td>\n",
       "      <td>0.003935</td>\n",
       "      <td>0.008393</td>\n",
       "      <td>0.128736</td>\n",
       "      <td>-0.135268</td>\n",
       "      <td>-0.071877</td>\n",
       "      <td>1.000000</td>\n",
       "      <td>-0.077579</td>\n",
       "      <td>0.995507</td>\n",
       "    </tr>\n",
       "    <tr>\n",
       "      <th>EndMonth</th>\n",
       "      <td>-0.006517</td>\n",
       "      <td>-0.004566</td>\n",
       "      <td>0.004319</td>\n",
       "      <td>0.005055</td>\n",
       "      <td>-0.009458</td>\n",
       "      <td>0.002080</td>\n",
       "      <td>-0.002750</td>\n",
       "      <td>-0.001503</td>\n",
       "      <td>-0.000852</td>\n",
       "      <td>0.007784</td>\n",
       "      <td>-0.000674</td>\n",
       "      <td>-0.005789</td>\n",
       "      <td>0.018584</td>\n",
       "      <td>0.023039</td>\n",
       "      <td>0.847032</td>\n",
       "      <td>-0.077579</td>\n",
       "      <td>1.000000</td>\n",
       "      <td>-0.090601</td>\n",
       "    </tr>\n",
       "    <tr>\n",
       "      <th>EndYear</th>\n",
       "      <td>0.289331</td>\n",
       "      <td>-0.079677</td>\n",
       "      <td>0.023702</td>\n",
       "      <td>0.013460</td>\n",
       "      <td>-0.002378</td>\n",
       "      <td>0.065274</td>\n",
       "      <td>-0.001424</td>\n",
       "      <td>0.007555</td>\n",
       "      <td>0.007451</td>\n",
       "      <td>-0.056239</td>\n",
       "      <td>0.003825</td>\n",
       "      <td>0.006605</td>\n",
       "      <td>0.123753</td>\n",
       "      <td>-0.058429</td>\n",
       "      <td>-0.055470</td>\n",
       "      <td>0.995507</td>\n",
       "      <td>-0.090601</td>\n",
       "      <td>1.000000</td>\n",
       "    </tr>\n",
       "  </tbody>\n",
       "</table>\n",
       "</div>"
      ],
      "text/plain": [
       "                       StateId  Age_AtReg  Disability    Gender  \\\n",
       "StateId               1.000000  -0.216006   -0.010709 -0.033312   \n",
       "Age_AtReg            -0.216006   1.000000    0.118714 -0.012475   \n",
       "Disability           -0.010709   0.118714    1.000000 -0.017118   \n",
       "Gender               -0.033312  -0.012475   -0.017118  1.000000   \n",
       "CitizenStatus         0.079597   0.010701   -0.024544  0.001496   \n",
       "EducationLevel        0.013884   0.224762    0.041423  0.119207   \n",
       "Race_Hispanic         0.072346   0.009111   -0.002755  0.013345   \n",
       "Race_NativeAmerican   0.009310   0.005683    0.021338  0.010597   \n",
       "Race_Asian            0.046276   0.001889    0.021099  0.011345   \n",
       "Race_AfricanAmerican -0.217824  -0.061487   -0.018223 -0.042004   \n",
       "Race_PacificIslander  0.025423  -0.016177    0.004320 -0.001429   \n",
       "Race_White            0.100618   0.051361    0.068069  0.010205   \n",
       "Employed              0.027109   0.003485   -0.032418  0.033670   \n",
       "Length               -0.004758  -0.065247   -0.018222 -0.033526   \n",
       "StartMonth           -0.000818  -0.001033    0.005413  0.012206   \n",
       "StartYear             0.287530  -0.074473    0.024889  0.015211   \n",
       "EndMonth             -0.006517  -0.004566    0.004319  0.005055   \n",
       "EndYear               0.289331  -0.079677    0.023702  0.013460   \n",
       "\n",
       "                      CitizenStatus  EducationLevel  Race_Hispanic  \\\n",
       "StateId                    0.079597        0.013884       0.072346   \n",
       "Age_AtReg                  0.010701        0.224762       0.009111   \n",
       "Disability                -0.024544        0.041423      -0.002755   \n",
       "Gender                     0.001496        0.119207       0.013345   \n",
       "CitizenStatus              1.000000        0.038048       0.099654   \n",
       "EducationLevel             0.038048        1.000000       0.031753   \n",
       "Race_Hispanic              0.099654        0.031753       1.000000   \n",
       "Race_NativeAmerican       -0.020587        0.025857       0.043492   \n",
       "Race_Asian                 0.021580        0.043406       0.054803   \n",
       "Race_AfricanAmerican      -0.095997       -0.144803      -0.203106   \n",
       "Race_PacificIslander      -0.002327       -0.004064       0.018042   \n",
       "Race_White                 0.041229        0.110214       0.149072   \n",
       "Employed                   0.005876        0.091261      -0.006055   \n",
       "Length                    -0.023960       -0.097973      -0.006482   \n",
       "StartMonth                -0.007450        0.008691      -0.001642   \n",
       "StartYear                 -0.000663        0.071933      -0.001016   \n",
       "EndMonth                  -0.009458        0.002080      -0.002750   \n",
       "EndYear                   -0.002378        0.065274      -0.001424   \n",
       "\n",
       "                      Race_NativeAmerican  Race_Asian  Race_AfricanAmerican  \\\n",
       "StateId                          0.009310    0.046276             -0.217824   \n",
       "Age_AtReg                        0.005683    0.001889             -0.061487   \n",
       "Disability                       0.021338    0.021099             -0.018223   \n",
       "Gender                           0.010597    0.011345             -0.042004   \n",
       "CitizenStatus                   -0.020587    0.021580             -0.095997   \n",
       "EducationLevel                   0.025857    0.043406             -0.144803   \n",
       "Race_Hispanic                    0.043492    0.054803             -0.203106   \n",
       "Race_NativeAmerican              1.000000    0.077239             -0.045551   \n",
       "Race_Asian                       0.077239    1.000000             -0.090896   \n",
       "Race_AfricanAmerican            -0.045551   -0.090896              1.000000   \n",
       "Race_PacificIslander             0.107478    0.106375             -0.025513   \n",
       "Race_White                       0.171582    0.077714             -0.310535   \n",
       "Employed                         0.008964    0.004680             -0.028492   \n",
       "Length                          -0.009839   -0.009833              0.046731   \n",
       "StartMonth                       0.001067   -0.000067              0.006220   \n",
       "StartYear                        0.008053    0.008060             -0.059383   \n",
       "EndMonth                        -0.001503   -0.000852              0.007784   \n",
       "EndYear                          0.007555    0.007451             -0.056239   \n",
       "\n",
       "                      Race_PacificIslander  Race_White  Employed    Length  \\\n",
       "StateId                           0.025423    0.100618  0.027109 -0.004758   \n",
       "Age_AtReg                        -0.016177    0.051361  0.003485 -0.065247   \n",
       "Disability                        0.004320    0.068069 -0.032418 -0.018222   \n",
       "Gender                           -0.001429    0.010205  0.033670 -0.033526   \n",
       "CitizenStatus                    -0.002327    0.041229  0.005876 -0.023960   \n",
       "EducationLevel                   -0.004064    0.110214  0.091261 -0.097973   \n",
       "Race_Hispanic                     0.018042    0.149072 -0.006055 -0.006482   \n",
       "Race_NativeAmerican               0.107478    0.171582  0.008964 -0.009839   \n",
       "Race_Asian                        0.106375    0.077714  0.004680 -0.009833   \n",
       "Race_AfricanAmerican             -0.025513   -0.310535 -0.028492  0.046731   \n",
       "Race_PacificIslander              1.000000    0.057214 -0.015353 -0.003560   \n",
       "Race_White                        0.057214    1.000000  0.016224 -0.022961   \n",
       "Employed                         -0.015353    0.016224  1.000000 -0.080548   \n",
       "Length                           -0.003560   -0.022961 -0.080548  1.000000   \n",
       "StartMonth                        0.000788   -0.006162  0.024401  0.010962   \n",
       "StartYear                         0.003935    0.008393  0.128736 -0.135268   \n",
       "EndMonth                         -0.000674   -0.005789  0.018584  0.023039   \n",
       "EndYear                           0.003825    0.006605  0.123753 -0.058429   \n",
       "\n",
       "                      StartMonth  StartYear  EndMonth   EndYear  \n",
       "StateId                -0.000818   0.287530 -0.006517  0.289331  \n",
       "Age_AtReg              -0.001033  -0.074473 -0.004566 -0.079677  \n",
       "Disability              0.005413   0.024889  0.004319  0.023702  \n",
       "Gender                  0.012206   0.015211  0.005055  0.013460  \n",
       "CitizenStatus          -0.007450  -0.000663 -0.009458 -0.002378  \n",
       "EducationLevel          0.008691   0.071933  0.002080  0.065274  \n",
       "Race_Hispanic          -0.001642  -0.001016 -0.002750 -0.001424  \n",
       "Race_NativeAmerican     0.001067   0.008053 -0.001503  0.007555  \n",
       "Race_Asian             -0.000067   0.008060 -0.000852  0.007451  \n",
       "Race_AfricanAmerican    0.006220  -0.059383  0.007784 -0.056239  \n",
       "Race_PacificIslander    0.000788   0.003935 -0.000674  0.003825  \n",
       "Race_White             -0.006162   0.008393 -0.005789  0.006605  \n",
       "Employed                0.024401   0.128736  0.018584  0.123753  \n",
       "Length                  0.010962  -0.135268  0.023039 -0.058429  \n",
       "StartMonth              1.000000  -0.071877  0.847032 -0.055470  \n",
       "StartYear              -0.071877   1.000000 -0.077579  0.995507  \n",
       "EndMonth                0.847032  -0.077579  1.000000 -0.090601  \n",
       "EndYear                -0.055470   0.995507 -0.090601  1.000000  "
      ]
     },
     "execution_count": 39,
     "metadata": {},
     "output_type": "execute_result"
    }
   ],
   "source": [
    "# Look at the correlation matrix\n",
    "corr = df.corr()\n",
    "corr\n",
    "# corr.to_csv('corr.csv')"
   ]
  },
  {
   "cell_type": "code",
   "execution_count": 40,
   "id": "312a2466",
   "metadata": {},
   "outputs": [],
   "source": [
    "df.to_csv('2_cleaned_data/df.csv', index=False)"
   ]
  },
  {
   "cell_type": "code",
   "execution_count": null,
   "id": "b4aa9910",
   "metadata": {},
   "outputs": [],
   "source": []
  }
 ],
 "metadata": {
  "kernelspec": {
   "display_name": "Python 3",
   "language": "python",
   "name": "python3"
  },
  "language_info": {
   "codemirror_mode": {
    "name": "ipython",
    "version": 3
   },
   "file_extension": ".py",
   "mimetype": "text/x-python",
   "name": "python",
   "nbconvert_exporter": "python",
   "pygments_lexer": "ipython3",
   "version": "3.8.8"
  }
 },
 "nbformat": 4,
 "nbformat_minor": 5
}
