{
 "cells": [
  {
   "cell_type": "markdown",
   "id": "03efec4e",
   "metadata": {},
   "source": [
    "#### Analyst: Dhruv Singh <br> Report Name: Success Classifier, Phase 1.2: Graphs <br> Report Quarter, Year: FY 2011-2021 <br> Date Updated: 10/23/2021"
   ]
  },
  {
   "cell_type": "markdown",
   "id": "a87d2110",
   "metadata": {},
   "source": [
    "# Phase I. B: Graphs"
   ]
  },
  {
   "cell_type": "code",
   "execution_count": 1,
   "id": "c692b00b",
   "metadata": {},
   "outputs": [],
   "source": [
    "# libraries\n",
    "import pandas as pd\n",
    "import numpy as np\n",
    "import matplotlib.pyplot as plt\n",
    "import seaborn as sns\n",
    "%matplotlib inline\n",
    "import re"
   ]
  },
  {
   "cell_type": "code",
   "execution_count": 2,
   "id": "bc7f01be",
   "metadata": {},
   "outputs": [
    {
     "data": {
      "text/html": [
       "<div>\n",
       "<style scoped>\n",
       "    .dataframe tbody tr th:only-of-type {\n",
       "        vertical-align: middle;\n",
       "    }\n",
       "\n",
       "    .dataframe tbody tr th {\n",
       "        vertical-align: top;\n",
       "    }\n",
       "\n",
       "    .dataframe thead th {\n",
       "        text-align: right;\n",
       "    }\n",
       "</style>\n",
       "<table border=\"1\" class=\"dataframe\">\n",
       "  <thead>\n",
       "    <tr style=\"text-align: right;\">\n",
       "      <th></th>\n",
       "      <th>StateId</th>\n",
       "      <th>ProgramTitle</th>\n",
       "      <th>Age_AtReg</th>\n",
       "      <th>Disability</th>\n",
       "      <th>Gender</th>\n",
       "      <th>CitizenStatus</th>\n",
       "      <th>EducationLevel</th>\n",
       "      <th>Race_Hispanic</th>\n",
       "      <th>Race_NativeAmerican</th>\n",
       "      <th>Race_Asian</th>\n",
       "      <th>...</th>\n",
       "      <th>Race_White</th>\n",
       "      <th>ActualstartDate</th>\n",
       "      <th>ActualEndDate</th>\n",
       "      <th>EmpName</th>\n",
       "      <th>Employed</th>\n",
       "      <th>Length</th>\n",
       "      <th>StartMonth</th>\n",
       "      <th>StartYear</th>\n",
       "      <th>EndMonth</th>\n",
       "      <th>EndYear</th>\n",
       "    </tr>\n",
       "  </thead>\n",
       "  <tbody>\n",
       "    <tr>\n",
       "      <th>0</th>\n",
       "      <td>20</td>\n",
       "      <td>Transitional Employment Program (Way to Work)</td>\n",
       "      <td>40</td>\n",
       "      <td>0</td>\n",
       "      <td>1</td>\n",
       "      <td>1</td>\n",
       "      <td>11</td>\n",
       "      <td>0</td>\n",
       "      <td>0</td>\n",
       "      <td>0</td>\n",
       "      <td>...</td>\n",
       "      <td>0</td>\n",
       "      <td>2018-03-23</td>\n",
       "      <td>2018-03-23</td>\n",
       "      <td>Helix Electric</td>\n",
       "      <td>1</td>\n",
       "      <td>0</td>\n",
       "      <td>3</td>\n",
       "      <td>2018</td>\n",
       "      <td>3</td>\n",
       "      <td>2018</td>\n",
       "    </tr>\n",
       "    <tr>\n",
       "      <th>1</th>\n",
       "      <td>20</td>\n",
       "      <td>Transitional Employment Program (Way to Work)</td>\n",
       "      <td>40</td>\n",
       "      <td>0</td>\n",
       "      <td>1</td>\n",
       "      <td>1</td>\n",
       "      <td>11</td>\n",
       "      <td>0</td>\n",
       "      <td>0</td>\n",
       "      <td>0</td>\n",
       "      <td>...</td>\n",
       "      <td>0</td>\n",
       "      <td>2019-10-25</td>\n",
       "      <td>2019-10-25</td>\n",
       "      <td>Helix Electric</td>\n",
       "      <td>1</td>\n",
       "      <td>0</td>\n",
       "      <td>10</td>\n",
       "      <td>2019</td>\n",
       "      <td>10</td>\n",
       "      <td>2019</td>\n",
       "    </tr>\n",
       "    <tr>\n",
       "      <th>2</th>\n",
       "      <td>34</td>\n",
       "      <td>DC Infrastructure Academy</td>\n",
       "      <td>50</td>\n",
       "      <td>0</td>\n",
       "      <td>1</td>\n",
       "      <td>1</td>\n",
       "      <td>14</td>\n",
       "      <td>0</td>\n",
       "      <td>0</td>\n",
       "      <td>0</td>\n",
       "      <td>...</td>\n",
       "      <td>0</td>\n",
       "      <td>2019-08-27</td>\n",
       "      <td>2019-08-28</td>\n",
       "      <td>0</td>\n",
       "      <td>0</td>\n",
       "      <td>1</td>\n",
       "      <td>8</td>\n",
       "      <td>2019</td>\n",
       "      <td>8</td>\n",
       "      <td>2019</td>\n",
       "    </tr>\n",
       "    <tr>\n",
       "      <th>3</th>\n",
       "      <td>34</td>\n",
       "      <td>Transitional Employment Program (Way to Work)</td>\n",
       "      <td>50</td>\n",
       "      <td>0</td>\n",
       "      <td>1</td>\n",
       "      <td>1</td>\n",
       "      <td>14</td>\n",
       "      <td>0</td>\n",
       "      <td>0</td>\n",
       "      <td>0</td>\n",
       "      <td>...</td>\n",
       "      <td>0</td>\n",
       "      <td>2012-07-20</td>\n",
       "      <td>2012-07-20</td>\n",
       "      <td>0</td>\n",
       "      <td>0</td>\n",
       "      <td>0</td>\n",
       "      <td>7</td>\n",
       "      <td>2012</td>\n",
       "      <td>7</td>\n",
       "      <td>2012</td>\n",
       "    </tr>\n",
       "    <tr>\n",
       "      <th>4</th>\n",
       "      <td>58</td>\n",
       "      <td>Title I - Workforce Development (WIOA)</td>\n",
       "      <td>53</td>\n",
       "      <td>0</td>\n",
       "      <td>1</td>\n",
       "      <td>1</td>\n",
       "      <td>14</td>\n",
       "      <td>0</td>\n",
       "      <td>0</td>\n",
       "      <td>0</td>\n",
       "      <td>...</td>\n",
       "      <td>0</td>\n",
       "      <td>2016-07-21</td>\n",
       "      <td>2016-07-21</td>\n",
       "      <td>0</td>\n",
       "      <td>0</td>\n",
       "      <td>0</td>\n",
       "      <td>7</td>\n",
       "      <td>2016</td>\n",
       "      <td>7</td>\n",
       "      <td>2016</td>\n",
       "    </tr>\n",
       "  </tbody>\n",
       "</table>\n",
       "<p>5 rows × 22 columns</p>\n",
       "</div>"
      ],
      "text/plain": [
       "   StateId                                   ProgramTitle  Age_AtReg  \\\n",
       "0       20  Transitional Employment Program (Way to Work)         40   \n",
       "1       20  Transitional Employment Program (Way to Work)         40   \n",
       "2       34                      DC Infrastructure Academy         50   \n",
       "3       34  Transitional Employment Program (Way to Work)         50   \n",
       "4       58         Title I - Workforce Development (WIOA)         53   \n",
       "\n",
       "   Disability  Gender  CitizenStatus  EducationLevel  Race_Hispanic  \\\n",
       "0           0       1              1              11              0   \n",
       "1           0       1              1              11              0   \n",
       "2           0       1              1              14              0   \n",
       "3           0       1              1              14              0   \n",
       "4           0       1              1              14              0   \n",
       "\n",
       "   Race_NativeAmerican  Race_Asian  ...  Race_White  ActualstartDate  \\\n",
       "0                    0           0  ...           0       2018-03-23   \n",
       "1                    0           0  ...           0       2019-10-25   \n",
       "2                    0           0  ...           0       2019-08-27   \n",
       "3                    0           0  ...           0       2012-07-20   \n",
       "4                    0           0  ...           0       2016-07-21   \n",
       "\n",
       "   ActualEndDate         EmpName Employed Length  StartMonth  StartYear  \\\n",
       "0     2018-03-23  Helix Electric        1      0           3       2018   \n",
       "1     2019-10-25  Helix Electric        1      0          10       2019   \n",
       "2     2019-08-28               0        0      1           8       2019   \n",
       "3     2012-07-20               0        0      0           7       2012   \n",
       "4     2016-07-21               0        0      0           7       2016   \n",
       "\n",
       "   EndMonth  EndYear  \n",
       "0         3     2018  \n",
       "1        10     2019  \n",
       "2         8     2019  \n",
       "3         7     2012  \n",
       "4         7     2016  \n",
       "\n",
       "[5 rows x 22 columns]"
      ]
     },
     "execution_count": 2,
     "metadata": {},
     "output_type": "execute_result"
    }
   ],
   "source": [
    "# Read in data\n",
    "df = pd.read_csv('2_data/1_cleaned_data.csv')\n",
    "df.head()"
   ]
  },
  {
   "cell_type": "code",
   "execution_count": 3,
   "id": "ddcc91e0",
   "metadata": {},
   "outputs": [],
   "source": [
    "# dropping date columns\n",
    "df = df.drop(['ActualstartDate', 'ActualEndDate'], axis=1)"
   ]
  },
  {
   "cell_type": "code",
   "execution_count": 4,
   "id": "d675ab25",
   "metadata": {
    "scrolled": true
   },
   "outputs": [
    {
     "data": {
      "text/plain": [
       "StateId                  int64\n",
       "ProgramTitle            object\n",
       "Age_AtReg                int64\n",
       "Disability               int64\n",
       "Gender                   int64\n",
       "CitizenStatus            int64\n",
       "EducationLevel           int64\n",
       "Race_Hispanic            int64\n",
       "Race_NativeAmerican      int64\n",
       "Race_Asian               int64\n",
       "Race_AfricanAmerican     int64\n",
       "Race_PacificIslander     int64\n",
       "Race_White               int64\n",
       "EmpName                 object\n",
       "Employed                 int64\n",
       "Length                   int64\n",
       "StartMonth               int64\n",
       "StartYear                int64\n",
       "EndMonth                 int64\n",
       "EndYear                  int64\n",
       "dtype: object"
      ]
     },
     "execution_count": 4,
     "metadata": {},
     "output_type": "execute_result"
    }
   ],
   "source": [
    "df.dtypes"
   ]
  },
  {
   "cell_type": "markdown",
   "id": "1a1ed516",
   "metadata": {},
   "source": [
    "### Part 1: Customer Approaches: Demographics"
   ]
  },
  {
   "cell_type": "code",
   "execution_count": 5,
   "id": "62140beb",
   "metadata": {},
   "outputs": [
    {
     "data": {
      "text/plain": [
       "(38263, 20)"
      ]
     },
     "execution_count": 5,
     "metadata": {},
     "output_type": "execute_result"
    }
   ],
   "source": [
    "df.shape"
   ]
  },
  {
   "cell_type": "code",
   "execution_count": 6,
   "id": "0e52701a",
   "metadata": {},
   "outputs": [],
   "source": [
    "# services are inflated, and need to be readjusted for story\n",
    "df1 = df.sort_values(by=[\"StateId\", \"StartYear\"])\n",
    "# df1 = df.sort_values(by=[\"StateId\", \"ProgramTitle\", \"StartYear\"])"
   ]
  },
  {
   "cell_type": "code",
   "execution_count": 7,
   "id": "4524e60a",
   "metadata": {},
   "outputs": [],
   "source": [
    "# dropping dups, keeping 1 rows for each approach and program enrollment.\n",
    "df1 = df1.drop_duplicates(subset = [\"StateId\"], keep='first')\n",
    "# df1 = df1.drop_duplicates(subset = [\"StateId\", \"ProgramTitle\"], keep='first')\n",
    "# keep program title if you want to measure program enrollment yearly trends"
   ]
  },
  {
   "cell_type": "markdown",
   "id": "5fc3716e",
   "metadata": {},
   "source": [
    "##### Graph 1: New Enrollments"
   ]
  },
  {
   "cell_type": "code",
   "execution_count": 8,
   "id": "9de2b20d",
   "metadata": {},
   "outputs": [
    {
     "data": {
      "text/plain": [
       "(23084, 20)"
      ]
     },
     "execution_count": 8,
     "metadata": {},
     "output_type": "execute_result"
    }
   ],
   "source": [
    "df1.shape"
   ]
  },
  {
   "cell_type": "code",
   "execution_count": 9,
   "id": "4f92890a",
   "metadata": {},
   "outputs": [],
   "source": [
    "# creating enrollments table\n",
    "df1_enrollments = df1[['StartYear', 'StateId']].groupby('StartYear').count()"
   ]
  },
  {
   "cell_type": "code",
   "execution_count": 10,
   "id": "0342f1f0",
   "metadata": {},
   "outputs": [
    {
     "data": {
      "text/html": [
       "<div>\n",
       "<style scoped>\n",
       "    .dataframe tbody tr th:only-of-type {\n",
       "        vertical-align: middle;\n",
       "    }\n",
       "\n",
       "    .dataframe tbody tr th {\n",
       "        vertical-align: top;\n",
       "    }\n",
       "\n",
       "    .dataframe thead th {\n",
       "        text-align: right;\n",
       "    }\n",
       "</style>\n",
       "<table border=\"1\" class=\"dataframe\">\n",
       "  <thead>\n",
       "    <tr style=\"text-align: right;\">\n",
       "      <th></th>\n",
       "      <th>StateId</th>\n",
       "    </tr>\n",
       "    <tr>\n",
       "      <th>StartYear</th>\n",
       "      <th></th>\n",
       "    </tr>\n",
       "  </thead>\n",
       "  <tbody>\n",
       "    <tr>\n",
       "      <th>2011</th>\n",
       "      <td>2915</td>\n",
       "    </tr>\n",
       "    <tr>\n",
       "      <th>2012</th>\n",
       "      <td>2109</td>\n",
       "    </tr>\n",
       "    <tr>\n",
       "      <th>2013</th>\n",
       "      <td>1597</td>\n",
       "    </tr>\n",
       "    <tr>\n",
       "      <th>2014</th>\n",
       "      <td>1025</td>\n",
       "    </tr>\n",
       "    <tr>\n",
       "      <th>2015</th>\n",
       "      <td>1834</td>\n",
       "    </tr>\n",
       "    <tr>\n",
       "      <th>2016</th>\n",
       "      <td>2288</td>\n",
       "    </tr>\n",
       "    <tr>\n",
       "      <th>2017</th>\n",
       "      <td>2389</td>\n",
       "    </tr>\n",
       "    <tr>\n",
       "      <th>2018</th>\n",
       "      <td>3294</td>\n",
       "    </tr>\n",
       "    <tr>\n",
       "      <th>2019</th>\n",
       "      <td>4027</td>\n",
       "    </tr>\n",
       "    <tr>\n",
       "      <th>2020</th>\n",
       "      <td>1029</td>\n",
       "    </tr>\n",
       "    <tr>\n",
       "      <th>2021</th>\n",
       "      <td>577</td>\n",
       "    </tr>\n",
       "  </tbody>\n",
       "</table>\n",
       "</div>"
      ],
      "text/plain": [
       "           StateId\n",
       "StartYear         \n",
       "2011          2915\n",
       "2012          2109\n",
       "2013          1597\n",
       "2014          1025\n",
       "2015          1834\n",
       "2016          2288\n",
       "2017          2389\n",
       "2018          3294\n",
       "2019          4027\n",
       "2020          1029\n",
       "2021           577"
      ]
     },
     "execution_count": 10,
     "metadata": {},
     "output_type": "execute_result"
    }
   ],
   "source": [
    "df1_enrollments"
   ]
  },
  {
   "cell_type": "code",
   "execution_count": 11,
   "id": "38230db1",
   "metadata": {},
   "outputs": [
    {
     "data": {
      "text/html": [
       "<div>\n",
       "<style scoped>\n",
       "    .dataframe tbody tr th:only-of-type {\n",
       "        vertical-align: middle;\n",
       "    }\n",
       "\n",
       "    .dataframe tbody tr th {\n",
       "        vertical-align: top;\n",
       "    }\n",
       "\n",
       "    .dataframe thead th {\n",
       "        text-align: right;\n",
       "    }\n",
       "</style>\n",
       "<table border=\"1\" class=\"dataframe\">\n",
       "  <thead>\n",
       "    <tr style=\"text-align: right;\">\n",
       "      <th></th>\n",
       "      <th>Enrollments</th>\n",
       "    </tr>\n",
       "    <tr>\n",
       "      <th>StartYear</th>\n",
       "      <th></th>\n",
       "    </tr>\n",
       "  </thead>\n",
       "  <tbody>\n",
       "    <tr>\n",
       "      <th>2011</th>\n",
       "      <td>2915</td>\n",
       "    </tr>\n",
       "    <tr>\n",
       "      <th>2012</th>\n",
       "      <td>2109</td>\n",
       "    </tr>\n",
       "    <tr>\n",
       "      <th>2013</th>\n",
       "      <td>1597</td>\n",
       "    </tr>\n",
       "    <tr>\n",
       "      <th>2014</th>\n",
       "      <td>1025</td>\n",
       "    </tr>\n",
       "    <tr>\n",
       "      <th>2015</th>\n",
       "      <td>1834</td>\n",
       "    </tr>\n",
       "    <tr>\n",
       "      <th>2016</th>\n",
       "      <td>2288</td>\n",
       "    </tr>\n",
       "    <tr>\n",
       "      <th>2017</th>\n",
       "      <td>2389</td>\n",
       "    </tr>\n",
       "    <tr>\n",
       "      <th>2018</th>\n",
       "      <td>3294</td>\n",
       "    </tr>\n",
       "    <tr>\n",
       "      <th>2019</th>\n",
       "      <td>4027</td>\n",
       "    </tr>\n",
       "    <tr>\n",
       "      <th>2020</th>\n",
       "      <td>1029</td>\n",
       "    </tr>\n",
       "    <tr>\n",
       "      <th>2021</th>\n",
       "      <td>577</td>\n",
       "    </tr>\n",
       "  </tbody>\n",
       "</table>\n",
       "</div>"
      ],
      "text/plain": [
       "           Enrollments\n",
       "StartYear             \n",
       "2011              2915\n",
       "2012              2109\n",
       "2013              1597\n",
       "2014              1025\n",
       "2015              1834\n",
       "2016              2288\n",
       "2017              2389\n",
       "2018              3294\n",
       "2019              4027\n",
       "2020              1029\n",
       "2021               577"
      ]
     },
     "execution_count": 11,
     "metadata": {},
     "output_type": "execute_result"
    }
   ],
   "source": [
    "df1_enrollments = df1_enrollments.rename(columns = {\"StateId\": \"Enrollments\"})\n",
    "df1_enrollments"
   ]
  },
  {
   "cell_type": "code",
   "execution_count": 15,
   "id": "03718cbd",
   "metadata": {},
   "outputs": [
    {
     "data": {
      "image/png": "[encoded data removed]",
      "text/plain": [
       "<Figure size 432x288 with 1 Axes>"
      ]
     },
     "metadata": {},
     "output_type": "display_data"
    }
   ],
   "source": [
    "plt.style.use('ggplot')\n",
    "\n",
    "x = df1_enrollments.index.tolist()\n",
    "\n",
    "x_pos = [i for i, _ in enumerate(x)]\n",
    "\n",
    "plt.bar(x_pos, df1_enrollments['Enrollments'], color='green')\n",
    "plt.xlabel(\"Year\")\n",
    "plt.ylabel(\"Enrollments\")\n",
    "plt.title(\"Enrollments in Local Programs, Jan '11 - Aug '21\")\n",
    "\n",
    "plt.xticks(x_pos, x)\n",
    "\n",
    "plt.savefig('3_graphs/1.1_local_enrollments.png', dpi=300, bbox_inches='tight')\n",
    "plt.show()"
   ]
  },
  {
   "cell_type": "markdown",
   "id": "80f27549",
   "metadata": {},
   "source": [
    "##### Graph 2: Demographic 1: Age"
   ]
  },
  {
   "cell_type": "code",
   "execution_count": 26,
   "id": "6ea44a87",
   "metadata": {},
   "outputs": [],
   "source": [
    "# creating enrollments table\n",
    "df1_age = df1[['Age_AtReg', 'StateId']].groupby('Age_AtReg').count()"
   ]
  },
  {
   "cell_type": "code",
   "execution_count": 27,
   "id": "c6f11d38",
   "metadata": {},
   "outputs": [
    {
     "data": {
      "text/html": [
       "<div>\n",
       "<style scoped>\n",
       "    .dataframe tbody tr th:only-of-type {\n",
       "        vertical-align: middle;\n",
       "    }\n",
       "\n",
       "    .dataframe tbody tr th {\n",
       "        vertical-align: top;\n",
       "    }\n",
       "\n",
       "    .dataframe thead th {\n",
       "        text-align: right;\n",
       "    }\n",
       "</style>\n",
       "<table border=\"1\" class=\"dataframe\">\n",
       "  <thead>\n",
       "    <tr style=\"text-align: right;\">\n",
       "      <th></th>\n",
       "      <th>StateId</th>\n",
       "    </tr>\n",
       "    <tr>\n",
       "      <th>Age_AtReg</th>\n",
       "      <th></th>\n",
       "    </tr>\n",
       "  </thead>\n",
       "  <tbody>\n",
       "    <tr>\n",
       "      <th>0</th>\n",
       "      <td>94</td>\n",
       "    </tr>\n",
       "    <tr>\n",
       "      <th>14</th>\n",
       "      <td>39</td>\n",
       "    </tr>\n",
       "    <tr>\n",
       "      <th>15</th>\n",
       "      <td>78</td>\n",
       "    </tr>\n",
       "    <tr>\n",
       "      <th>16</th>\n",
       "      <td>186</td>\n",
       "    </tr>\n",
       "    <tr>\n",
       "      <th>17</th>\n",
       "      <td>310</td>\n",
       "    </tr>\n",
       "    <tr>\n",
       "      <th>...</th>\n",
       "      <td>...</td>\n",
       "    </tr>\n",
       "    <tr>\n",
       "      <th>76</th>\n",
       "      <td>1</td>\n",
       "    </tr>\n",
       "    <tr>\n",
       "      <th>77</th>\n",
       "      <td>2</td>\n",
       "    </tr>\n",
       "    <tr>\n",
       "      <th>78</th>\n",
       "      <td>1</td>\n",
       "    </tr>\n",
       "    <tr>\n",
       "      <th>80</th>\n",
       "      <td>1</td>\n",
       "    </tr>\n",
       "    <tr>\n",
       "      <th>83</th>\n",
       "      <td>1</td>\n",
       "    </tr>\n",
       "  </tbody>\n",
       "</table>\n",
       "<p>68 rows × 1 columns</p>\n",
       "</div>"
      ],
      "text/plain": [
       "           StateId\n",
       "Age_AtReg         \n",
       "0               94\n",
       "14              39\n",
       "15              78\n",
       "16             186\n",
       "17             310\n",
       "...            ...\n",
       "76               1\n",
       "77               2\n",
       "78               1\n",
       "80               1\n",
       "83               1\n",
       "\n",
       "[68 rows x 1 columns]"
      ]
     },
     "execution_count": 27,
     "metadata": {},
     "output_type": "execute_result"
    }
   ],
   "source": [
    "df1_age"
   ]
  },
  {
   "cell_type": "code",
   "execution_count": 28,
   "id": "b46fb8d0",
   "metadata": {},
   "outputs": [
    {
     "data": {
      "text/html": [
       "<div>\n",
       "<style scoped>\n",
       "    .dataframe tbody tr th:only-of-type {\n",
       "        vertical-align: middle;\n",
       "    }\n",
       "\n",
       "    .dataframe tbody tr th {\n",
       "        vertical-align: top;\n",
       "    }\n",
       "\n",
       "    .dataframe thead th {\n",
       "        text-align: right;\n",
       "    }\n",
       "</style>\n",
       "<table border=\"1\" class=\"dataframe\">\n",
       "  <thead>\n",
       "    <tr style=\"text-align: right;\">\n",
       "      <th></th>\n",
       "      <th>Enrollments</th>\n",
       "    </tr>\n",
       "    <tr>\n",
       "      <th>Age_AtReg</th>\n",
       "      <th></th>\n",
       "    </tr>\n",
       "  </thead>\n",
       "  <tbody>\n",
       "    <tr>\n",
       "      <th>0</th>\n",
       "      <td>94</td>\n",
       "    </tr>\n",
       "    <tr>\n",
       "      <th>14</th>\n",
       "      <td>39</td>\n",
       "    </tr>\n",
       "    <tr>\n",
       "      <th>15</th>\n",
       "      <td>78</td>\n",
       "    </tr>\n",
       "    <tr>\n",
       "      <th>16</th>\n",
       "      <td>186</td>\n",
       "    </tr>\n",
       "    <tr>\n",
       "      <th>17</th>\n",
       "      <td>310</td>\n",
       "    </tr>\n",
       "    <tr>\n",
       "      <th>...</th>\n",
       "      <td>...</td>\n",
       "    </tr>\n",
       "    <tr>\n",
       "      <th>76</th>\n",
       "      <td>1</td>\n",
       "    </tr>\n",
       "    <tr>\n",
       "      <th>77</th>\n",
       "      <td>2</td>\n",
       "    </tr>\n",
       "    <tr>\n",
       "      <th>78</th>\n",
       "      <td>1</td>\n",
       "    </tr>\n",
       "    <tr>\n",
       "      <th>80</th>\n",
       "      <td>1</td>\n",
       "    </tr>\n",
       "    <tr>\n",
       "      <th>83</th>\n",
       "      <td>1</td>\n",
       "    </tr>\n",
       "  </tbody>\n",
       "</table>\n",
       "<p>68 rows × 1 columns</p>\n",
       "</div>"
      ],
      "text/plain": [
       "           Enrollments\n",
       "Age_AtReg             \n",
       "0                   94\n",
       "14                  39\n",
       "15                  78\n",
       "16                 186\n",
       "17                 310\n",
       "...                ...\n",
       "76                   1\n",
       "77                   2\n",
       "78                   1\n",
       "80                   1\n",
       "83                   1\n",
       "\n",
       "[68 rows x 1 columns]"
      ]
     },
     "execution_count": 28,
     "metadata": {},
     "output_type": "execute_result"
    }
   ],
   "source": [
    "df1_age = df1_age.rename(columns = {\"StateId\": \"Enrollments\"})\n",
    "df1_age"
   ]
  },
  {
   "cell_type": "code",
   "execution_count": 29,
   "id": "a2032690",
   "metadata": {},
   "outputs": [],
   "source": [
    "df1_age = df1_age.reset_index()"
   ]
  },
  {
   "cell_type": "code",
   "execution_count": 30,
   "id": "b12bd0d1",
   "metadata": {},
   "outputs": [],
   "source": [
    "df1_age = df1_age[df1_age.Age_AtReg != 0]"
   ]
  },
  {
   "cell_type": "code",
   "execution_count": 54,
   "id": "f20136a5",
   "metadata": {},
   "outputs": [
    {
     "data": {
      "image/png": "[encoded data removed]",
      "text/plain": [
       "<Figure size 432x288 with 1 Axes>"
      ]
     },
     "metadata": {},
     "output_type": "display_data"
    }
   ],
   "source": [
    "# creating plot\n",
    "plt.figure()\n",
    "plt.bar(df1_age['Age_AtReg'], df1_age['Enrollments'], color='green');\n",
    "#plt.legend();\n",
    "plt.title(\"Enrollments by Age (local programs), Jan '11 - Aug '21\");\n",
    "plt.xlabel('Age')\n",
    "plt.ylabel(\"Employments\")\n",
    "plt.xticks(np.arange(min(x), max(x)+1, 4.0));\n",
    "plt.savefig('3_graphs/1.2_enrollments_by_age.png', dpi=300, bbox_inches='tight')\n",
    "plt.show()"
   ]
  },
  {
   "cell_type": "markdown",
   "id": "9c9ce6a9",
   "metadata": {},
   "source": [
    "##### Graph 3: Demographic 2: Gender"
   ]
  },
  {
   "cell_type": "code",
   "execution_count": 45,
   "id": "4e801918",
   "metadata": {},
   "outputs": [],
   "source": [
    "# creating enrollments table\n",
    "df1_gender = df1[['StartYear', 'Gender', 'StateId']].groupby(['StartYear', 'Gender']).count()"
   ]
  },
  {
   "cell_type": "code",
   "execution_count": 46,
   "id": "33266796",
   "metadata": {},
   "outputs": [],
   "source": [
    "df1_gender = df1_gender.reset_index()"
   ]
  },
  {
   "cell_type": "code",
   "execution_count": 47,
   "id": "a5532b8f",
   "metadata": {},
   "outputs": [],
   "source": [
    "df1_gender = df1_gender[df1_gender.Gender != 0]"
   ]
  },
  {
   "cell_type": "code",
   "execution_count": 48,
   "id": "119500d3",
   "metadata": {},
   "outputs": [],
   "source": [
    "df1_gender = df1_gender.pivot_table(index='StartYear', columns = 'Gender', values = 'StateId').reset_index()"
   ]
  },
  {
   "cell_type": "code",
   "execution_count": 49,
   "id": "be47d53a",
   "metadata": {},
   "outputs": [],
   "source": [
    "df1_gender = df1_gender.set_index('StartYear')"
   ]
  },
  {
   "cell_type": "code",
   "execution_count": 52,
   "id": "e385771b",
   "metadata": {},
   "outputs": [],
   "source": [
    "# renaming columns\n",
    "df1_gender = df1_gender.rename(columns = {1: \"Male\",\n",
    "                                          2: \"Female\"})"
   ]
  },
  {
   "cell_type": "code",
   "execution_count": 65,
   "id": "b18dcb85",
   "metadata": {},
   "outputs": [
    {
     "data": {
      "image/png": "[encoded data removed]",
      "text/plain": [
       "<Figure size 432x288 with 1 Axes>"
      ]
     },
     "metadata": {},
     "output_type": "display_data"
    }
   ],
   "source": [
    "## comparing enrollment numbers\n",
    "df1_gender.plot(kind='line', linewidth=2)\n",
    "#plt.xticks(rotation=45)\n",
    "plt.title(\"Enrollments by Gender Aug '11 - Jan '21\")\n",
    "plt.ylabel(\"Enrollments\")\n",
    "plt.savefig('3_graphs/1.3_enrollments_by_gender.png', dpi=300, bbox_inches='tight')\n",
    "plt.show()"
   ]
  },
  {
   "cell_type": "markdown",
   "id": "8ac68f40",
   "metadata": {},
   "source": [
    "##### Graph 4: Demographic 3: Race"
   ]
  },
  {
   "cell_type": "code",
   "execution_count": 59,
   "id": "9550d324",
   "metadata": {},
   "outputs": [],
   "source": [
    "# renaming columns\n",
    "df1 = df1.rename(columns = {\"Race_Hispanic\": \"Hispanic\",\n",
    "                            \"Race_NativeAmerican\": \"NativeAmerican\",\n",
    "                            \"Race_Asian\": \"Asian\",\n",
    "                            \"Race_AfricanAmerican\": \"AfricanAmerican\",\n",
    "                            \"Race_PacificIslander\": \"PacificIslander\",\n",
    "                            \"Race_White\": \"White\"})"
   ]
  },
  {
   "cell_type": "code",
   "execution_count": 60,
   "id": "25836423",
   "metadata": {},
   "outputs": [],
   "source": [
    "df1_race = df1[['StartYear', 'StateId', 'Hispanic', 'NativeAmerican', 'Asian', 'AfricanAmerican', 'PacificIslander', 'White']]"
   ]
  },
  {
   "cell_type": "code",
   "execution_count": 61,
   "id": "277108ea",
   "metadata": {},
   "outputs": [],
   "source": [
    "# creating enrollments table\n",
    "df1_race = df1_race[['StartYear', 'Hispanic', 'NativeAmerican', 'Asian', 'PacificIslander', 'White']].groupby(['StartYear']).sum()"
   ]
  },
  {
   "cell_type": "code",
   "execution_count": 62,
   "id": "dc8dddb0",
   "metadata": {},
   "outputs": [
    {
     "data": {
      "text/html": [
       "<div>\n",
       "<style scoped>\n",
       "    .dataframe tbody tr th:only-of-type {\n",
       "        vertical-align: middle;\n",
       "    }\n",
       "\n",
       "    .dataframe tbody tr th {\n",
       "        vertical-align: top;\n",
       "    }\n",
       "\n",
       "    .dataframe thead th {\n",
       "        text-align: right;\n",
       "    }\n",
       "</style>\n",
       "<table border=\"1\" class=\"dataframe\">\n",
       "  <thead>\n",
       "    <tr style=\"text-align: right;\">\n",
       "      <th></th>\n",
       "      <th>Hispanic</th>\n",
       "      <th>NativeAmerican</th>\n",
       "      <th>Asian</th>\n",
       "      <th>PacificIslander</th>\n",
       "      <th>White</th>\n",
       "    </tr>\n",
       "    <tr>\n",
       "      <th>StartYear</th>\n",
       "      <th></th>\n",
       "      <th></th>\n",
       "      <th></th>\n",
       "      <th></th>\n",
       "      <th></th>\n",
       "    </tr>\n",
       "  </thead>\n",
       "  <tbody>\n",
       "    <tr>\n",
       "      <th>2011</th>\n",
       "      <td>73</td>\n",
       "      <td>39</td>\n",
       "      <td>17</td>\n",
       "      <td>8</td>\n",
       "      <td>98</td>\n",
       "    </tr>\n",
       "    <tr>\n",
       "      <th>2012</th>\n",
       "      <td>41</td>\n",
       "      <td>19</td>\n",
       "      <td>10</td>\n",
       "      <td>4</td>\n",
       "      <td>52</td>\n",
       "    </tr>\n",
       "    <tr>\n",
       "      <th>2013</th>\n",
       "      <td>36</td>\n",
       "      <td>23</td>\n",
       "      <td>4</td>\n",
       "      <td>0</td>\n",
       "      <td>27</td>\n",
       "    </tr>\n",
       "    <tr>\n",
       "      <th>2014</th>\n",
       "      <td>12</td>\n",
       "      <td>11</td>\n",
       "      <td>1</td>\n",
       "      <td>0</td>\n",
       "      <td>16</td>\n",
       "    </tr>\n",
       "    <tr>\n",
       "      <th>2015</th>\n",
       "      <td>31</td>\n",
       "      <td>19</td>\n",
       "      <td>9</td>\n",
       "      <td>3</td>\n",
       "      <td>59</td>\n",
       "    </tr>\n",
       "    <tr>\n",
       "      <th>2016</th>\n",
       "      <td>33</td>\n",
       "      <td>31</td>\n",
       "      <td>19</td>\n",
       "      <td>4</td>\n",
       "      <td>72</td>\n",
       "    </tr>\n",
       "    <tr>\n",
       "      <th>2017</th>\n",
       "      <td>43</td>\n",
       "      <td>34</td>\n",
       "      <td>7</td>\n",
       "      <td>6</td>\n",
       "      <td>60</td>\n",
       "    </tr>\n",
       "    <tr>\n",
       "      <th>2018</th>\n",
       "      <td>60</td>\n",
       "      <td>47</td>\n",
       "      <td>19</td>\n",
       "      <td>9</td>\n",
       "      <td>71</td>\n",
       "    </tr>\n",
       "    <tr>\n",
       "      <th>2019</th>\n",
       "      <td>87</td>\n",
       "      <td>70</td>\n",
       "      <td>21</td>\n",
       "      <td>14</td>\n",
       "      <td>115</td>\n",
       "    </tr>\n",
       "    <tr>\n",
       "      <th>2020</th>\n",
       "      <td>18</td>\n",
       "      <td>19</td>\n",
       "      <td>4</td>\n",
       "      <td>3</td>\n",
       "      <td>41</td>\n",
       "    </tr>\n",
       "    <tr>\n",
       "      <th>2021</th>\n",
       "      <td>10</td>\n",
       "      <td>9</td>\n",
       "      <td>3</td>\n",
       "      <td>3</td>\n",
       "      <td>15</td>\n",
       "    </tr>\n",
       "  </tbody>\n",
       "</table>\n",
       "</div>"
      ],
      "text/plain": [
       "           Hispanic  NativeAmerican  Asian  PacificIslander  White\n",
       "StartYear                                                         \n",
       "2011             73              39     17                8     98\n",
       "2012             41              19     10                4     52\n",
       "2013             36              23      4                0     27\n",
       "2014             12              11      1                0     16\n",
       "2015             31              19      9                3     59\n",
       "2016             33              31     19                4     72\n",
       "2017             43              34      7                6     60\n",
       "2018             60              47     19                9     71\n",
       "2019             87              70     21               14    115\n",
       "2020             18              19      4                3     41\n",
       "2021             10               9      3                3     15"
      ]
     },
     "execution_count": 62,
     "metadata": {},
     "output_type": "execute_result"
    }
   ],
   "source": [
    "df1_race"
   ]
  },
  {
   "cell_type": "code",
   "execution_count": 67,
   "id": "f6d6b337",
   "metadata": {},
   "outputs": [
    {
     "data": {
      "image/png": "[encoded data removed]",
      "text/plain": [
       "<Figure size 432x288 with 1 Axes>"
      ]
     },
     "metadata": {},
     "output_type": "display_data"
    }
   ],
   "source": [
    "## comparing enrollment numbers\n",
    "df1_race.plot(kind='line', linewidth=2)\n",
    "#plt.xticks(rotation=45)\n",
    "plt.title(\"Enrollments by Race, Jan '11 - Aug '21\")\n",
    "plt.ylabel(\"Enrollments\")\n",
    "plt.savefig('3_graphs/1.4_enrollments_by_race.png', dpi=300, bbox_inches='tight')\n",
    "plt.show()"
   ]
  },
  {
   "cell_type": "code",
   "execution_count": 68,
   "id": "abaa5176",
   "metadata": {},
   "outputs": [],
   "source": [
    "# creating enrollments table\n",
    "df1_race2 = df1[['StartYear', 'AfricanAmerican']].groupby(['StartYear']).sum()"
   ]
  },
  {
   "cell_type": "code",
   "execution_count": 69,
   "id": "27379b14",
   "metadata": {},
   "outputs": [
    {
     "data": {
      "image/png": "[encoded data removed]",
      "text/plain": [
       "<Figure size 432x288 with 1 Axes>"
      ]
     },
     "metadata": {},
     "output_type": "display_data"
    }
   ],
   "source": [
    "## comparing enrollment numbers\n",
    "df1_race2.plot(kind='line', linewidth=2)\n",
    "#plt.xticks(rotation=45)\n",
    "plt.title(\"Enrollments African-Americans, Jan '11 - Aug '21\")\n",
    "plt.ylabel(\"Enrollments\")\n",
    "plt.savefig('3_graphs/1.5_enrollments_by_race.png', dpi=300, bbox_inches='tight')\n",
    "plt.show()"
   ]
  },
  {
   "cell_type": "code",
   "execution_count": null,
   "id": "03dadc81",
   "metadata": {},
   "outputs": [],
   "source": [
    "# add in stacked bar with percentages by race, final draft"
   ]
  },
  {
   "cell_type": "code",
   "execution_count": null,
   "id": "4d430a81",
   "metadata": {},
   "outputs": [],
   "source": [
    "# separate chart for african americans because they're on a whole separate scale\n",
    "\n",
    "# can choose to do a stacked bar if it has more explanatory power in addition"
   ]
  },
  {
   "cell_type": "markdown",
   "id": "5dec78a8",
   "metadata": {},
   "source": [
    "##### Graph 5: Demographic 4: Citizenship"
   ]
  },
  {
   "cell_type": "code",
   "execution_count": 81,
   "id": "fb4095d3",
   "metadata": {},
   "outputs": [],
   "source": [
    "# creating enrollments table\n",
    "df1_citizenship = df1[['StartYear', 'CitizenStatus', 'StateId']].groupby(['StartYear', 'CitizenStatus']).count()"
   ]
  },
  {
   "cell_type": "code",
   "execution_count": 82,
   "id": "c53a0f20",
   "metadata": {},
   "outputs": [
    {
     "data": {
      "text/html": [
       "<div>\n",
       "<style scoped>\n",
       "    .dataframe tbody tr th:only-of-type {\n",
       "        vertical-align: middle;\n",
       "    }\n",
       "\n",
       "    .dataframe tbody tr th {\n",
       "        vertical-align: top;\n",
       "    }\n",
       "\n",
       "    .dataframe thead th {\n",
       "        text-align: right;\n",
       "    }\n",
       "</style>\n",
       "<table border=\"1\" class=\"dataframe\">\n",
       "  <thead>\n",
       "    <tr style=\"text-align: right;\">\n",
       "      <th></th>\n",
       "      <th></th>\n",
       "      <th>StateId</th>\n",
       "    </tr>\n",
       "    <tr>\n",
       "      <th>StartYear</th>\n",
       "      <th>CitizenStatus</th>\n",
       "      <th></th>\n",
       "    </tr>\n",
       "  </thead>\n",
       "  <tbody>\n",
       "    <tr>\n",
       "      <th rowspan=\"4\" valign=\"top\">2011</th>\n",
       "      <th>1</th>\n",
       "      <td>2789</td>\n",
       "    </tr>\n",
       "    <tr>\n",
       "      <th>2</th>\n",
       "      <td>77</td>\n",
       "    </tr>\n",
       "    <tr>\n",
       "      <th>3</th>\n",
       "      <td>38</td>\n",
       "    </tr>\n",
       "    <tr>\n",
       "      <th>4</th>\n",
       "      <td>11</td>\n",
       "    </tr>\n",
       "    <tr>\n",
       "      <th rowspan=\"4\" valign=\"top\">2012</th>\n",
       "      <th>1</th>\n",
       "      <td>2033</td>\n",
       "    </tr>\n",
       "    <tr>\n",
       "      <th>2</th>\n",
       "      <td>48</td>\n",
       "    </tr>\n",
       "    <tr>\n",
       "      <th>3</th>\n",
       "      <td>19</td>\n",
       "    </tr>\n",
       "    <tr>\n",
       "      <th>4</th>\n",
       "      <td>9</td>\n",
       "    </tr>\n",
       "    <tr>\n",
       "      <th rowspan=\"4\" valign=\"top\">2013</th>\n",
       "      <th>1</th>\n",
       "      <td>1547</td>\n",
       "    </tr>\n",
       "    <tr>\n",
       "      <th>2</th>\n",
       "      <td>26</td>\n",
       "    </tr>\n",
       "    <tr>\n",
       "      <th>3</th>\n",
       "      <td>22</td>\n",
       "    </tr>\n",
       "    <tr>\n",
       "      <th>4</th>\n",
       "      <td>2</td>\n",
       "    </tr>\n",
       "    <tr>\n",
       "      <th rowspan=\"3\" valign=\"top\">2014</th>\n",
       "      <th>1</th>\n",
       "      <td>1006</td>\n",
       "    </tr>\n",
       "    <tr>\n",
       "      <th>2</th>\n",
       "      <td>15</td>\n",
       "    </tr>\n",
       "    <tr>\n",
       "      <th>3</th>\n",
       "      <td>4</td>\n",
       "    </tr>\n",
       "    <tr>\n",
       "      <th rowspan=\"4\" valign=\"top\">2015</th>\n",
       "      <th>1</th>\n",
       "      <td>1781</td>\n",
       "    </tr>\n",
       "    <tr>\n",
       "      <th>2</th>\n",
       "      <td>34</td>\n",
       "    </tr>\n",
       "    <tr>\n",
       "      <th>3</th>\n",
       "      <td>14</td>\n",
       "    </tr>\n",
       "    <tr>\n",
       "      <th>4</th>\n",
       "      <td>5</td>\n",
       "    </tr>\n",
       "    <tr>\n",
       "      <th rowspan=\"4\" valign=\"top\">2016</th>\n",
       "      <th>1</th>\n",
       "      <td>2223</td>\n",
       "    </tr>\n",
       "    <tr>\n",
       "      <th>2</th>\n",
       "      <td>37</td>\n",
       "    </tr>\n",
       "    <tr>\n",
       "      <th>3</th>\n",
       "      <td>18</td>\n",
       "    </tr>\n",
       "    <tr>\n",
       "      <th>4</th>\n",
       "      <td>10</td>\n",
       "    </tr>\n",
       "    <tr>\n",
       "      <th rowspan=\"3\" valign=\"top\">2017</th>\n",
       "      <th>1</th>\n",
       "      <td>2334</td>\n",
       "    </tr>\n",
       "    <tr>\n",
       "      <th>2</th>\n",
       "      <td>43</td>\n",
       "    </tr>\n",
       "    <tr>\n",
       "      <th>3</th>\n",
       "      <td>12</td>\n",
       "    </tr>\n",
       "    <tr>\n",
       "      <th rowspan=\"4\" valign=\"top\">2018</th>\n",
       "      <th>1</th>\n",
       "      <td>3178</td>\n",
       "    </tr>\n",
       "    <tr>\n",
       "      <th>2</th>\n",
       "      <td>45</td>\n",
       "    </tr>\n",
       "    <tr>\n",
       "      <th>3</th>\n",
       "      <td>30</td>\n",
       "    </tr>\n",
       "    <tr>\n",
       "      <th>4</th>\n",
       "      <td>41</td>\n",
       "    </tr>\n",
       "    <tr>\n",
       "      <th rowspan=\"4\" valign=\"top\">2019</th>\n",
       "      <th>1</th>\n",
       "      <td>3879</td>\n",
       "    </tr>\n",
       "    <tr>\n",
       "      <th>2</th>\n",
       "      <td>63</td>\n",
       "    </tr>\n",
       "    <tr>\n",
       "      <th>3</th>\n",
       "      <td>38</td>\n",
       "    </tr>\n",
       "    <tr>\n",
       "      <th>4</th>\n",
       "      <td>47</td>\n",
       "    </tr>\n",
       "    <tr>\n",
       "      <th rowspan=\"4\" valign=\"top\">2020</th>\n",
       "      <th>1</th>\n",
       "      <td>989</td>\n",
       "    </tr>\n",
       "    <tr>\n",
       "      <th>2</th>\n",
       "      <td>18</td>\n",
       "    </tr>\n",
       "    <tr>\n",
       "      <th>3</th>\n",
       "      <td>11</td>\n",
       "    </tr>\n",
       "    <tr>\n",
       "      <th>4</th>\n",
       "      <td>11</td>\n",
       "    </tr>\n",
       "    <tr>\n",
       "      <th rowspan=\"4\" valign=\"top\">2021</th>\n",
       "      <th>1</th>\n",
       "      <td>558</td>\n",
       "    </tr>\n",
       "    <tr>\n",
       "      <th>2</th>\n",
       "      <td>11</td>\n",
       "    </tr>\n",
       "    <tr>\n",
       "      <th>3</th>\n",
       "      <td>3</td>\n",
       "    </tr>\n",
       "    <tr>\n",
       "      <th>4</th>\n",
       "      <td>5</td>\n",
       "    </tr>\n",
       "  </tbody>\n",
       "</table>\n",
       "</div>"
      ],
      "text/plain": [
       "                         StateId\n",
       "StartYear CitizenStatus         \n",
       "2011      1                 2789\n",
       "          2                   77\n",
       "          3                   38\n",
       "          4                   11\n",
       "2012      1                 2033\n",
       "          2                   48\n",
       "          3                   19\n",
       "          4                    9\n",
       "2013      1                 1547\n",
       "          2                   26\n",
       "          3                   22\n",
       "          4                    2\n",
       "2014      1                 1006\n",
       "          2                   15\n",
       "          3                    4\n",
       "2015      1                 1781\n",
       "          2                   34\n",
       "          3                   14\n",
       "          4                    5\n",
       "2016      1                 2223\n",
       "          2                   37\n",
       "          3                   18\n",
       "          4                   10\n",
       "2017      1                 2334\n",
       "          2                   43\n",
       "          3                   12\n",
       "2018      1                 3178\n",
       "          2                   45\n",
       "          3                   30\n",
       "          4                   41\n",
       "2019      1                 3879\n",
       "          2                   63\n",
       "          3                   38\n",
       "          4                   47\n",
       "2020      1                  989\n",
       "          2                   18\n",
       "          3                   11\n",
       "          4                   11\n",
       "2021      1                  558\n",
       "          2                   11\n",
       "          3                    3\n",
       "          4                    5"
      ]
     },
     "execution_count": 82,
     "metadata": {},
     "output_type": "execute_result"
    }
   ],
   "source": [
    "df1_citizenship"
   ]
  },
  {
   "cell_type": "code",
   "execution_count": 83,
   "id": "0d073332",
   "metadata": {},
   "outputs": [],
   "source": [
    "df1_citizenship = df1_citizenship.reset_index()"
   ]
  },
  {
   "cell_type": "code",
   "execution_count": 84,
   "id": "2afd9d6a",
   "metadata": {},
   "outputs": [],
   "source": [
    "# again, as before with african americans\n",
    "# citizens are on a whole nother scale. and need to be plotted separately\n",
    "# again, a stacked bar may be in order\n",
    "df2_citizenship = df1_citizenship[df1_citizenship.CitizenStatus == 1]\n",
    "df1_citizenship = df1_citizenship[(df1_citizenship.CitizenStatus != 1) & (df1_citizenship.CitizenStatus != 4)]"
   ]
  },
  {
   "cell_type": "code",
   "execution_count": 85,
   "id": "bad50a4c",
   "metadata": {},
   "outputs": [],
   "source": [
    "df1_citizenship = df1_citizenship.pivot_table(index='StartYear', columns = 'CitizenStatus', values = 'StateId').reset_index()\n",
    "df2_citizenship = df2_citizenship.pivot_table(index='StartYear', columns = 'CitizenStatus', values = 'StateId').reset_index()"
   ]
  },
  {
   "cell_type": "code",
   "execution_count": 86,
   "id": "584dba0a",
   "metadata": {},
   "outputs": [],
   "source": [
    "# renaming columns\n",
    "df2_citizenship = df2_citizenship.rename(columns = {1: \"Citizen\"})\n",
    "\n",
    "df1_citizenship = df1_citizenship.rename(columns = {2: \"Resident\",\n",
    "                                                    3: \"Alien\"})"
   ]
  },
  {
   "cell_type": "code",
   "execution_count": 87,
   "id": "04918941",
   "metadata": {},
   "outputs": [],
   "source": [
    "df1_citizenship = df1_citizenship.set_index('StartYear')\n",
    "df2_citizenship = df2_citizenship.set_index('StartYear')"
   ]
  },
  {
   "cell_type": "code",
   "execution_count": 88,
   "id": "2f3c4a6a",
   "metadata": {},
   "outputs": [
    {
     "data": {
      "image/png": "[encoded data removed]",
      "text/plain": [
       "<Figure size 432x288 with 1 Axes>"
      ]
     },
     "metadata": {},
     "output_type": "display_data"
    }
   ],
   "source": [
    "## comparing enrollment numbers\n",
    "df1_citizenship.plot(kind='line', linewidth=2)\n",
    "#plt.xticks(rotation=45)\n",
    "plt.title(\"Enrollments by Non-Citizen Status 2011-2021\")\n",
    "plt.ylabel(\"Enrollments\")\n",
    "plt.savefig('3_graphs/1.6_enrollments_by_citizen_status.png', dpi=300, bbox_inches='tight')\n",
    "plt.show()"
   ]
  },
  {
   "cell_type": "code",
   "execution_count": 89,
   "id": "3cde8178",
   "metadata": {},
   "outputs": [
    {
     "data": {
      "image/png": "[encoded data removed]",
      "text/plain": [
       "<Figure size 432x288 with 1 Axes>"
      ]
     },
     "metadata": {},
     "output_type": "display_data"
    }
   ],
   "source": [
    "## comparing enrollment numbers\n",
    "df2_citizenship.plot(kind='line', linewidth=2)\n",
    "#plt.xticks(rotation=45)\n",
    "plt.title(\"Enrollments by Citizen Status 2011-2021\")\n",
    "plt.ylabel(\"Enrollments\")\n",
    "plt.savefig('3_graphs/1.7_enrollments_by_citizen_status.png', dpi=300, bbox_inches='tight')\n",
    "plt.show()"
   ]
  },
  {
   "cell_type": "markdown",
   "id": "72b6d016",
   "metadata": {},
   "source": [
    "##### Graph 6: Demographic 5: Education"
   ]
  },
  {
   "cell_type": "code",
   "execution_count": 120,
   "id": "e440a0d8",
   "metadata": {},
   "outputs": [],
   "source": [
    "# creating enrollments table\n",
    "df1_educ = df1[['EducationLevel', 'StateId']].groupby('EducationLevel').count()"
   ]
  },
  {
   "cell_type": "code",
   "execution_count": 121,
   "id": "87fba7d0",
   "metadata": {},
   "outputs": [
    {
     "data": {
      "text/html": [
       "<div>\n",
       "<style scoped>\n",
       "    .dataframe tbody tr th:only-of-type {\n",
       "        vertical-align: middle;\n",
       "    }\n",
       "\n",
       "    .dataframe tbody tr th {\n",
       "        vertical-align: top;\n",
       "    }\n",
       "\n",
       "    .dataframe thead th {\n",
       "        text-align: right;\n",
       "    }\n",
       "</style>\n",
       "<table border=\"1\" class=\"dataframe\">\n",
       "  <thead>\n",
       "    <tr style=\"text-align: right;\">\n",
       "      <th></th>\n",
       "      <th>Enrollments</th>\n",
       "    </tr>\n",
       "    <tr>\n",
       "      <th>EducationLevel</th>\n",
       "      <th></th>\n",
       "    </tr>\n",
       "  </thead>\n",
       "  <tbody>\n",
       "    <tr>\n",
       "      <th>0</th>\n",
       "      <td>460</td>\n",
       "    </tr>\n",
       "    <tr>\n",
       "      <th>1</th>\n",
       "      <td>7</td>\n",
       "    </tr>\n",
       "    <tr>\n",
       "      <th>2</th>\n",
       "      <td>9</td>\n",
       "    </tr>\n",
       "    <tr>\n",
       "      <th>3</th>\n",
       "      <td>9</td>\n",
       "    </tr>\n",
       "    <tr>\n",
       "      <th>4</th>\n",
       "      <td>7</td>\n",
       "    </tr>\n",
       "    <tr>\n",
       "      <th>5</th>\n",
       "      <td>5</td>\n",
       "    </tr>\n",
       "    <tr>\n",
       "      <th>6</th>\n",
       "      <td>36</td>\n",
       "    </tr>\n",
       "    <tr>\n",
       "      <th>7</th>\n",
       "      <td>92</td>\n",
       "    </tr>\n",
       "    <tr>\n",
       "      <th>8</th>\n",
       "      <td>207</td>\n",
       "    </tr>\n",
       "    <tr>\n",
       "      <th>9</th>\n",
       "      <td>447</td>\n",
       "    </tr>\n",
       "    <tr>\n",
       "      <th>10</th>\n",
       "      <td>819</td>\n",
       "    </tr>\n",
       "    <tr>\n",
       "      <th>11</th>\n",
       "      <td>1103</td>\n",
       "    </tr>\n",
       "    <tr>\n",
       "      <th>12</th>\n",
       "      <td>335</td>\n",
       "    </tr>\n",
       "    <tr>\n",
       "      <th>13</th>\n",
       "      <td>1852</td>\n",
       "    </tr>\n",
       "    <tr>\n",
       "      <th>14</th>\n",
       "      <td>9356</td>\n",
       "    </tr>\n",
       "    <tr>\n",
       "      <th>15</th>\n",
       "      <td>1838</td>\n",
       "    </tr>\n",
       "    <tr>\n",
       "      <th>16</th>\n",
       "      <td>1536</td>\n",
       "    </tr>\n",
       "    <tr>\n",
       "      <th>17</th>\n",
       "      <td>668</td>\n",
       "    </tr>\n",
       "    <tr>\n",
       "      <th>18</th>\n",
       "      <td>979</td>\n",
       "    </tr>\n",
       "    <tr>\n",
       "      <th>19</th>\n",
       "      <td>490</td>\n",
       "    </tr>\n",
       "    <tr>\n",
       "      <th>20</th>\n",
       "      <td>1851</td>\n",
       "    </tr>\n",
       "    <tr>\n",
       "      <th>21</th>\n",
       "      <td>978</td>\n",
       "    </tr>\n",
       "  </tbody>\n",
       "</table>\n",
       "</div>"
      ],
      "text/plain": [
       "                Enrollments\n",
       "EducationLevel             \n",
       "0                       460\n",
       "1                         7\n",
       "2                         9\n",
       "3                         9\n",
       "4                         7\n",
       "5                         5\n",
       "6                        36\n",
       "7                        92\n",
       "8                       207\n",
       "9                       447\n",
       "10                      819\n",
       "11                     1103\n",
       "12                      335\n",
       "13                     1852\n",
       "14                     9356\n",
       "15                     1838\n",
       "16                     1536\n",
       "17                      668\n",
       "18                      979\n",
       "19                      490\n",
       "20                     1851\n",
       "21                      978"
      ]
     },
     "execution_count": 121,
     "metadata": {},
     "output_type": "execute_result"
    }
   ],
   "source": [
    "df1_educ = df1_educ.rename(columns = {\"StateId\": \"Enrollments\"})\n",
    "df1_educ"
   ]
  },
  {
   "cell_type": "code",
   "execution_count": 122,
   "id": "15b3349b",
   "metadata": {},
   "outputs": [],
   "source": [
    "df1_educ = df1_educ.sort_values(by=['Enrollments'])"
   ]
  },
  {
   "cell_type": "code",
   "execution_count": 123,
   "id": "2519192b",
   "metadata": {},
   "outputs": [],
   "source": [
    "df1_educ = df1_educ.reset_index()"
   ]
  },
  {
   "cell_type": "code",
   "execution_count": 124,
   "id": "78065fe7",
   "metadata": {},
   "outputs": [],
   "source": [
    "df1_educ = df1_educ[df1_educ.EducationLevel >= 9]"
   ]
  },
  {
   "cell_type": "code",
   "execution_count": 125,
   "id": "7182cf36",
   "metadata": {},
   "outputs": [],
   "source": [
    "# renaming educational level categories\n",
    "\n",
    "df1_educ.loc[df1_educ.EducationLevel == 9, 'EducationLevel'] = '9th Grade'\n",
    "df1_educ.loc[df1_educ.EducationLevel == 10, 'EducationLevel'] = '10th Grade'\n",
    "df1_educ.loc[df1_educ.EducationLevel == 11, 'EducationLevel'] = '11th Grade'\n",
    "df1_educ.loc[df1_educ.EducationLevel == 12, 'EducationLevel'] = '12th, no dipl.'\n",
    "\n",
    "df1_educ.loc[df1_educ.EducationLevel == 13, 'EducationLevel'] = 'GED or equivalent'\n",
    "df1_educ.loc[df1_educ.EducationLevel == 14, 'EducationLevel'] = 'HS Diploma'\n",
    "\n",
    "df1_educ.loc[df1_educ.EducationLevel == 15, 'EducationLevel'] = 'HS + 1yr Technical'\n",
    "df1_educ.loc[df1_educ.EducationLevel == 16, 'EducationLevel'] = 'HS + 2yr Technical'\n",
    "df1_educ.loc[df1_educ.EducationLevel == 17, 'EducationLevel'] = 'HS + 3yr Technical'\n",
    "\n",
    "df1_educ.loc[df1_educ.EducationLevel == 18, 'EducationLevel'] = 'Technical Certificate'\n",
    "df1_educ.loc[df1_educ.EducationLevel == 19, 'EducationLevel'] = 'Associates Degree'\n",
    "df1_educ.loc[df1_educ.EducationLevel == 20, 'EducationLevel'] = \"Bachelor's Degree\"\n",
    "df1_educ.loc[df1_educ.EducationLevel == 21, 'EducationLevel'] = \"Bachelor's and beyond\""
   ]
  },
  {
   "cell_type": "code",
   "execution_count": 126,
   "id": "73d89c03",
   "metadata": {},
   "outputs": [],
   "source": [
    "df1_educ = df1_educ.set_index('EducationLevel')"
   ]
  },
  {
   "cell_type": "code",
   "execution_count": 127,
   "id": "be5c5c74",
   "metadata": {},
   "outputs": [
    {
     "data": {
      "text/html": [
       "<div>\n",
       "<style scoped>\n",
       "    .dataframe tbody tr th:only-of-type {\n",
       "        vertical-align: middle;\n",
       "    }\n",
       "\n",
       "    .dataframe tbody tr th {\n",
       "        vertical-align: top;\n",
       "    }\n",
       "\n",
       "    .dataframe thead th {\n",
       "        text-align: right;\n",
       "    }\n",
       "</style>\n",
       "<table border=\"1\" class=\"dataframe\">\n",
       "  <thead>\n",
       "    <tr style=\"text-align: right;\">\n",
       "      <th></th>\n",
       "      <th>Enrollments</th>\n",
       "    </tr>\n",
       "    <tr>\n",
       "      <th>EducationLevel</th>\n",
       "      <th></th>\n",
       "    </tr>\n",
       "  </thead>\n",
       "  <tbody>\n",
       "    <tr>\n",
       "      <th>12th, no dipl.</th>\n",
       "      <td>335</td>\n",
       "    </tr>\n",
       "    <tr>\n",
       "      <th>9th Grade</th>\n",
       "      <td>447</td>\n",
       "    </tr>\n",
       "    <tr>\n",
       "      <th>Associates Degree</th>\n",
       "      <td>490</td>\n",
       "    </tr>\n",
       "    <tr>\n",
       "      <th>HS + 3yr Technical</th>\n",
       "      <td>668</td>\n",
       "    </tr>\n",
       "    <tr>\n",
       "      <th>10th Grade</th>\n",
       "      <td>819</td>\n",
       "    </tr>\n",
       "    <tr>\n",
       "      <th>Bachelor's and beyond</th>\n",
       "      <td>978</td>\n",
       "    </tr>\n",
       "    <tr>\n",
       "      <th>Technical Certificate</th>\n",
       "      <td>979</td>\n",
       "    </tr>\n",
       "    <tr>\n",
       "      <th>11th Grade</th>\n",
       "      <td>1103</td>\n",
       "    </tr>\n",
       "    <tr>\n",
       "      <th>HS + 2yr Technical</th>\n",
       "      <td>1536</td>\n",
       "    </tr>\n",
       "    <tr>\n",
       "      <th>HS + 1yr Technical</th>\n",
       "      <td>1838</td>\n",
       "    </tr>\n",
       "    <tr>\n",
       "      <th>Bachelor's Degree</th>\n",
       "      <td>1851</td>\n",
       "    </tr>\n",
       "    <tr>\n",
       "      <th>GED or equivalent</th>\n",
       "      <td>1852</td>\n",
       "    </tr>\n",
       "    <tr>\n",
       "      <th>HS Diploma</th>\n",
       "      <td>9356</td>\n",
       "    </tr>\n",
       "  </tbody>\n",
       "</table>\n",
       "</div>"
      ],
      "text/plain": [
       "                       Enrollments\n",
       "EducationLevel                    \n",
       "12th, no dipl.                 335\n",
       "9th Grade                      447\n",
       "Associates Degree              490\n",
       "HS + 3yr Technical             668\n",
       "10th Grade                     819\n",
       "Bachelor's and beyond          978\n",
       "Technical Certificate          979\n",
       "11th Grade                    1103\n",
       "HS + 2yr Technical            1536\n",
       "HS + 1yr Technical            1838\n",
       "Bachelor's Degree             1851\n",
       "GED or equivalent             1852\n",
       "HS Diploma                    9356"
      ]
     },
     "execution_count": 127,
     "metadata": {},
     "output_type": "execute_result"
    }
   ],
   "source": [
    "df1_educ"
   ]
  },
  {
   "cell_type": "code",
   "execution_count": 130,
   "id": "68a0323a",
   "metadata": {},
   "outputs": [
    {
     "data": {
      "image/png": "[encoded data removed]",
      "text/plain": [
       "<Figure size 432x288 with 1 Axes>"
      ]
     },
     "metadata": {},
     "output_type": "display_data"
    }
   ],
   "source": [
    "plt.style.use('ggplot')\n",
    "\n",
    "y = df1_educ.index.tolist()\n",
    "\n",
    "y_pos = [i for i, _ in enumerate(y)]\n",
    "\n",
    "plt.barh(y_pos, df1_educ['Enrollments'], color='green')\n",
    "plt.xlabel(\"Enrollments\")\n",
    "plt.ylabel(\"Education Level\")\n",
    "plt.title(\"Enrollments by Education Level, Jan '11 - Aug '21\")\n",
    "\n",
    "plt.yticks(y_pos, y)\n",
    "\n",
    "plt.ylim\n",
    "\n",
    "plt.savefig('3_graphs/1.8_enrollments_by_education.png', dpi=300, bbox_inches='tight')\n",
    "plt.show()"
   ]
  },
  {
   "cell_type": "code",
   "execution_count": null,
   "id": "f222bef2",
   "metadata": {},
   "outputs": [],
   "source": []
  }
 ],
 "metadata": {
  "kernelspec": {
   "display_name": "Python 3",
   "language": "python",
   "name": "python3"
  },
  "language_info": {
   "codemirror_mode": {
    "name": "ipython",
    "version": 3
   },
   "file_extension": ".py",
   "mimetype": "text/x-python",
   "name": "python",
   "nbconvert_exporter": "python",
   "pygments_lexer": "ipython3",
   "version": "3.8.8"
  }
 },
 "nbformat": 4,
 "nbformat_minor": 5
}
