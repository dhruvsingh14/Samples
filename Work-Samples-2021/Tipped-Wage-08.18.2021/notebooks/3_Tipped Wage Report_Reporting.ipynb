{
 "cells": [
  {
   "cell_type": "markdown",
   "id": "2f9e1bca",
   "metadata": {},
   "source": [
    "# Tipped Wage Report: Analysis"
   ]
  },
  {
   "cell_type": "markdown",
   "id": "7313cc45",
   "metadata": {},
   "source": [
    "#### Analyst: Dhruv Singh <br> Report Name: Tipped Wage Report, Part 3 <br> Report Quarter, Year: Q2 2021 <br> Date Updated: 08/18/2021"
   ]
  },
  {
   "cell_type": "code",
   "execution_count": 1,
   "id": "fe72116c",
   "metadata": {},
   "outputs": [],
   "source": [
    "# libraries\n",
    "import pandas as pd\n",
    "import numpy as np"
   ]
  },
  {
   "cell_type": "markdown",
   "id": "efe4c70e",
   "metadata": {},
   "source": [
    "## Adjusted Data"
   ]
  },
  {
   "cell_type": "code",
   "execution_count": 2,
   "id": "bb5c93f8",
   "metadata": {},
   "outputs": [],
   "source": [
    "df_agg = pd.read_csv('2_cleaned_data_edited.csv')"
   ]
  },
  {
   "cell_type": "code",
   "execution_count": 3,
   "id": "ac308ac7",
   "metadata": {},
   "outputs": [],
   "source": [
    "df_agg['total_rate_avg'] = (df_agg['hourly_rate_avg'] + df_agg['tips_avg'])/2"
   ]
  },
  {
   "cell_type": "code",
   "execution_count": 4,
   "id": "0c1beb9b",
   "metadata": {},
   "outputs": [],
   "source": [
    "# renaming columns back to original for aggregation\n",
    "df_agg = df_agg.rename(columns={\"emp_name\": \"Employer Name\",\n",
    "                                \"hours_worked\": \"Avg. Total Hours Worked\",\n",
    "                                \"hourly_rate_emp\": \"Avg. Employer Paid Hourly Rate\",\n",
    "                                \"total_wage\": \"Avg. Total Paid Wages\",\n",
    "                                \"total_tips\": \"Avg. Total Tips Received\",\n",
    "                                \"total_rate_avg\": \"Avg. Total Pay Rate\",\n",
    "                                \"source\": \"Source\"})"
   ]
  },
  {
   "cell_type": "markdown",
   "id": "29f115ac",
   "metadata": {},
   "source": [
    "### Analyzing Data"
   ]
  },
  {
   "cell_type": "code",
   "execution_count": 5,
   "id": "482bfe33",
   "metadata": {},
   "outputs": [],
   "source": [
    "# finding grouped by averages\n",
    "grouped_by_averages = df_agg.groupby(\"Source\").agg({\"Avg. Total Hours Worked\":np.nanmean,\n",
    "                                                    \"Avg. Employer Paid Hourly Rate\":np.nanmean,\n",
    "                                                    \"Avg. Total Paid Wages\":np.nanmean,\n",
    "                                                    \"Avg. Total Tips Received\":np.nanmean,\n",
    "                                                    \"Avg. Total Pay Rate\":np.nanmean})"
   ]
  },
  {
   "cell_type": "code",
   "execution_count": 6,
   "id": "b3fcf2c5",
   "metadata": {},
   "outputs": [],
   "source": [
    "grouped_by_averages_transposed = grouped_by_averages.T"
   ]
  },
  {
   "cell_type": "code",
   "execution_count": 7,
   "id": "c6cdf471",
   "metadata": {},
   "outputs": [
    {
     "data": {
      "text/html": [
       "<div>\n",
       "<style scoped>\n",
       "    .dataframe tbody tr th:only-of-type {\n",
       "        vertical-align: middle;\n",
       "    }\n",
       "\n",
       "    .dataframe tbody tr th {\n",
       "        vertical-align: top;\n",
       "    }\n",
       "\n",
       "    .dataframe thead th {\n",
       "        text-align: right;\n",
       "    }\n",
       "</style>\n",
       "<table border=\"1\" class=\"dataframe\">\n",
       "  <thead>\n",
       "    <tr style=\"text-align: right;\">\n",
       "      <th>Source</th>\n",
       "      <th>ESSP</th>\n",
       "      <th>Manual</th>\n",
       "    </tr>\n",
       "  </thead>\n",
       "  <tbody>\n",
       "    <tr>\n",
       "      <th>Avg. Total Hours Worked</th>\n",
       "      <td>249.116373</td>\n",
       "      <td>141.762337</td>\n",
       "    </tr>\n",
       "    <tr>\n",
       "      <th>Avg. Employer Paid Hourly Rate</th>\n",
       "      <td>8.749069</td>\n",
       "      <td>14.430866</td>\n",
       "    </tr>\n",
       "    <tr>\n",
       "      <th>Avg. Total Paid Wages</th>\n",
       "      <td>1878.977361</td>\n",
       "      <td>1785.961025</td>\n",
       "    </tr>\n",
       "    <tr>\n",
       "      <th>Avg. Total Tips Received</th>\n",
       "      <td>3937.915024</td>\n",
       "      <td>2793.882329</td>\n",
       "    </tr>\n",
       "    <tr>\n",
       "      <th>Avg. Total Pay Rate</th>\n",
       "      <td>21.683652</td>\n",
       "      <td>17.527094</td>\n",
       "    </tr>\n",
       "  </tbody>\n",
       "</table>\n",
       "</div>"
      ],
      "text/plain": [
       "Source                                 ESSP       Manual\n",
       "Avg. Total Hours Worked          249.116373   141.762337\n",
       "Avg. Employer Paid Hourly Rate     8.749069    14.430866\n",
       "Avg. Total Paid Wages           1878.977361  1785.961025\n",
       "Avg. Total Tips Received        3937.915024  2793.882329\n",
       "Avg. Total Pay Rate               21.683652    17.527094"
      ]
     },
     "execution_count": 7,
     "metadata": {},
     "output_type": "execute_result"
    }
   ],
   "source": [
    "grouped_by_averages_transposed"
   ]
  },
  {
   "cell_type": "code",
   "execution_count": 8,
   "id": "56b1210a",
   "metadata": {},
   "outputs": [],
   "source": [
    "# finding overall averages\n",
    "overall_averages = df_agg[[\"Avg. Total Hours Worked\", \"Avg. Employer Paid Hourly Rate\", \"Avg. Total Paid Wages\", \"Avg. Total Tips Received\", \"Avg. Total Pay Rate\"]].mean().to_frame()"
   ]
  },
  {
   "cell_type": "code",
   "execution_count": 9,
   "id": "d7bf434e",
   "metadata": {},
   "outputs": [],
   "source": [
    "overall_averages = overall_averages.rename_axis('Source')"
   ]
  },
  {
   "cell_type": "code",
   "execution_count": 10,
   "id": "95d23b3f",
   "metadata": {},
   "outputs": [],
   "source": [
    "# renaming columns\n",
    "overall_averages.columns = ['Total']"
   ]
  },
  {
   "cell_type": "code",
   "execution_count": 11,
   "id": "bc37f680",
   "metadata": {},
   "outputs": [
    {
     "data": {
      "text/html": [
       "<div>\n",
       "<style scoped>\n",
       "    .dataframe tbody tr th:only-of-type {\n",
       "        vertical-align: middle;\n",
       "    }\n",
       "\n",
       "    .dataframe tbody tr th {\n",
       "        vertical-align: top;\n",
       "    }\n",
       "\n",
       "    .dataframe thead th {\n",
       "        text-align: right;\n",
       "    }\n",
       "</style>\n",
       "<table border=\"1\" class=\"dataframe\">\n",
       "  <thead>\n",
       "    <tr style=\"text-align: right;\">\n",
       "      <th></th>\n",
       "      <th>Total</th>\n",
       "    </tr>\n",
       "    <tr>\n",
       "      <th>Source</th>\n",
       "      <th></th>\n",
       "    </tr>\n",
       "  </thead>\n",
       "  <tbody>\n",
       "    <tr>\n",
       "      <th>Avg. Total Hours Worked</th>\n",
       "      <td>208.137144</td>\n",
       "    </tr>\n",
       "    <tr>\n",
       "      <th>Avg. Employer Paid Hourly Rate</th>\n",
       "      <td>10.917927</td>\n",
       "    </tr>\n",
       "    <tr>\n",
       "      <th>Avg. Total Paid Wages</th>\n",
       "      <td>1843.471125</td>\n",
       "    </tr>\n",
       "    <tr>\n",
       "      <th>Avg. Total Tips Received</th>\n",
       "      <td>3501.214371</td>\n",
       "    </tr>\n",
       "    <tr>\n",
       "      <th>Avg. Total Pay Rate</th>\n",
       "      <td>20.097009</td>\n",
       "    </tr>\n",
       "  </tbody>\n",
       "</table>\n",
       "</div>"
      ],
      "text/plain": [
       "                                      Total\n",
       "Source                                     \n",
       "Avg. Total Hours Worked          208.137144\n",
       "Avg. Employer Paid Hourly Rate    10.917927\n",
       "Avg. Total Paid Wages           1843.471125\n",
       "Avg. Total Tips Received        3501.214371\n",
       "Avg. Total Pay Rate               20.097009"
      ]
     },
     "execution_count": 11,
     "metadata": {},
     "output_type": "execute_result"
    }
   ],
   "source": [
    "overall_averages"
   ]
  },
  {
   "cell_type": "code",
   "execution_count": 12,
   "id": "eab8805c",
   "metadata": {},
   "outputs": [],
   "source": [
    "df = pd.merge(grouped_by_averages_transposed, overall_averages, how = 'inner', left_index=True, right_index=True)"
   ]
  },
  {
   "cell_type": "code",
   "execution_count": 13,
   "id": "bbf59ad2",
   "metadata": {},
   "outputs": [],
   "source": [
    "df = df.round(2)"
   ]
  },
  {
   "cell_type": "code",
   "execution_count": 14,
   "id": "b1376af7",
   "metadata": {},
   "outputs": [
    {
     "data": {
      "text/plain": [
       "ESSP      float64\n",
       "Manual    float64\n",
       "Total     float64\n",
       "dtype: object"
      ]
     },
     "execution_count": 14,
     "metadata": {},
     "output_type": "execute_result"
    }
   ],
   "source": [
    "df.dtypes"
   ]
  },
  {
   "cell_type": "code",
   "execution_count": 15,
   "id": "96ef2eff",
   "metadata": {},
   "outputs": [
    {
     "data": {
      "text/plain": [
       "pandas.core.frame.DataFrame"
      ]
     },
     "execution_count": 15,
     "metadata": {},
     "output_type": "execute_result"
    }
   ],
   "source": [
    "type(df)"
   ]
  },
  {
   "cell_type": "code",
   "execution_count": 16,
   "id": "03df5e24",
   "metadata": {},
   "outputs": [
    {
     "data": {
      "text/html": [
       "<div>\n",
       "<style scoped>\n",
       "    .dataframe tbody tr th:only-of-type {\n",
       "        vertical-align: middle;\n",
       "    }\n",
       "\n",
       "    .dataframe tbody tr th {\n",
       "        vertical-align: top;\n",
       "    }\n",
       "\n",
       "    .dataframe thead th {\n",
       "        text-align: right;\n",
       "    }\n",
       "</style>\n",
       "<table border=\"1\" class=\"dataframe\">\n",
       "  <thead>\n",
       "    <tr style=\"text-align: right;\">\n",
       "      <th></th>\n",
       "      <th>ESSP</th>\n",
       "      <th>Manual</th>\n",
       "      <th>Total</th>\n",
       "    </tr>\n",
       "  </thead>\n",
       "  <tbody>\n",
       "    <tr>\n",
       "      <th>Avg. Total Hours Worked</th>\n",
       "      <td>249.12</td>\n",
       "      <td>141.76</td>\n",
       "      <td>208.14</td>\n",
       "    </tr>\n",
       "    <tr>\n",
       "      <th>Avg. Employer Paid Hourly Rate</th>\n",
       "      <td>8.75</td>\n",
       "      <td>14.43</td>\n",
       "      <td>10.92</td>\n",
       "    </tr>\n",
       "    <tr>\n",
       "      <th>Avg. Total Paid Wages</th>\n",
       "      <td>1878.98</td>\n",
       "      <td>1785.96</td>\n",
       "      <td>1843.47</td>\n",
       "    </tr>\n",
       "    <tr>\n",
       "      <th>Avg. Total Tips Received</th>\n",
       "      <td>3937.92</td>\n",
       "      <td>2793.88</td>\n",
       "      <td>3501.21</td>\n",
       "    </tr>\n",
       "    <tr>\n",
       "      <th>Avg. Total Pay Rate</th>\n",
       "      <td>21.68</td>\n",
       "      <td>17.53</td>\n",
       "      <td>20.10</td>\n",
       "    </tr>\n",
       "  </tbody>\n",
       "</table>\n",
       "</div>"
      ],
      "text/plain": [
       "                                   ESSP   Manual    Total\n",
       "Avg. Total Hours Worked          249.12   141.76   208.14\n",
       "Avg. Employer Paid Hourly Rate     8.75    14.43    10.92\n",
       "Avg. Total Paid Wages           1878.98  1785.96  1843.47\n",
       "Avg. Total Tips Received        3937.92  2793.88  3501.21\n",
       "Avg. Total Pay Rate               21.68    17.53    20.10"
      ]
     },
     "execution_count": 16,
     "metadata": {},
     "output_type": "execute_result"
    }
   ],
   "source": [
    "df"
   ]
  },
  {
   "cell_type": "code",
   "execution_count": 17,
   "id": "7f8527f0",
   "metadata": {},
   "outputs": [],
   "source": [
    "# writing out tables\n",
    "with pd.ExcelWriter('tables/tables.xlsx') as writer:  \n",
    "    df.to_excel(writer, sheet_name='table')"
   ]
  },
  {
   "cell_type": "code",
   "execution_count": null,
   "id": "45ced429",
   "metadata": {},
   "outputs": [],
   "source": []
  }
 ],
 "metadata": {
  "kernelspec": {
   "display_name": "Python 3",
   "language": "python",
   "name": "python3"
  },
  "language_info": {
   "codemirror_mode": {
    "name": "ipython",
    "version": 3
   },
   "file_extension": ".py",
   "mimetype": "text/x-python",
   "name": "python",
   "nbconvert_exporter": "python",
   "pygments_lexer": "ipython3",
   "version": "3.8.8"
  }
 },
 "nbformat": 4,
 "nbformat_minor": 5
}
